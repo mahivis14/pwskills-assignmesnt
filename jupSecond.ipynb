{
 "cells": [
  {
   "cell_type": "code",
   "execution_count": 1,
   "id": "b3259bab",
   "metadata": {},
   "outputs": [],
   "source": [
    "#String Based Assignment Problem-1"
   ]
  },
  {
   "cell_type": "code",
   "execution_count": 5,
   "id": "967ce826",
   "metadata": {},
   "outputs": [
    {
     "name": "stdout",
     "output_type": "stream",
     "text": [
      "olleh\n"
     ]
    }
   ],
   "source": [
    "def reverse_string(input):\n",
    "    return input[::-1]\n",
    "\n",
    "rev = reverse_string(\"hello\")\n",
    "print(rev)"
   ]
  },
  {
   "cell_type": "code",
   "execution_count": 6,
   "id": "501d47f3",
   "metadata": {},
   "outputs": [],
   "source": [
    "#String Based Assignment Problem-2"
   ]
  },
  {
   "cell_type": "code",
   "execution_count": 8,
   "id": "d37653c8",
   "metadata": {},
   "outputs": [
    {
     "name": "stdout",
     "output_type": "stream",
     "text": [
      "Enter a string: racecar\n",
      "This is a palindrome string\n"
     ]
    }
   ],
   "source": [
    "string = input(\"Enter a string: \")\n",
    "if string[::1] == string[::-1]:\n",
    "    print(\"This is a palindrome string\")\n",
    "else:\n",
    "    print(\"This is not a palindrome string\")"
   ]
  },
  {
   "cell_type": "code",
   "execution_count": 9,
   "id": "03faa342",
   "metadata": {},
   "outputs": [],
   "source": [
    "#String Based Assignment Problem-3"
   ]
  },
  {
   "cell_type": "code",
   "execution_count": 18,
   "id": "c7c889e2",
   "metadata": {},
   "outputs": [
    {
     "name": "stdout",
     "output_type": "stream",
     "text": [
      "HELLO\n"
     ]
    }
   ],
   "source": [
    "a = \"Hello\"\n",
    "b = a.upper()\n",
    "print(b)"
   ]
  },
  {
   "cell_type": "code",
   "execution_count": 19,
   "id": "4ff26f77",
   "metadata": {},
   "outputs": [],
   "source": [
    "#String Based Assignment Problem-4"
   ]
  },
  {
   "cell_type": "code",
   "execution_count": 21,
   "id": "cb530909",
   "metadata": {},
   "outputs": [
    {
     "name": "stdout",
     "output_type": "stream",
     "text": [
      "hello\n"
     ]
    }
   ],
   "source": [
    "c = \"HELLO\"\n",
    "d = c.lower()\n",
    "print(d)"
   ]
  },
  {
   "cell_type": "code",
   "execution_count": 22,
   "id": "79f49c93",
   "metadata": {},
   "outputs": [],
   "source": [
    "#String Based Assignment Problem-5"
   ]
  },
  {
   "cell_type": "code",
   "execution_count": 25,
   "id": "e253a56f",
   "metadata": {},
   "outputs": [
    {
     "name": "stdout",
     "output_type": "stream",
     "text": [
      "Enter a string: hello world\n",
      "3\n"
     ]
    }
   ],
   "source": [
    "a = input(\"Enter a string: \")\n",
    "count = 0\n",
    "for i in a:\n",
    "    if i == 'a' or i == 'e' or i == 'i' or i == 'o' or i == 'u':\n",
    "        count=count+1\n",
    "print(count)"
   ]
  },
  {
   "cell_type": "code",
   "execution_count": 24,
   "id": "4c1acf32",
   "metadata": {},
   "outputs": [],
   "source": [
    "#String Based Assignment Problem-6"
   ]
  },
  {
   "cell_type": "code",
   "execution_count": 31,
   "id": "6143aa54",
   "metadata": {},
   "outputs": [
    {
     "name": "stdout",
     "output_type": "stream",
     "text": [
      "Enter a string: hello world\n",
      "7\n"
     ]
    }
   ],
   "source": [
    "a = input(\"Enter a string: \")\n",
    "cons = ['b', 'c', 'd', 'f', 'g', 'h', 'j', 'k', 'l', 'm', 'n', 'p', 'q', 'r', 's', 't', 'v', 'w', 'x', 'y', 'z']\n",
    "count = 0\n",
    "for i in a:\n",
    "    for j in cons:\n",
    "        if i == j:\n",
    "            count=count+1\n",
    "print(count)"
   ]
  },
  {
   "cell_type": "code",
   "execution_count": 32,
   "id": "72b2947c",
   "metadata": {},
   "outputs": [],
   "source": [
    "#String Based Assignment Problem-7"
   ]
  },
  {
   "cell_type": "code",
   "execution_count": 33,
   "id": "435aa60a",
   "metadata": {},
   "outputs": [
    {
     "name": "stdout",
     "output_type": "stream",
     "text": [
      "Enter a string: hello world\n",
      "helloworld\n"
     ]
    }
   ],
   "source": [
    "string1 = input(\"Enter a string: \")\n",
    "string2 = string1.replace(\" \", \"\")\n",
    "print(string2)"
   ]
  },
  {
   "cell_type": "code",
   "execution_count": 34,
   "id": "d5fac627",
   "metadata": {},
   "outputs": [],
   "source": [
    "#String Based Assignment Problem-8"
   ]
  },
  {
   "cell_type": "code",
   "execution_count": 35,
   "id": "ed5d2d73",
   "metadata": {},
   "outputs": [
    {
     "name": "stdout",
     "output_type": "stream",
     "text": [
      "Enter a string: hello world\n",
      "11\n"
     ]
    }
   ],
   "source": [
    "a = input(\"Enter a string: \")\n",
    "count = 0\n",
    "for i in a:\n",
    "    count=count+1\n",
    "print(count)"
   ]
  },
  {
   "cell_type": "code",
   "execution_count": 36,
   "id": "5938feaf",
   "metadata": {},
   "outputs": [],
   "source": [
    "#String Based Assignment Problem-9"
   ]
  },
  {
   "cell_type": "code",
   "execution_count": 40,
   "id": "af27be0d",
   "metadata": {},
   "outputs": [
    {
     "name": "stdout",
     "output_type": "stream",
     "text": [
      "Enter a string: hello world\n",
      "This sentence contains 'hello'\n"
     ]
    }
   ],
   "source": [
    "a = input(\"Enter a string: \")\n",
    "b = a.split(\" \")\n",
    "\n",
    "if 'hello' in b:\n",
    "    print(\"This sentence contains 'hello'\")\n",
    "else:\n",
    "    print(\"This sentence does not contain 'hello'\")"
   ]
  },
  {
   "cell_type": "code",
   "execution_count": 41,
   "id": "4a86bfac",
   "metadata": {},
   "outputs": [],
   "source": [
    "#String Based Assignment Problem-10"
   ]
  },
  {
   "cell_type": "code",
   "execution_count": 1,
   "id": "5f687014",
   "metadata": {},
   "outputs": [
    {
     "name": "stdout",
     "output_type": "stream",
     "text": [
      "Enter a string: Cow has four legs\n",
      "Changed string:  Goat has four legs\n"
     ]
    }
   ],
   "source": [
    "string1 = input(\"Enter a string: \")\n",
    "string2 = string1.replace(\"Cow\", \"Goat\")\n",
    "print(\"Changed string: \",string2)"
   ]
  },
  {
   "cell_type": "code",
   "execution_count": 45,
   "id": "3f8133c8",
   "metadata": {},
   "outputs": [],
   "source": [
    "#String Based Assignment Problem-11"
   ]
  },
  {
   "cell_type": "code",
   "execution_count": 3,
   "id": "4ed328a9",
   "metadata": {},
   "outputs": [
    {
     "name": "stdout",
     "output_type": "stream",
     "text": [
      "Enter a string: hello world hello\n",
      "2\n"
     ]
    }
   ],
   "source": [
    "a = input(\"Enter a string: \")\n",
    "b = a.split(\" \")\n",
    "count = 0\n",
    "\n",
    "for i in b:\n",
    "    if i == \"hello\":\n",
    "        count = count + 1\n",
    "print(count)"
   ]
  },
  {
   "cell_type": "code",
   "execution_count": 4,
   "id": "d35d3467",
   "metadata": {},
   "outputs": [],
   "source": [
    "#String Based Assignment Problem-12"
   ]
  },
  {
   "cell_type": "code",
   "execution_count": 5,
   "id": "c227f130",
   "metadata": {},
   "outputs": [
    {
     "name": "stdout",
     "output_type": "stream",
     "text": [
      "Enter a string: I am saying hello, are you saying hello?\n",
      "12\n"
     ]
    }
   ],
   "source": [
    "a = input(\"Enter a string: \")\n",
    "b = a.find(\"hello\")\n",
    "print(b)"
   ]
  },
  {
   "cell_type": "code",
   "execution_count": 6,
   "id": "bdc5550e",
   "metadata": {},
   "outputs": [],
   "source": [
    "#String Based Assignment Problem-13"
   ]
  },
  {
   "cell_type": "code",
   "execution_count": 7,
   "id": "6f36347d",
   "metadata": {},
   "outputs": [
    {
     "name": "stdout",
     "output_type": "stream",
     "text": [
      "Enter a string: I am saying hello, are you saying hello?\n",
      "34\n"
     ]
    }
   ],
   "source": [
    "a = input(\"Enter a string: \")\n",
    "b = a.rfind(\"hello\")\n",
    "print(b)"
   ]
  },
  {
   "cell_type": "code",
   "execution_count": 8,
   "id": "f22edd24",
   "metadata": {},
   "outputs": [],
   "source": [
    "#String Based Assignment Problem-14"
   ]
  },
  {
   "cell_type": "code",
   "execution_count": 9,
   "id": "468a6604",
   "metadata": {},
   "outputs": [
    {
     "name": "stdout",
     "output_type": "stream",
     "text": [
      "Enter a string: hello world\n",
      "['hello', 'world']\n"
     ]
    }
   ],
   "source": [
    "a = input(\"Enter a string: \")\n",
    "b = a.split()\n",
    "print(b)"
   ]
  },
  {
   "cell_type": "code",
   "execution_count": 10,
   "id": "76461ca3",
   "metadata": {},
   "outputs": [],
   "source": [
    "#String Based Assignment Problem-15"
   ]
  },
  {
   "cell_type": "code",
   "execution_count": 14,
   "id": "ac4db334",
   "metadata": {},
   "outputs": [
    {
     "name": "stdout",
     "output_type": "stream",
     "text": [
      "Joined sentence:  Cow has four legs\n"
     ]
    }
   ],
   "source": [
    "l1 = ['Cow', 'has', 'four', 'legs']\n",
    "b  = \" \".join(l1)\n",
    "print(\"Joined sentence: \",b)"
   ]
  },
  {
   "cell_type": "code",
   "execution_count": 15,
   "id": "b2450bab",
   "metadata": {},
   "outputs": [],
   "source": [
    "#String Based Assignment Problem-16"
   ]
  },
  {
   "cell_type": "code",
   "execution_count": 18,
   "id": "bbbf2ff4",
   "metadata": {},
   "outputs": [
    {
     "name": "stdout",
     "output_type": "stream",
     "text": [
      "Enter a string: Please avoid using plastic.\n",
      "Seprated by underscores:  Please_avoid_using_plastic.\n"
     ]
    }
   ],
   "source": [
    "a = input(\"Enter a string: \")\n",
    "b = a.split(\" \")\n",
    "c = \"_\".join(b)\n",
    "print(\"Seprated by underscores: \",c)"
   ]
  },
  {
   "cell_type": "code",
   "execution_count": 17,
   "id": "498797ba",
   "metadata": {},
   "outputs": [],
   "source": [
    "#String Based Assignment Problem-17"
   ]
  },
  {
   "cell_type": "code",
   "execution_count": 21,
   "id": "9cc15e85",
   "metadata": {},
   "outputs": [
    {
     "name": "stdout",
     "output_type": "stream",
     "text": [
      "Enter a string: hello world\n",
      "The sentence starts with 'hello'\n"
     ]
    }
   ],
   "source": [
    "a = input(\"Enter a string: \")\n",
    "b = a.split(\" \")a = input(\"Enter a string: \")\n",
    "b = a.split(\" \")\n",
    "if b[0] == \"hello\":\n",
    "    print(\"The sentence starts with 'hello'\")\n",
    "else:\n",
    "    print(\"The sentence does not start with 'hello'\")"
   ]
  },
  {
   "cell_type": "code",
   "execution_count": 23,
   "id": "5302b37b",
   "metadata": {},
   "outputs": [],
   "source": [
    "#String Based Assignment Problem-18"
   ]
  },
  {
   "cell_type": "code",
   "execution_count": 26,
   "id": "eb8d8fac",
   "metadata": {},
   "outputs": [
    {
     "name": "stdout",
     "output_type": "stream",
     "text": [
      "Enter a string: The cow has four legs\n",
      "The sentence ends with 'legs'\n"
     ]
    }
   ],
   "source": [
    "a = input(\"Enter a string: \")\n",
    "b = a.split(\" \")\n",
    "if b[-1] == \"legs\":\n",
    "    print(\"The sentence ends with 'legs'\")\n",
    "else:\n",
    "    print(\"The sentence does not end with 'legs'\")"
   ]
  },
  {
   "cell_type": "code",
   "execution_count": 27,
   "id": "e5e346c5",
   "metadata": {},
   "outputs": [],
   "source": [
    "#String Based Assignment Problem-19"
   ]
  },
  {
   "cell_type": "code",
   "execution_count": 1,
   "id": "dbae75e1",
   "metadata": {},
   "outputs": [
    {
     "name": "stdout",
     "output_type": "stream",
     "text": [
      "Enter a string: hello world\n",
      "Hello World\n"
     ]
    }
   ],
   "source": [
    "a = input(\"Enter a string: \")\n",
    "b = a.title()\n",
    "print(b)"
   ]
  },
  {
   "cell_type": "code",
   "execution_count": 2,
   "id": "43e8790c",
   "metadata": {},
   "outputs": [],
   "source": [
    "#String Based Assignment Problem-20"
   ]
  },
  {
   "cell_type": "code",
   "execution_count": 6,
   "id": "e408cbdf",
   "metadata": {},
   "outputs": [
    {
     "name": "stdout",
     "output_type": "stream",
     "text": [
      "Enter a string: Please avoid using plastic.\n",
      "The longest word is:  plastic.\n"
     ]
    }
   ],
   "source": [
    "a = input(\"Enter a string: \")\n",
    "b = a.split(\" \")\n",
    "c = {}\n",
    "for i in b:\n",
    "    d = len(i)\n",
    "    c[i] = d\n",
    "    \n",
    "max_key = max(c, key=lambda k: c[k])\n",
    "print(\"The longest word is: \", max_key)"
   ]
  },
  {
   "cell_type": "code",
   "execution_count": 10,
   "id": "ff64c54a",
   "metadata": {},
   "outputs": [],
   "source": [
    "#String Based Assignment Problem-21"
   ]
  },
  {
   "cell_type": "code",
   "execution_count": 9,
   "id": "6f10f925",
   "metadata": {},
   "outputs": [
    {
     "name": "stdout",
     "output_type": "stream",
     "text": [
      "Enter a string: Please do not use plastic.\n",
      "The shortest word is:  do\n"
     ]
    }
   ],
   "source": [
    "a = input(\"Enter a string: \")\n",
    "b = a.split(\" \")\n",
    "c = {}\n",
    "for i in b:\n",
    "    d = len(i)\n",
    "    c[i] = d\n",
    "    \n",
    "min_key = min(c, key=lambda k: c[k])\n",
    "print(\"The shortest word is: \", min_key)"
   ]
  },
  {
   "cell_type": "code",
   "execution_count": 11,
   "id": "5be0b960",
   "metadata": {},
   "outputs": [],
   "source": [
    "#String Based Assignment Problem-22"
   ]
  },
  {
   "cell_type": "code",
   "execution_count": 6,
   "id": "9fc0f1d7",
   "metadata": {},
   "outputs": [
    {
     "name": "stdout",
     "output_type": "stream",
     "text": [
      "Enter a string: The cow has four legs.\n",
      "legs. four has cow The\n"
     ]
    }
   ],
   "source": [
    "a = input(\"Enter a string: \")\n",
    "b = a.split(\" \")\n",
    "c = list(reversed(b))\n",
    "d = \" \".join(c)\n",
    "print(d)"
   ]
  },
  {
   "cell_type": "code",
   "execution_count": 7,
   "id": "b80e5054",
   "metadata": {},
   "outputs": [],
   "source": [
    "#String Based Assignment Problem-23"
   ]
  },
  {
   "cell_type": "code",
   "execution_count": 14,
   "id": "28cefe70",
   "metadata": {},
   "outputs": [
    {
     "name": "stdout",
     "output_type": "stream",
     "text": [
      "Enter a string: Hello mic check123\n",
      "String has alphanumeric word\n"
     ]
    }
   ],
   "source": [
    "a = input(\"Enter a string: \")\n",
    "b = a.split(\" \")\n",
    "flag = False\n",
    "for i in b:\n",
    "    c = i.isalnum() \n",
    "    if c == True:\n",
    "        flag = True\n",
    "        break\n",
    "if flag == True:\n",
    "    print(\"String has alphanumeric word.\")\n",
    "else:\n",
    "    print(\"String does not have alphanumeric word.\")"
   ]
  },
  {
   "cell_type": "code",
   "execution_count": 15,
   "id": "c453532e",
   "metadata": {},
   "outputs": [],
   "source": [
    "#String Based Assignment Problem-24"
   ]
  },
  {
   "cell_type": "code",
   "execution_count": 18,
   "id": "fa47d237",
   "metadata": {},
   "outputs": [
    {
     "name": "stdout",
     "output_type": "stream",
     "text": [
      "Enter a string: My age is 25 and my weight is 63kgs.\n",
      "['2', '5', '6', '3']\n"
     ]
    }
   ],
   "source": [
    "a = input(\"Enter a string: \")\n",
    "l = []\n",
    "for i in a:\n",
    "    if i.isdigit():\n",
    "        l.append(i)\n",
    "print(l)"
   ]
  },
  {
   "cell_type": "code",
   "execution_count": 19,
   "id": "336bb7cd",
   "metadata": {},
   "outputs": [],
   "source": [
    "#String Based Assignment Problem-25"
   ]
  },
  {
   "cell_type": "code",
   "execution_count": 21,
   "id": "33709e58",
   "metadata": {},
   "outputs": [
    {
     "name": "stdout",
     "output_type": "stream",
     "text": [
      "Enter a string: 25, 28, 21 are the ages.\n",
      "['a', 'r', 'e', 't', 'h', 'e', 'a', 'g', 'e', 's']\n"
     ]
    }
   ],
   "source": [
    "a = input(\"Enter a string: \")\n",
    "l = []\n",
    "for i in a:\n",
    "    if i.isalpha():\n",
    "        l.append(i)\n",
    "print(l)"
   ]
  },
  {
   "cell_type": "code",
   "execution_count": 22,
   "id": "5a9ad786",
   "metadata": {},
   "outputs": [],
   "source": [
    "#String Based Assignment Problem-26"
   ]
  },
  {
   "cell_type": "code",
   "execution_count": 26,
   "id": "4849e03d",
   "metadata": {},
   "outputs": [
    {
     "name": "stdout",
     "output_type": "stream",
     "text": [
      "Enter a string: HellO World\n",
      "Total uppercase letters:  3\n"
     ]
    }
   ],
   "source": [
    "a = input(\"Enter a string: \")\n",
    "count = 0\n",
    "for i in a:\n",
    "    if i.isupper():\n",
    "        count = count + 1\n",
    "print(\"Total uppercase letters: \",count)"
   ]
  },
  {
   "cell_type": "code",
   "execution_count": 25,
   "id": "f565019b",
   "metadata": {},
   "outputs": [],
   "source": [
    "#String Based Assignment Problem-27"
   ]
  },
  {
   "cell_type": "code",
   "execution_count": 27,
   "id": "d605cbbf",
   "metadata": {},
   "outputs": [
    {
     "name": "stdout",
     "output_type": "stream",
     "text": [
      "Enter a string: HellO wORLD\n",
      "Total lowercase letters:  4\n"
     ]
    }
   ],
   "source": [
    "a = input(\"Enter a string: \")\n",
    "count = 0\n",
    "for i in a:\n",
    "    if i.islower():\n",
    "        count = count + 1\n",
    "print(\"Total lowercase letters: \",count)"
   ]
  },
  {
   "cell_type": "code",
   "execution_count": 28,
   "id": "3a6a79f3",
   "metadata": {},
   "outputs": [],
   "source": [
    "#String Based Assignment Problem-28"
   ]
  },
  {
   "cell_type": "code",
   "execution_count": 33,
   "id": "c089819a",
   "metadata": {},
   "outputs": [
    {
     "name": "stdout",
     "output_type": "stream",
     "text": [
      "Enter a string: HeLLo WorlD\n",
      "hEllO wORLd\n"
     ]
    }
   ],
   "source": [
    "a = input(\"Enter a string: \")\n",
    "b = \"\"\n",
    "for i in a:\n",
    "    if i.islower():\n",
    "        b = b+i.upper()\n",
    "    elif i.isupper():\n",
    "        b = b+i.lower()\n",
    "    else:\n",
    "        b = b+i\n",
    "print(b)"
   ]
  },
  {
   "cell_type": "code",
   "execution_count": 34,
   "id": "aee6a2ba",
   "metadata": {},
   "outputs": [],
   "source": [
    "#String Based Assignment Problem-29"
   ]
  },
  {
   "cell_type": "code",
   "execution_count": 36,
   "id": "f3fda50b",
   "metadata": {},
   "outputs": [
    {
     "name": "stdout",
     "output_type": "stream",
     "text": [
      "Enter a string: Hello world\n",
      " world\n"
     ]
    }
   ],
   "source": [
    "a = input(\"Enter a string: \")\n",
    "b = a.replace(\"Hello\", \"\")\n",
    "print(b)"
   ]
  },
  {
   "cell_type": "code",
   "execution_count": 37,
   "id": "da4c760d",
   "metadata": {},
   "outputs": [],
   "source": [
    "#String Based Assignment Problem-30"
   ]
  },
  {
   "cell_type": "code",
   "execution_count": 41,
   "id": "e0e4e211",
   "metadata": {},
   "outputs": [
    {
     "name": "stdout",
     "output_type": "stream",
     "text": [
      "Enter an email: abcd@gmail.com\n",
      "Email is valid\n"
     ]
    }
   ],
   "source": [
    "email = input(\"Enter an email: \")\n",
    "if email.count(\"@\") == 1:\n",
    "    local_part, domain_part = email.split(\"@\")\n",
    "    if local_part and domain_part:\n",
    "        if domain_part.count(\".\") == 1:\n",
    "            print(\"Email is valid\")\n",
    "else:\n",
    "    print(\"Email is invalid\")"
   ]
  },
  {
   "cell_type": "code",
   "execution_count": 42,
   "id": "419bfb0b",
   "metadata": {},
   "outputs": [],
   "source": [
    "#String Based Assignment Problem-31"
   ]
  },
  {
   "cell_type": "code",
   "execution_count": 43,
   "id": "fcba11e1",
   "metadata": {},
   "outputs": [
    {
     "name": "stdout",
     "output_type": "stream",
     "text": [
      "Enter an email: abcd@gmail.com\n",
      "abcd\n"
     ]
    }
   ],
   "source": [
    "email = input(\"Enter an email: \")\n",
    "if email.count(\"@\") == 1:\n",
    "    username, domain_part = email.split(\"@\")\n",
    "print(username)"
   ]
  },
  {
   "cell_type": "code",
   "execution_count": 44,
   "id": "6b1f2d81",
   "metadata": {},
   "outputs": [],
   "source": [
    "#String Based Assignment Problem-32"
   ]
  },
  {
   "cell_type": "code",
   "execution_count": 45,
   "id": "e1f9d878",
   "metadata": {},
   "outputs": [
    {
     "name": "stdout",
     "output_type": "stream",
     "text": [
      "Enter an email: abcd@gmail.com\n",
      "gmail.com\n"
     ]
    }
   ],
   "source": [
    "email = input(\"Enter an email: \")\n",
    "if email.count(\"@\") == 1:\n",
    "    username, domain_part = email.split(\"@\")\n",
    "print(domain_part)"
   ]
  },
  {
   "cell_type": "code",
   "execution_count": 46,
   "id": "5bf7a7b7",
   "metadata": {},
   "outputs": [],
   "source": [
    "#String Based Assignment Problem-33"
   ]
  },
  {
   "cell_type": "code",
   "execution_count": 54,
   "id": "9fd11a23",
   "metadata": {},
   "outputs": [
    {
     "name": "stdout",
     "output_type": "stream",
     "text": [
      "Enter a string: hello  world   let's go.\n",
      "String with one spaces:  hello world let's go.\n"
     ]
    }
   ],
   "source": [
    "import re\n",
    "a = input(\"Enter a string: \")\n",
    "b = re.sub('\\s+', ' ', a)\n",
    "print(\"String with one spaces: \",b)"
   ]
  },
  {
   "cell_type": "code",
   "execution_count": 52,
   "id": "be897c58",
   "metadata": {},
   "outputs": [],
   "source": [
    "#String Based Assignment Problem-34"
   ]
  },
  {
   "cell_type": "code",
   "execution_count": 60,
   "id": "49c04d9a",
   "metadata": {},
   "outputs": [
    {
     "name": "stdout",
     "output_type": "stream",
     "text": [
      "Enter a url: www.facebook.com\n",
      "this is a valid URL\n"
     ]
    }
   ],
   "source": [
    "import re\n",
    "a = input(\"Enter a url: \")\n",
    "pattern = 'http://|https://|www.\\w+.com|\\w+.com'\n",
    "if re.match(pattern,a):\n",
    "    print(\"this is a valid URL\")\n",
    "else:\n",
    "    print(\"this is not a valid URL\")"
   ]
  },
  {
   "cell_type": "code",
   "execution_count": 61,
   "id": "9e812faa",
   "metadata": {},
   "outputs": [],
   "source": [
    "#String Based Assignment Problem-35"
   ]
  },
  {
   "cell_type": "code",
   "execution_count": 67,
   "id": "c1f829b1",
   "metadata": {},
   "outputs": [
    {
     "name": "stdout",
     "output_type": "stream",
     "text": [
      "Enter a URL: https://facebook.com\n",
      "Protocol: https://\n"
     ]
    }
   ],
   "source": [
    "import re\n",
    "a = input(\"Enter a URL: \")\n",
    "pattern = 'https://|http://'\n",
    "  \n",
    "match = re.search(pattern, a)\n",
    "    \n",
    "if match:\n",
    "    protocol = match.group()\n",
    "    print(\"Protocol:\", protocol)\n",
    "else:\n",
    "    print(\"No protocol found\")"
   ]
  },
  {
   "cell_type": "code",
   "execution_count": 68,
   "id": "745bb545",
   "metadata": {},
   "outputs": [],
   "source": [
    "#String Based Assignment Problem-36"
   ]
  },
  {
   "cell_type": "code",
   "execution_count": 5,
   "id": "77e89485",
   "metadata": {},
   "outputs": [
    {
     "name": "stdout",
     "output_type": "stream",
     "text": [
      "Enter a string: hello world\n",
      "{'h': 1, 'e': 1, 'l': 3, 'o': 2, 'w': 1, 'r': 1, 'd': 1}\n"
     ]
    }
   ],
   "source": [
    "a = input(\"Enter a string: \")\n",
    "b = a.replace(\" \",\"\")\n",
    "c = {}\n",
    "for i in b:\n",
    "    count = 0\n",
    "    for j in a:\n",
    "        if i==j:\n",
    "            count = count+1\n",
    "    c[i] = count\n",
    "print(c)"
   ]
  },
  {
   "cell_type": "code",
   "execution_count": 6,
   "id": "442d3df9",
   "metadata": {},
   "outputs": [],
   "source": [
    "#String Based Assignment Problem-37"
   ]
  },
  {
   "cell_type": "code",
   "execution_count": 21,
   "id": "194afc08",
   "metadata": {},
   "outputs": [
    {
     "name": "stdout",
     "output_type": "stream",
     "text": [
      "Enter a string: he?llo 'sir' in world\n",
      "hello sir in world\n"
     ]
    }
   ],
   "source": [
    "a = input(\"Enter a string: \")\n",
    "b = ['.',',',':',';',\"'\",'\"','?','/','&','-','!','(',')','[',']']\n",
    "c = \"\"\n",
    "for i in a:\n",
    "    flag = False\n",
    "    for j in b:\n",
    "        if j==i:\n",
    "            flag = True\n",
    "            break\n",
    "    if flag:\n",
    "        c = c + \"\"\n",
    "    else:\n",
    "        c = c + i\n",
    "print(c)      "
   ]
  },
  {
   "cell_type": "code",
   "execution_count": 22,
   "id": "c583fa53",
   "metadata": {},
   "outputs": [],
   "source": [
    "#String Based Assignment Problem-38"
   ]
  },
  {
   "cell_type": "code",
   "execution_count": 28,
   "id": "8c7df905",
   "metadata": {},
   "outputs": [
    {
     "name": "stdout",
     "output_type": "stream",
     "text": [
      "Enter a string: 587478\n",
      "This string has only digit\n"
     ]
    }
   ],
   "source": [
    "a = input(\"Enter a string: \")\n",
    "if a.isdigit():\n",
    "    print(\"This string has only digit\")\n",
    "else:\n",
    "    print(\"This string does not have only digit\")"
   ]
  },
  {
   "cell_type": "code",
   "execution_count": 29,
   "id": "3d810fd3",
   "metadata": {},
   "outputs": [],
   "source": [
    "#String Based Assignment Problem-39"
   ]
  },
  {
   "cell_type": "code",
   "execution_count": 33,
   "id": "2bb61a4e",
   "metadata": {},
   "outputs": [
    {
     "name": "stdout",
     "output_type": "stream",
     "text": [
      "Enter a string: 7698958\n",
      "This string does not have only alphabet\n"
     ]
    }
   ],
   "source": [
    "a = input(\"Enter a string: \")\n",
    "if a.isalpha():\n",
    "    print(\"This string has only alphabet\")\n",
    "else:\n",
    "    print(\"This string does not have only alphabet\")"
   ]
  },
  {
   "cell_type": "code",
   "execution_count": 34,
   "id": "6b594c15",
   "metadata": {},
   "outputs": [],
   "source": [
    "#String Based Assignment Problem-40"
   ]
  },
  {
   "cell_type": "code",
   "execution_count": 35,
   "id": "46f2d5ec",
   "metadata": {},
   "outputs": [
    {
     "name": "stdout",
     "output_type": "stream",
     "text": [
      "Enter a string: helloworld\n",
      "['h', 'e', 'l', 'l', 'o', 'w', 'o', 'r', 'l', 'd']\n"
     ]
    }
   ],
   "source": [
    "a = input(\"Enter a string: \")\n",
    "b = []\n",
    "for i in a:\n",
    "    b.append(i)\n",
    "print(b)"
   ]
  },
  {
   "cell_type": "code",
   "execution_count": 36,
   "id": "372c27f1",
   "metadata": {},
   "outputs": [],
   "source": [
    "#String Based Assignment Problem-41"
   ]
  },
  {
   "cell_type": "code",
   "execution_count": 3,
   "id": "189fcdd7",
   "metadata": {},
   "outputs": [
    {
     "name": "stdout",
     "output_type": "stream",
     "text": [
      "Enter a string: yes\n",
      "Enter a string: esy\n",
      "Both are anagram strings\n"
     ]
    }
   ],
   "source": [
    "a = input(\"Enter a string: \")\n",
    "b = input(\"Enter a string: \")\n",
    "count = 0\n",
    "for i in a:\n",
    "    for j in b:\n",
    "        if i==j:\n",
    "            count = count+1\n",
    "if count==len(a):\n",
    "    print(\"Both are anagram strings\")\n",
    "else:\n",
    "    print(\"Both are not anagram strings\")"
   ]
  },
  {
   "cell_type": "code",
   "execution_count": 4,
   "id": "40894ddb",
   "metadata": {},
   "outputs": [],
   "source": [
    "#String Based Assignment Problem-42"
   ]
  },
  {
   "cell_type": "code",
   "execution_count": 9,
   "id": "d3823fca",
   "metadata": {},
   "outputs": [
    {
     "name": "stdout",
     "output_type": "stream",
     "text": [
      "Enter a string: hello\n",
      "Enter a number: 2\n",
      "jgnnq\n"
     ]
    }
   ],
   "source": [
    "text = input(\"Enter a string: \")\n",
    "shift = int(input(\"Enter a number: \"))\n",
    "encoded_text = \"\"\n",
    "    \n",
    "for char in text:\n",
    "    if char.isalpha():\n",
    "        if char.isupper():\n",
    "            encoded_char = chr(((ord(char) - ord('A') + shift) % 26) + ord('A'))\n",
    "        else:\n",
    "            encoded_char = chr(((ord(char) - ord('a') + shift) % 26) + ord('a'))\n",
    "    else:\n",
    "        encoded_char = char\n",
    "        \n",
    "    encoded_text += encoded_char\n",
    "print(encoded_text)"
   ]
  },
  {
   "cell_type": "code",
   "execution_count": 10,
   "id": "104b81f0",
   "metadata": {},
   "outputs": [],
   "source": [
    "#String Based Assignment Problem-43"
   ]
  },
  {
   "cell_type": "code",
   "execution_count": 11,
   "id": "a5915cc6",
   "metadata": {},
   "outputs": [
    {
     "name": "stdout",
     "output_type": "stream",
     "text": [
      "Enter a string: jgnnq\n",
      "Enter a number: 2\n",
      "hello\n"
     ]
    }
   ],
   "source": [
    "text = input(\"Enter a string: \")\n",
    "shift = int(input(\"Enter a number: \"))\n",
    "decoded_text = \"\"\n",
    "    \n",
    "for char in text:\n",
    "    if char.isalpha():\n",
    "        if char.isupper():\n",
    "            decoded_char = chr(((ord(char) - ord('A') - shift) % 26) + ord('A'))\n",
    "        else:\n",
    "            decoded_char = chr(((ord(char) - ord('a') - shift) % 26) + ord('a'))\n",
    "    else:\n",
    "        decoded_char = char\n",
    "        \n",
    "    decoded_text += decoded_char\n",
    "print(decoded_text)"
   ]
  },
  {
   "cell_type": "code",
   "execution_count": 12,
   "id": "c7b1eb1e",
   "metadata": {},
   "outputs": [],
   "source": [
    "#String Based Assignment Problem-44"
   ]
  },
  {
   "cell_type": "code",
   "execution_count": 20,
   "id": "1ab8b960",
   "metadata": {},
   "outputs": [
    {
     "name": "stdout",
     "output_type": "stream",
     "text": [
      "Enter a string: hello world hello india hello mumbai\n",
      "hello\n"
     ]
    }
   ],
   "source": [
    "a = input(\"Enter a string: \")\n",
    "b = a.split()\n",
    "c = {}\n",
    "for i in b:\n",
    "    count = 0\n",
    "    for j in b:\n",
    "        if i==j:\n",
    "            count = count+1\n",
    "    c[i] = count\n",
    "d = max(c, key=c.get)\n",
    "print(d)"
   ]
  },
  {
   "cell_type": "code",
   "execution_count": 21,
   "id": "288207d5",
   "metadata": {},
   "outputs": [],
   "source": [
    "#String Based Assignment Problem-45"
   ]
  },
  {
   "cell_type": "code",
   "execution_count": 22,
   "id": "1f0eda08",
   "metadata": {},
   "outputs": [
    {
     "name": "stdout",
     "output_type": "stream",
     "text": [
      "Enter a string: hello world hello india hello mumbai\n",
      "{'world': 1, 'india': 1, 'mumbai': 1}\n"
     ]
    }
   ],
   "source": [
    "a = input(\"Enter a string: \")\n",
    "b = a.split()\n",
    "c = {}\n",
    "for i in b:\n",
    "    count = 0\n",
    "    for j in b:\n",
    "        if i==j:\n",
    "            count = count+1\n",
    "    if count==1:\n",
    "        c[i] = count\n",
    "print(c)"
   ]
  },
  {
   "cell_type": "code",
   "execution_count": 23,
   "id": "4a4d885d",
   "metadata": {},
   "outputs": [],
   "source": [
    "#String Based Assignment Problem-46"
   ]
  },
  {
   "cell_type": "code",
   "execution_count": 25,
   "id": "c5607cb3",
   "metadata": {},
   "outputs": [
    {
     "name": "stdout",
     "output_type": "stream",
     "text": [
      "Enter a string: elephant\n",
      "Syllable count:  3\n"
     ]
    }
   ],
   "source": [
    "a=input(\"Enter a string: \")\n",
    "count=0\n",
    "for i in a:\n",
    "    if i == 'a' or i == 'e' or i == 'i' or i == 'o' or i == 'u' or i == 'y':\n",
    "        count=count+1\n",
    "print(\"Syllable count: \",count)"
   ]
  },
  {
   "cell_type": "code",
   "execution_count": 26,
   "id": "cf23c4f2",
   "metadata": {},
   "outputs": [],
   "source": [
    "#String Based Assignment Problem-47"
   ]
  },
  {
   "cell_type": "code",
   "execution_count": 30,
   "id": "0f3785d0",
   "metadata": {},
   "outputs": [
    {
     "name": "stdout",
     "output_type": "stream",
     "text": [
      "Enter a string: he?dk.\n",
      "This string contains spacial characters\n"
     ]
    }
   ],
   "source": [
    "a = input(\"Enter a string: \")\n",
    "b = ['.',',',':',';',\"'\",'\"','?','/','&','-','!','(',')','[',']']\n",
    "flag = False\n",
    "for i in a:\n",
    "    for j in b:\n",
    "        if j==i:\n",
    "            flag = True\n",
    "            break\n",
    "if flag:\n",
    "    print(\"This string contains spacial characters\")\n",
    "else:\n",
    "    print(\"This string does not contain spacial characters\")"
   ]
  },
  {
   "cell_type": "code",
   "execution_count": 31,
   "id": "b1fb4ef4",
   "metadata": {},
   "outputs": [],
   "source": [
    "#String Based Assignment Problem-48"
   ]
  },
  {
   "cell_type": "code",
   "execution_count": 35,
   "id": "79e962fb",
   "metadata": {},
   "outputs": [
    {
     "name": "stdout",
     "output_type": "stream",
     "text": [
      "Enter a string: Cow has four legs\n",
      "Enter desired position: 2\n",
      "Cow four legs\n"
     ]
    }
   ],
   "source": [
    "a = input(\"Enter a string: \")\n",
    "b = int(input(\"Enter desired position: \"))\n",
    "c = a.split(\" \")\n",
    "c.pop(b-1)\n",
    "d = \" \".join(c)\n",
    "print(d)"
   ]
  },
  {
   "cell_type": "code",
   "execution_count": 34,
   "id": "0164593a",
   "metadata": {},
   "outputs": [],
   "source": [
    "#String Based Assignment Problem-49"
   ]
  },
  {
   "cell_type": "code",
   "execution_count": 37,
   "id": "cfd4f53f",
   "metadata": {},
   "outputs": [
    {
     "name": "stdout",
     "output_type": "stream",
     "text": [
      "Enter a string: Cow four legs\n",
      "Enter word to add: has\n",
      "Enter desired position: 2\n",
      "Cow has four legs\n"
     ]
    }
   ],
   "source": [
    "a = input(\"Enter a string: \")\n",
    "e = input(\"Enter word to add: \")\n",
    "b = int(input(\"Enter desired position: \"))\n",
    "c = a.split(\" \")\n",
    "c.insert(b-1, e)\n",
    "d = \" \".join(c)\n",
    "print(d)"
   ]
  },
  {
   "cell_type": "code",
   "execution_count": 38,
   "id": "8dbadf21",
   "metadata": {},
   "outputs": [],
   "source": [
    "#String Based Assignment Problem-50"
   ]
  },
  {
   "cell_type": "code",
   "execution_count": 39,
   "id": "9012b08c",
   "metadata": {},
   "outputs": [
    {
     "name": "stdout",
     "output_type": "stream",
     "text": [
      "['Name', 'Age', 'Location']\n",
      "['Alice', '25', 'New York']\n",
      "['Bob', '30', 'Los Angeles']\n",
      "['Charlie', '22', 'Chicago']\n"
     ]
    }
   ],
   "source": [
    "import csv\n",
    "from io import StringIO\n",
    "\n",
    "csv_string = \"\"\"Name,Age,Location\n",
    "Alice,25,New York\n",
    "Bob,30,Los Angeles\n",
    "Charlie,22,Chicago\n",
    "\"\"\"\n",
    "csv_data = []\n",
    "csv_reader = csv.reader(StringIO(csv_string))\n",
    "for row in csv_reader:\n",
    "    csv_data.append(row)\n",
    "\n",
    "for row in csv_data:\n",
    "    print(row)\n"
   ]
  },
  {
   "cell_type": "code",
   "execution_count": 41,
   "id": "f788a4ae",
   "metadata": {},
   "outputs": [],
   "source": [
    "#List Based Practice Problem-1"
   ]
  },
  {
   "cell_type": "code",
   "execution_count": 44,
   "id": "d2f6ddec",
   "metadata": {},
   "outputs": [],
   "source": [
    "list_with_int = [1, 2, 3, 4, 5, 6, 7, 8, 9, 10]"
   ]
  },
  {
   "cell_type": "code",
   "execution_count": 43,
   "id": "41dd15cd",
   "metadata": {},
   "outputs": [],
   "source": [
    "#List Based Practice Problem-2"
   ]
  },
  {
   "cell_type": "code",
   "execution_count": 45,
   "id": "782e91a9",
   "metadata": {},
   "outputs": [
    {
     "name": "stdout",
     "output_type": "stream",
     "text": [
      "10\n"
     ]
    }
   ],
   "source": [
    "a = [1, 2, 3, 4, 5, 6, 7, 8, 9, 10]\n",
    "count = 0\n",
    "for i in a:\n",
    "    count = count+1\n",
    "print(count)"
   ]
  },
  {
   "cell_type": "code",
   "execution_count": 46,
   "id": "0f8e2cd8",
   "metadata": {},
   "outputs": [],
   "source": [
    "#List Based Practice Problem-3"
   ]
  },
  {
   "cell_type": "code",
   "execution_count": 47,
   "id": "93a19f1e",
   "metadata": {},
   "outputs": [
    {
     "name": "stdout",
     "output_type": "stream",
     "text": [
      "[1, 2, 3, 4, 5, 6]\n"
     ]
    }
   ],
   "source": [
    "a = [1, 2, 3, 4, 5]\n",
    "a.append(6)\n",
    "print(a)"
   ]
  },
  {
   "cell_type": "code",
   "execution_count": 48,
   "id": "50c3fab7",
   "metadata": {},
   "outputs": [],
   "source": [
    "#List Based Practice Problem-4"
   ]
  },
  {
   "cell_type": "code",
   "execution_count": 49,
   "id": "d5592df1",
   "metadata": {},
   "outputs": [
    {
     "name": "stdout",
     "output_type": "stream",
     "text": [
      "[1, 2, 6, 4, 5]\n"
     ]
    }
   ],
   "source": [
    "a = [1, 2, 3, 4, 5]\n",
    "a[2] = 6\n",
    "print(a)"
   ]
  },
  {
   "cell_type": "code",
   "execution_count": 50,
   "id": "96117a85",
   "metadata": {},
   "outputs": [],
   "source": [
    "#List Based Practice Problem-5"
   ]
  },
  {
   "cell_type": "code",
   "execution_count": 51,
   "id": "b5b04b0c",
   "metadata": {},
   "outputs": [
    {
     "name": "stdout",
     "output_type": "stream",
     "text": [
      "[1, 3, 4, 5]\n"
     ]
    }
   ],
   "source": [
    "a = [1, 2, 3, 4, 5]\n",
    "a.remove(2)\n",
    "print(a)"
   ]
  },
  {
   "cell_type": "code",
   "execution_count": 52,
   "id": "53f094ef",
   "metadata": {},
   "outputs": [],
   "source": [
    "#List Based Practice Problem-6"
   ]
  },
  {
   "cell_type": "code",
   "execution_count": 53,
   "id": "00e5dca2",
   "metadata": {},
   "outputs": [
    {
     "name": "stdout",
     "output_type": "stream",
     "text": [
      "[1, 2, 4, 5]\n"
     ]
    }
   ],
   "source": [
    "a = [1, 2, 3, 4, 5]\n",
    "a.pop(2)\n",
    "print(a)"
   ]
  },
  {
   "cell_type": "code",
   "execution_count": 54,
   "id": "0b2d8ffe",
   "metadata": {},
   "outputs": [],
   "source": [
    "#List Based Practice Problem-7"
   ]
  },
  {
   "cell_type": "code",
   "execution_count": 60,
   "id": "9d5dd409",
   "metadata": {},
   "outputs": [
    {
     "name": "stdout",
     "output_type": "stream",
     "text": [
      "This value is available\n"
     ]
    }
   ],
   "source": [
    "a = [1, 2, 3, 4, 5]\n",
    "if 3 in a:\n",
    "    print(\"This value is available\")\n",
    "else:\n",
    "    print(\"This value is not available\")"
   ]
  },
  {
   "cell_type": "code",
   "execution_count": 61,
   "id": "834bc767",
   "metadata": {},
   "outputs": [],
   "source": [
    "#List Based Practice Problem-8"
   ]
  },
  {
   "cell_type": "code",
   "execution_count": 64,
   "id": "219eaf98",
   "metadata": {},
   "outputs": [
    {
     "name": "stdout",
     "output_type": "stream",
     "text": [
      "The index of first occurance:  0\n"
     ]
    }
   ],
   "source": [
    "a = [1, 2, 3, 4, 5, 1, 2]\n",
    "b = a.index(1)\n",
    "print(\"The index of first occurance: \",b)"
   ]
  },
  {
   "cell_type": "code",
   "execution_count": 65,
   "id": "e30d2366",
   "metadata": {},
   "outputs": [],
   "source": [
    "#List Based Practice Problem-9"
   ]
  },
  {
   "cell_type": "code",
   "execution_count": 67,
   "id": "6e8d5e81",
   "metadata": {},
   "outputs": [
    {
     "name": "stdout",
     "output_type": "stream",
     "text": [
      "{'world': 2, 'hello': 1, 'number': 1, 3: 1}\n"
     ]
    }
   ],
   "source": [
    "b = ['world', 'hello', 'world', 'number', 3]\n",
    "c = {}\n",
    "for i in b:\n",
    "    count = 0\n",
    "    for j in b:\n",
    "        if i==j:\n",
    "            count = count+1\n",
    "    c[i] = count\n",
    "print(c)"
   ]
  },
  {
   "cell_type": "code",
   "execution_count": 68,
   "id": "344bc38b",
   "metadata": {},
   "outputs": [],
   "source": [
    "#List Based Practice Problem-10"
   ]
  },
  {
   "cell_type": "code",
   "execution_count": 69,
   "id": "bc75263d",
   "metadata": {},
   "outputs": [
    {
     "name": "stdout",
     "output_type": "stream",
     "text": [
      "[3, 'number', 'world', 'hello', 'world']\n"
     ]
    }
   ],
   "source": [
    "b = ['world', 'hello', 'world', 'number', 3]\n",
    "c = b[::-1]\n",
    "print(c)"
   ]
  },
  {
   "cell_type": "code",
   "execution_count": 70,
   "id": "1a949d24",
   "metadata": {},
   "outputs": [],
   "source": [
    "#List Based Practice Problem-11"
   ]
  },
  {
   "cell_type": "code",
   "execution_count": 73,
   "id": "a8cecc43",
   "metadata": {},
   "outputs": [
    {
     "name": "stdout",
     "output_type": "stream",
     "text": [
      "[1, 3, 5, 21, 57]\n"
     ]
    }
   ],
   "source": [
    "a = [5, 1, 57, 21, 3]\n",
    "b = sorted(a)\n",
    "print(b)"
   ]
  },
  {
   "cell_type": "code",
   "execution_count": 74,
   "id": "58c361f4",
   "metadata": {},
   "outputs": [],
   "source": [
    "#List Based Practice Problem-12"
   ]
  },
  {
   "cell_type": "code",
   "execution_count": 75,
   "id": "92f2692e",
   "metadata": {},
   "outputs": [
    {
     "name": "stdout",
     "output_type": "stream",
     "text": [
      "[57, 21, 5, 3, 1]\n"
     ]
    }
   ],
   "source": [
    "a = [5, 1, 57, 21, 3]\n",
    "b = sorted(a, reverse=True)\n",
    "print(b)"
   ]
  },
  {
   "cell_type": "code",
   "execution_count": 77,
   "id": "f0b06fce",
   "metadata": {},
   "outputs": [],
   "source": [
    "#List Based Practice Problem-13"
   ]
  },
  {
   "cell_type": "code",
   "execution_count": 80,
   "id": "c64fc2a6",
   "metadata": {},
   "outputs": [
    {
     "name": "stdout",
     "output_type": "stream",
     "text": [
      "[2, 4, 6, 8, 10, 12, 14, 16, 18, 20]\n"
     ]
    }
   ],
   "source": [
    "a = []\n",
    "for i in range(1, 21):\n",
    "    if i%2==0:\n",
    "        a.append(i)\n",
    "print(a)"
   ]
  },
  {
   "cell_type": "code",
   "execution_count": null,
   "id": "b386a9ef",
   "metadata": {},
   "outputs": [],
   "source": [
    "#List Based Practice Problem-14"
   ]
  },
  {
   "cell_type": "code",
   "execution_count": 81,
   "id": "c0feb7b0",
   "metadata": {},
   "outputs": [
    {
     "name": "stdout",
     "output_type": "stream",
     "text": [
      "[1, 3, 5, 7, 9, 11, 13, 15, 17, 19]\n"
     ]
    }
   ],
   "source": [
    "a = []\n",
    "for i in range(1, 21):\n",
    "    if i%2!=0:\n",
    "        a.append(i)\n",
    "print(a)"
   ]
  },
  {
   "cell_type": "code",
   "execution_count": 82,
   "id": "8f96ec48",
   "metadata": {},
   "outputs": [],
   "source": [
    "#List Based Practice Problem-15"
   ]
  },
  {
   "cell_type": "code",
   "execution_count": 83,
   "id": "3884babd",
   "metadata": {},
   "outputs": [
    {
     "name": "stdout",
     "output_type": "stream",
     "text": [
      "15\n"
     ]
    }
   ],
   "source": [
    "a = [1, 2, 3, 4, 5]\n",
    "b = sum(a)\n",
    "print(b)"
   ]
  },
  {
   "cell_type": "code",
   "execution_count": 84,
   "id": "939bd9b8",
   "metadata": {},
   "outputs": [],
   "source": [
    "#List Based Practice Problem-16"
   ]
  },
  {
   "cell_type": "code",
   "execution_count": 85,
   "id": "6409fff0",
   "metadata": {},
   "outputs": [
    {
     "name": "stdout",
     "output_type": "stream",
     "text": [
      "5\n"
     ]
    }
   ],
   "source": [
    "a = [1, 2, 3, 4, 5]\n",
    "b = max(a)\n",
    "print(b)"
   ]
  },
  {
   "cell_type": "code",
   "execution_count": null,
   "id": "8b96fa15",
   "metadata": {},
   "outputs": [],
   "source": [
    "#List Based Practice Problem-17"
   ]
  },
  {
   "cell_type": "code",
   "execution_count": 86,
   "id": "8fb3d82e",
   "metadata": {},
   "outputs": [
    {
     "name": "stdout",
     "output_type": "stream",
     "text": [
      "1\n"
     ]
    }
   ],
   "source": [
    "a = [1, 2, 3, 4, 5]\n",
    "b = min(a)\n",
    "print(b)"
   ]
  },
  {
   "cell_type": "code",
   "execution_count": 87,
   "id": "364f1248",
   "metadata": {},
   "outputs": [],
   "source": [
    "#List Based Practice Problem-18"
   ]
  },
  {
   "cell_type": "code",
   "execution_count": 89,
   "id": "104402f0",
   "metadata": {},
   "outputs": [
    {
     "name": "stdout",
     "output_type": "stream",
     "text": [
      "[1, 4, 9, 16, 25]\n"
     ]
    }
   ],
   "source": [
    "squares_list = [x ** 2 for x in range(1, 6)]\n",
    "\n",
    "print(squares_list)"
   ]
  },
  {
   "cell_type": "code",
   "execution_count": 90,
   "id": "d671e58a",
   "metadata": {},
   "outputs": [],
   "source": [
    "#List Based Practice Problem-19"
   ]
  },
  {
   "cell_type": "code",
   "execution_count": 91,
   "id": "19af55bf",
   "metadata": {},
   "outputs": [
    {
     "name": "stdout",
     "output_type": "stream",
     "text": [
      "[61, 51, 88, 19, 36, 32, 25, 34, 8, 11]\n"
     ]
    }
   ],
   "source": [
    "import random\n",
    "\n",
    "random_numbers = [random.randint(1, 100) for _ in range(10)]\n",
    "\n",
    "print(random_numbers)"
   ]
  },
  {
   "cell_type": "code",
   "execution_count": 92,
   "id": "d8faea5a",
   "metadata": {},
   "outputs": [],
   "source": [
    "#List Based Practice Problem-20"
   ]
  },
  {
   "cell_type": "code",
   "execution_count": 98,
   "id": "e7f18dda",
   "metadata": {},
   "outputs": [
    {
     "name": "stdout",
     "output_type": "stream",
     "text": [
      "[1, 2, 3, 4, 5, 6]\n"
     ]
    }
   ],
   "source": [
    "l = [1, 2, 3, 4, 1, 3, 5, 6, 5]\n",
    "a = set(l)\n",
    "b = list(a)\n",
    "print(b)"
   ]
  },
  {
   "cell_type": "code",
   "execution_count": 99,
   "id": "89f02a5f",
   "metadata": {},
   "outputs": [],
   "source": [
    "#List Based Practice Problem-21"
   ]
  },
  {
   "cell_type": "code",
   "execution_count": 100,
   "id": "0c892d01",
   "metadata": {},
   "outputs": [
    {
     "name": "stdout",
     "output_type": "stream",
     "text": [
      "[4, 5]\n"
     ]
    }
   ],
   "source": [
    "a = [1, 2, 3, 4, 5]\n",
    "b = [4, 5, 6, 7, 8]\n",
    "c = []\n",
    "for i in a:\n",
    "    for j in b:\n",
    "        if i==j:\n",
    "            c.append(i)\n",
    "print(c)"
   ]
  },
  {
   "cell_type": "code",
   "execution_count": 101,
   "id": "23e3da48",
   "metadata": {},
   "outputs": [],
   "source": [
    "#List Based Practice Problem-22"
   ]
  },
  {
   "cell_type": "code",
   "execution_count": 112,
   "id": "78ead293",
   "metadata": {},
   "outputs": [
    {
     "name": "stdout",
     "output_type": "stream",
     "text": [
      "[1, 2, 3, 6, 7, 8]\n"
     ]
    }
   ],
   "source": [
    "a = [1, 2, 3, 4, 5]\n",
    "b = [4, 5, 6, 7, 8]\n",
    "c = []\n",
    "for i in a:\n",
    "    if i not in b:\n",
    "        c.append(i)\n",
    "for j in b:\n",
    "    if j not in a:\n",
    "        c.append(j)\n",
    "print(c)"
   ]
  },
  {
   "cell_type": "code",
   "execution_count": 113,
   "id": "290ffb9c",
   "metadata": {},
   "outputs": [],
   "source": [
    "#List Based Practice Problem-23"
   ]
  },
  {
   "cell_type": "code",
   "execution_count": 115,
   "id": "1a38c22d",
   "metadata": {},
   "outputs": [
    {
     "name": "stdout",
     "output_type": "stream",
     "text": [
      "[1, 2, 3, 6, 7, 8]\n"
     ]
    }
   ],
   "source": [
    "a = [1, 2, 3]\n",
    "b = [6, 7, 8]\n",
    "c = a+b\n",
    "print(c)"
   ]
  },
  {
   "cell_type": "code",
   "execution_count": 116,
   "id": "b8c4b2ff",
   "metadata": {},
   "outputs": [],
   "source": [
    "#List Based Practice Problem-24"
   ]
  },
  {
   "cell_type": "code",
   "execution_count": 118,
   "id": "01fb016c",
   "metadata": {},
   "outputs": [
    {
     "name": "stdout",
     "output_type": "stream",
     "text": [
      "2\n",
      "4\n",
      "6\n"
     ]
    }
   ],
   "source": [
    "a = [1, 2, 3]\n",
    "for i in a:\n",
    "    print(i*2)"
   ]
  },
  {
   "cell_type": "code",
   "execution_count": 119,
   "id": "7c0304af",
   "metadata": {},
   "outputs": [],
   "source": [
    "#List Based Practice Problem-25"
   ]
  },
  {
   "cell_type": "code",
   "execution_count": 120,
   "id": "26900cd1",
   "metadata": {},
   "outputs": [
    {
     "name": "stdout",
     "output_type": "stream",
     "text": [
      "[2, 4, 6, 24]\n"
     ]
    }
   ],
   "source": [
    "l = [2, 5, 4, 6, 7, 3, 24, 25]\n",
    "a = []\n",
    "for i in l:\n",
    "    if i%2==0:\n",
    "        a.append(i)\n",
    "print(a)"
   ]
  },
  {
   "cell_type": "code",
   "execution_count": 121,
   "id": "d64cb4d4",
   "metadata": {},
   "outputs": [],
   "source": [
    "#List Based Practice Problem-26"
   ]
  },
  {
   "cell_type": "code",
   "execution_count": 122,
   "id": "d4fa2356",
   "metadata": {},
   "outputs": [
    {
     "name": "stdout",
     "output_type": "stream",
     "text": [
      "[1, 2, 3]\n"
     ]
    }
   ],
   "source": [
    "a = ['1', '2', '3']\n",
    "b = []\n",
    "for i in a:\n",
    "    b.append(int(i))\n",
    "print(b)"
   ]
  },
  {
   "cell_type": "code",
   "execution_count": 123,
   "id": "db47c179",
   "metadata": {},
   "outputs": [],
   "source": [
    "#List Based Practice Problem-27"
   ]
  },
  {
   "cell_type": "code",
   "execution_count": 124,
   "id": "eb82b193",
   "metadata": {},
   "outputs": [
    {
     "name": "stdout",
     "output_type": "stream",
     "text": [
      "['1', '2', '3']\n"
     ]
    }
   ],
   "source": [
    "a = [1, 2, 3]\n",
    "b = []\n",
    "for i in a:\n",
    "    b.append(str(i))\n",
    "print(b)"
   ]
  },
  {
   "cell_type": "code",
   "execution_count": 125,
   "id": "a619e1a9",
   "metadata": {},
   "outputs": [],
   "source": [
    "#List Based Practice Problem-28"
   ]
  },
  {
   "cell_type": "code",
   "execution_count": 127,
   "id": "ca7bd83e",
   "metadata": {},
   "outputs": [
    {
     "name": "stdout",
     "output_type": "stream",
     "text": [
      "[1, 2, 3, 4, 5, 6]\n"
     ]
    }
   ],
   "source": [
    "a = [1, 2, 3, [4 ,5, 6]]\n",
    "b = []\n",
    "for i in a:\n",
    "    if type(i)==list:\n",
    "        for j in i:\n",
    "            b.append(j)\n",
    "    else:\n",
    "        b.append(i)\n",
    "print(b)"
   ]
  },
  {
   "cell_type": "code",
   "execution_count": 129,
   "id": "af0e4e6a",
   "metadata": {},
   "outputs": [],
   "source": [
    "#List Based Practice Problem-29"
   ]
  },
  {
   "cell_type": "code",
   "execution_count": 132,
   "id": "3f455002",
   "metadata": {},
   "outputs": [
    {
     "name": "stdout",
     "output_type": "stream",
     "text": [
      "[0, 1, 1, 2, 3, 5, 8, 13, 21, 34]\n"
     ]
    }
   ],
   "source": [
    "a = [0,1]\n",
    "for _ in a:\n",
    "    if len(a)<10:\n",
    "        b=a[-1]+a[-2]\n",
    "        a.append(b)\n",
    "print(a)"
   ]
  },
  {
   "cell_type": "code",
   "execution_count": 133,
   "id": "7409d7ff",
   "metadata": {},
   "outputs": [],
   "source": [
    "#List Based Practice Problem-30"
   ]
  },
  {
   "cell_type": "code",
   "execution_count": 142,
   "id": "c40d47b7",
   "metadata": {},
   "outputs": [
    {
     "name": "stdout",
     "output_type": "stream",
     "text": [
      "The list is sorted\n"
     ]
    }
   ],
   "source": [
    "a = [1, 2, 3, 4, 5, 6]\n",
    "if sorted(a)==a:\n",
    "    print(\"The list is sorted\")\n",
    "else:\n",
    "    print(\"The list is not sorted\")"
   ]
  },
  {
   "cell_type": "code",
   "execution_count": 143,
   "id": "d3aa7207",
   "metadata": {},
   "outputs": [],
   "source": [
    "#List Based Practice Problem-31"
   ]
  },
  {
   "cell_type": "code",
   "execution_count": 150,
   "id": "93d0e3dc",
   "metadata": {},
   "outputs": [
    {
     "name": "stdout",
     "output_type": "stream",
     "text": [
      "[3, 4, 5, 1, 2]\n"
     ]
    }
   ],
   "source": [
    "a = [1, 2, 3, 4, 5]\n",
    "n = 2\n",
    "rotated_list = a[n:] + a[:n]\n",
    "print(rotated_list)"
   ]
  },
  {
   "cell_type": "code",
   "execution_count": null,
   "id": "9d859adc",
   "metadata": {},
   "outputs": [],
   "source": [
    "#List Based Practice Problem-32"
   ]
  },
  {
   "cell_type": "code",
   "execution_count": 1,
   "id": "2c07a4c1",
   "metadata": {},
   "outputs": [
    {
     "name": "stdout",
     "output_type": "stream",
     "text": [
      "[4, 5, 1, 2, 3]\n"
     ]
    }
   ],
   "source": [
    "a = [1, 2, 3, 4, 5]\n",
    "n = 2\n",
    "rotated_list = a[-n:] + a[:-n]\n",
    "print(rotated_list)"
   ]
  },
  {
   "cell_type": "code",
   "execution_count": 152,
   "id": "17f0b2ec",
   "metadata": {},
   "outputs": [],
   "source": [
    "#List Based Practice Problem-33"
   ]
  },
  {
   "cell_type": "code",
   "execution_count": 2,
   "id": "db43e1a4",
   "metadata": {},
   "outputs": [
    {
     "name": "stdout",
     "output_type": "stream",
     "text": [
      "[2, 3, 5, 7, 11, 13, 17, 19, 23, 29, 31, 37, 41, 43, 47]\n"
     ]
    }
   ],
   "source": [
    "a = [2, 3, 5, 7]\n",
    "for i in range(8, 51):\n",
    "    if i%2!=0 and i%3!=0 and i%5!=0 and i%7!=0:\n",
    "        a.append(i)\n",
    "print(a)"
   ]
  },
  {
   "cell_type": "code",
   "execution_count": 3,
   "id": "6b19d5a8",
   "metadata": {},
   "outputs": [],
   "source": [
    "#List Based Practice Problem-34"
   ]
  },
  {
   "cell_type": "code",
   "execution_count": 9,
   "id": "31961226",
   "metadata": {},
   "outputs": [
    {
     "name": "stdout",
     "output_type": "stream",
     "text": [
      "[[1, 2, 3], [4, 5, 6], [7, 8, 9]]\n"
     ]
    }
   ],
   "source": [
    "a = [1, 2, 3, 4, 5, 6, 7, 8, 9]\n",
    "n = 3\n",
    "b = [a[i:i + n] for i in range(0, len(a), n)]\n",
    "print(b)"
   ]
  },
  {
   "cell_type": "code",
   "execution_count": 10,
   "id": "ff46bebe",
   "metadata": {},
   "outputs": [],
   "source": [
    "#List Based Practice Problem-35"
   ]
  },
  {
   "cell_type": "code",
   "execution_count": 13,
   "id": "8bd3a53f",
   "metadata": {},
   "outputs": [
    {
     "name": "stdout",
     "output_type": "stream",
     "text": [
      "8\n"
     ]
    }
   ],
   "source": [
    "a = [1, 2, 3, 4, 5, 6, 7, 8, 9]\n",
    "a.remove(max(a))\n",
    "b = max(a)\n",
    "print(b)"
   ]
  },
  {
   "cell_type": "code",
   "execution_count": 14,
   "id": "b4f58c74",
   "metadata": {},
   "outputs": [],
   "source": [
    "#List Based Practice Problem-36"
   ]
  },
  {
   "cell_type": "code",
   "execution_count": 15,
   "id": "8a6d89d3",
   "metadata": {},
   "outputs": [
    {
     "name": "stdout",
     "output_type": "stream",
     "text": [
      "[1, 4, 9, 16, 25]\n"
     ]
    }
   ],
   "source": [
    "a = [1, 2, 3, 4, 5]\n",
    "b = []\n",
    "for i in a:\n",
    "    b.append(i*i)\n",
    "print(b)"
   ]
  },
  {
   "cell_type": "code",
   "execution_count": 16,
   "id": "5f9d3a4f",
   "metadata": {},
   "outputs": [],
   "source": [
    "#List Based Practice Problem-37"
   ]
  },
  {
   "cell_type": "code",
   "execution_count": 19,
   "id": "2e635422",
   "metadata": {},
   "outputs": [
    {
     "name": "stdout",
     "output_type": "stream",
     "text": [
      "{1: 0, 2: 1, 3: 2, 4: 3, 5: 4}\n"
     ]
    }
   ],
   "source": [
    "a = [1, 2, 3, 4, 5]\n",
    "b = {}\n",
    "for i in range(0,len(a)):\n",
    "    b[a[i]] = i\n",
    "print(b)"
   ]
  },
  {
   "cell_type": "code",
   "execution_count": 20,
   "id": "699b4d79",
   "metadata": {},
   "outputs": [],
   "source": [
    "#List Based Practice Problem-38"
   ]
  },
  {
   "cell_type": "code",
   "execution_count": 21,
   "id": "f81733f5",
   "metadata": {},
   "outputs": [
    {
     "name": "stdout",
     "output_type": "stream",
     "text": [
      "[2, 3, 4, 5, 1]\n"
     ]
    }
   ],
   "source": [
    "import random\n",
    "\n",
    "a = [1, 2, 3, 4, 5]\n",
    "random.shuffle(a)\n",
    "print(a)"
   ]
  },
  {
   "cell_type": "code",
   "execution_count": 22,
   "id": "db5a4471",
   "metadata": {},
   "outputs": [],
   "source": [
    "#List Based Practice Problem-39"
   ]
  },
  {
   "cell_type": "code",
   "execution_count": 27,
   "id": "f6c72311",
   "metadata": {},
   "outputs": [
    {
     "name": "stdout",
     "output_type": "stream",
     "text": [
      "[1, 2, 6, 24, 120, 720, 5040, 40320, 362880, 3628800]\n"
     ]
    }
   ],
   "source": [
    "a = []\n",
    "factorial = 1\n",
    "for i in range(1, 11):\n",
    "    factorial *= i\n",
    "    a.append(factorial)\n",
    "print(a)"
   ]
  },
  {
   "cell_type": "code",
   "execution_count": 28,
   "id": "782c7eb4",
   "metadata": {},
   "outputs": [],
   "source": [
    "#List Based Practice Problem-40"
   ]
  },
  {
   "cell_type": "code",
   "execution_count": 31,
   "id": "efb95dc1",
   "metadata": {},
   "outputs": [
    {
     "name": "stdout",
     "output_type": "stream",
     "text": [
      "Lists have common element\n"
     ]
    }
   ],
   "source": [
    "a = [1, 2, 3, 4, 5]\n",
    "b = [4, 5, 6, 7, 8]\n",
    "c = []\n",
    "for i in a:\n",
    "    for j in b:\n",
    "        if i==j:\n",
    "            c.append(i)\n",
    "if c:\n",
    "    print(\"Lists have common element\")\n",
    "else:\n",
    "    print(\"Lists do not have common element\")"
   ]
  },
  {
   "cell_type": "code",
   "execution_count": 32,
   "id": "66b90cd5",
   "metadata": {},
   "outputs": [],
   "source": [
    "#List Based Practice Problem-41"
   ]
  },
  {
   "cell_type": "code",
   "execution_count": 35,
   "id": "131ac1fd",
   "metadata": {},
   "outputs": [
    {
     "name": "stdout",
     "output_type": "stream",
     "text": [
      "[]\n"
     ]
    }
   ],
   "source": [
    "a = [1, 2, 3, 4, 5]\n",
    "a.clear()\n",
    "print(a)"
   ]
  },
  {
   "cell_type": "code",
   "execution_count": 36,
   "id": "ed8f1153",
   "metadata": {},
   "outputs": [],
   "source": [
    "#List Based Practice Problem-42"
   ]
  },
  {
   "cell_type": "code",
   "execution_count": 37,
   "id": "50611e3f",
   "metadata": {},
   "outputs": [
    {
     "name": "stdout",
     "output_type": "stream",
     "text": [
      "[1, 0, 3, 0, 5]\n"
     ]
    }
   ],
   "source": [
    "a = [1, -2, 3, -4, 5]\n",
    "b = []\n",
    "for i in a:\n",
    "    if i<0:\n",
    "        b.append(0)\n",
    "    else:\n",
    "        b.append(i)\n",
    "print(b)"
   ]
  },
  {
   "cell_type": "code",
   "execution_count": 38,
   "id": "73fa0944",
   "metadata": {},
   "outputs": [],
   "source": [
    "#List Based Practice Problem-43"
   ]
  },
  {
   "cell_type": "code",
   "execution_count": 39,
   "id": "bae6c348",
   "metadata": {},
   "outputs": [
    {
     "name": "stdout",
     "output_type": "stream",
     "text": [
      "['Please', 'do', 'not', 'use', 'plastic']\n"
     ]
    }
   ],
   "source": [
    "a = \"Please do not use plastic\"\n",
    "b = a.split()\n",
    "print(b)"
   ]
  },
  {
   "cell_type": "code",
   "execution_count": 40,
   "id": "d3314dfb",
   "metadata": {},
   "outputs": [],
   "source": [
    "#List Based Practice Problem-44"
   ]
  },
  {
   "cell_type": "code",
   "execution_count": 41,
   "id": "7d82793a",
   "metadata": {},
   "outputs": [
    {
     "name": "stdout",
     "output_type": "stream",
     "text": [
      "Please do not use plastic\n"
     ]
    }
   ],
   "source": [
    "a = ['Please', 'do', 'not', 'use', 'plastic']\n",
    "b = \" \".join(a)\n",
    "print(b)"
   ]
  },
  {
   "cell_type": "code",
   "execution_count": 42,
   "id": "19dd3263",
   "metadata": {},
   "outputs": [],
   "source": [
    "#List Based Practice Problem-45"
   ]
  },
  {
   "cell_type": "code",
   "execution_count": 43,
   "id": "9ec1886c",
   "metadata": {},
   "outputs": [
    {
     "name": "stdout",
     "output_type": "stream",
     "text": [
      "[1, 4, 9, 16, 25]\n"
     ]
    }
   ],
   "source": [
    "n = 5\n",
    "b = []\n",
    "for i in range(1, n+1):\n",
    "    b.append(i*i)\n",
    "print(b)"
   ]
  },
  {
   "cell_type": "code",
   "execution_count": 44,
   "id": "1dc154ad",
   "metadata": {},
   "outputs": [],
   "source": [
    "#List Based Practice Problem-46"
   ]
  },
  {
   "cell_type": "code",
   "execution_count": 53,
   "id": "e9ac9d58",
   "metadata": {},
   "outputs": [
    {
     "name": "stdout",
     "output_type": "stream",
     "text": [
      "The longest string is:  plastic\n"
     ]
    }
   ],
   "source": [
    "a = ['Please', 'do', 'not', 'use', 'plastic']\n",
    "b = {}\n",
    "c = []\n",
    "for i in a:\n",
    "    count = 0\n",
    "    for j in i:\n",
    "        count = count+1\n",
    "    b[count] = i\n",
    "    c.append(count)\n",
    "d = b[max(c)]    \n",
    "print(\"The longest string is: \",d)"
   ]
  },
  {
   "cell_type": "code",
   "execution_count": 54,
   "id": "167c6961",
   "metadata": {},
   "outputs": [],
   "source": [
    "#List Based Practice Problem-47"
   ]
  },
  {
   "cell_type": "code",
   "execution_count": 56,
   "id": "38979de5",
   "metadata": {},
   "outputs": [
    {
     "name": "stdout",
     "output_type": "stream",
     "text": [
      "The shortest string is:  do\n"
     ]
    }
   ],
   "source": [
    "a = ['Please', 'do', 'not', 'use', 'plastic']\n",
    "b = {}\n",
    "c = []\n",
    "for i in a:\n",
    "    count = 0\n",
    "    for j in i:\n",
    "        count = count+1\n",
    "    b[count] = i\n",
    "    c.append(count)\n",
    "d = b[min(c)]    \n",
    "print(\"The shortest string is: \",d)"
   ]
  },
  {
   "cell_type": "code",
   "execution_count": 57,
   "id": "b50e0782",
   "metadata": {},
   "outputs": [],
   "source": [
    "#List Based Practice Problem-48"
   ]
  },
  {
   "cell_type": "code",
   "execution_count": 60,
   "id": "4e660eae",
   "metadata": {},
   "outputs": [
    {
     "name": "stdout",
     "output_type": "stream",
     "text": [
      "[1, 3, 6, 10, 15]\n"
     ]
    }
   ],
   "source": [
    "triangular_numbers = []\n",
    "n = 5\n",
    "for i in range(1, n + 1):\n",
    "    triangular_numbers.append(i * (i + 1) // 2)\n",
    "print(triangular_numbers)"
   ]
  },
  {
   "cell_type": "code",
   "execution_count": 61,
   "id": "315d20cf",
   "metadata": {},
   "outputs": [],
   "source": [
    "#List Based Practice Problem-49"
   ]
  },
  {
   "cell_type": "code",
   "execution_count": 65,
   "id": "b614bac2",
   "metadata": {},
   "outputs": [
    {
     "name": "stdout",
     "output_type": "stream",
     "text": [
      "We have a nested list\n"
     ]
    }
   ],
   "source": [
    "a = [1, 2, 3, 4, 5, [6,7,8]]\n",
    "flag = False\n",
    "for i in a:\n",
    "    if type(i)==list:\n",
    "        flag = True\n",
    "        break\n",
    "if flag:\n",
    "    print(\"We have a nested list\")\n",
    "else:\n",
    "    print(\"We do not have a nested list\")"
   ]
  },
  {
   "cell_type": "code",
   "execution_count": 67,
   "id": "4164582f",
   "metadata": {},
   "outputs": [],
   "source": [
    "#List Based Practice Problem-50"
   ]
  },
  {
   "cell_type": "code",
   "execution_count": 68,
   "id": "79d21ab4",
   "metadata": {},
   "outputs": [
    {
     "name": "stdout",
     "output_type": "stream",
     "text": [
      "[1, 4, 3, 2, 5]\n"
     ]
    }
   ],
   "source": [
    "a = [1, 2, 3, 4, 5]\n",
    "a[1], a[3] = a[3], a[1]\n",
    "print(a)"
   ]
  },
  {
   "cell_type": "code",
   "execution_count": 69,
   "id": "0936b7b7",
   "metadata": {},
   "outputs": [],
   "source": [
    "#Tuple Based Practice Problem-1"
   ]
  },
  {
   "cell_type": "code",
   "execution_count": 70,
   "id": "81977911",
   "metadata": {},
   "outputs": [
    {
     "data": {
      "text/plain": [
       "tuple"
      ]
     },
     "execution_count": 70,
     "metadata": {},
     "output_type": "execute_result"
    }
   ],
   "source": [
    "a = (1,2,3,4,5)\n",
    "type(a)"
   ]
  },
  {
   "cell_type": "code",
   "execution_count": 71,
   "id": "36205ace",
   "metadata": {},
   "outputs": [],
   "source": [
    "#Tuple Based Practice Problem-2"
   ]
  },
  {
   "cell_type": "code",
   "execution_count": 72,
   "id": "7bbc392b",
   "metadata": {},
   "outputs": [
    {
     "name": "stdout",
     "output_type": "stream",
     "text": [
      "3\n"
     ]
    }
   ],
   "source": [
    "a = (1,2,3,4,5)\n",
    "print(a[2])"
   ]
  },
  {
   "cell_type": "code",
   "execution_count": 74,
   "id": "23384f14",
   "metadata": {},
   "outputs": [],
   "source": [
    "#Tuple Based Practice Problem-3"
   ]
  },
  {
   "cell_type": "code",
   "execution_count": 75,
   "id": "33a7ab48",
   "metadata": {},
   "outputs": [
    {
     "name": "stdout",
     "output_type": "stream",
     "text": [
      "5\n"
     ]
    }
   ],
   "source": [
    "a = (1,2,3,4,5)\n",
    "count = 0\n",
    "for i in a:\n",
    "    count = count+1\n",
    "print(count)"
   ]
  },
  {
   "cell_type": "code",
   "execution_count": 76,
   "id": "bc139e84",
   "metadata": {},
   "outputs": [],
   "source": [
    "#Tuple Based Practice Problem-4"
   ]
  },
  {
   "cell_type": "code",
   "execution_count": 77,
   "id": "8593631c",
   "metadata": {},
   "outputs": [
    {
     "name": "stdout",
     "output_type": "stream",
     "text": [
      "{1: 1, 2: 3, 3: 1, 4: 2, 5: 1}\n"
     ]
    }
   ],
   "source": [
    "a = (1,2,3,4,5,2,4,2)\n",
    "b = {}\n",
    "for i in a:\n",
    "    count=0\n",
    "    for j in a:\n",
    "        if i==j:\n",
    "            count=count+1\n",
    "    b[i]=count\n",
    "print(b)"
   ]
  },
  {
   "cell_type": "code",
   "execution_count": 79,
   "id": "ea616844",
   "metadata": {},
   "outputs": [],
   "source": [
    "#Tuple Based Practice Problem-5"
   ]
  },
  {
   "cell_type": "code",
   "execution_count": 82,
   "id": "534e32d5",
   "metadata": {},
   "outputs": [
    {
     "name": "stdout",
     "output_type": "stream",
     "text": [
      "1\n"
     ]
    }
   ],
   "source": [
    "a = (1,2,3,4,5,2,4,2)\n",
    "b = a.index(2)\n",
    "print(b)"
   ]
  },
  {
   "cell_type": "code",
   "execution_count": 83,
   "id": "7d49e9b3",
   "metadata": {},
   "outputs": [],
   "source": [
    "#Tuple Based Practice Problem-6"
   ]
  },
  {
   "cell_type": "code",
   "execution_count": 85,
   "id": "be8964a4",
   "metadata": {},
   "outputs": [
    {
     "name": "stdout",
     "output_type": "stream",
     "text": [
      "Element available\n"
     ]
    }
   ],
   "source": [
    "a = (1,2,3,4,5)\n",
    "if 3 in a:\n",
    "    print(\"Element available\")\n",
    "else:\n",
    "    print(\"Element does not available\")"
   ]
  },
  {
   "cell_type": "code",
   "execution_count": 86,
   "id": "5eecac0d",
   "metadata": {},
   "outputs": [],
   "source": [
    "#Tuple Based Practice Problem-7"
   ]
  },
  {
   "cell_type": "code",
   "execution_count": 87,
   "id": "aaf32da1",
   "metadata": {},
   "outputs": [
    {
     "name": "stdout",
     "output_type": "stream",
     "text": [
      "[1, 2, 3, 4, 5]\n"
     ]
    }
   ],
   "source": [
    "a = (1,2,3,4,5)\n",
    "b = list(a)\n",
    "print(b)"
   ]
  },
  {
   "cell_type": "code",
   "execution_count": 88,
   "id": "22f4e948",
   "metadata": {},
   "outputs": [],
   "source": [
    "#Tuple Based Practice Problem-8"
   ]
  },
  {
   "cell_type": "code",
   "execution_count": 1,
   "id": "45336b3f",
   "metadata": {},
   "outputs": [
    {
     "name": "stdout",
     "output_type": "stream",
     "text": [
      "(1, 2, 3, 4, 5)\n"
     ]
    }
   ],
   "source": [
    "a = [1,2,3,4,5]\n",
    "b = tuple(a)\n",
    "print(b)"
   ]
  },
  {
   "cell_type": "code",
   "execution_count": 2,
   "id": "49a631d9",
   "metadata": {},
   "outputs": [],
   "source": [
    "#Tuple Based Practice Problem-9"
   ]
  },
  {
   "cell_type": "code",
   "execution_count": 3,
   "id": "95bab37c",
   "metadata": {},
   "outputs": [
    {
     "name": "stdout",
     "output_type": "stream",
     "text": [
      "1\n",
      "2\n"
     ]
    }
   ],
   "source": [
    "a = (1,2)\n",
    "b = ''\n",
    "c = ''\n",
    "b = a[0]\n",
    "c = a[1]\n",
    "print(b)\n",
    "print(c)"
   ]
  },
  {
   "cell_type": "code",
   "execution_count": 4,
   "id": "b988f97a",
   "metadata": {},
   "outputs": [],
   "source": [
    "#Tuple Based Practice Problem-10"
   ]
  },
  {
   "cell_type": "code",
   "execution_count": 9,
   "id": "a98b548d",
   "metadata": {},
   "outputs": [
    {
     "name": "stdout",
     "output_type": "stream",
     "text": [
      "(2, 4, 6, 8, 10)\n"
     ]
    }
   ],
   "source": [
    "a = ()\n",
    "for i in range(1,11):\n",
    "    if i%2==0:\n",
    "        a=a+(i,)\n",
    "print(a)"
   ]
  },
  {
   "cell_type": "code",
   "execution_count": 10,
   "id": "8f4f2f30",
   "metadata": {},
   "outputs": [],
   "source": [
    "#Tuple Based Practice Problem-11"
   ]
  },
  {
   "cell_type": "code",
   "execution_count": 11,
   "id": "92dd1898",
   "metadata": {},
   "outputs": [
    {
     "name": "stdout",
     "output_type": "stream",
     "text": [
      "(1, 3, 5, 7, 9)\n"
     ]
    }
   ],
   "source": [
    "a = ()\n",
    "for i in range(1,11):\n",
    "    if i%2!=0:\n",
    "        a=a+(i,)\n",
    "print(a)"
   ]
  },
  {
   "cell_type": "code",
   "execution_count": 12,
   "id": "d9c38daa",
   "metadata": {},
   "outputs": [],
   "source": [
    "#Tuple Based Practice Problem-12"
   ]
  },
  {
   "cell_type": "code",
   "execution_count": 13,
   "id": "e5e3392e",
   "metadata": {},
   "outputs": [
    {
     "name": "stdout",
     "output_type": "stream",
     "text": [
      "(1, 2, 3, 4, 5, 6)\n"
     ]
    }
   ],
   "source": [
    "a = (1, 2, 3)\n",
    "b = (4, 5, 6)\n",
    "c = a+b\n",
    "print(c)"
   ]
  },
  {
   "cell_type": "code",
   "execution_count": 14,
   "id": "51dd390d",
   "metadata": {},
   "outputs": [],
   "source": [
    "#Tuple Based Practice Problem-13"
   ]
  },
  {
   "cell_type": "code",
   "execution_count": 15,
   "id": "9469430e",
   "metadata": {},
   "outputs": [
    {
     "name": "stdout",
     "output_type": "stream",
     "text": [
      "(1, 2, 3, 1, 2, 3, 1, 2, 3)\n"
     ]
    }
   ],
   "source": [
    "a = (1, 2, 3)\n",
    "b = 3*a\n",
    "print(b)"
   ]
  },
  {
   "cell_type": "code",
   "execution_count": 16,
   "id": "d7a6c192",
   "metadata": {},
   "outputs": [],
   "source": [
    "#Tuple Based Practice Problem-14"
   ]
  },
  {
   "cell_type": "code",
   "execution_count": 18,
   "id": "ab50c659",
   "metadata": {},
   "outputs": [
    {
     "name": "stdout",
     "output_type": "stream",
     "text": [
      "Tuple is empty\n"
     ]
    }
   ],
   "source": [
    "a = ()\n",
    "if len(a)==0:\n",
    "    print(\"Tuple is empty\")\n",
    "else:\n",
    "    print(\"Tuple is not empty\")"
   ]
  },
  {
   "cell_type": "code",
   "execution_count": 19,
   "id": "3c7613bd",
   "metadata": {},
   "outputs": [],
   "source": [
    "#Tuple Based Practice Problem-15"
   ]
  },
  {
   "cell_type": "code",
   "execution_count": 20,
   "id": "c87e3837",
   "metadata": {},
   "outputs": [
    {
     "name": "stdout",
     "output_type": "stream",
     "text": [
      "(1, 2, 3, (4, 5, 6))\n"
     ]
    }
   ],
   "source": [
    "a = (1, 2, 3, (4, 5, 6))\n",
    "print(a)"
   ]
  },
  {
   "cell_type": "code",
   "execution_count": 21,
   "id": "e61a4b79",
   "metadata": {},
   "outputs": [],
   "source": [
    "#Tuple Based Practice Problem-16"
   ]
  },
  {
   "cell_type": "code",
   "execution_count": 22,
   "id": "af0a521f",
   "metadata": {},
   "outputs": [
    {
     "data": {
      "text/plain": [
       "4"
      ]
     },
     "execution_count": 22,
     "metadata": {},
     "output_type": "execute_result"
    }
   ],
   "source": [
    "a = (1, 2, 3, (4, 5, 6))\n",
    "a[3][0]"
   ]
  },
  {
   "cell_type": "code",
   "execution_count": 23,
   "id": "cba54525",
   "metadata": {},
   "outputs": [],
   "source": [
    "#Tuple Based Practice Problem-17"
   ]
  },
  {
   "cell_type": "code",
   "execution_count": 24,
   "id": "55468fcb",
   "metadata": {},
   "outputs": [
    {
     "data": {
      "text/plain": [
       "1"
      ]
     },
     "execution_count": 24,
     "metadata": {},
     "output_type": "execute_result"
    }
   ],
   "source": [
    "a = (1)\n",
    "a"
   ]
  },
  {
   "cell_type": "code",
   "execution_count": 25,
   "id": "40d03851",
   "metadata": {},
   "outputs": [],
   "source": [
    "#Tuple Based Practice Problem-18"
   ]
  },
  {
   "cell_type": "code",
   "execution_count": 26,
   "id": "92dc5f10",
   "metadata": {},
   "outputs": [
    {
     "name": "stdout",
     "output_type": "stream",
     "text": [
      "Tuples are equal\n"
     ]
    }
   ],
   "source": [
    "a = (1, 2, 3)\n",
    "b = (1, 2, 3)\n",
    "if a==b:\n",
    "    print(\"Tuples are equal\")\n",
    "else:\n",
    "    print(\"Tuples are not equal\")"
   ]
  },
  {
   "cell_type": "code",
   "execution_count": 27,
   "id": "28f5648c",
   "metadata": {},
   "outputs": [],
   "source": [
    "#Tuple Based Practice Problem-19"
   ]
  },
  {
   "cell_type": "code",
   "execution_count": 30,
   "id": "89048b23",
   "metadata": {},
   "outputs": [],
   "source": [
    "a = (1, 2, 3)\n",
    "del a"
   ]
  },
  {
   "cell_type": "code",
   "execution_count": 31,
   "id": "a379d3e5",
   "metadata": {},
   "outputs": [],
   "source": [
    "#Tuple Based Practice Problem-20"
   ]
  },
  {
   "cell_type": "code",
   "execution_count": 32,
   "id": "9b5735e3",
   "metadata": {},
   "outputs": [
    {
     "name": "stdout",
     "output_type": "stream",
     "text": [
      "(3, 4, 5, 6)\n"
     ]
    }
   ],
   "source": [
    "a = (1, 2, 3, 4, 5, 6, 7, 8, 9)\n",
    "b = a[2:6]\n",
    "print(b)"
   ]
  },
  {
   "cell_type": "code",
   "execution_count": 33,
   "id": "c5af86ea",
   "metadata": {},
   "outputs": [],
   "source": [
    "#Tuple Based Practice Problem-21"
   ]
  },
  {
   "cell_type": "code",
   "execution_count": 34,
   "id": "a9576e6e",
   "metadata": {},
   "outputs": [
    {
     "name": "stdout",
     "output_type": "stream",
     "text": [
      "9\n"
     ]
    }
   ],
   "source": [
    "a = (1, 2, 3, 4, 5, 6, 7, 8, 9)\n",
    "b = max(a)\n",
    "print(b)"
   ]
  },
  {
   "cell_type": "code",
   "execution_count": 35,
   "id": "cc0ef7d9",
   "metadata": {},
   "outputs": [],
   "source": [
    "#Tuple Based Practice Problem-22"
   ]
  },
  {
   "cell_type": "code",
   "execution_count": 36,
   "id": "f315f55d",
   "metadata": {},
   "outputs": [
    {
     "name": "stdout",
     "output_type": "stream",
     "text": [
      "1\n"
     ]
    }
   ],
   "source": [
    "a = (1, 2, 3, 4, 5, 6, 7, 8, 9)\n",
    "b = min(a)\n",
    "print(b)"
   ]
  },
  {
   "cell_type": "code",
   "execution_count": 37,
   "id": "14967c19",
   "metadata": {},
   "outputs": [],
   "source": [
    "#Tuple Based Practice Problem-23"
   ]
  },
  {
   "cell_type": "code",
   "execution_count": 40,
   "id": "bc57886e",
   "metadata": {},
   "outputs": [
    {
     "name": "stdout",
     "output_type": "stream",
     "text": [
      "('e', 'l', 'e', 'p', 'h', 'a', 'n', 't')\n"
     ]
    }
   ],
   "source": [
    "a = \"elephant\"\n",
    "b = ()\n",
    "for i in a:\n",
    "    b = b+(i,)\n",
    "print(b)"
   ]
  },
  {
   "cell_type": "code",
   "execution_count": 41,
   "id": "c6259855",
   "metadata": {},
   "outputs": [],
   "source": [
    "#Tuple Based Practice Problem-24"
   ]
  },
  {
   "cell_type": "code",
   "execution_count": 42,
   "id": "b7c90fbc",
   "metadata": {},
   "outputs": [
    {
     "name": "stdout",
     "output_type": "stream",
     "text": [
      "elephant\n"
     ]
    }
   ],
   "source": [
    "a = ('e', 'l', 'e', 'p', 'h', 'a', 'n', 't')\n",
    "b = \"\"\n",
    "for i in a:\n",
    "    b=b+i\n",
    "print(b)"
   ]
  },
  {
   "cell_type": "code",
   "execution_count": 43,
   "id": "8e20ac77",
   "metadata": {},
   "outputs": [],
   "source": [
    "#Tuple Based Practice Problem-25"
   ]
  },
  {
   "cell_type": "code",
   "execution_count": 44,
   "id": "304b6d2f",
   "metadata": {},
   "outputs": [
    {
     "data": {
      "text/plain": [
       "(1, 'dog', [123], (5+3j))"
      ]
     },
     "execution_count": 44,
     "metadata": {},
     "output_type": "execute_result"
    }
   ],
   "source": [
    "a = (1, 'dog', [123], 3j+5)\n",
    "a"
   ]
  },
  {
   "cell_type": "code",
   "execution_count": 45,
   "id": "e440e83c",
   "metadata": {},
   "outputs": [],
   "source": [
    "#Tuple Based Practice Problem-26"
   ]
  },
  {
   "cell_type": "code",
   "execution_count": 46,
   "id": "8ace8cb7",
   "metadata": {},
   "outputs": [
    {
     "name": "stdout",
     "output_type": "stream",
     "text": [
      "Tuples are identical\n"
     ]
    }
   ],
   "source": [
    "a = (1, 2, 3)\n",
    "b = (1, 2, 3)\n",
    "if a==b:\n",
    "    print(\"Tuples are identical\")\n",
    "else:\n",
    "    print(\"Tuples are not identical\")"
   ]
  },
  {
   "cell_type": "code",
   "execution_count": 47,
   "id": "3634f2c6",
   "metadata": {},
   "outputs": [],
   "source": [
    "#Tuple Based Practice Problem-27"
   ]
  },
  {
   "cell_type": "code",
   "execution_count": 51,
   "id": "b98b2ae2",
   "metadata": {},
   "outputs": [
    {
     "name": "stdout",
     "output_type": "stream",
     "text": [
      "[1, 2, 3, 5, 6]\n"
     ]
    }
   ],
   "source": [
    "a = (1, 5, 3, 2, 6)\n",
    "b = sorted(a)\n",
    "print(b)"
   ]
  },
  {
   "cell_type": "code",
   "execution_count": 52,
   "id": "9027697b",
   "metadata": {},
   "outputs": [],
   "source": [
    "#Tuple Based Practice Problem-28"
   ]
  },
  {
   "cell_type": "code",
   "execution_count": 57,
   "id": "83bec183",
   "metadata": {},
   "outputs": [
    {
     "name": "stdout",
     "output_type": "stream",
     "text": [
      "('1', '5', '3', '2', '6')\n"
     ]
    }
   ],
   "source": [
    "a = (1, 5, 3, 2, 6)\n",
    "b = ()\n",
    "for i in a:\n",
    "    c = str(i)\n",
    "    b = b+(c,)\n",
    "print(b)"
   ]
  },
  {
   "cell_type": "code",
   "execution_count": 58,
   "id": "af5deeb0",
   "metadata": {},
   "outputs": [],
   "source": [
    "#Tuple Based Practice Problem-29"
   ]
  },
  {
   "cell_type": "code",
   "execution_count": 59,
   "id": "4d821ef2",
   "metadata": {},
   "outputs": [
    {
     "name": "stdout",
     "output_type": "stream",
     "text": [
      "(1, 5, 3, 2, 6)\n"
     ]
    }
   ],
   "source": [
    "a = ('1', '5', '3', '2', '6')\n",
    "b = ()\n",
    "for i in a:\n",
    "    c = int(i)\n",
    "    b = b+(c,)\n",
    "print(b)"
   ]
  },
  {
   "cell_type": "code",
   "execution_count": 60,
   "id": "1249d003",
   "metadata": {},
   "outputs": [],
   "source": [
    "#Tuple Based Practice Problem-30"
   ]
  },
  {
   "cell_type": "code",
   "execution_count": 61,
   "id": "22462e7a",
   "metadata": {},
   "outputs": [
    {
     "name": "stdout",
     "output_type": "stream",
     "text": [
      "(1, 2, 3, 4, 5, 6)\n"
     ]
    }
   ],
   "source": [
    "a = (1, 2, 3)\n",
    "b = (4, 5, 6)\n",
    "c = a+b\n",
    "print(c)"
   ]
  },
  {
   "cell_type": "code",
   "execution_count": 62,
   "id": "f4f895dc",
   "metadata": {},
   "outputs": [],
   "source": [
    "#Tuple Based Practice Problem-31"
   ]
  },
  {
   "cell_type": "code",
   "execution_count": 63,
   "id": "6b52ed66",
   "metadata": {},
   "outputs": [
    {
     "name": "stdout",
     "output_type": "stream",
     "text": [
      "(1, 2, 3, 4, 5, 6)\n"
     ]
    }
   ],
   "source": [
    "a = (1, 2, 3, (4, 5, 6))\n",
    "b = ()\n",
    "for i in a:\n",
    "    if type(i)==tuple:\n",
    "        for j in i:\n",
    "            b=b+(j,)\n",
    "    else:\n",
    "        b=b+(i,)\n",
    "print(b)"
   ]
  },
  {
   "cell_type": "code",
   "execution_count": 64,
   "id": "a0fdca9e",
   "metadata": {},
   "outputs": [],
   "source": [
    "#Tuple Based Practice Problem-32"
   ]
  },
  {
   "cell_type": "code",
   "execution_count": 65,
   "id": "805e040d",
   "metadata": {},
   "outputs": [],
   "source": [
    "a = (2, 3, 5, 7, 11)"
   ]
  },
  {
   "cell_type": "code",
   "execution_count": 66,
   "id": "ad5c576a",
   "metadata": {},
   "outputs": [],
   "source": [
    "#Tuple Based Practice Problem-33"
   ]
  },
  {
   "cell_type": "code",
   "execution_count": 67,
   "id": "a52a46fb",
   "metadata": {},
   "outputs": [
    {
     "name": "stdout",
     "output_type": "stream",
     "text": [
      "This is a palindrome string\n"
     ]
    }
   ],
   "source": [
    "a = ('l','e','v','e','l')\n",
    "if a[::1] == a[::-1]:\n",
    "    print(\"This is a palindrome string\")\n",
    "else:\n",
    "    print(\"This is not a palindrome string\")"
   ]
  },
  {
   "cell_type": "code",
   "execution_count": 68,
   "id": "ffade1ee",
   "metadata": {},
   "outputs": [],
   "source": [
    "#Tuple Based Practice Problem-34"
   ]
  },
  {
   "cell_type": "code",
   "execution_count": 71,
   "id": "1baf9c25",
   "metadata": {},
   "outputs": [
    {
     "name": "stdout",
     "output_type": "stream",
     "text": [
      "(1, 4, 9, 16, 25)\n"
     ]
    }
   ],
   "source": [
    "a = (1, 2, 3, 4, 5)\n",
    "b = ()\n",
    "for i in a:\n",
    "    c = i*i\n",
    "    b=b+(c,)\n",
    "print(b)"
   ]
  },
  {
   "cell_type": "code",
   "execution_count": 72,
   "id": "aec64799",
   "metadata": {},
   "outputs": [],
   "source": [
    "#Tuple Based Practice Problem-35"
   ]
  },
  {
   "cell_type": "code",
   "execution_count": 73,
   "id": "c1b2e51a",
   "metadata": {},
   "outputs": [
    {
     "name": "stdout",
     "output_type": "stream",
     "text": [
      "(3, 5, 7, 11)\n"
     ]
    }
   ],
   "source": [
    "a = (2, 3, 4, 5, 7, 6, 11)\n",
    "b = ()\n",
    "for i in a:\n",
    "    if i%2!=0:\n",
    "        b=b+(i,)\n",
    "print(b)"
   ]
  },
  {
   "cell_type": "code",
   "execution_count": 74,
   "id": "9e5fa710",
   "metadata": {},
   "outputs": [],
   "source": [
    "#Tuple Based Practice Problem-36"
   ]
  },
  {
   "cell_type": "code",
   "execution_count": 75,
   "id": "6bd90d7c",
   "metadata": {},
   "outputs": [
    {
     "name": "stdout",
     "output_type": "stream",
     "text": [
      "(4, 6, 8, 10, 14, 12, 22)\n"
     ]
    }
   ],
   "source": [
    "a = (2, 3, 4, 5, 7, 6, 11)\n",
    "b = ()\n",
    "for i in a:\n",
    "    c=i*2\n",
    "    b=b+(c,)\n",
    "print(b)"
   ]
  },
  {
   "cell_type": "code",
   "execution_count": 76,
   "id": "af5b1fd2",
   "metadata": {},
   "outputs": [],
   "source": [
    "#Tuple Based Practice Problem-37"
   ]
  },
  {
   "cell_type": "code",
   "execution_count": 79,
   "id": "dd741c9c",
   "metadata": {},
   "outputs": [
    {
     "name": "stdout",
     "output_type": "stream",
     "text": [
      "(1, 47, 48, 23, 24)\n"
     ]
    }
   ],
   "source": [
    "import random\n",
    "n = 5\n",
    "random_numbers = tuple(random.randint(1, 100) for _ in range(n))\n",
    "\n",
    "print(random_numbers)\n"
   ]
  },
  {
   "cell_type": "code",
   "execution_count": 80,
   "id": "91185340",
   "metadata": {},
   "outputs": [],
   "source": [
    "#Tuple Based Practice Problem-38"
   ]
  },
  {
   "cell_type": "code",
   "execution_count": 87,
   "id": "80f088cc",
   "metadata": {},
   "outputs": [
    {
     "name": "stdout",
     "output_type": "stream",
     "text": [
      "Tuple is sorted\n"
     ]
    }
   ],
   "source": [
    "a = (2, 3, 4, 5, 7, 11)\n",
    "if tuple(sorted(a))==a:\n",
    "    print(\"Tuple is sorted\")\n",
    "else:\n",
    "    print(\"Tuple is not sorted\")"
   ]
  },
  {
   "cell_type": "code",
   "execution_count": 88,
   "id": "1656a2e1",
   "metadata": {},
   "outputs": [],
   "source": [
    "#Tuple Based Practice Problem-39"
   ]
  },
  {
   "cell_type": "code",
   "execution_count": 89,
   "id": "fcf8ea80",
   "metadata": {},
   "outputs": [
    {
     "name": "stdout",
     "output_type": "stream",
     "text": [
      "(3, 4, 5, 1, 2)\n"
     ]
    }
   ],
   "source": [
    "a = (1, 2, 3, 4, 5)\n",
    "n = 2\n",
    "rotated_tuple = a[n:] + a[:n]\n",
    "print(rotated_tuple)"
   ]
  },
  {
   "cell_type": "code",
   "execution_count": 90,
   "id": "44f1b906",
   "metadata": {},
   "outputs": [],
   "source": [
    "#Tuple Based Practice Problem-40"
   ]
  },
  {
   "cell_type": "code",
   "execution_count": 91,
   "id": "fe721d44",
   "metadata": {},
   "outputs": [
    {
     "name": "stdout",
     "output_type": "stream",
     "text": [
      "(4, 5, 1, 2, 3)\n"
     ]
    }
   ],
   "source": [
    "a = (1, 2, 3, 4, 5)\n",
    "n = 2\n",
    "rotated_tuple = a[-n:] + a[:-n]\n",
    "print(rotated_tuple)"
   ]
  },
  {
   "cell_type": "code",
   "execution_count": 92,
   "id": "8945c7aa",
   "metadata": {},
   "outputs": [],
   "source": [
    "#Tuple Based Practice Problem-41"
   ]
  },
  {
   "cell_type": "code",
   "execution_count": 98,
   "id": "990505d0",
   "metadata": {},
   "outputs": [
    {
     "name": "stdout",
     "output_type": "stream",
     "text": [
      "(0, 1, 1, 2, 3)\n"
     ]
    }
   ],
   "source": [
    "a = (0, 1)\n",
    "\n",
    "while len(a) < 5:\n",
    "    b = a[-1] + a[-2]\n",
    "    a = a + (b,)\n",
    "\n",
    "print(a)"
   ]
  },
  {
   "cell_type": "code",
   "execution_count": 99,
   "id": "71a80ab7",
   "metadata": {},
   "outputs": [],
   "source": [
    "#Tuple Based Practice Problem-42"
   ]
  },
  {
   "cell_type": "code",
   "execution_count": 105,
   "id": "efdc9a41",
   "metadata": {},
   "outputs": [
    {
     "name": "stdout",
     "output_type": "stream",
     "text": [
      "Input a value: 5\n",
      "('5',)\n"
     ]
    }
   ],
   "source": [
    "b = ()\n",
    "a = tuple(input(\"Input a value: \"))\n",
    "b = b+(a)\n",
    "print(b)"
   ]
  },
  {
   "cell_type": "code",
   "execution_count": 106,
   "id": "1f00a513",
   "metadata": {},
   "outputs": [],
   "source": [
    "#Tuple Based Practice Problem-43"
   ]
  },
  {
   "cell_type": "code",
   "execution_count": 108,
   "id": "07ffe0ed",
   "metadata": {},
   "outputs": [
    {
     "name": "stdout",
     "output_type": "stream",
     "text": [
      "(2, 1)\n"
     ]
    }
   ],
   "source": [
    "a = (1, 2)\n",
    "b = (a[1], a[0])\n",
    "print(b)"
   ]
  },
  {
   "cell_type": "code",
   "execution_count": 109,
   "id": "e0d6574b",
   "metadata": {},
   "outputs": [],
   "source": [
    "#Tuple Based Practice Problem-44"
   ]
  },
  {
   "cell_type": "code",
   "execution_count": 110,
   "id": "37e23f44",
   "metadata": {},
   "outputs": [
    {
     "name": "stdout",
     "output_type": "stream",
     "text": [
      "(5, 4, 3, 2, 1)\n"
     ]
    }
   ],
   "source": [
    "a = (1, 2, 3, 4, 5)\n",
    "b = a[::-1]\n",
    "print(b)"
   ]
  },
  {
   "cell_type": "code",
   "execution_count": 111,
   "id": "644555d7",
   "metadata": {},
   "outputs": [],
   "source": [
    "#Tuple Based Practice Problem-45"
   ]
  },
  {
   "cell_type": "code",
   "execution_count": 113,
   "id": "ad4555bd",
   "metadata": {},
   "outputs": [
    {
     "name": "stdout",
     "output_type": "stream",
     "text": [
      "(1, 4, 9, 16, 25)\n"
     ]
    }
   ],
   "source": [
    "n = 5\n",
    "b = ()\n",
    "for i in range(1, n+1):\n",
    "    c = i*i\n",
    "    b = b+(c,)\n",
    "print(b)"
   ]
  },
  {
   "cell_type": "code",
   "execution_count": 114,
   "id": "968e18a3",
   "metadata": {},
   "outputs": [],
   "source": [
    "#Tuple Based Practice Problem-46"
   ]
  },
  {
   "cell_type": "code",
   "execution_count": 115,
   "id": "76fff94e",
   "metadata": {},
   "outputs": [
    {
     "name": "stdout",
     "output_type": "stream",
     "text": [
      "The longest string is:  plastic\n"
     ]
    }
   ],
   "source": [
    "a = ('Please', 'do', 'not', 'use', 'plastic')\n",
    "b = {}\n",
    "c = []\n",
    "for i in a:\n",
    "    count = 0\n",
    "    for j in i:\n",
    "        count = count+1\n",
    "    b[count] = i\n",
    "    c.append(count)\n",
    "d = b[max(c)]    \n",
    "print(\"The longest string is: \",d)"
   ]
  },
  {
   "cell_type": "code",
   "execution_count": 116,
   "id": "3fdd2555",
   "metadata": {},
   "outputs": [],
   "source": [
    "#Tuple Based Practice Problem-47"
   ]
  },
  {
   "cell_type": "code",
   "execution_count": 117,
   "id": "1027ecfb",
   "metadata": {},
   "outputs": [
    {
     "name": "stdout",
     "output_type": "stream",
     "text": [
      "The shortest string is:  do\n"
     ]
    }
   ],
   "source": [
    "a = ('Please', 'do', 'not', 'use', 'plastic')\n",
    "b = {}\n",
    "c = []\n",
    "for i in a:\n",
    "    count = 0\n",
    "    for j in i:\n",
    "        count = count+1\n",
    "    b[count] = i\n",
    "    c.append(count)\n",
    "d = b[min(c)]    \n",
    "print(\"The shortest string is: \",d)"
   ]
  },
  {
   "cell_type": "code",
   "execution_count": 118,
   "id": "26c8dabe",
   "metadata": {},
   "outputs": [],
   "source": [
    "#Tuple Based Practice Problem-48"
   ]
  },
  {
   "cell_type": "code",
   "execution_count": 121,
   "id": "eb6a41d7",
   "metadata": {},
   "outputs": [
    {
     "name": "stdout",
     "output_type": "stream",
     "text": [
      "(1, 3, 6, 10, 15)\n"
     ]
    }
   ],
   "source": [
    "t_nums = ()\n",
    "n = 5\n",
    "for i in range(1, n + 1):\n",
    "    a = (i * (i + 1) // 2)\n",
    "    t_nums = t_nums+(a,)\n",
    "print(t_nums)"
   ]
  },
  {
   "cell_type": "code",
   "execution_count": 122,
   "id": "2be328f6",
   "metadata": {},
   "outputs": [],
   "source": [
    "#Tuple Based Practice Problem-49"
   ]
  },
  {
   "cell_type": "code",
   "execution_count": 123,
   "id": "a9c09712",
   "metadata": {},
   "outputs": [
    {
     "name": "stdout",
     "output_type": "stream",
     "text": [
      "We have a nested tuple\n"
     ]
    }
   ],
   "source": [
    "a = (1, 2, 3, 4, 5, (6,7,8))\n",
    "flag = False\n",
    "for i in a:\n",
    "    if type(i)==tuple:\n",
    "        flag = True\n",
    "        break\n",
    "if flag:\n",
    "    print(\"We have a nested tuple\")\n",
    "else:\n",
    "    print(\"We do not have a nested tuple\")"
   ]
  },
  {
   "cell_type": "code",
   "execution_count": 124,
   "id": "ac2295cd",
   "metadata": {},
   "outputs": [],
   "source": [
    "#Tuple Based Practice Problem-50"
   ]
  },
  {
   "cell_type": "code",
   "execution_count": 125,
   "id": "1fc778da",
   "metadata": {},
   "outputs": [
    {
     "name": "stdout",
     "output_type": "stream",
     "text": [
      "(1, 0, 1, 0, 1, 0)\n"
     ]
    }
   ],
   "source": [
    "n = 5\n",
    "a = ()\n",
    "while(len(a)<n):\n",
    "    a = a+(1,)\n",
    "    a = a+(0,)\n",
    "print(a)"
   ]
  },
  {
   "cell_type": "code",
   "execution_count": 126,
   "id": "226c1927",
   "metadata": {},
   "outputs": [],
   "source": [
    "#Set Based Practice Problem-1"
   ]
  },
  {
   "cell_type": "code",
   "execution_count": 127,
   "id": "6f8c0276",
   "metadata": {},
   "outputs": [
    {
     "data": {
      "text/plain": [
       "set"
      ]
     },
     "execution_count": 127,
     "metadata": {},
     "output_type": "execute_result"
    }
   ],
   "source": [
    "a = {1, 2, 3, 4, 5}\n",
    "type(a)"
   ]
  },
  {
   "cell_type": "code",
   "execution_count": 129,
   "id": "b3bd3378",
   "metadata": {},
   "outputs": [],
   "source": [
    "#Set Based Practice Problem-2"
   ]
  },
  {
   "cell_type": "code",
   "execution_count": 131,
   "id": "a1f1138a",
   "metadata": {},
   "outputs": [
    {
     "name": "stdout",
     "output_type": "stream",
     "text": [
      "{1, 2, 3, 4}\n"
     ]
    }
   ],
   "source": [
    "a = {1, 2, 3}\n",
    "a.add(4)\n",
    "print(a)"
   ]
  },
  {
   "cell_type": "code",
   "execution_count": 132,
   "id": "8c3c1004",
   "metadata": {},
   "outputs": [],
   "source": [
    "#Set Based Practice Problem-3"
   ]
  },
  {
   "cell_type": "code",
   "execution_count": 136,
   "id": "f197e48f",
   "metadata": {},
   "outputs": [
    {
     "name": "stdout",
     "output_type": "stream",
     "text": [
      "{1, 3}\n"
     ]
    }
   ],
   "source": [
    "a = {1, 2, 3}\n",
    "a.remove(2)\n",
    "print(a)"
   ]
  },
  {
   "cell_type": "code",
   "execution_count": 134,
   "id": "e3536146",
   "metadata": {},
   "outputs": [],
   "source": [
    "#Set Based Practice Problem-4"
   ]
  },
  {
   "cell_type": "code",
   "execution_count": 135,
   "id": "e604696f",
   "metadata": {},
   "outputs": [
    {
     "name": "stdout",
     "output_type": "stream",
     "text": [
      "it is available\n"
     ]
    }
   ],
   "source": [
    "a = {1, 2, 3}\n",
    "if 2 in a:\n",
    "    print(\"it is available\")\n",
    "else:\n",
    "    print(\"It is not avilable\")"
   ]
  },
  {
   "cell_type": "code",
   "execution_count": 137,
   "id": "985fa5e2",
   "metadata": {},
   "outputs": [],
   "source": [
    "#Set Based Practice Problem-5"
   ]
  },
  {
   "cell_type": "code",
   "execution_count": 141,
   "id": "f8de45c9",
   "metadata": {},
   "outputs": [
    {
     "name": "stdout",
     "output_type": "stream",
     "text": [
      "5\n"
     ]
    }
   ],
   "source": [
    "a = {1, 2, 3, 4, 5}\n",
    "count = 0\n",
    "for i in a:\n",
    "    count=count+1\n",
    "print(count)"
   ]
  },
  {
   "cell_type": "code",
   "execution_count": 139,
   "id": "bca9ecab",
   "metadata": {},
   "outputs": [],
   "source": [
    "#Set Based Practice Problem-6"
   ]
  },
  {
   "cell_type": "code",
   "execution_count": 140,
   "id": "b3928f88",
   "metadata": {},
   "outputs": [
    {
     "name": "stdout",
     "output_type": "stream",
     "text": [
      "set()\n"
     ]
    }
   ],
   "source": [
    "a = {1, 2, 3}\n",
    "a.clear()\n",
    "print(a)"
   ]
  },
  {
   "cell_type": "code",
   "execution_count": 143,
   "id": "ccd730f1",
   "metadata": {},
   "outputs": [],
   "source": [
    "#Set Based Practice Problem-7"
   ]
  },
  {
   "cell_type": "code",
   "execution_count": 148,
   "id": "6c8d8cda",
   "metadata": {},
   "outputs": [
    {
     "name": "stdout",
     "output_type": "stream",
     "text": [
      "{2, 4, 6, 8, 10}\n"
     ]
    }
   ],
   "source": [
    "a = set()\n",
    "for i in range(1,11):\n",
    "    if i%2==0:\n",
    "        a.add(i)\n",
    "print(a)"
   ]
  },
  {
   "cell_type": "code",
   "execution_count": 149,
   "id": "e7989241",
   "metadata": {},
   "outputs": [],
   "source": [
    "#Set Based Practice Problem-8"
   ]
  },
  {
   "cell_type": "code",
   "execution_count": 150,
   "id": "16b45513",
   "metadata": {},
   "outputs": [
    {
     "name": "stdout",
     "output_type": "stream",
     "text": [
      "{1, 3, 5, 7, 9}\n"
     ]
    }
   ],
   "source": [
    "a = set()\n",
    "for i in range(1,11):\n",
    "    if i%2!=0:\n",
    "        a.add(i)\n",
    "print(a)"
   ]
  },
  {
   "cell_type": "code",
   "execution_count": 151,
   "id": "0b83d817",
   "metadata": {},
   "outputs": [],
   "source": [
    "#Set Based Practice Problem-9"
   ]
  },
  {
   "cell_type": "code",
   "execution_count": 154,
   "id": "7a9381ba",
   "metadata": {},
   "outputs": [
    {
     "name": "stdout",
     "output_type": "stream",
     "text": [
      "{1, 2, 3, 4, 5, 6}\n"
     ]
    }
   ],
   "source": [
    "a = {1,2,3}\n",
    "b = {4,5,6}\n",
    "c = a.union(b)\n",
    "print(c)"
   ]
  },
  {
   "cell_type": "code",
   "execution_count": 155,
   "id": "846f85c3",
   "metadata": {},
   "outputs": [],
   "source": [
    "#Set Based Practice Problem-10"
   ]
  },
  {
   "cell_type": "code",
   "execution_count": 156,
   "id": "10e10084",
   "metadata": {},
   "outputs": [
    {
     "name": "stdout",
     "output_type": "stream",
     "text": [
      "{3, 4, 5}\n"
     ]
    }
   ],
   "source": [
    "a = {1, 2, 3, 4, 5}\n",
    "b = {3, 4, 5, 6, 7}\n",
    "\n",
    "c = a.intersection(b)\n",
    "\n",
    "print(c)\n"
   ]
  },
  {
   "cell_type": "code",
   "execution_count": 157,
   "id": "c6f3e6f1",
   "metadata": {},
   "outputs": [],
   "source": [
    "#Set Based Practice Problem-11"
   ]
  },
  {
   "cell_type": "code",
   "execution_count": 158,
   "id": "2ea91d74",
   "metadata": {},
   "outputs": [
    {
     "name": "stdout",
     "output_type": "stream",
     "text": [
      "[1, 2, 3, 6, 7, 8]\n"
     ]
    }
   ],
   "source": [
    "a = {1, 2, 3, 4, 5}\n",
    "b = {4, 5, 6, 7, 8}\n",
    "c = []\n",
    "for i in a:\n",
    "    if i not in b:\n",
    "        c.append(i)\n",
    "for j in b:\n",
    "    if j not in a:\n",
    "        c.append(j)\n",
    "print(c)"
   ]
  },
  {
   "cell_type": "code",
   "execution_count": 159,
   "id": "3825503f",
   "metadata": {},
   "outputs": [],
   "source": [
    "#Set Based Practice Problem-12"
   ]
  },
  {
   "cell_type": "code",
   "execution_count": 161,
   "id": "0d7a632c",
   "metadata": {},
   "outputs": [
    {
     "name": "stdout",
     "output_type": "stream",
     "text": [
      "True\n"
     ]
    }
   ],
   "source": [
    "a = {1, 2, 3, 4, 5}\n",
    "b = {2, 4}\n",
    "\n",
    "is_subset = b.issubset(a)\n",
    "print(is_subset)"
   ]
  },
  {
   "cell_type": "code",
   "execution_count": 162,
   "id": "173dbac7",
   "metadata": {},
   "outputs": [],
   "source": [
    "#Set Based Practice Problem-13"
   ]
  },
  {
   "cell_type": "code",
   "execution_count": 163,
   "id": "c0418f97",
   "metadata": {},
   "outputs": [
    {
     "name": "stdout",
     "output_type": "stream",
     "text": [
      "True\n"
     ]
    }
   ],
   "source": [
    "a = {1, 2, 3, 4, 5}\n",
    "b = {2, 4}\n",
    "\n",
    "is_subset = a.issuperset(b)\n",
    "print(is_subset)"
   ]
  },
  {
   "cell_type": "code",
   "execution_count": 164,
   "id": "6b86a0a8",
   "metadata": {},
   "outputs": [],
   "source": [
    "#Set Based Practice Problem-14"
   ]
  },
  {
   "cell_type": "code",
   "execution_count": 165,
   "id": "ea03d9b9",
   "metadata": {},
   "outputs": [
    {
     "name": "stdout",
     "output_type": "stream",
     "text": [
      "{1, 2, 3, 4, 5, 6}\n"
     ]
    }
   ],
   "source": [
    "a = [1, 2, 3 ,4, 5, 6]\n",
    "b = set(a)\n",
    "print(b)"
   ]
  },
  {
   "cell_type": "code",
   "execution_count": 166,
   "id": "07692632",
   "metadata": {},
   "outputs": [],
   "source": [
    "#Set Based Practice Problem-15"
   ]
  },
  {
   "cell_type": "code",
   "execution_count": 167,
   "id": "9c6b8a55",
   "metadata": {},
   "outputs": [
    {
     "name": "stdout",
     "output_type": "stream",
     "text": [
      "[1, 2, 3, 4, 5]\n"
     ]
    }
   ],
   "source": [
    "a = {1, 2, 3, 4, 5}\n",
    "b = list(a)\n",
    "print(b)"
   ]
  },
  {
   "cell_type": "code",
   "execution_count": 168,
   "id": "855ffdd5",
   "metadata": {},
   "outputs": [],
   "source": [
    "#Set Based Practice Problem-16"
   ]
  },
  {
   "cell_type": "code",
   "execution_count": 172,
   "id": "b82c5c8c",
   "metadata": {},
   "outputs": [
    {
     "name": "stdout",
     "output_type": "stream",
     "text": [
      "1\n"
     ]
    }
   ],
   "source": [
    "a = {1, 2, 3, 4, 5}\n",
    "b = a.pop()\n",
    "print(b)"
   ]
  },
  {
   "cell_type": "code",
   "execution_count": 173,
   "id": "543d9f3d",
   "metadata": {},
   "outputs": [],
   "source": [
    "#Set Based Practice Problem-17"
   ]
  },
  {
   "cell_type": "code",
   "execution_count": 174,
   "id": "f8da3b2a",
   "metadata": {},
   "outputs": [
    {
     "name": "stdout",
     "output_type": "stream",
     "text": [
      "1\n"
     ]
    }
   ],
   "source": [
    "a = {1, 2, 3, 4, 5}\n",
    "b = a.pop()\n",
    "print(b)"
   ]
  },
  {
   "cell_type": "code",
   "execution_count": 175,
   "id": "b131b3ab",
   "metadata": {},
   "outputs": [],
   "source": [
    "#Set Based Practice Problem-18"
   ]
  },
  {
   "cell_type": "code",
   "execution_count": 176,
   "id": "4dda0217",
   "metadata": {},
   "outputs": [
    {
     "name": "stdout",
     "output_type": "stream",
     "text": [
      "There are common element\n"
     ]
    }
   ],
   "source": [
    "a = {1, 2, 3}\n",
    "b = {4, 5, 6, 7, 8}\n",
    "c = []\n",
    "for i in a:\n",
    "    if i not in b:\n",
    "        c.append(i)\n",
    "for j in b:\n",
    "    if j not in a:\n",
    "        c.append(j)\n",
    "if len(c)==0:\n",
    "    print(\"No element is common\")\n",
    "else:\n",
    "    print(\"There are common element\")"
   ]
  },
  {
   "cell_type": "code",
   "execution_count": 177,
   "id": "fa776faf",
   "metadata": {},
   "outputs": [],
   "source": [
    "#Set Based Practice Problem-19"
   ]
  },
  {
   "cell_type": "code",
   "execution_count": 179,
   "id": "b6b6f3cf",
   "metadata": {},
   "outputs": [
    {
     "name": "stdout",
     "output_type": "stream",
     "text": [
      "{1, 2, 6, 7}\n"
     ]
    }
   ],
   "source": [
    "a = {1, 2, 3, 4, 5}\n",
    "b = {3, 4, 5, 6, 7}\n",
    "\n",
    "diff_set = a.symmetric_difference(b)\n",
    "\n",
    "print(diff_set)\n"
   ]
  },
  {
   "cell_type": "code",
   "execution_count": 180,
   "id": "572cfe22",
   "metadata": {},
   "outputs": [],
   "source": [
    "#Set Based Practice Problem-20"
   ]
  },
  {
   "cell_type": "code",
   "execution_count": 181,
   "id": "a2334f11",
   "metadata": {},
   "outputs": [
    {
     "name": "stdout",
     "output_type": "stream",
     "text": [
      "{1, 2, 3, 4, 5}\n"
     ]
    }
   ],
   "source": [
    "a = {1, 2, 3}\n",
    "b = {4, 5}\n",
    "for i in b:\n",
    "    a.add(i)\n",
    "print(a)"
   ]
  },
  {
   "cell_type": "code",
   "execution_count": 182,
   "id": "a343aeda",
   "metadata": {},
   "outputs": [],
   "source": [
    "#Set Based Practice Problem-21"
   ]
  },
  {
   "cell_type": "code",
   "execution_count": 183,
   "id": "355c734c",
   "metadata": {},
   "outputs": [],
   "source": [
    "a = {2, 3, 5, 7, 11}"
   ]
  },
  {
   "cell_type": "code",
   "execution_count": 184,
   "id": "51c56013",
   "metadata": {},
   "outputs": [],
   "source": [
    "#Set Based Practice Problem-22"
   ]
  },
  {
   "cell_type": "code",
   "execution_count": 185,
   "id": "3f9cfd44",
   "metadata": {},
   "outputs": [
    {
     "name": "stdout",
     "output_type": "stream",
     "text": [
      "Both are identical\n"
     ]
    }
   ],
   "source": [
    "a = {1, 2, 3, 4, 5}\n",
    "b = {5, 4, 3, 2, 1}\n",
    "if a==b:\n",
    "    print(\"Both are identical\")\n",
    "else:\n",
    "    print(\"Both are not identical\")"
   ]
  },
  {
   "cell_type": "code",
   "execution_count": 186,
   "id": "9f262b41",
   "metadata": {},
   "outputs": [],
   "source": [
    "#Set Based Practice Problem-23"
   ]
  },
  {
   "cell_type": "code",
   "execution_count": 206,
   "id": "0fd06079",
   "metadata": {},
   "outputs": [
    {
     "name": "stdout",
     "output_type": "stream",
     "text": [
      "frozenset({1, 2, 3, 4, 5})\n"
     ]
    }
   ],
   "source": [
    "a = {1, 2, 3, 4, 5}\n",
    "b = frozenset(a)\n",
    "print(b)"
   ]
  },
  {
   "cell_type": "code",
   "execution_count": 188,
   "id": "181e7860",
   "metadata": {},
   "outputs": [],
   "source": [
    "#Set Based Practice Problem-24"
   ]
  },
  {
   "cell_type": "code",
   "execution_count": 192,
   "id": "a5e6e838",
   "metadata": {},
   "outputs": [
    {
     "name": "stdout",
     "output_type": "stream",
     "text": [
      "True\n"
     ]
    }
   ],
   "source": [
    "a = {1, 2, 3, 4, 5}\n",
    "b = {6, 7, 8}\n",
    "\n",
    "are_disjoint = a.isdisjoint(b)\n",
    "print(are_disjoint)"
   ]
  },
  {
   "cell_type": "code",
   "execution_count": 193,
   "id": "dc738770",
   "metadata": {},
   "outputs": [],
   "source": [
    "#Set Based Practice Problem-25"
   ]
  },
  {
   "cell_type": "code",
   "execution_count": 194,
   "id": "ef48ddda",
   "metadata": {},
   "outputs": [
    {
     "name": "stdout",
     "output_type": "stream",
     "text": [
      "{1, 4, 9, 16, 25}\n"
     ]
    }
   ],
   "source": [
    "a = set()\n",
    "for i in range(1,6):\n",
    "    a.add(i*i)\n",
    "print(a)"
   ]
  },
  {
   "cell_type": "code",
   "execution_count": 195,
   "id": "5ff17db0",
   "metadata": {},
   "outputs": [],
   "source": [
    "#Set Based Practice Problem-26"
   ]
  },
  {
   "cell_type": "code",
   "execution_count": 196,
   "id": "4e4a706a",
   "metadata": {},
   "outputs": [
    {
     "name": "stdout",
     "output_type": "stream",
     "text": [
      "{8, 2, 4, 6}\n"
     ]
    }
   ],
   "source": [
    "a = {1, 2, 3, 4, 5, 6, 8}\n",
    "b = set()\n",
    "for i in a:\n",
    "    if i%2==0:\n",
    "        b.add(i)\n",
    "print(b)"
   ]
  },
  {
   "cell_type": "code",
   "execution_count": 197,
   "id": "89ec8150",
   "metadata": {},
   "outputs": [],
   "source": [
    "#Set Based Practice Problem-27"
   ]
  },
  {
   "cell_type": "code",
   "execution_count": 198,
   "id": "bf1fe06d",
   "metadata": {},
   "outputs": [
    {
     "name": "stdout",
     "output_type": "stream",
     "text": [
      "{2, 4, 6, 8, 10}\n"
     ]
    }
   ],
   "source": [
    "a = {1, 2, 3, 4, 5}\n",
    "b = set()\n",
    "for i in a:\n",
    "    j=i*2\n",
    "    b.add(j)\n",
    "print(b)"
   ]
  },
  {
   "cell_type": "code",
   "execution_count": 199,
   "id": "3efd9d44",
   "metadata": {},
   "outputs": [],
   "source": [
    "#Set Based Practice Problem-28"
   ]
  },
  {
   "cell_type": "code",
   "execution_count": 201,
   "id": "3b205285",
   "metadata": {},
   "outputs": [
    {
     "name": "stdout",
     "output_type": "stream",
     "text": [
      "{66, 8, 14, 15, 80, 49, 81, 18, 89, 92}\n"
     ]
    }
   ],
   "source": [
    "import random\n",
    "a = set()\n",
    "\n",
    "while len(a) < 10:\n",
    "    b = random.randint(1, 100)\n",
    "    a.add(b)\n",
    "print(a)"
   ]
  },
  {
   "cell_type": "code",
   "execution_count": 202,
   "id": "43dc7caa",
   "metadata": {},
   "outputs": [],
   "source": [
    "#Set Based Practice Problem-29"
   ]
  },
  {
   "cell_type": "code",
   "execution_count": 203,
   "id": "d007b6a2",
   "metadata": {},
   "outputs": [
    {
     "name": "stdout",
     "output_type": "stream",
     "text": [
      "Set is empty\n"
     ]
    }
   ],
   "source": [
    "a = set()\n",
    "if len(a)==0:\n",
    "    print(\"Set is empty\")\n",
    "else:\n",
    "    print(\"Set is not empty\")"
   ]
  },
  {
   "cell_type": "code",
   "execution_count": 204,
   "id": "cf7ccdfe",
   "metadata": {},
   "outputs": [],
   "source": [
    "#Set Based Practice Problem-30"
   ]
  },
  {
   "cell_type": "code",
   "execution_count": 208,
   "id": "23680c03",
   "metadata": {},
   "outputs": [
    {
     "name": "stdout",
     "output_type": "stream",
     "text": [
      "{1, 2, 3, frozenset({4, 5, 6})}\n"
     ]
    }
   ],
   "source": [
    "a = {1, 2, 3, frozenset({4, 5, 6})}\n",
    "print(a)"
   ]
  },
  {
   "cell_type": "code",
   "execution_count": 209,
   "id": "6e03ce5f",
   "metadata": {},
   "outputs": [],
   "source": [
    "#Set Based Practice Problem-31"
   ]
  },
  {
   "cell_type": "code",
   "execution_count": 211,
   "id": "6afe714a",
   "metadata": {},
   "outputs": [
    {
     "name": "stdout",
     "output_type": "stream",
     "text": [
      "{1, 3, 4, 5}\n"
     ]
    }
   ],
   "source": [
    "a = {1, 2, 3, 4, 5}\n",
    "a.discard(2)\n",
    "print(a)"
   ]
  },
  {
   "cell_type": "code",
   "execution_count": 212,
   "id": "82cd47eb",
   "metadata": {},
   "outputs": [],
   "source": [
    "#Set Based Practice Problem-32"
   ]
  },
  {
   "cell_type": "code",
   "execution_count": 213,
   "id": "83eac8e5",
   "metadata": {},
   "outputs": [
    {
     "name": "stdout",
     "output_type": "stream",
     "text": [
      "Sets are equal\n"
     ]
    }
   ],
   "source": [
    "a = {1, 2, 3}\n",
    "b = {1, 2, 3}\n",
    "if a==b:\n",
    "    print(\"Sets are equal\")\n",
    "else:\n",
    "    print(\"Sets are not equal\")"
   ]
  },
  {
   "cell_type": "code",
   "execution_count": 214,
   "id": "6e3ad217",
   "metadata": {},
   "outputs": [],
   "source": [
    "#Set Based Practice Problem-33"
   ]
  },
  {
   "cell_type": "code",
   "execution_count": 215,
   "id": "d555d208",
   "metadata": {},
   "outputs": [
    {
     "name": "stdout",
     "output_type": "stream",
     "text": [
      "{'e', 'p', 't', 'n', 'h', 'a', 'l'}\n"
     ]
    }
   ],
   "source": [
    "a = \"elephant\"\n",
    "b = set()\n",
    "for i in a:\n",
    "    b.add(i)\n",
    "print(b)"
   ]
  },
  {
   "cell_type": "code",
   "execution_count": 216,
   "id": "f02dc606",
   "metadata": {},
   "outputs": [],
   "source": [
    "#Set Based Practice Problem-34"
   ]
  },
  {
   "cell_type": "code",
   "execution_count": 220,
   "id": "65a35bec",
   "metadata": {},
   "outputs": [
    {
     "name": "stdout",
     "output_type": "stream",
     "text": [
      "{1, 2, 3, 5}\n"
     ]
    }
   ],
   "source": [
    "a = {'1', '2', '3', '5'}\n",
    "b = set()\n",
    "for i in a:\n",
    "    c = int(i)\n",
    "    b.add(c)\n",
    "print(b)"
   ]
  },
  {
   "cell_type": "code",
   "execution_count": 219,
   "id": "185e07aa",
   "metadata": {},
   "outputs": [],
   "source": [
    "#Set Based Practice Problem-35"
   ]
  },
  {
   "cell_type": "code",
   "execution_count": 221,
   "id": "509f7e21",
   "metadata": {},
   "outputs": [
    {
     "name": "stdout",
     "output_type": "stream",
     "text": [
      "{'5', '1', '2', '3'}\n"
     ]
    }
   ],
   "source": [
    "a = {1, 2, 3, 5}\n",
    "b = set()\n",
    "for i in a:\n",
    "    c = str(i)\n",
    "    b.add(c)\n",
    "print(b)"
   ]
  },
  {
   "cell_type": "code",
   "execution_count": 222,
   "id": "d8ecf514",
   "metadata": {},
   "outputs": [],
   "source": [
    "#Set Based Practice Problem-36"
   ]
  },
  {
   "cell_type": "code",
   "execution_count": 224,
   "id": "24a8c976",
   "metadata": {},
   "outputs": [
    {
     "name": "stdout",
     "output_type": "stream",
     "text": [
      "{1, 2, 3, 4, 5}\n"
     ]
    }
   ],
   "source": [
    "a = (1, 2, 3, 4, 5)\n",
    "b = set(a)\n",
    "print(b)"
   ]
  },
  {
   "cell_type": "code",
   "execution_count": 225,
   "id": "5becf0ec",
   "metadata": {},
   "outputs": [],
   "source": [
    "#Set Based Practice Problem-37"
   ]
  },
  {
   "cell_type": "code",
   "execution_count": 226,
   "id": "616c6068",
   "metadata": {},
   "outputs": [
    {
     "name": "stdout",
     "output_type": "stream",
     "text": [
      "(1, 2, 3, 4, 5)\n"
     ]
    }
   ],
   "source": [
    "a = {1, 2, 3, 4, 5}\n",
    "b = tuple(a)\n",
    "print(b)"
   ]
  },
  {
   "cell_type": "code",
   "execution_count": 227,
   "id": "ee627525",
   "metadata": {},
   "outputs": [],
   "source": [
    "#Set Based Practice Problem-38"
   ]
  },
  {
   "cell_type": "code",
   "execution_count": 228,
   "id": "338fae9d",
   "metadata": {},
   "outputs": [
    {
     "name": "stdout",
     "output_type": "stream",
     "text": [
      "5\n"
     ]
    }
   ],
   "source": [
    "a = {1, 2, 3, 4, 5}\n",
    "b = max(a)\n",
    "print(b)"
   ]
  },
  {
   "cell_type": "code",
   "execution_count": 229,
   "id": "7a4888a3",
   "metadata": {},
   "outputs": [],
   "source": [
    "#Set Based Practice Problem-39"
   ]
  },
  {
   "cell_type": "code",
   "execution_count": 230,
   "id": "0e95dfb4",
   "metadata": {},
   "outputs": [
    {
     "name": "stdout",
     "output_type": "stream",
     "text": [
      "1\n"
     ]
    }
   ],
   "source": [
    "a = {1, 2, 3, 4, 5}\n",
    "b = min(a)\n",
    "print(b)"
   ]
  },
  {
   "cell_type": "code",
   "execution_count": 231,
   "id": "28bf5e40",
   "metadata": {},
   "outputs": [],
   "source": [
    "#Set Based Practice Problem-40"
   ]
  },
  {
   "cell_type": "code",
   "execution_count": 232,
   "id": "28c8d034",
   "metadata": {},
   "outputs": [
    {
     "name": "stdout",
     "output_type": "stream",
     "text": [
      "Enter the value: 5\n",
      "{'5'}\n"
     ]
    }
   ],
   "source": [
    "a = set()\n",
    "b = input(\"Enter the value: \")\n",
    "a.add(b)\n",
    "print(a)"
   ]
  },
  {
   "cell_type": "code",
   "execution_count": 233,
   "id": "54a56b67",
   "metadata": {},
   "outputs": [],
   "source": [
    "#Set Based Practice Problem-41"
   ]
  },
  {
   "cell_type": "code",
   "execution_count": 234,
   "id": "43e2446b",
   "metadata": {},
   "outputs": [
    {
     "name": "stdout",
     "output_type": "stream",
     "text": [
      "True\n"
     ]
    }
   ],
   "source": [
    "a = {1, 2, 3}\n",
    "b = {4, 5, 6}\n",
    "\n",
    "c = a.isdisjoint(b)\n",
    "print(c)"
   ]
  },
  {
   "cell_type": "code",
   "execution_count": 235,
   "id": "7e6d0079",
   "metadata": {},
   "outputs": [],
   "source": [
    "#Set Based Practice Problem-42"
   ]
  },
  {
   "cell_type": "code",
   "execution_count": 252,
   "id": "0a28175f",
   "metadata": {},
   "outputs": [
    {
     "name": "stdout",
     "output_type": "stream",
     "text": [
      "{0, 1, 2, 3, 5}\n"
     ]
    }
   ],
   "source": [
    "f_set = set()\n",
    "a, b = 0, 1\n",
    "\n",
    "f_set.add(a)\n",
    "f_set.add(b)\n",
    "\n",
    "for _ in range(5):\n",
    "    a, b = b, a + b\n",
    "    f_set.add(a)\n",
    "\n",
    "print(f_set)"
   ]
  },
  {
   "cell_type": "code",
   "execution_count": 253,
   "id": "5809f85c",
   "metadata": {},
   "outputs": [],
   "source": [
    "#Set Based Practice Problem-43"
   ]
  },
  {
   "cell_type": "code",
   "execution_count": 254,
   "id": "d6400b4f",
   "metadata": {},
   "outputs": [
    {
     "name": "stdout",
     "output_type": "stream",
     "text": [
      "{1, 2, 3, 4, 5, 6, 7}\n"
     ]
    }
   ],
   "source": [
    "a = [1, 2, 2, 3, 5, 5, 4, 6, 7,7]\n",
    "b = set(a)\n",
    "print(b)"
   ]
  },
  {
   "cell_type": "code",
   "execution_count": 255,
   "id": "8c85fb86",
   "metadata": {},
   "outputs": [],
   "source": [
    "#Set Based Practice Problem-44"
   ]
  },
  {
   "cell_type": "code",
   "execution_count": 256,
   "id": "ecba9ad5",
   "metadata": {},
   "outputs": [
    {
     "name": "stdout",
     "output_type": "stream",
     "text": [
      "Sets have same elements\n"
     ]
    }
   ],
   "source": [
    "a = {1, 2, 3, 4, 5}\n",
    "b = {5, 4, 3, 2, 1}\n",
    "if a==b:\n",
    "    print(\"Sets have same elements\")\n",
    "else:\n",
    "    print(\"Sets do not have same element\")"
   ]
  },
  {
   "cell_type": "code",
   "execution_count": 257,
   "id": "1fa0589b",
   "metadata": {},
   "outputs": [],
   "source": [
    "#Set Based Practice Problem-45"
   ]
  },
  {
   "cell_type": "code",
   "execution_count": 259,
   "id": "6be4fcbb",
   "metadata": {},
   "outputs": [
    {
     "name": "stdout",
     "output_type": "stream",
     "text": [
      "{1, 4, 9, 16, 25}\n"
     ]
    }
   ],
   "source": [
    "n = 5\n",
    "a = set()\n",
    "for i in range(1,n+1):\n",
    "    b=i*i\n",
    "    a.add(b)\n",
    "print(a)"
   ]
  },
  {
   "cell_type": "code",
   "execution_count": 260,
   "id": "c45e44f2",
   "metadata": {},
   "outputs": [],
   "source": [
    "#Set Based Practice Problem-46"
   ]
  },
  {
   "cell_type": "code",
   "execution_count": 261,
   "id": "765aa6ad",
   "metadata": {},
   "outputs": [
    {
     "name": "stdout",
     "output_type": "stream",
     "text": [
      "[4, 5]\n"
     ]
    }
   ],
   "source": [
    "a = {1, 2, 3, 4, 5}\n",
    "b = [4, 5, 6, 7, 8]\n",
    "c = []\n",
    "for i in a:\n",
    "    for j in b:\n",
    "        if i==j:\n",
    "            c.append(i)\n",
    "print(c)"
   ]
  },
  {
   "cell_type": "code",
   "execution_count": 262,
   "id": "3e8bc5ba",
   "metadata": {},
   "outputs": [],
   "source": [
    "#Set Based Practice Problem-47"
   ]
  },
  {
   "cell_type": "code",
   "execution_count": 263,
   "id": "a990510b",
   "metadata": {},
   "outputs": [
    {
     "name": "stdout",
     "output_type": "stream",
     "text": [
      "{1, 3, 6, 10, 15}\n"
     ]
    }
   ],
   "source": [
    "triangular_numbers = set()\n",
    "n = 5\n",
    "for i in range(1, n + 1):\n",
    "    triangular_numbers.add(i * (i + 1) // 2)\n",
    "print(triangular_numbers)"
   ]
  },
  {
   "cell_type": "code",
   "execution_count": 264,
   "id": "9835d393",
   "metadata": {},
   "outputs": [],
   "source": [
    "#Set Based Practice Problem-48"
   ]
  },
  {
   "cell_type": "code",
   "execution_count": 266,
   "id": "fef27bc1",
   "metadata": {},
   "outputs": [
    {
     "name": "stdout",
     "output_type": "stream",
     "text": [
      "True\n"
     ]
    }
   ],
   "source": [
    "a = {1, 2, 3, 4, 5}\n",
    "b = {2, 3}\n",
    "is_subset = b.issubset(a)\n",
    "\n",
    "print(is_subset)"
   ]
  },
  {
   "cell_type": "code",
   "execution_count": 267,
   "id": "6318f9a0",
   "metadata": {},
   "outputs": [],
   "source": [
    "#Set Based Practice Problem-49"
   ]
  },
  {
   "cell_type": "code",
   "execution_count": 3,
   "id": "714e9ed9",
   "metadata": {},
   "outputs": [
    {
     "name": "stdout",
     "output_type": "stream",
     "text": [
      "{0, 1}\n"
     ]
    }
   ],
   "source": [
    "a = set()\n",
    "n = 2\n",
    "while len(a) < n:\n",
    "    a.add(0)\n",
    "    a.add(1)\n",
    "print(a)"
   ]
  },
  {
   "cell_type": "code",
   "execution_count": 4,
   "id": "02bef8fa",
   "metadata": {},
   "outputs": [],
   "source": [
    "#Set Based Practice Problem-50"
   ]
  },
  {
   "cell_type": "code",
   "execution_count": 8,
   "id": "0bcd79e1",
   "metadata": {},
   "outputs": [
    {
     "name": "stdout",
     "output_type": "stream",
     "text": [
      "{1, 2, 3, 4, 5, 6}\n"
     ]
    }
   ],
   "source": [
    "a = {1, 2, 3}\n",
    "b = {4, 5, 6}\n",
    "d = a | b\n",
    "print(d)"
   ]
  },
  {
   "cell_type": "code",
   "execution_count": null,
   "id": "241c317e",
   "metadata": {},
   "outputs": [],
   "source": []
  }
 ],
 "metadata": {
  "kernelspec": {
   "display_name": "Python 3",
   "language": "python",
   "name": "python3"
  },
  "language_info": {
   "codemirror_mode": {
    "name": "ipython",
    "version": 3
   },
   "file_extension": ".py",
   "mimetype": "text/x-python",
   "name": "python",
   "nbconvert_exporter": "python",
   "pygments_lexer": "ipython3",
   "version": "3.6.8"
  }
 },
 "nbformat": 4,
 "nbformat_minor": 5
}
