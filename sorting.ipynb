{
 "cells": [
  {
   "cell_type": "code",
   "execution_count": 1,
   "id": "2e6e041b-a48f-41d8-ad69-d0c7956a367e",
   "metadata": {},
   "outputs": [],
   "source": [
    "#Que no-1"
   ]
  },
  {
   "cell_type": "code",
   "execution_count": 2,
   "id": "c88f726e-a2d2-410c-95e3-91ef78004e3c",
   "metadata": {},
   "outputs": [
    {
     "name": "stdout",
     "output_type": "stream",
     "text": [
      "2\n"
     ]
    }
   ],
   "source": [
    "def findMaxrec(arr):\n",
    "    dict_rec = {}\n",
    "    for i in arr:\n",
    "        if i in dict_rec:\n",
    "            dict_rec[i] += 1\n",
    "        else:\n",
    "            dict_rec[i]  = 1\n",
    "    return (max(dict_rec, key=dict_rec.get))\n",
    "\n",
    "print(findMaxrec([34,2,34,5,9,9,2,2]))"
   ]
  },
  {
   "cell_type": "code",
   "execution_count": 3,
   "id": "bf5470e4-e87d-47fd-a1ad-3826f96f97dc",
   "metadata": {},
   "outputs": [],
   "source": [
    "#Que no-2"
   ]
  },
  {
   "cell_type": "code",
   "execution_count": 6,
   "id": "8b990731-633f-4b38-8983-e6f8f5e2429d",
   "metadata": {},
   "outputs": [
    {
     "name": "stdout",
     "output_type": "stream",
     "text": [
      "5\n"
     ]
    }
   ],
   "source": [
    "def bubbleSort(arr):\n",
    "    isSorted=True\n",
    "    for i in range(len(arr)-1,0,-1):  \n",
    "        for j in range(i):\n",
    "            if arr[j]>arr[j+1]:\n",
    "                isSorted=False\n",
    "                arr[j],arr[j+1]=arr[j+1],arr[j]\n",
    "        if isSorted:\n",
    "            print(\"Arrey is already sorted\")\n",
    "            break\n",
    "\n",
    "def getMissData(arr,n):\n",
    "    bubbleSort(arr)\n",
    "    for i in range(0,n):\n",
    "        if arr[i]+1==arr[i+1]:\n",
    "            pass\n",
    "        else:\n",
    "            return arr[i]+1\n",
    "\n",
    "print(getMissData([1,2,4,6,3,7,8],8))"
   ]
  },
  {
   "cell_type": "code",
   "execution_count": 7,
   "id": "4e59eaab-8814-4b9d-9c18-29b26d6e238c",
   "metadata": {},
   "outputs": [],
   "source": [
    "#Que no-3"
   ]
  },
  {
   "cell_type": "code",
   "execution_count": 3,
   "id": "17b032f2-6f33-48bb-a684-5f3cdefff186",
   "metadata": {},
   "outputs": [
    {
     "name": "stdout",
     "output_type": "stream",
     "text": [
      "3\n"
     ]
    }
   ],
   "source": [
    "def findOddOccurrence(arr):\n",
    "    result = 0\n",
    "    for num in arr:\n",
    "        result ^= num\n",
    "    return result\n",
    "\n",
    "\n",
    "arr = [1, 2, 3, 2, 3, 1, 3]\n",
    "print(findOddOccurrence(arr))"
   ]
  },
  {
   "cell_type": "code",
   "execution_count": null,
   "id": "5cc60e7a-ffc7-49bc-bd20-b16c64b7ebba",
   "metadata": {},
   "outputs": [],
   "source": [
    "#Que no-4"
   ]
  },
  {
   "cell_type": "code",
   "execution_count": 14,
   "id": "578ec8bb-da83-41fb-8e49-d54ab2f61ae2",
   "metadata": {},
   "outputs": [
    {
     "name": "stdout",
     "output_type": "stream",
     "text": [
      "(3, 4)\n"
     ]
    }
   ],
   "source": [
    "def findSumOfTwo(arr,k):\n",
    "    for i in range(0,len(arr)):\n",
    "        for j in range(i+1,len(arr)):\n",
    "            if arr[i]+arr[j]==k:\n",
    "                return arr[i],arr[j]\n",
    "\n",
    "arr = [3,43,5,9,31,7,4]\n",
    "print(findSumOfTwo(arr,7))"
   ]
  },
  {
   "cell_type": "code",
   "execution_count": 12,
   "id": "53a1d502-51a6-407a-b084-e28fbea538a4",
   "metadata": {},
   "outputs": [],
   "source": [
    "#Que no-5"
   ]
  },
  {
   "cell_type": "code",
   "execution_count": 13,
   "id": "e357e3cc-6d07-4f6e-bacd-ca76fb7cd9f2",
   "metadata": {},
   "outputs": [
    {
     "name": "stdout",
     "output_type": "stream",
     "text": [
      "(5, -80, 85)\n"
     ]
    }
   ],
   "source": [
    "def findMinSub(arr):\n",
    "    result = \"\"\n",
    "    firstNum = \"\"\n",
    "    secondNum = \"\"\n",
    "\n",
    "    for i in range(0,len(arr)):\n",
    "        for j in range(i+1,len(arr)):\n",
    "            #if j<0:\n",
    "            sub = arr[i]+arr[j]\n",
    "            if not result or abs(sub)<result:\n",
    "                result = abs(sub)\n",
    "                firstNum = arr[i]\n",
    "                secondNum = arr[j]\n",
    "    return result,firstNum,secondNum\n",
    "\n",
    "arr = [1,60,-10,70,-80,85]\n",
    "print(findMinSub(arr))"
   ]
  },
  {
   "cell_type": "code",
   "execution_count": 15,
   "id": "7e477610-d791-4661-aa8f-98412ebc65a0",
   "metadata": {},
   "outputs": [],
   "source": [
    "#Que no-6"
   ]
  },
  {
   "cell_type": "code",
   "execution_count": 18,
   "id": "fbb5e89c-a334-4dcc-a3d6-cb2225f6bc14",
   "metadata": {},
   "outputs": [
    {
     "name": "stdout",
     "output_type": "stream",
     "text": [
      "(26, 7, 9)\n"
     ]
    }
   ],
   "source": [
    "def findSumOfThree(arr,k):\n",
    "    for i in range(0,len(arr)):\n",
    "        for j in range(i+1,len(arr)):\n",
    "            for m in range(j+1,len(arr)):\n",
    "                if arr[i]+arr[j]+arr[m]==k:\n",
    "                    return arr[i],arr[j],arr[m]\n",
    "\n",
    "arr = [26,7,9,12,3,4,21,33]\n",
    "\n",
    "print(findSumOfThree(arr,42))"
   ]
  },
  {
   "cell_type": "code",
   "execution_count": 19,
   "id": "e93e5241-c4cf-429b-a671-ab6082bc3a3d",
   "metadata": {},
   "outputs": [],
   "source": [
    "#Que no-7"
   ]
  },
  {
   "cell_type": "code",
   "execution_count": 22,
   "id": "c2f30613-a3e1-4095-9dea-f3498997ba6b",
   "metadata": {},
   "outputs": [
    {
     "name": "stdout",
     "output_type": "stream",
     "text": [
      "(6, 8, 10)\n"
     ]
    }
   ],
   "source": [
    "def findMulOfThree(arr):\n",
    "    for i in range(0,len(arr)):\n",
    "        for j in range(i+1,len(arr)):\n",
    "            for m in range(j+1,len(arr)):\n",
    "                if (arr[i]*arr[i])+(arr[j]*arr[j])==arr[m]*arr[m]:\n",
    "                    return arr[i],arr[j],arr[m]\n",
    "\n",
    "arr = [26,6,8,12,3,4,10,33]\n",
    "\n",
    "print(findMulOfThree(arr))"
   ]
  },
  {
   "cell_type": "code",
   "execution_count": 23,
   "id": "0ac57f82-f0e3-4e9a-896d-a6756e3449d5",
   "metadata": {},
   "outputs": [],
   "source": [
    "#Que no-8"
   ]
  },
  {
   "cell_type": "code",
   "execution_count": 1,
   "id": "dfce9910-6b0b-4d15-ba4b-38696220aad4",
   "metadata": {},
   "outputs": [
    {
     "name": "stdout",
     "output_type": "stream",
     "text": [
      "3\n"
     ]
    }
   ],
   "source": [
    "def findMajor(arr,n):\n",
    "    for i in range(0,len(arr)):\n",
    "        num = 1\n",
    "        for j in range(i+1,len(arr)):\n",
    "            if arr[i]==arr[j]:\n",
    "                num+=1\n",
    "        if num>n//2:\n",
    "            return arr[i]\n",
    "\n",
    "arr = [3,3,3,8,6,9,3,5,3]\n",
    "print(findMajor(arr,9))"
   ]
  },
  {
   "cell_type": "code",
   "execution_count": 2,
   "id": "9e025821-63c8-46eb-ac42-8ae24a1f9069",
   "metadata": {},
   "outputs": [],
   "source": [
    "#Que no-9"
   ]
  },
  {
   "cell_type": "code",
   "execution_count": 4,
   "id": "02137e49-bc2b-446f-8596-97764e17ff3a",
   "metadata": {},
   "outputs": [
    {
     "name": "stdout",
     "output_type": "stream",
     "text": [
      "2\n"
     ]
    }
   ],
   "source": [
    "def row_with_max_zeros(matrix):\n",
    "    n = len(matrix)\n",
    "    max_zeros = 0\n",
    "    row_index = -1\n",
    "\n",
    "    for i in range(n):\n",
    "        low, high = 0, n - 1\n",
    "        while low <= high:\n",
    "            mid = (low + high) // 2\n",
    "            if matrix[i][mid] == 1:\n",
    "                low = mid + 1\n",
    "            else:\n",
    "                high = mid - 1\n",
    "        \n",
    "        num_zeros = n - low\n",
    "        if num_zeros > max_zeros:\n",
    "            max_zeros = num_zeros\n",
    "            row_index = i\n",
    "\n",
    "    return row_index\n",
    "\n",
    "matrix = [\n",
    "    [1, 1, 1, 0, 0],\n",
    "    [1, 1, 0, 0, 0],\n",
    "    [1, 0, 0, 0, 0],\n",
    "    [1, 1, 1, 1, 0]\n",
    "]\n",
    "\n",
    "print(row_with_max_zeros(matrix))"
   ]
  },
  {
   "cell_type": "code",
   "execution_count": 5,
   "id": "5ac18988-5c53-424b-96db-c1e971493000",
   "metadata": {},
   "outputs": [],
   "source": [
    "#Que no-10"
   ]
  },
  {
   "cell_type": "code",
   "execution_count": 7,
   "id": "effe6ffd-2311-4072-8851-893bc437561f",
   "metadata": {},
   "outputs": [
    {
     "name": "stdout",
     "output_type": "stream",
     "text": [
      "[0, 0, 0, 0, 0, 1, 1, 1, 1, 1, 2, 2]\n"
     ]
    }
   ],
   "source": [
    "def selectionSort(arr):\n",
    "    for i in range(len(arr)):\n",
    "        minn=i\n",
    "        for j in range(i+1,len(arr)):\n",
    "            if arr[j]<arr[minn]:\n",
    "                minn=j\n",
    "        arr[i],arr[minn]=arr[minn],arr[i]\n",
    "\n",
    "arr = [0,1,1,0,1,2,1,2,0,0,0,1]\n",
    "selectionSort(arr)\n",
    "print(arr)"
   ]
  },
  {
   "cell_type": "code",
   "execution_count": null,
   "id": "b5cd5461-d918-4a60-804c-036bef07e102",
   "metadata": {},
   "outputs": [],
   "source": []
  }
 ],
 "metadata": {
  "kernelspec": {
   "display_name": "Python 3 (ipykernel)",
   "language": "python",
   "name": "python3"
  },
  "language_info": {
   "codemirror_mode": {
    "name": "ipython",
    "version": 3
   },
   "file_extension": ".py",
   "mimetype": "text/x-python",
   "name": "python",
   "nbconvert_exporter": "python",
   "pygments_lexer": "ipython3",
   "version": "3.9.18"
  }
 },
 "nbformat": 4,
 "nbformat_minor": 5
}
