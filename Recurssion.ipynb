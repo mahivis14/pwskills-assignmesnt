{
 "cells": [
  {
   "cell_type": "code",
   "execution_count": 57,
   "id": "a6907f12-271f-48be-a2a7-c4f626ff50b2",
   "metadata": {},
   "outputs": [],
   "source": [
    "#Que no-1"
   ]
  },
  {
   "cell_type": "code",
   "execution_count": 56,
   "id": "276ab082-a792-40bb-b4a8-ed300f4d4909",
   "metadata": {},
   "outputs": [
    {
     "name": "stdout",
     "output_type": "stream",
     "text": [
      "31\n"
     ]
    }
   ],
   "source": [
    "def moves(n,s,d,a):\n",
    "    if n==1:\n",
    "        return 1\n",
    "    return moves(n-1,s,a,s)+1+moves(n-1,a,d,s)\n",
    "\n",
    "print(moves(5,1,2,3))"
   ]
  },
  {
   "cell_type": "code",
   "execution_count": null,
   "id": "801ea990-e40d-4f8c-b266-4640828c2a90",
   "metadata": {},
   "outputs": [],
   "source": [
    "#Que no-2"
   ]
  },
  {
   "cell_type": "code",
   "execution_count": 51,
   "id": "51a35d43-6894-4d8e-a341-6026b1d9be05",
   "metadata": {},
   "outputs": [
    {
     "name": "stdout",
     "output_type": "stream",
     "text": [
      "3\n",
      "5\n"
     ]
    }
   ],
   "source": [
    "def minDistance(word1, word2):\n",
    "    m, k = len(word1), len(word2)\n",
    "    \n",
    "    dp = [[0] * (k + 1) for _ in range(m + 1)]\n",
    "    \n",
    "    for i in range(m + 1):\n",
    "        dp[i][0] = i\n",
    "    for j in range(k + 1):\n",
    "        dp[0][j] = j\n",
    "    \n",
    "    for i in range(1, m + 1):\n",
    "        for j in range(1, k + 1):\n",
    "            if word1[i - 1] == word2[j - 1]:\n",
    "                dp[i][j] = dp[i - 1][j - 1]\n",
    "            else:\n",
    "                dp[i][j] = min(dp[i - 1][j] + 1,\n",
    "                               dp[i][j - 1] + 1,\n",
    "                               dp[i - 1][j - 1] + 1)\n",
    "    return dp[m][k]\n",
    "\n",
    "word1 = \"horse\"\n",
    "word2 = \"ros\"\n",
    "print(minDistance(word1, word2))\n",
    "\n",
    "word1 = \"intention\"\n",
    "word2 = \"execution\"\n",
    "print(minDistance(word1, word2))\n"
   ]
  },
  {
   "cell_type": "code",
   "execution_count": 2,
   "id": "9f04aa2c-bd6e-4c1f-900b-63730a494703",
   "metadata": {},
   "outputs": [],
   "source": [
    "#Que no-3"
   ]
  },
  {
   "cell_type": "code",
   "execution_count": 6,
   "id": "3abeccf9-8ec7-451e-952d-2ec3130deb5c",
   "metadata": {},
   "outputs": [
    {
     "name": "stdout",
     "output_type": "stream",
     "text": [
      "22\n"
     ]
    }
   ],
   "source": [
    "def getMax(arr,n):\n",
    "    if n==len(arr)-1:\n",
    "        return arr[n]\n",
    "    else:\n",
    "        return max(arr[n],getMax(arr,n+1))\n",
    "\n",
    "arr = [13,1,-3,22,5]\n",
    "print(getMax(arr,0))"
   ]
  },
  {
   "cell_type": "code",
   "execution_count": 7,
   "id": "feb9bfeb-9d19-484d-bcf1-870ddbadc729",
   "metadata": {},
   "outputs": [],
   "source": [
    "#Que no-4"
   ]
  },
  {
   "cell_type": "code",
   "execution_count": 8,
   "id": "01e242bb-ce9d-4d0f-986a-f651ba3354bc",
   "metadata": {},
   "outputs": [
    {
     "name": "stdout",
     "output_type": "stream",
     "text": [
      "120\n"
     ]
    }
   ],
   "source": [
    "def getSum(arr,n):\n",
    "    if n==len(arr)-1:\n",
    "        return arr[n]\n",
    "    else:\n",
    "        return arr[n]+getSum(arr,n+1)\n",
    "\n",
    "arr = [92,23,15,-20,10]\n",
    "print(getSum(arr,0))"
   ]
  },
  {
   "cell_type": "code",
   "execution_count": 9,
   "id": "a489611d-59fc-42a5-a26c-6c4f13b2ba68",
   "metadata": {},
   "outputs": [],
   "source": [
    "#Que no-5"
   ]
  },
  {
   "cell_type": "code",
   "execution_count": 50,
   "id": "009a5953-01e9-49c9-ad12-6508b16b34a9",
   "metadata": {},
   "outputs": [
    {
     "name": "stdout",
     "output_type": "stream",
     "text": [
      "True\n"
     ]
    }
   ],
   "source": [
    "def getArmS(num,k):\n",
    "\n",
    "    if num%10==num%100:\n",
    "        return num**k\n",
    "    else:\n",
    "        return ((num%10)**k)+getArmS((num-(num%10))//10,k)\n",
    "num = 153\n",
    "k = 3\n",
    "print(num==getArmS(num,k))"
   ]
  },
  {
   "cell_type": "code",
   "execution_count": null,
   "id": "c52608c4-3047-400d-8fca-d0c8c99880a9",
   "metadata": {},
   "outputs": [],
   "source": []
  }
 ],
 "metadata": {
  "kernelspec": {
   "display_name": "Python 3 (ipykernel)",
   "language": "python",
   "name": "python3"
  },
  "language_info": {
   "codemirror_mode": {
    "name": "ipython",
    "version": 3
   },
   "file_extension": ".py",
   "mimetype": "text/x-python",
   "name": "python",
   "nbconvert_exporter": "python",
   "pygments_lexer": "ipython3",
   "version": "3.9.18"
  }
 },
 "nbformat": 4,
 "nbformat_minor": 5
}
