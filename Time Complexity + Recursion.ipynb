{
 "cells": [
  {
   "cell_type": "code",
   "execution_count": 2,
   "id": "db333316-77a2-4887-b030-a16cb4014a79",
   "metadata": {},
   "outputs": [],
   "source": [
    "#Que no-1"
   ]
  },
  {
   "cell_type": "code",
   "execution_count": 4,
   "id": "dac5a1b5-4f6d-45ea-a881-2733de1a6219",
   "metadata": {},
   "outputs": [],
   "source": [
    "#Average Case: O(n log n)\n",
    "\n",
    "#Worst Case: O(n^2)"
   ]
  },
  {
   "cell_type": "code",
   "execution_count": 5,
   "id": "98301331-9dda-41d8-9078-2eeffcb6c2b8",
   "metadata": {},
   "outputs": [],
   "source": [
    "#Que no-2"
   ]
  },
  {
   "cell_type": "code",
   "execution_count": 6,
   "id": "93b84602-cb74-4cfb-a5d1-600bd9ff5a58",
   "metadata": {},
   "outputs": [],
   "source": [
    "#TC = O(rows*cols)"
   ]
  },
  {
   "cell_type": "code",
   "execution_count": 7,
   "id": "4e3645a1-9ed5-4c36-934f-d16c5d3a2ef6",
   "metadata": {},
   "outputs": [],
   "source": [
    "#Que no-3"
   ]
  },
  {
   "cell_type": "code",
   "execution_count": 8,
   "id": "4227ed26-df5c-4b8e-8cba-517e83b9910d",
   "metadata": {},
   "outputs": [],
   "source": [
    "#TC = O(n)"
   ]
  },
  {
   "cell_type": "code",
   "execution_count": 9,
   "id": "74a890da-582a-4aea-8479-c77c3670b4df",
   "metadata": {},
   "outputs": [],
   "source": [
    "#Que no-4"
   ]
  },
  {
   "cell_type": "code",
   "execution_count": 10,
   "id": "afa17d02-7cc6-4257-bcd3-56b229b1b7cb",
   "metadata": {},
   "outputs": [],
   "source": [
    "#TC = O(n^2)"
   ]
  },
  {
   "cell_type": "code",
   "execution_count": 11,
   "id": "04b1c5ca-7241-4f36-98fc-68115e34135f",
   "metadata": {},
   "outputs": [],
   "source": [
    "#Que no-5"
   ]
  },
  {
   "cell_type": "code",
   "execution_count": 12,
   "id": "b4f15752-19c1-4d44-84be-a3f83d108de0",
   "metadata": {},
   "outputs": [],
   "source": [
    "#TC = O(n^2)"
   ]
  },
  {
   "cell_type": "code",
   "execution_count": 13,
   "id": "495efd38-bc5a-4319-a72d-22b1d85312fa",
   "metadata": {},
   "outputs": [],
   "source": [
    "#Que no-6"
   ]
  },
  {
   "cell_type": "code",
   "execution_count": 14,
   "id": "14e3e0e3-ad0b-43f3-b7f1-aed5cdf64603",
   "metadata": {},
   "outputs": [
    {
     "name": "stdout",
     "output_type": "stream",
     "text": [
      "6\n"
     ]
    }
   ],
   "source": [
    "def sum_of_digits(n):\n",
    "    if n == 0:\n",
    "        return 0\n",
    "    else:\n",
    "        return n % 10 + sum_of_digits(n // 10)\n",
    "\n",
    "result = sum_of_digits(123)\n",
    "print(result)"
   ]
  },
  {
   "cell_type": "code",
   "execution_count": 15,
   "id": "f78544fc-e67d-4678-bf8b-d387bce915b9",
   "metadata": {},
   "outputs": [],
   "source": [
    "#Que no-7"
   ]
  },
  {
   "cell_type": "code",
   "execution_count": 16,
   "id": "f5c52d48-bbc9-4ed6-886d-95836a5bb85e",
   "metadata": {},
   "outputs": [
    {
     "name": "stdout",
     "output_type": "stream",
     "text": [
      "[0, 1, 1, 2, 3, 5]\n"
     ]
    }
   ],
   "source": [
    "def fibonacci_series(n, series=None):\n",
    "    if series is None:\n",
    "        series = []\n",
    "    \n",
    "    if len(series) == n:\n",
    "        return series\n",
    "    \n",
    "    if len(series) < 2:\n",
    "        next_fib = len(series)\n",
    "    else:\n",
    "        next_fib = series[-1] + series[-2]\n",
    "\n",
    "    series.append(next_fib)\n",
    "\n",
    "    return fibonacci_series(n, series)\n",
    "\n",
    "result = fibonacci_series(6)\n",
    "print(result)"
   ]
  },
  {
   "cell_type": "code",
   "execution_count": 17,
   "id": "4b525071-0eac-46e4-b4a3-331e971d8d7f",
   "metadata": {},
   "outputs": [],
   "source": [
    "#Que no-8"
   ]
  },
  {
   "cell_type": "code",
   "execution_count": 18,
   "id": "9ca6ebc9-0623-4003-8173-7477e237a370",
   "metadata": {},
   "outputs": [
    {
     "name": "stdout",
     "output_type": "stream",
     "text": [
      "True\n"
     ]
    }
   ],
   "source": [
    "def subset_sum(nums, target, n=None):\n",
    "    if n is None:\n",
    "        n = len(nums)\n",
    "    \n",
    "    if target == 0:\n",
    "        return True\n",
    "    if n == 0:\n",
    "        return False\n",
    "    \n",
    "    if nums[n-1] > target:\n",
    "        return subset_sum(nums, target, n-1)\n",
    "    \n",
    "    return subset_sum(nums, target - nums[n-1], n-1) or subset_sum(nums, target, n-1)\n",
    "\n",
    "result = subset_sum([3, 34, 4, 12, 5, 2], 9)\n",
    "print(result)"
   ]
  },
  {
   "cell_type": "code",
   "execution_count": 19,
   "id": "221a0980-8732-45a1-aa24-ee786d5fdcab",
   "metadata": {},
   "outputs": [],
   "source": [
    "#Que no-9"
   ]
  },
  {
   "cell_type": "code",
   "execution_count": 20,
   "id": "3ad882d0-2ada-4848-b76b-9bb817b35798",
   "metadata": {},
   "outputs": [
    {
     "name": "stdout",
     "output_type": "stream",
     "text": [
      "True\n"
     ]
    }
   ],
   "source": [
    "def word_break(s, word_dict):\n",
    "    if not s:\n",
    "        return True\n",
    "    \n",
    "    for word in word_dict:\n",
    "        if s.startswith(word):\n",
    "            if word_break(s[len(word):], word_dict):\n",
    "                return True\n",
    "    \n",
    "    return False\n",
    "\n",
    "result = word_break(\"leetcode\", [\"leet\", \"code\"])\n",
    "print(result)"
   ]
  },
  {
   "cell_type": "code",
   "execution_count": 21,
   "id": "09cc3b4a-3dea-49fd-b3b3-d7be8c082b11",
   "metadata": {},
   "outputs": [],
   "source": [
    "#Que no-10"
   ]
  },
  {
   "cell_type": "code",
   "execution_count": 23,
   "id": "00e07d5e-56d9-4138-8cbb-8c42e949a023",
   "metadata": {},
   "outputs": [
    {
     "name": "stdout",
     "output_type": "stream",
     "text": [
      ".Q..\n",
      "...Q\n",
      "Q...\n",
      "..Q.\n",
      "\n",
      "..Q.\n",
      "Q...\n",
      "...Q\n",
      ".Q..\n",
      "\n"
     ]
    }
   ],
   "source": [
    "def solve_n_queens(n):\n",
    "    def is_safe(board, row, col):\n",
    "        for i in range(row):\n",
    "            if board[i][col] == 'Q':\n",
    "                return False\n",
    "\n",
    "        for i, j in zip(range(row, -1, -1), range(col, -1, -1)):\n",
    "            if board[i][j] == 'Q':\n",
    "                return False\n",
    "\n",
    "        for i, j in zip(range(row, -1, -1), range(col, n)):\n",
    "            if board[i][j] == 'Q':\n",
    "                return False\n",
    "\n",
    "        return True\n",
    "\n",
    "    def solve(board, row):\n",
    "        if row >= n:\n",
    "            result.append([''.join(r) for r in board])\n",
    "            return\n",
    "\n",
    "        for col in range(n):\n",
    "            if is_safe(board, row, col):\n",
    "                board[row][col] = 'Q'\n",
    "                solve(board, row + 1)\n",
    "                board[row][col] = '.'\n",
    "\n",
    "    result = []\n",
    "    board = [['.' for _ in range(n)] for _ in range(n)]\n",
    "    solve(board, 0)\n",
    "    return result\n",
    "\n",
    "n = 4\n",
    "solutions = solve_n_queens(n)\n",
    "for solution in solutions:\n",
    "    for row in solution:\n",
    "        print(row)\n",
    "    print()"
   ]
  },
  {
   "cell_type": "code",
   "execution_count": null,
   "id": "612dc3c1-f180-4c08-b697-05777499f5cd",
   "metadata": {},
   "outputs": [],
   "source": []
  }
 ],
 "metadata": {
  "kernelspec": {
   "display_name": "Python 3 (ipykernel)",
   "language": "python",
   "name": "python3"
  },
  "language_info": {
   "codemirror_mode": {
    "name": "ipython",
    "version": 3
   },
   "file_extension": ".py",
   "mimetype": "text/x-python",
   "name": "python",
   "nbconvert_exporter": "python",
   "pygments_lexer": "ipython3",
   "version": "3.9.18"
  }
 },
 "nbformat": 4,
 "nbformat_minor": 5
}
