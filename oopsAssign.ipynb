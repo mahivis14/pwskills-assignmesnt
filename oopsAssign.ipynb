{
 "cells": [
  {
   "cell_type": "code",
   "execution_count": 1,
   "id": "68e1fa75-d15d-4f47-99fe-b4e0d38eeec4",
   "metadata": {},
   "outputs": [],
   "source": [
    "#Constructor-1"
   ]
  },
  {
   "cell_type": "code",
   "execution_count": 2,
   "id": "8806ee51-a07d-4d84-9967-612bd9b4b179",
   "metadata": {},
   "outputs": [],
   "source": [
    "#In Python, a constructor is a special method that is automatically called when an object of a class is created.\n",
    "#The purpose of the constructor is to initialize the attributes of the object. In Python, the constructor method is named __init__."
   ]
  },
  {
   "cell_type": "code",
   "execution_count": 3,
   "id": "ea09bdc6-9425-46b7-b563-3133c547d70b",
   "metadata": {},
   "outputs": [],
   "source": [
    "#Constructor-2"
   ]
  },
  {
   "cell_type": "code",
   "execution_count": 4,
   "id": "4a54dd9d-175c-4add-a89e-9f7d4a59a125",
   "metadata": {},
   "outputs": [],
   "source": [
    "#A parameterless constructor is a constructor that takes no parameters other than the mandatory self parameter.\n",
    "#It is defined using the __init__ method with only the self parameter.\n",
    "#A parameterized constructor is a constructor that takes additional parameters along with the mandatory self parameter.\n",
    "#It is defined using the __init__ method with parameters other than self."
   ]
  },
  {
   "cell_type": "code",
   "execution_count": 5,
   "id": "32dedf9f-5f5b-4821-b497-b9fe67fd5407",
   "metadata": {},
   "outputs": [],
   "source": [
    "#Constructor-3"
   ]
  },
  {
   "cell_type": "code",
   "execution_count": 9,
   "id": "b317e060-e3d1-46ea-b300-a65f967a4f98",
   "metadata": {},
   "outputs": [
    {
     "name": "stdout",
     "output_type": "stream",
     "text": [
      "Attribute 1: 45\n",
      "Attribute 2: 12\n"
     ]
    }
   ],
   "source": [
    "class MyClass:\n",
    "    def __init__(self, param1, param2):\n",
    "        self.attribute1 = param1\n",
    "        self.attribute2 = param2\n",
    "\n",
    "my_object = MyClass(45, 12)\n",
    "\n",
    "print(f\"Attribute 1: {my_object.attribute1}\")\n",
    "print(f\"Attribute 2: {my_object.attribute2}\")\n"
   ]
  },
  {
   "cell_type": "code",
   "execution_count": 10,
   "id": "5344860e-2e19-46a0-8b50-84cde678c2ab",
   "metadata": {},
   "outputs": [],
   "source": [
    "#Constructor-4"
   ]
  },
  {
   "cell_type": "code",
   "execution_count": 11,
   "id": "2942a9b9-8a48-4f97-96ee-1be2cd802b5f",
   "metadata": {},
   "outputs": [],
   "source": [
    "#The primary role of the __init__ method is to initialize the attributes of the object.\n",
    "#It allows you to set the initial state of the object when it is created."
   ]
  },
  {
   "cell_type": "code",
   "execution_count": 12,
   "id": "4eb616d5-8194-4445-9d4d-9c9b8c8f8759",
   "metadata": {},
   "outputs": [],
   "source": [
    "#Constructor-5"
   ]
  },
  {
   "cell_type": "code",
   "execution_count": 13,
   "id": "549e53d0-be81-446f-b448-59c9641782b5",
   "metadata": {},
   "outputs": [
    {
     "name": "stdout",
     "output_type": "stream",
     "text": [
      "Person 1: Name - Alice, Age - 25\n"
     ]
    }
   ],
   "source": [
    "class Person:\n",
    "    def __init__(self, name, age):\n",
    "        self.name = name\n",
    "        self.age = age\n",
    "\n",
    "person1 = Person(name=\"Alice\", age=25)\n",
    "\n",
    "print(f\"Person 1: Name - {person1.name}, Age - {person1.age}\")"
   ]
  },
  {
   "cell_type": "code",
   "execution_count": 14,
   "id": "84cd176b-5274-4c0a-b8cf-6222e7165094",
   "metadata": {},
   "outputs": [],
   "source": [
    "#Constructor-6"
   ]
  },
  {
   "cell_type": "code",
   "execution_count": 15,
   "id": "6c3549c3-6dc3-48f8-837e-84684f41412b",
   "metadata": {},
   "outputs": [
    {
     "name": "stdout",
     "output_type": "stream",
     "text": [
      "Constructor called with value: 10\n",
      "Object value after constructor: 10\n",
      "Explicit setup called with new value: 20\n",
      "Object value after explicit setup: 20\n"
     ]
    }
   ],
   "source": [
    "class MyClass:\n",
    "    def __init__(self, value):\n",
    "        self.value = value\n",
    "        print(f\"Constructor called with value: {value}\")\n",
    "\n",
    "    def explicit_setup(self, new_value):\n",
    "        self.value = new_value\n",
    "        print(f\"Explicit setup called with new value: {new_value}\")\n",
    "\n",
    "obj = MyClass(value=10)\n",
    "\n",
    "print(f\"Object value after constructor: {obj.value}\")\n",
    "\n",
    "obj.explicit_setup(new_value=20)\n",
    "\n",
    "print(f\"Object value after explicit setup: {obj.value}\")"
   ]
  },
  {
   "cell_type": "code",
   "execution_count": 16,
   "id": "d1f8395d-a1a3-46e9-a33f-6a911052b0b3",
   "metadata": {},
   "outputs": [],
   "source": [
    "#Constructor-7"
   ]
  },
  {
   "cell_type": "code",
   "execution_count": 17,
   "id": "50bb2068-7c2d-43a5-ac9b-bd2e10085be9",
   "metadata": {},
   "outputs": [],
   "source": [
    "#In Python, the self parameter in constructors and other instance methods serves as a reference to the instance of the class itself.\n",
    "#It allows you to access and manipulate the attributes and methods of the object within the class.\n",
    "#The name self is a convention, and you could technically use any other name, but it is standard practice to use self for clarity."
   ]
  },
  {
   "cell_type": "code",
   "execution_count": 18,
   "id": "9dacf33b-456f-4b49-909b-e3916c5443c5",
   "metadata": {},
   "outputs": [],
   "source": [
    "#Constructor-8"
   ]
  },
  {
   "cell_type": "code",
   "execution_count": 19,
   "id": "ce82ea6d-905f-438c-b288-61f943286a80",
   "metadata": {},
   "outputs": [],
   "source": [
    "#In Python, a default constructor is a constructor that is automatically provided by the language when a class definition \n",
    "# does not explicitly include one. \n",
    "# The default constructor has the same name as the class (__init__) and takes only the self parameter.\n",
    "# It initializes the object with no additional attributes."
   ]
  },
  {
   "cell_type": "code",
   "execution_count": 20,
   "id": "74fec8a1-153a-4b48-ac1b-56fd5ee32051",
   "metadata": {},
   "outputs": [],
   "source": [
    "#Constructor-9"
   ]
  },
  {
   "cell_type": "code",
   "execution_count": 21,
   "id": "a84f3f05-737b-4041-9ff2-d244e3f52bc9",
   "metadata": {},
   "outputs": [
    {
     "name": "stdout",
     "output_type": "stream",
     "text": [
      "Rectangle dimensions: Width - 5, Height - 8\n",
      "Area of the rectangle: 40\n"
     ]
    }
   ],
   "source": [
    "class Rectangle:\n",
    "    def __init__(self, width, height):\n",
    "        self.width = width\n",
    "        self.height = height\n",
    "\n",
    "    def calculate_area(self):\n",
    "        return self.width * self.height\n",
    "\n",
    "my_rectangle = Rectangle(width=5, height=8)\n",
    "\n",
    "print(f\"Rectangle dimensions: Width - {my_rectangle.width}, Height - {my_rectangle.height}\")\n",
    "\n",
    "area = my_rectangle.calculate_area()\n",
    "print(f\"Area of the rectangle: {area}\")"
   ]
  },
  {
   "cell_type": "code",
   "execution_count": 22,
   "id": "9cbbe221-e3d2-4ba6-8117-3bee9079beb3",
   "metadata": {},
   "outputs": [],
   "source": [
    "#Constructor-10"
   ]
  },
  {
   "cell_type": "code",
   "execution_count": 23,
   "id": "2409dc57-ff68-4841-8966-69b87cb556a5",
   "metadata": {},
   "outputs": [
    {
     "name": "stdout",
     "output_type": "stream",
     "text": [
      "Rectangle 1 dimensions: Width - 5, Height - 8\n",
      "Rectangle 2 dimensions: Width - 4, Height - 4\n",
      "Rectangle 3 dimensions: Width - 1, Height - 1\n",
      "Area of Rectangle 1: 40\n",
      "Area of Rectangle 2: 16\n",
      "Area of Rectangle 3: 1\n"
     ]
    }
   ],
   "source": [
    "class Rectangle:\n",
    "    def __init__(self, width=None, height=None):\n",
    "        if width is not None and height is not None:\n",
    "            self.width = width\n",
    "            self.height = height\n",
    "        elif width is not None:\n",
    "            self.width = width\n",
    "            self.height = width\n",
    "        else:\n",
    "            self.width = 1\n",
    "            self.height = 1\n",
    "\n",
    "    def calculate_area(self):\n",
    "        return self.width * self.height\n",
    "\n",
    "rectangle1 = Rectangle(width=5, height=8)\n",
    "rectangle2 = Rectangle(width=4)\n",
    "rectangle3 = Rectangle()\n",
    "\n",
    "print(f\"Rectangle 1 dimensions: Width - {rectangle1.width}, Height - {rectangle1.height}\")\n",
    "print(f\"Rectangle 2 dimensions: Width - {rectangle2.width}, Height - {rectangle2.height}\")\n",
    "print(f\"Rectangle 3 dimensions: Width - {rectangle3.width}, Height - {rectangle3.height}\")\n",
    "\n",
    "area1 = rectangle1.calculate_area()\n",
    "area2 = rectangle2.calculate_area()\n",
    "area3 = rectangle3.calculate_area()\n",
    "print(f\"Area of Rectangle 1: {area1}\")\n",
    "print(f\"Area of Rectangle 2: {area2}\")\n",
    "print(f\"Area of Rectangle 3: {area3}\")"
   ]
  },
  {
   "cell_type": "code",
   "execution_count": 24,
   "id": "f591a933-ac99-4c6b-b701-2fb10513fe4c",
   "metadata": {},
   "outputs": [],
   "source": [
    "#Constructor-11"
   ]
  },
  {
   "cell_type": "code",
   "execution_count": 25,
   "id": "4b9071c0-eb0a-411a-a02d-6f1c24f983b3",
   "metadata": {},
   "outputs": [],
   "source": [
    "#In Python, method overloading is achieved in a different way than in languages like Java or C++.\n",
    "# Python does not support traditional method overloading by defining multiple methods with the same name but different parameter lists. \n",
    "# However, it supports a form of overloading through default parameter values and variable-length argument lists."
   ]
  },
  {
   "cell_type": "code",
   "execution_count": 26,
   "id": "7dd79d4f-d634-4698-a62b-8a6c6f73417e",
   "metadata": {},
   "outputs": [],
   "source": [
    "#Constructor-12"
   ]
  },
  {
   "cell_type": "code",
   "execution_count": 27,
   "id": "8b03de5d-baf9-4dad-83bb-ad3f606a6faf",
   "metadata": {},
   "outputs": [],
   "source": [
    "#In Python, the super() function is used to call a method from a parent or superclass.\n",
    "# It is commonly used in constructors to invoke the constructor of the parent class.\n",
    "# This allows you to initialize the attributes of the current class while also performing any necessary initialization in the parent class."
   ]
  },
  {
   "cell_type": "code",
   "execution_count": 28,
   "id": "b4c3a3c0-1316-4374-b868-619a8c5be242",
   "metadata": {},
   "outputs": [],
   "source": [
    "#Constructor-13"
   ]
  },
  {
   "cell_type": "code",
   "execution_count": 29,
   "id": "eca99818-5934-44c0-83c7-2e91f279d732",
   "metadata": {},
   "outputs": [
    {
     "name": "stdout",
     "output_type": "stream",
     "text": [
      "Title: The Great Gatsby\n",
      "Author: F. Scott Fitzgerald\n",
      "Published Year: 1925\n"
     ]
    }
   ],
   "source": [
    "class Book:\n",
    "    def __init__(self, title, author, published_year):\n",
    "        self.title = title\n",
    "        self.author = author\n",
    "        self.published_year = published_year\n",
    "\n",
    "    def display_details(self):\n",
    "        print(f\"Title: {self.title}\")\n",
    "        print(f\"Author: {self.author}\")\n",
    "        print(f\"Published Year: {self.published_year}\")\n",
    "\n",
    "my_book = Book(title=\"The Great Gatsby\", author=\"F. Scott Fitzgerald\", published_year=1925)\n",
    "\n",
    "my_book.display_details()"
   ]
  },
  {
   "cell_type": "code",
   "execution_count": 30,
   "id": "59628646-1302-4e86-83cc-6853c15e9ba9",
   "metadata": {},
   "outputs": [],
   "source": [
    "#Constructor-14"
   ]
  },
  {
   "cell_type": "code",
   "execution_count": 31,
   "id": "c9d70b6b-5a55-4858-8f54-2d885299eab9",
   "metadata": {},
   "outputs": [],
   "source": [
    "#Constructors are primarily used for initializing the attributes of an object when it is created.\n",
    "#Constructors have a predefined method name, __init__, and are automatically called when an object is instantiated.\n",
    "\n",
    "#Regular methods perform specific actions or provide functionality associated with the class.\n",
    "#Regular methods can have any valid method name, and they need to be called explicitly."
   ]
  },
  {
   "cell_type": "code",
   "execution_count": 32,
   "id": "035313a9-613b-4e7e-adff-e5ace25078de",
   "metadata": {},
   "outputs": [],
   "source": [
    "#Constructor-15"
   ]
  },
  {
   "cell_type": "code",
   "execution_count": 33,
   "id": "d025b46b-4682-442d-b9af-1db6d67b6c74",
   "metadata": {},
   "outputs": [],
   "source": [
    "#self is a reference to the instance of the class for which the method is called or the attribute is accessed.\n",
    "#It allows you to differentiate between instance variables of different objects."
   ]
  },
  {
   "cell_type": "code",
   "execution_count": 34,
   "id": "cd01a8fc-c771-4220-be50-e6aa174c2f2a",
   "metadata": {},
   "outputs": [],
   "source": [
    "#Constructor-16"
   ]
  },
  {
   "cell_type": "code",
   "execution_count": 35,
   "id": "198f5cbf-c85b-4295-a1a2-4c260ae2ac17",
   "metadata": {},
   "outputs": [
    {
     "name": "stdout",
     "output_type": "stream",
     "text": [
      "True\n"
     ]
    }
   ],
   "source": [
    "class SingletonClass:\n",
    "    _instance = None\n",
    "\n",
    "    def __new__(cls):\n",
    "        if cls._instance is None:\n",
    "            cls._instance = super(SingletonClass, cls).__new__(cls)\n",
    "        return cls._instance\n",
    "\n",
    "    def __init__(self):\n",
    "        if not hasattr(self, '_initialized'):\n",
    "            self._initialized = True\n",
    "\n",
    "instance1 = SingletonClass()\n",
    "instance2 = SingletonClass()\n",
    "\n",
    "print(instance1 is instance2)"
   ]
  },
  {
   "cell_type": "code",
   "execution_count": 36,
   "id": "d84b6ac6-4d9b-4897-ac71-3c355d2914b4",
   "metadata": {},
   "outputs": [],
   "source": [
    "#Constructor-17"
   ]
  },
  {
   "cell_type": "code",
   "execution_count": 37,
   "id": "bc267a25-26c8-4e1a-907c-f29f13570a69",
   "metadata": {},
   "outputs": [
    {
     "name": "stdout",
     "output_type": "stream",
     "text": [
      "List of Subjects:\n",
      "Math\n",
      "Science\n",
      "History\n"
     ]
    }
   ],
   "source": [
    "class Student:\n",
    "    def __init__(self, subjects):\n",
    "        self.subjects = subjects\n",
    "\n",
    "    def display_subjects(self):\n",
    "        print(\"List of Subjects:\")\n",
    "        for subject in self.subjects:\n",
    "            print(subject)\n",
    "\n",
    "student1 = Student(subjects=[\"Math\", \"Science\", \"History\"])\n",
    "\n",
    "student1.display_subjects()"
   ]
  },
  {
   "cell_type": "code",
   "execution_count": 39,
   "id": "816ca367-79a0-44eb-92a3-eb58092a40c5",
   "metadata": {},
   "outputs": [],
   "source": [
    "#Constructor-18"
   ]
  },
  {
   "cell_type": "code",
   "execution_count": 40,
   "id": "6f5ca7d4-feee-47c7-a877-bfc4adf8ff3c",
   "metadata": {},
   "outputs": [],
   "source": [
    "#The __del__ method in Python is a special method used for defining the behavior that occurs when an\n",
    "# object is about to be destroyed, or deallocated, which happens when there are no more references to the object.\n",
    "# It is the counterpart to the __init__ method, which is used for object initialization."
   ]
  },
  {
   "cell_type": "code",
   "execution_count": 41,
   "id": "1751cda4-ae25-4731-a2ba-26dcf7792c98",
   "metadata": {},
   "outputs": [],
   "source": [
    "#Constructor-19"
   ]
  },
  {
   "cell_type": "code",
   "execution_count": 42,
   "id": "eced46df-28c9-4925-bae1-9daaa2ef8f0e",
   "metadata": {},
   "outputs": [
    {
     "name": "stdout",
     "output_type": "stream",
     "text": [
      "Person __init__: Alice, 20 years old.\n",
      "Student __init__: Student ID S12345.\n"
     ]
    }
   ],
   "source": [
    "class Person:\n",
    "    def __init__(self, name, age):\n",
    "        self.name = name\n",
    "        self.age = age\n",
    "        print(f\"Person __init__: {self.name}, {self.age} years old.\")\n",
    "\n",
    "class Student(Person):\n",
    "    def __init__(self, name, age, student_id):\n",
    "        super().__init__(name, age)\n",
    "\n",
    "        self.student_id = student_id\n",
    "        print(f\"Student __init__: Student ID {self.student_id}.\")\n",
    "\n",
    "\n",
    "student = Student(name=\"Alice\", age=20, student_id=\"S12345\")"
   ]
  },
  {
   "cell_type": "code",
   "execution_count": 43,
   "id": "bcede282-3d49-4789-b11e-f7269b0f4746",
   "metadata": {},
   "outputs": [],
   "source": [
    "#Constructor-20"
   ]
  },
  {
   "cell_type": "code",
   "execution_count": 44,
   "id": "c9b804dc-694a-45da-af79-9415f9527891",
   "metadata": {},
   "outputs": [
    {
     "name": "stdout",
     "output_type": "stream",
     "text": [
      "Make: Unknown\n",
      "Model: Unknown\n"
     ]
    }
   ],
   "source": [
    "class Car:\n",
    "    def __init__(self, make=\"Unknown\", model=\"Unknown\"):\n",
    "        self.make = make\n",
    "        self.model = model\n",
    "\n",
    "    def display_info(self):\n",
    "        print(f\"Make: {self.make}\")\n",
    "        print(f\"Model: {self.model}\")\n",
    "\n",
    "default_car = Car()\n",
    "\n",
    "default_car.display_info()"
   ]
  },
  {
   "cell_type": "code",
   "execution_count": 47,
   "id": "54db7666-3ff0-4b6d-abbe-3121fae8a2a4",
   "metadata": {},
   "outputs": [],
   "source": [
    "#Inheritance:-1"
   ]
  },
  {
   "cell_type": "code",
   "execution_count": 48,
   "id": "b03614a4-9db5-44c9-b04a-1e44f4047dc6",
   "metadata": {},
   "outputs": [],
   "source": [
    "#Inheritance is a fundamental concept in object-oriented programming (OOP)\n",
    "# that allows a class (called the subclass or derived class) to inherit attributes and behaviors from another class\n",
    "# (called the superclass or base class).\n",
    "# Inheritance promotes code reuse, modularity, and the creation of a hierarchical structure of classes."
   ]
  },
  {
   "cell_type": "code",
   "execution_count": 49,
   "id": "dc9b3e5c-64b7-452f-9089-bc1f493eb740",
   "metadata": {},
   "outputs": [],
   "source": [
    "#Inheritance:-2"
   ]
  },
  {
   "cell_type": "code",
   "execution_count": 50,
   "id": "2b1891cc-f36a-4017-a586-1b49cb06a11f",
   "metadata": {},
   "outputs": [],
   "source": [
    "#Single inheritance involves a subclass inheriting from only one superclass.\n",
    "#Multiple inheritance involves a subclass inheriting from more than one superclass."
   ]
  },
  {
   "cell_type": "code",
   "execution_count": 51,
   "id": "cfd3a207-bb5e-4045-8585-a9993a2ea857",
   "metadata": {},
   "outputs": [],
   "source": [
    "#Inheritance:-3"
   ]
  },
  {
   "cell_type": "code",
   "execution_count": 52,
   "id": "be652d0e-ed30-421b-aaeb-0f54a8aa7021",
   "metadata": {},
   "outputs": [
    {
     "name": "stdout",
     "output_type": "stream",
     "text": [
      "Color: Blue\n",
      "Speed: 120 km/h\n",
      "Brand: Toyota\n"
     ]
    }
   ],
   "source": [
    "class Vehicle:\n",
    "    def __init__(self, color, speed):\n",
    "        self.color = color\n",
    "        self.speed = speed\n",
    "\n",
    "    def display_info(self):\n",
    "        print(f\"Color: {self.color}\")\n",
    "        print(f\"Speed: {self.speed} km/h\")\n",
    "\n",
    "class Car(Vehicle):\n",
    "    def __init__(self, color, speed, brand):\n",
    "        super().__init__(color, speed)\n",
    "        self.brand = brand\n",
    "\n",
    "    def display_info(self):\n",
    "        super().display_info()\n",
    "        print(f\"Brand: {self.brand}\")\n",
    "\n",
    "my_car = Car(color=\"Blue\", speed=120, brand=\"Toyota\")\n",
    "\n",
    "my_car.display_info()"
   ]
  },
  {
   "cell_type": "code",
   "execution_count": 53,
   "id": "1bb0ba14-ace0-4d26-a5e5-d5751aecadb6",
   "metadata": {},
   "outputs": [],
   "source": [
    "#Inheritance:-4"
   ]
  },
  {
   "cell_type": "code",
   "execution_count": 54,
   "id": "82fd043f-9e0f-4ead-981f-9c0970e34767",
   "metadata": {},
   "outputs": [
    {
     "name": "stdout",
     "output_type": "stream",
     "text": [
      "Generic animal sound\n",
      "Woof! Woof!\n"
     ]
    }
   ],
   "source": [
    "# Superclass\n",
    "class Animal:\n",
    "    def make_sound(self):\n",
    "        print(\"Generic animal sound\")\n",
    "\n",
    "# Subclass\n",
    "class Dog(Animal):\n",
    "    # Method overriding\n",
    "    def make_sound(self):\n",
    "        print(\"Woof! Woof!\")\n",
    "\n",
    "animal = Animal()\n",
    "dog = Dog()\n",
    "\n",
    "animal.make_sound()\n",
    "dog.make_sound()"
   ]
  },
  {
   "cell_type": "code",
   "execution_count": 55,
   "id": "a83e523b-077a-42fa-9a07-62ce39336e6b",
   "metadata": {},
   "outputs": [],
   "source": [
    "#Inheritance:-5"
   ]
  },
  {
   "cell_type": "code",
   "execution_count": 60,
   "id": "e5228bb7-de17-4cdb-b401-756892dd5215",
   "metadata": {},
   "outputs": [
    {
     "name": "stdout",
     "output_type": "stream",
     "text": [
      "Generic animal sound\n",
      "Woof! Woof!\n",
      "---\n"
     ]
    }
   ],
   "source": [
    "# Parent class\n",
    "class Animal:\n",
    "    def __init__(self, species):\n",
    "        self.species = species\n",
    "\n",
    "    def make_sound(self):\n",
    "        print(\"Generic animal sound\")\n",
    "\n",
    "# Child class inheriting from Animal\n",
    "class Dog(Animal):\n",
    "    def __init__(self, species, breed):\n",
    "        # Call the constructor of the parent class using super()\n",
    "        super().__init__(species)\n",
    "        self.breed = breed\n",
    "\n",
    "    def make_sound(self):\n",
    "        # Call the overridden method of the parent class using super()\n",
    "        super().make_sound()\n",
    "        print(\"Woof! Woof!\")\n",
    "\n",
    "    def display_info(self):\n",
    "        # Access attributes of the parent class using super()\n",
    "        print(f\"Species: {super().species}\")  # Corrected line\n",
    "        print(f\"Breed: {self.breed}\")\n",
    "\n",
    "# Creating an object of the child class\n",
    "my_dog = Dog(species=\"Canine\", breed=\"Golden Retriever\")\n",
    "\n",
    "# Calling methods and accessing attributes\n",
    "my_dog.make_sound()\n",
    "print(\"---\")"
   ]
  },
  {
   "cell_type": "code",
   "execution_count": 61,
   "id": "ae8bb948-bd0f-4b88-9f33-efdd88543129",
   "metadata": {},
   "outputs": [],
   "source": [
    "#Inheritance:-6"
   ]
  },
  {
   "cell_type": "code",
   "execution_count": 62,
   "id": "e93e22d9-9bed-478a-a711-d1d088d3f501",
   "metadata": {},
   "outputs": [
    {
     "name": "stdout",
     "output_type": "stream",
     "text": [
      "Color: Red\n",
      "Width: 5\n",
      "Height: 8\n"
     ]
    }
   ],
   "source": [
    "# Superclass\n",
    "class Shape:\n",
    "    def __init__(self, color):\n",
    "        self.color = color\n",
    "\n",
    "    def display_info(self):\n",
    "        print(f\"Color: {self.color}\")\n",
    "\n",
    "# Subclass inheriting from Shape\n",
    "class Rectangle(Shape):\n",
    "    def __init__(self, color, width, height):\n",
    "        # Call the constructor of the parent class using super()\n",
    "        super().__init__(color)\n",
    "        self.width = width\n",
    "        self.height = height\n",
    "\n",
    "    def display_info(self):\n",
    "        # Call the overridden method of the parent class using super()\n",
    "        super().display_info()\n",
    "        print(f\"Width: {self.width}\")\n",
    "        print(f\"Height: {self.height}\")\n",
    "\n",
    "# Creating an object of the subclass\n",
    "rectangle = Rectangle(color=\"Red\", width=5, height=8)\n",
    "\n",
    "# Calling methods from the subclass and superclass\n",
    "rectangle.display_info()"
   ]
  },
  {
   "cell_type": "code",
   "execution_count": 63,
   "id": "e395df5e-68b8-4d37-8abd-58ecf180d270",
   "metadata": {},
   "outputs": [],
   "source": [
    "#Inheritance:-7"
   ]
  },
  {
   "cell_type": "code",
   "execution_count": 64,
   "id": "14d16507-c6ca-4277-bc5e-c06841ef3a31",
   "metadata": {},
   "outputs": [
    {
     "name": "stdout",
     "output_type": "stream",
     "text": [
      "Woof! Woof!\n",
      "Meow!\n"
     ]
    }
   ],
   "source": [
    "# Parent class\n",
    "class Animal:\n",
    "    def speak(self):\n",
    "        print(\"Generic animal sound\")\n",
    "\n",
    "# Child class 1\n",
    "class Dog(Animal):\n",
    "    def speak(self):\n",
    "        print(\"Woof! Woof!\")\n",
    "\n",
    "# Child class 2\n",
    "class Cat(Animal):\n",
    "    def speak(self):\n",
    "        print(\"Meow!\")\n",
    "\n",
    "dog = Dog()\n",
    "cat = Cat()\n",
    "\n",
    "dog.speak()  \n",
    "cat.speak() "
   ]
  },
  {
   "cell_type": "code",
   "execution_count": 65,
   "id": "52b2f035-0352-45c7-ad69-0ca1da73147d",
   "metadata": {},
   "outputs": [],
   "source": [
    "#Inheritance:-8"
   ]
  },
  {
   "cell_type": "code",
   "execution_count": 66,
   "id": "a3b8f224-16c9-42c5-91cc-afff8fdf3ae5",
   "metadata": {},
   "outputs": [
    {
     "name": "stdout",
     "output_type": "stream",
     "text": [
      "True\n"
     ]
    }
   ],
   "source": [
    "class Animal:\n",
    "    pass\n",
    "\n",
    "class Dog(Animal):\n",
    "    pass\n",
    "\n",
    "my_dog = Dog()\n",
    "print(isinstance(my_dog, Animal))"
   ]
  },
  {
   "cell_type": "code",
   "execution_count": 67,
   "id": "26b6c5eb-0a15-4ebe-b9d9-e37b987720a9",
   "metadata": {},
   "outputs": [],
   "source": [
    "#Inheritance:-9"
   ]
  },
  {
   "cell_type": "code",
   "execution_count": 68,
   "id": "79af22a4-9d3b-4ead-b146-681b097ce5a6",
   "metadata": {},
   "outputs": [
    {
     "name": "stdout",
     "output_type": "stream",
     "text": [
      "True\n"
     ]
    }
   ],
   "source": [
    "class Animal:\n",
    "    pass\n",
    "\n",
    "class Dog(Animal):\n",
    "    pass\n",
    "\n",
    "print(issubclass(Dog, Animal))"
   ]
  },
  {
   "cell_type": "code",
   "execution_count": 69,
   "id": "2e3d458d-310f-4b03-99f3-e782c4cbb541",
   "metadata": {},
   "outputs": [],
   "source": [
    "#Inheritance:-10"
   ]
  },
  {
   "cell_type": "code",
   "execution_count": 70,
   "id": "6e0dfd3e-9e2d-4c73-853b-4d4b8be5b011",
   "metadata": {},
   "outputs": [],
   "source": [
    "#In Python, constructor inheritance refers to the way constructors are inherited from a parent class to its child classes in an\n",
    "# inheritance hierarchy.\n",
    "# The constructor of a parent class is automatically inherited by its child classes unless the child class provides its own constructor.\n",
    "# The process of constructor inheritance ensures that the initialization logic defined in the constructor \n",
    "# of the parent class is also applied when creating objects of the child class."
   ]
  },
  {
   "cell_type": "code",
   "execution_count": 71,
   "id": "f90cd20f-06ec-4159-8e95-cee01f17e725",
   "metadata": {},
   "outputs": [],
   "source": [
    "#Inheritance:-11"
   ]
  },
  {
   "cell_type": "code",
   "execution_count": 72,
   "id": "5c5ef69d-7fd6-4e0f-8c26-daa66509d6b7",
   "metadata": {},
   "outputs": [
    {
     "name": "stdout",
     "output_type": "stream",
     "text": [
      "Area of the Circle: 78.53981633974483\n",
      "Area of the Rectangle: 24\n"
     ]
    }
   ],
   "source": [
    "import math\n",
    "\n",
    "# Parent class\n",
    "class Shape:\n",
    "    def area(self):\n",
    "        # Default implementation for the area method\n",
    "        print(\"Area calculation not defined for this shape\")\n",
    "\n",
    "# Child class 1\n",
    "class Circle(Shape):\n",
    "    def __init__(self, radius):\n",
    "        self.radius = radius\n",
    "\n",
    "    def area(self):\n",
    "        # Implementation of area calculation for a circle\n",
    "        return math.pi * self.radius ** 2\n",
    "\n",
    "# Child class 2\n",
    "class Rectangle(Shape):\n",
    "    def __init__(self, width, height):\n",
    "        self.width = width\n",
    "        self.height = height\n",
    "\n",
    "    def area(self):\n",
    "        # Implementation of area calculation for a rectangle\n",
    "        return self.width * self.height\n",
    "\n",
    "# Example usage\n",
    "circle = Circle(radius=5)\n",
    "rectangle = Rectangle(width=4, height=6)\n",
    "\n",
    "# Calling the area method for both shapes\n",
    "print(f\"Area of the Circle: {circle.area()}\")\n",
    "print(f\"Area of the Rectangle: {rectangle.area()}\")"
   ]
  },
  {
   "cell_type": "code",
   "execution_count": 73,
   "id": "85f171f3-546c-41d1-ac87-e82b909d10b2",
   "metadata": {},
   "outputs": [],
   "source": [
    "#Inheritance:-12"
   ]
  },
  {
   "cell_type": "code",
   "execution_count": 74,
   "id": "6d01beb4-d216-4230-a7f5-7687f31ee4b1",
   "metadata": {},
   "outputs": [
    {
     "name": "stdout",
     "output_type": "stream",
     "text": [
      "Area of the Circle: 78.53981633974483\n",
      "Area of the Rectangle: 24\n"
     ]
    }
   ],
   "source": [
    "from abc import ABC, abstractmethod\n",
    "import math\n",
    "\n",
    "class Shape(ABC):\n",
    "    @abstractmethod\n",
    "    def area(self):\n",
    "        pass\n",
    "\n",
    "class Circle(Shape):\n",
    "    def __init__(self, radius):\n",
    "        self.radius = radius\n",
    "\n",
    "    def area(self):\n",
    "        return math.pi * self.radius ** 2\n",
    "\n",
    "class Rectangle(Shape):\n",
    "    def __init__(self, width, height):\n",
    "        self.width = width\n",
    "        self.height = height\n",
    "\n",
    "    def area(self):\n",
    "        return self.width * self.height\n",
    "\n",
    "circle = Circle(radius=5)\n",
    "rectangle = Rectangle(width=4, height=6)\n",
    "\n",
    "print(f\"Area of the Circle: {circle.area()}\")\n",
    "print(f\"Area of the Rectangle: {rectangle.area()}\")"
   ]
  },
  {
   "cell_type": "code",
   "execution_count": 76,
   "id": "684bfbc6-1e19-4eaf-9696-356bde1cf364",
   "metadata": {},
   "outputs": [],
   "source": [
    "#Inheritance:-13"
   ]
  },
  {
   "cell_type": "code",
   "execution_count": 79,
   "id": "529d6e76-2fff-46cf-a6f0-7fa1afa94a87",
   "metadata": {},
   "outputs": [
    {
     "name": "stdout",
     "output_type": "stream",
     "text": [
      "42\n"
     ]
    }
   ],
   "source": [
    "class Parent:\n",
    "    def __init__(self):\n",
    "        self._read_only_attribute = 42\n",
    "\n",
    "    @property\n",
    "    def read_only_attribute(self):\n",
    "        return self._read_only_attribute\n",
    "\n",
    "class Child(Parent):\n",
    "    pass\n",
    "\n",
    "# Example usage\n",
    "child_obj = Child()\n",
    "print(child_obj.read_only_attribute)"
   ]
  },
  {
   "cell_type": "code",
   "execution_count": 80,
   "id": "ca00f9b3-e923-4cec-8d7a-3b13ef883ae4",
   "metadata": {},
   "outputs": [],
   "source": [
    "#Inheritance:-14"
   ]
  },
  {
   "cell_type": "code",
   "execution_count": 81,
   "id": "ae2da5af-ef4a-4b88-903c-a861c49808f3",
   "metadata": {},
   "outputs": [
    {
     "name": "stdout",
     "output_type": "stream",
     "text": [
      "Employee Information:\n",
      "Name: John Doe\n",
      "Salary: $50000\n",
      "\n",
      "Manager Information:\n",
      "Name: Jane Smith\n",
      "Salary: $70000\n",
      "Department: Marketing\n"
     ]
    }
   ],
   "source": [
    "class Employee:\n",
    "    def __init__(self, name, salary):\n",
    "        self.name = name\n",
    "        self.salary = salary\n",
    "\n",
    "    def display_info(self):\n",
    "        print(f\"Name: {self.name}\\nSalary: ${self.salary}\")\n",
    "\n",
    "# Child class\n",
    "class Manager(Employee):\n",
    "    def __init__(self, name, salary, department):\n",
    "        # Call the constructor of the parent class using super()\n",
    "        super().__init__(name, salary)\n",
    "        self.department = department\n",
    "\n",
    "    def display_info(self):\n",
    "        # Override the display_info method to include the department\n",
    "        super().display_info()\n",
    "        print(f\"Department: {self.department}\")\n",
    "\n",
    "# Example usage\n",
    "employee = Employee(name=\"John Doe\", salary=50000)\n",
    "manager = Manager(name=\"Jane Smith\", salary=70000, department=\"Marketing\")\n",
    "\n",
    "# Display information for both employee and manager\n",
    "print(\"Employee Information:\")\n",
    "employee.display_info()\n",
    "\n",
    "print(\"\\nManager Information:\")\n",
    "manager.display_info()\n"
   ]
  },
  {
   "cell_type": "code",
   "execution_count": 82,
   "id": "7d1a6776-2b38-4543-911b-ca7d9e04a2a6",
   "metadata": {},
   "outputs": [],
   "source": [
    "#Inheritance:-15"
   ]
  },
  {
   "cell_type": "code",
   "execution_count": 84,
   "id": "adefe834-5ae0-44da-bef6-e386f7b898f3",
   "metadata": {},
   "outputs": [],
   "source": [
    "#In Python, method overloading refers to the ability to define multiple methods in a class with the same name but different parameter lists\n",
    "#Unlike some other programming languages, Python does not support traditional method overloading based on the number or types of arguments.\n",
    "#However, method overloading can still be achieved in Python using default argument values or variable-length argument lists.\n",
    "\n",
    "#Method overriding, on the other hand, refers to providing a specific implementation of a method in a subclass\n",
    "#that is already defined in its superclass.\n",
    "#When a method is overridden in a subclass, the version of the method in the subclass takes precedence when called\n",
    "#on objects of that subclass."
   ]
  },
  {
   "cell_type": "code",
   "execution_count": 85,
   "id": "8646482a-6145-4d0a-8a60-8dac536ce127",
   "metadata": {},
   "outputs": [],
   "source": [
    "#Inheritance:-16"
   ]
  },
  {
   "cell_type": "code",
   "execution_count": 86,
   "id": "758d0cb9-f9c5-431d-96e6-b16866619422",
   "metadata": {},
   "outputs": [],
   "source": [
    "#In Python, the __init__() method is a special method, also known as a constructor,\n",
    "#that is automatically called when an object is created from a class. The primary purpose of the __init__()\n",
    "#method is to initialize the attributes of an object.\n",
    "#It is commonly used in Python inheritance to perform initialization tasks for both the parent and child classes."
   ]
  },
  {
   "cell_type": "code",
   "execution_count": 87,
   "id": "7f4f1752-97f5-4a3c-ab52-a9da1fcbaeb2",
   "metadata": {},
   "outputs": [],
   "source": [
    "#Inheritance:-17"
   ]
  },
  {
   "cell_type": "code",
   "execution_count": 88,
   "id": "9af3d203-c68b-480f-82cd-0f27767dad5d",
   "metadata": {},
   "outputs": [
    {
     "name": "stdout",
     "output_type": "stream",
     "text": [
      "Bird:\n",
      "Generic bird flying\n",
      "\n",
      "Eagle:\n",
      "Eagle soaring through the sky\n",
      "\n",
      "Sparrow:\n",
      "Sparrow flitting about with rapid wing beats\n"
     ]
    }
   ],
   "source": [
    "class Bird:\n",
    "    def fly(self):\n",
    "        print(\"Generic bird flying\")\n",
    "\n",
    "class Eagle(Bird):\n",
    "    def fly(self):\n",
    "        print(\"Eagle soaring through the sky\")\n",
    "\n",
    "class Sparrow(Bird):\n",
    "    def fly(self):\n",
    "        print(\"Sparrow flitting about with rapid wing beats\")\n",
    "\n",
    "bird = Bird()\n",
    "eagle = Eagle()\n",
    "sparrow = Sparrow()\n",
    "\n",
    "print(\"Bird:\")\n",
    "bird.fly()\n",
    "\n",
    "print(\"\\nEagle:\")\n",
    "eagle.fly()\n",
    "\n",
    "print(\"\\nSparrow:\")\n",
    "sparrow.fly()"
   ]
  },
  {
   "cell_type": "code",
   "execution_count": 89,
   "id": "72dcdb2d-1828-44ba-ae6b-db2a6ebd8bb9",
   "metadata": {},
   "outputs": [],
   "source": [
    "#Inheritance:-18"
   ]
  },
  {
   "cell_type": "code",
   "execution_count": 90,
   "id": "d7fb8fa7-149b-4994-883d-2ca6669918da",
   "metadata": {},
   "outputs": [],
   "source": [
    "#The \"diamond problem\" is a term used in the context of object-oriented programming and multiple inheritance.\n",
    "#It occurs when a class inherits from two classes that have a common ancestor. In such a scenario,\n",
    "#if a method or attribute is invoked that is defined in the common ancestor,\n",
    "#it becomes ambiguous which version of the method or attribute should be used."
   ]
  },
  {
   "cell_type": "code",
   "execution_count": 91,
   "id": "479c469b-a394-463b-a9ad-1b96fd14c886",
   "metadata": {},
   "outputs": [],
   "source": [
    "#Inheritance:-19"
   ]
  },
  {
   "cell_type": "code",
   "execution_count": 92,
   "id": "3882cddf-df5d-4848-bd0b-f4d8f8773f21",
   "metadata": {},
   "outputs": [],
   "source": [
    "#Inheritance in object-oriented programming (OOP) is often described in terms of \"is-a\" and \"has-a\" relationships.\n",
    "#These relationships help define the nature of the connections between classes and guide the design of class hierarchies."
   ]
  },
  {
   "cell_type": "code",
   "execution_count": 93,
   "id": "0bc266e8-15bb-404e-a3ad-26586c2fc445",
   "metadata": {},
   "outputs": [],
   "source": [
    "#Inheritance:-20"
   ]
  },
  {
   "cell_type": "code",
   "execution_count": 94,
   "id": "e94375c1-bbad-402f-9a8c-7deafc63ff64",
   "metadata": {},
   "outputs": [
    {
     "name": "stdout",
     "output_type": "stream",
     "text": [
      "Hello, my name is Alice, and I am 20 years old.\n",
      "Hello, my name is Dr. Smith, and I am 45 years old.\n",
      "Student Alice with ID S12345 is studying.\n",
      "Professor Dr. Smith with ID P9876 is teaching.\n"
     ]
    }
   ],
   "source": [
    "class Person:\n",
    "    def __init__(self, name, age):\n",
    "        self.name = name\n",
    "        self.age = age\n",
    "\n",
    "    def introduce(self):\n",
    "        print(f\"Hello, my name is {self.name}, and I am {self.age} years old.\")\n",
    "\n",
    "class Student(Person):\n",
    "    def __init__(self, name, age, student_id):\n",
    "        super().__init__(name, age)\n",
    "        self.student_id = student_id\n",
    "\n",
    "    def study(self):\n",
    "        print(f\"Student {self.name} with ID {self.student_id} is studying.\")\n",
    "\n",
    "class Professor(Person):\n",
    "    def __init__(self, name, age, employee_id):\n",
    "        super().__init__(name, age)\n",
    "        self.employee_id = employee_id\n",
    "\n",
    "    def teach(self):\n",
    "        print(f\"Professor {self.name} with ID {self.employee_id} is teaching.\")\n",
    "\n",
    "# Example usage in a university context\n",
    "student1 = Student(name=\"Alice\", age=20, student_id=\"S12345\")\n",
    "professor1 = Professor(name=\"Dr. Smith\", age=45, employee_id=\"P9876\")\n",
    "\n",
    "# Introduce themselves\n",
    "student1.introduce()\n",
    "professor1.introduce()\n",
    "\n",
    "# Perform specific actions\n",
    "student1.study()\n",
    "professor1.teach()"
   ]
  },
  {
   "cell_type": "code",
   "execution_count": 96,
   "id": "98615a26-d580-443e-94a1-c5c54ffa5a08",
   "metadata": {},
   "outputs": [],
   "source": [
    "#Encapsulation-1"
   ]
  },
  {
   "cell_type": "code",
   "execution_count": 97,
   "id": "a3d18c84-88b5-403c-a080-26e3d9aadab6",
   "metadata": {},
   "outputs": [],
   "source": [
    "#Encapsulation is one of the fundamental principles of object-oriented programming (OOP),\n",
    "#and it refers to the bundling of data (attributes) and the methods (functions) that operate on the data\n",
    "#into a single unit known as a class.\n",
    "#The key idea is to restrict access to the internal details of an object and expose only what is\n",
    "#necessary for the outside world to interact with the object.\n",
    "#This helps in achieving data hiding and abstraction."
   ]
  },
  {
   "cell_type": "code",
   "execution_count": 98,
   "id": "2aae4b6a-988c-48bf-8b03-d0110a0cbab5",
   "metadata": {},
   "outputs": [],
   "source": [
    "#Encapsulation-2"
   ]
  },
  {
   "cell_type": "code",
   "execution_count": 99,
   "id": "66f84d2c-822a-4a92-b6fa-9547612de6f5",
   "metadata": {},
   "outputs": [],
   "source": [
    "#Encapsulation is a fundamental concept in object-oriented programming (OOP) that involves bundling the data\n",
    "#(attributes) and methods (functions) that operate on the data into a single unit known as a class.\n",
    "#The key principles of encapsulation include access control and data hiding."
   ]
  },
  {
   "cell_type": "code",
   "execution_count": 100,
   "id": "975b1abb-6d47-4b7f-89e5-6bb07a293041",
   "metadata": {},
   "outputs": [],
   "source": [
    "#Encapsulation-3"
   ]
  },
  {
   "cell_type": "code",
   "execution_count": 101,
   "id": "7fb0dd94-e79b-4636-b50c-cc80830a6884",
   "metadata": {},
   "outputs": [
    {
     "name": "stdout",
     "output_type": "stream",
     "text": [
      "Account Number: 123456789\n",
      "Initial Balance: 1000\n",
      "Balance after deposit: 1500\n",
      "Balance after withdrawal: 1300\n"
     ]
    }
   ],
   "source": [
    "class BankAccount:\n",
    "    def __init__(self, account_number, balance):\n",
    "        self.__account_number = account_number  # Private attribute\n",
    "        self.__balance = balance  # Private attribute\n",
    "\n",
    "    # Getter methods to access private attributes\n",
    "    def get_account_number(self):\n",
    "        return self.__account_number\n",
    "\n",
    "    def get_balance(self):\n",
    "        return self.__balance\n",
    "\n",
    "    # Setter methods to modify private attributes\n",
    "    def deposit(self, amount):\n",
    "        if amount > 0:\n",
    "            self.__balance += amount\n",
    "\n",
    "    def withdraw(self, amount):\n",
    "        if amount > 0 and amount <= self.__balance:\n",
    "            self.__balance -= amount\n",
    "\n",
    "# Example usage\n",
    "account = BankAccount(account_number=\"123456789\", balance=1000)\n",
    "\n",
    "# External code interacts with the object using public methods\n",
    "print(\"Account Number:\", account.get_account_number())\n",
    "print(\"Initial Balance:\", account.get_balance())\n",
    "\n",
    "account.deposit(500)\n",
    "print(\"Balance after deposit:\", account.get_balance())\n",
    "\n",
    "account.withdraw(200)\n",
    "print(\"Balance after withdrawal:\", account.get_balance())"
   ]
  },
  {
   "cell_type": "code",
   "execution_count": 102,
   "id": "2ad24cb3-d49e-470a-b7ba-b68fee3e58e7",
   "metadata": {},
   "outputs": [],
   "source": [
    "#Encapsulation-4"
   ]
  },
  {
   "cell_type": "code",
   "execution_count": 103,
   "id": "625c0d71-27e6-4618-95f6-0e16981c26ee",
   "metadata": {},
   "outputs": [],
   "source": [
    "#In Python, access modifiers are used to control the visibility and accessibility of attributes and methods in a class. \n",
    "#The three main access modifiers are public, private, and protected. \n",
    "#They determine whether a member (attribute or method) is accessible from outside the class or only within the class and its subclasses."
   ]
  },
  {
   "cell_type": "code",
   "execution_count": 104,
   "id": "2a6dd0ac-e3c7-4b77-8a86-e69e1dae3ec4",
   "metadata": {},
   "outputs": [],
   "source": [
    "#Encapsulation-5"
   ]
  },
  {
   "cell_type": "code",
   "execution_count": 105,
   "id": "8cd113e5-aa54-4201-8761-8c962c0d579c",
   "metadata": {},
   "outputs": [
    {
     "name": "stdout",
     "output_type": "stream",
     "text": [
      "Original Name: John Doe\n",
      "Updated Name: Jane Doe\n"
     ]
    }
   ],
   "source": [
    "class Person:\n",
    "    def __init__(self, name):\n",
    "        self.__name = name  # Private attribute\n",
    "\n",
    "    # Getter method to get the name attribute\n",
    "    def get_name(self):\n",
    "        return self.__name\n",
    "\n",
    "    # Setter method to set the name attribute\n",
    "    def set_name(self, new_name):\n",
    "        self.__name = new_name\n",
    "\n",
    "person = Person(name=\"John Doe\")\n",
    "\n",
    "print(\"Original Name:\", person.get_name())\n",
    "\n",
    "person.set_name(\"Jane Doe\")\n",
    "print(\"Updated Name:\", person.get_name())"
   ]
  },
  {
   "cell_type": "code",
   "execution_count": 107,
   "id": "c1ecb644-97ec-400d-be9b-3bc025865cc5",
   "metadata": {},
   "outputs": [],
   "source": [
    "#Encapsulation-6"
   ]
  },
  {
   "cell_type": "code",
   "execution_count": 108,
   "id": "cc4429c4-8470-448a-984f-81f649b6b4ee",
   "metadata": {},
   "outputs": [],
   "source": [
    "#Getter and setter methods play a crucial role in encapsulation by providing controlled access to private attributes within a class. \n",
    "#They allow external code to retrieve (get) and modify (set) the values of private attributes, \n",
    "#while maintaining control over how these operations are performed. \n",
    "#This helps in enforcing data integrity, validation, and abstraction of the internal implementation details."
   ]
  },
  {
   "cell_type": "code",
   "execution_count": 109,
   "id": "952f8f2b-d638-4c08-9fce-55e4f685a8e5",
   "metadata": {},
   "outputs": [],
   "source": [
    "#Encapsulation-7"
   ]
  },
  {
   "cell_type": "code",
   "execution_count": 110,
   "id": "33dbce17-1067-4d63-9757-2bc409712a8b",
   "metadata": {},
   "outputs": [],
   "source": [
    "#Name mangling in Python is a mechanism that transforms the names of attributes in a class\n",
    "#to make them less accessible from outside the class.\n",
    "#This is achieved by adding a prefix to the names, specifically a double underscore (__).\n",
    "#The purpose of name mangling is to make it harder to accidentally override attributes in\n",
    "#subclasses and to partially emulate private attributes."
   ]
  },
  {
   "cell_type": "code",
   "execution_count": 111,
   "id": "2209626c-5105-4e95-88c5-232dbdad6f83",
   "metadata": {},
   "outputs": [],
   "source": [
    "#Encapsulation-8"
   ]
  },
  {
   "cell_type": "code",
   "execution_count": 112,
   "id": "e9ac1751-cb13-40aa-a888-815636cbd06e",
   "metadata": {},
   "outputs": [
    {
     "name": "stdout",
     "output_type": "stream",
     "text": [
      "Account Number: 123456789\n",
      "Initial Balance: 1000\n",
      "Deposited $500. New balance: $1500\n",
      "Withdrew $200. New balance: $1300\n"
     ]
    }
   ],
   "source": [
    "class BankAccount:\n",
    "    def __init__(self, account_number, initial_balance=0):\n",
    "        self.__account_number = account_number  # Private attribute\n",
    "        self.__balance = initial_balance  # Private attribute\n",
    "\n",
    "    # Getter methods to access private attributes\n",
    "    def get_account_number(self):\n",
    "        return self.__account_number\n",
    "\n",
    "    def get_balance(self):\n",
    "        return self.__balance\n",
    "\n",
    "    # Methods for depositing and withdrawing money\n",
    "    def deposit(self, amount):\n",
    "        if amount > 0:\n",
    "            self.__balance += amount\n",
    "            print(f\"Deposited ${amount}. New balance: ${self.__balance}\")\n",
    "        else:\n",
    "            print(\"Invalid deposit amount. Please deposit a positive amount.\")\n",
    "\n",
    "    def withdraw(self, amount):\n",
    "        if amount > 0 and amount <= self.__balance:\n",
    "            self.__balance -= amount\n",
    "            print(f\"Withdrew ${amount}. New balance: ${self.__balance}\")\n",
    "        else:\n",
    "            print(\"Invalid withdrawal amount. Please withdraw a valid amount.\")\n",
    "\n",
    "# Example usage\n",
    "account = BankAccount(account_number=\"123456789\", initial_balance=1000)\n",
    "\n",
    "# Access private attributes using getter methods\n",
    "print(\"Account Number:\", account.get_account_number())\n",
    "print(\"Initial Balance:\", account.get_balance())\n",
    "\n",
    "# Deposit and withdraw money using methods\n",
    "account.deposit(500)\n",
    "account.withdraw(200)"
   ]
  },
  {
   "cell_type": "code",
   "execution_count": 113,
   "id": "481a154e-c7cd-4f77-a1ee-13c7ffb0c5bb",
   "metadata": {},
   "outputs": [],
   "source": [
    "#Encapsulation-9"
   ]
  },
  {
   "cell_type": "code",
   "execution_count": 114,
   "id": "f6bfd51b-89bc-4acd-ab8a-7e2b752d3118",
   "metadata": {},
   "outputs": [],
   "source": [
    "#Encapsulation in object-oriented programming brings several advantages to code maintainability and security.\n",
    "#Here are key benefits associated with encapsulation:\n",
    "#1-Code Maintainability\n",
    "#2-Security\n",
    "#3-Flexibility and Evolution\n",
    "#4-Encapsulation of Complexity\n",
    "#5-Enhanced Collaboration"
   ]
  },
  {
   "cell_type": "code",
   "execution_count": 115,
   "id": "82344ada-fd16-485d-a3a9-ff89b7ad0789",
   "metadata": {},
   "outputs": [],
   "source": [
    "#Encapsulation-10"
   ]
  },
  {
   "cell_type": "code",
   "execution_count": 116,
   "id": "1e8b242f-b5f2-4d9b-9297-37be6b8abf0e",
   "metadata": {},
   "outputs": [
    {
     "name": "stdout",
     "output_type": "stream",
     "text": [
      "42\n"
     ]
    }
   ],
   "source": [
    "class MyClass:\n",
    "    def __init__(self):\n",
    "        self.__private_attribute = 42\n",
    "\n",
    "obj = MyClass()\n",
    "\n",
    "print(obj._MyClass__private_attribute)"
   ]
  },
  {
   "cell_type": "code",
   "execution_count": 117,
   "id": "2d157ceb-ff47-4ef0-9119-b98c6c430679",
   "metadata": {},
   "outputs": [],
   "source": [
    "#Encapsulation-11"
   ]
  },
  {
   "cell_type": "code",
   "execution_count": 118,
   "id": "d1b6573c-5c2c-42d9-a8e7-1576128aef70",
   "metadata": {},
   "outputs": [
    {
     "name": "stdout",
     "output_type": "stream",
     "text": [
      "Teacher: Mrs. Smith, Employee ID: E001\n",
      "Students:\n",
      "- John Doe, Student ID: S001\n",
      "- Jane Doe, Student ID: S002\n"
     ]
    }
   ],
   "source": [
    "class Person:\n",
    "    def __init__(self, name, age, id_number):\n",
    "        self.__name = name  # Private attribute\n",
    "        self.__age = age    # Private attribute\n",
    "        self.__id_number = id_number  # Private attribute\n",
    "\n",
    "    # Getter methods to access private attributes\n",
    "    def get_name(self):\n",
    "        return self.__name\n",
    "\n",
    "    def get_age(self):\n",
    "        return self.__age\n",
    "\n",
    "    def get_id_number(self):\n",
    "        return self.__id_number\n",
    "\n",
    "class Student(Person):\n",
    "    def __init__(self, name, age, id_number, student_id):\n",
    "        super().__init__(name, age, id_number)\n",
    "        self.__student_id = student_id  # Private attribute\n",
    "\n",
    "    # Getter method to access private attribute\n",
    "    def get_student_id(self):\n",
    "        return self.__student_id\n",
    "\n",
    "class Teacher(Person):\n",
    "    def __init__(self, name, age, id_number, employee_id):\n",
    "        super().__init__(name, age, id_number)\n",
    "        self.__employee_id = employee_id  # Private attribute\n",
    "\n",
    "    # Getter method to access private attribute\n",
    "    def get_employee_id(self):\n",
    "        return self.__employee_id\n",
    "\n",
    "class Course:\n",
    "    def __init__(self, course_code, course_name, teacher, students=None):\n",
    "        self.__course_code = course_code  # Private attribute\n",
    "        self.__course_name = course_name  # Private attribute\n",
    "        self.__teacher = teacher          # Private attribute\n",
    "        self.__students = students if students else []  # Private attribute\n",
    "\n",
    "    # Getter methods to access private attributes\n",
    "    def get_course_code(self):\n",
    "        return self.__course_code\n",
    "\n",
    "    def get_course_name(self):\n",
    "        return self.__course_name\n",
    "\n",
    "    def get_teacher(self):\n",
    "        return self.__teacher\n",
    "\n",
    "    def get_students(self):\n",
    "        return self.__students\n",
    "\n",
    "    # Method to add a student to the course\n",
    "    def add_student(self, student):\n",
    "        self.__students.append(student)\n",
    "\n",
    "# Example usage\n",
    "teacher = Teacher(name=\"Mrs. Smith\", age=35, id_number=\"T123\", employee_id=\"E001\")\n",
    "student1 = Student(name=\"John Doe\", age=18, id_number=\"S123\", student_id=\"S001\")\n",
    "student2 = Student(name=\"Jane Doe\", age=17, id_number=\"S124\", student_id=\"S002\")\n",
    "\n",
    "math_course = Course(course_code=\"MATH101\", course_name=\"Mathematics 101\", teacher=teacher)\n",
    "math_course.add_student(student1)\n",
    "math_course.add_student(student2)\n",
    "\n",
    "print(f\"Teacher: {math_course.get_teacher().get_name()}, Employee ID: {teacher.get_employee_id()}\")\n",
    "print(\"Students:\")\n",
    "for student in math_course.get_students():\n",
    "    print(f\"- {student.get_name()}, Student ID: {student.get_student_id()}\")\n"
   ]
  },
  {
   "cell_type": "code",
   "execution_count": 119,
   "id": "8364b873-40fe-4e8a-b849-e7358636940e",
   "metadata": {},
   "outputs": [],
   "source": [
    "#Encapsulation-12"
   ]
  },
  {
   "cell_type": "code",
   "execution_count": 120,
   "id": "b3999d4b-bccf-4edd-a60d-a6cd43f165a9",
   "metadata": {},
   "outputs": [],
   "source": [
    "class MyClass:\n",
    "    def __init__(self):\n",
    "        self._my_attribute = None\n",
    "\n",
    "    @property\n",
    "    def my_attribute(self):\n",
    "        # Getter method\n",
    "        return self._my_attribute\n",
    "\n",
    "    @my_attribute.setter\n",
    "    def my_attribute(self, value):\n",
    "        # Setter method\n",
    "        self._my_attribute = value\n",
    "\n",
    "    @my_attribute.deleter\n",
    "    def my_attribute(self):\n",
    "        # Deleter method\n",
    "        del self._my_attribute"
   ]
  },
  {
   "cell_type": "code",
   "execution_count": 121,
   "id": "e5944488-e48b-4b71-b8b5-5639aa68669f",
   "metadata": {},
   "outputs": [],
   "source": [
    "#Encapsulation-13"
   ]
  },
  {
   "cell_type": "code",
   "execution_count": 122,
   "id": "b3bec855-723a-4196-949b-c428fa786bda",
   "metadata": {},
   "outputs": [
    {
     "name": "stdout",
     "output_type": "stream",
     "text": [
      "Initial Balance: 1000\n",
      "Withdrew $200. New balance: $800\n"
     ]
    }
   ],
   "source": [
    "class BankAccount:\n",
    "    def __init__(self, account_number, balance):\n",
    "        self._account_number = account_number  # Protected attribute\n",
    "        self.__balance = balance  # Private attribute\n",
    "\n",
    "    # Getter method for balance (data hiding)\n",
    "    def get_balance(self):\n",
    "        return self.__balance\n",
    "\n",
    "    # Method to withdraw money (data hiding)\n",
    "    def withdraw(self, amount):\n",
    "        if amount > 0 and amount <= self.__balance:\n",
    "            self.__balance -= amount\n",
    "            print(f\"Withdrew ${amount}. New balance: ${self.__balance}\")\n",
    "        else:\n",
    "            print(\"Invalid withdrawal amount. Please withdraw a valid amount.\")\n",
    "\n",
    "# Example usage\n",
    "account = BankAccount(account_number=\"123456789\", balance=1000)\n",
    "\n",
    "# External code cannot directly access or modify __balance\n",
    "print(\"Initial Balance:\", account.get_balance())\n",
    "\n",
    "# External code interacts through public methods\n",
    "account.withdraw(200)"
   ]
  },
  {
   "cell_type": "code",
   "execution_count": 123,
   "id": "1581b296-96c2-4afc-9bb7-dfd5f386ca8c",
   "metadata": {},
   "outputs": [],
   "source": [
    "#Encapsulation-14"
   ]
  },
  {
   "cell_type": "code",
   "execution_count": 124,
   "id": "72de4258-ce9b-4e78-b9c5-33cf097eefce",
   "metadata": {},
   "outputs": [
    {
     "name": "stdout",
     "output_type": "stream",
     "text": [
      "Employee ID: E001\n",
      "Salary: 50000\n",
      "Yearly Bonus: 5000.0\n"
     ]
    }
   ],
   "source": [
    "class Employee:\n",
    "    def __init__(self, employee_id, salary):\n",
    "        self.__employee_id = employee_id  # Private attribute\n",
    "        self.__salary = salary  # Private attribute\n",
    "\n",
    "    def get_employee_id(self):\n",
    "        return self.__employee_id\n",
    "\n",
    "    def get_salary(self):\n",
    "        return self.__salary\n",
    "\n",
    "    def calculate_yearly_bonus(self):\n",
    "        bonus_percentage = 0.10\n",
    "        yearly_bonus = self.__salary * bonus_percentage\n",
    "        return yearly_bonus\n",
    "\n",
    "employee = Employee(employee_id=\"E001\", salary=50000)\n",
    "\n",
    "print(\"Employee ID:\", employee.get_employee_id())\n",
    "print(\"Salary:\", employee.get_salary())\n",
    "\n",
    "bonus = employee.calculate_yearly_bonus()\n",
    "print(\"Yearly Bonus:\", bonus)"
   ]
  },
  {
   "cell_type": "code",
   "execution_count": 125,
   "id": "8b7c1cf7-7ecb-400a-a708-a22e606c4590",
   "metadata": {},
   "outputs": [],
   "source": [
    "#Encapsulation-15"
   ]
  },
  {
   "cell_type": "code",
   "execution_count": 126,
   "id": "51ec9558-11a3-4829-a5b9-7225d9de33ba",
   "metadata": {},
   "outputs": [],
   "source": [
    "#Accessors and mutators are methods used in encapsulation to provide controlled access to the attributes of a class.\n",
    "#They play a crucial role in maintaining control over attribute access by allowing a class to define how its attributes \n",
    "#are read and modified from outside the class.\n",
    "#These methods are also known as getters and setters, respectively."
   ]
  },
  {
   "cell_type": "code",
   "execution_count": 127,
   "id": "c6861c45-fc59-4e2b-919d-127f9e15e8a4",
   "metadata": {},
   "outputs": [],
   "source": [
    "#Encapsulation-16"
   ]
  },
  {
   "cell_type": "code",
   "execution_count": 128,
   "id": "4b32a40a-a8ab-472d-ad50-0585a9149212",
   "metadata": {},
   "outputs": [],
   "source": [
    "#While encapsulation is a fundamental concept in object-oriented programming that offers many benefits,\n",
    "#including improved code organization, security, and maintainability,\n",
    "#there are also potential drawbacks or disadvantages associated with its use in Python:"
   ]
  },
  {
   "cell_type": "code",
   "execution_count": 129,
   "id": "a29a6f1f-b4d5-49ec-bc68-9018afe7e18c",
   "metadata": {},
   "outputs": [],
   "source": [
    "#Encapsulation-17"
   ]
  },
  {
   "cell_type": "code",
   "execution_count": 130,
   "id": "c9131576-b23b-4cd1-b767-e2ca7bbc5b11",
   "metadata": {},
   "outputs": [
    {
     "name": "stdout",
     "output_type": "stream",
     "text": [
      "Book 1:\n",
      "Title: The Great Gatsby\n",
      "Author: F. Scott Fitzgerald\n",
      "Availability: Available\n",
      "Book 'The Great Gatsby' by F. Scott Fitzgerald has been borrowed.\n",
      "Book 'The Great Gatsby' by F. Scott Fitzgerald has been returned.\n",
      "Book 'To Kill a Mockingbird' by Harper Lee has been borrowed.\n",
      "Book 'To Kill a Mockingbird' by Harper Lee has been returned.\n"
     ]
    }
   ],
   "source": [
    "class Book:\n",
    "    def __init__(self, title, author):\n",
    "        self.__title = title  # Private attribute\n",
    "        self.__author = author  # Private attribute\n",
    "        self.__available = True  # Private attribute, initially set to True\n",
    "\n",
    "    # Getter methods for book information\n",
    "    def get_title(self):\n",
    "        return self.__title\n",
    "\n",
    "    def get_author(self):\n",
    "        return self.__author\n",
    "\n",
    "    def is_available(self):\n",
    "        return self.__available\n",
    "\n",
    "    # Method to borrow the book (mutator)\n",
    "    def borrow_book(self):\n",
    "        if self.__available:\n",
    "            print(f\"Book '{self.__title}' by {self.__author} has been borrowed.\")\n",
    "            self.__available = False\n",
    "        else:\n",
    "            print(f\"Sorry, '{self.__title}' is currently not available.\")\n",
    "\n",
    "    # Method to return the book (mutator)\n",
    "    def return_book(self):\n",
    "        if not self.__available:\n",
    "            print(f\"Book '{self.__title}' by {self.__author} has been returned.\")\n",
    "            self.__available = True\n",
    "        else:\n",
    "            print(f\"The book '{self.__title}' is already available in the library.\")\n",
    "\n",
    "# Example usage\n",
    "book1 = Book(title=\"The Great Gatsby\", author=\"F. Scott Fitzgerald\")\n",
    "book2 = Book(title=\"To Kill a Mockingbird\", author=\"Harper Lee\")\n",
    "\n",
    "# Accessing book information using getters\n",
    "print(\"Book 1:\")\n",
    "print(\"Title:\", book1.get_title())\n",
    "print(\"Author:\", book1.get_author())\n",
    "print(\"Availability:\", \"Available\" if book1.is_available() else \"Not Available\")\n",
    "\n",
    "# Borrowing and returning books using mutator methods\n",
    "book1.borrow_book()\n",
    "book1.return_book()\n",
    "\n",
    "book2.borrow_book()\n",
    "book2.return_book()"
   ]
  },
  {
   "cell_type": "code",
   "execution_count": 131,
   "id": "fa0c282c-b178-46a9-ac9d-48db2834495d",
   "metadata": {},
   "outputs": [],
   "source": [
    "#Encapsulation-18"
   ]
  },
  {
   "cell_type": "code",
   "execution_count": 132,
   "id": "8172ae39-41ea-4a91-bb75-c73aa4f67a5e",
   "metadata": {},
   "outputs": [],
   "source": [
    "#Encapsulation is a key principle in object-oriented programming (OOP) that involves bundling data (attributes) and methods\n",
    "#(functions) that operate on that data within a single unit, known as a class.\n",
    "#Encapsulation enhances code reusability and modularity in Python programs"
   ]
  },
  {
   "cell_type": "code",
   "execution_count": 133,
   "id": "adc9809f-691f-49ff-9ee7-de663a373e30",
   "metadata": {},
   "outputs": [],
   "source": [
    "#Encapsulation-19"
   ]
  },
  {
   "cell_type": "code",
   "execution_count": 134,
   "id": "1ea1e459-690d-4cfe-9e93-84c15062c28e",
   "metadata": {},
   "outputs": [],
   "source": [
    "#Information hiding is a key concept within encapsulation that involves concealing the internal details of an object's\n",
    "#mplementation and exposing only what is necessary for the object's interaction with the outside world."
   ]
  },
  {
   "cell_type": "code",
   "execution_count": 135,
   "id": "4c9e1625-1992-4cf6-ad31-243ebddf0954",
   "metadata": {},
   "outputs": [],
   "source": [
    "#Encapsulation-20"
   ]
  },
  {
   "cell_type": "code",
   "execution_count": 136,
   "id": "e0fa22e1-edc0-4876-ba85-4beb53f7729e",
   "metadata": {},
   "outputs": [
    {
     "name": "stdout",
     "output_type": "stream",
     "text": [
      "Customer Details:\n",
      "Name: John Doe\n",
      "Address: 123 Main St\n",
      "Contact Info: 555-1234\n",
      "\n",
      "Updated Customer Details:\n",
      "Name: Jane Doe\n",
      "Address: 456 Oak St\n",
      "Contact Info: 555-5678\n"
     ]
    }
   ],
   "source": [
    "class Customer:\n",
    "    def __init__(self, name, address, contact_info):\n",
    "        # Private attributes\n",
    "        self.__name = name\n",
    "        self.__address = address\n",
    "        self.__contact_info = contact_info\n",
    "\n",
    "    # Getter methods for customer details\n",
    "    def get_name(self):\n",
    "        return self.__name\n",
    "\n",
    "    def get_address(self):\n",
    "        return self.__address\n",
    "\n",
    "    def get_contact_info(self):\n",
    "        return self.__contact_info\n",
    "\n",
    "    # Setter methods for updating customer details\n",
    "    def set_name(self, new_name):\n",
    "        # Additional validation or logic can be added here\n",
    "        self.__name = new_name\n",
    "\n",
    "    def set_address(self, new_address):\n",
    "        # Additional validation or logic can be added here\n",
    "        self.__address = new_address\n",
    "\n",
    "    def set_contact_info(self, new_contact_info):\n",
    "        # Additional validation or logic can be added here\n",
    "        self.__contact_info = new_contact_info\n",
    "\n",
    "# Example usage\n",
    "customer = Customer(name=\"John Doe\", address=\"123 Main St\", contact_info=\"555-1234\")\n",
    "\n",
    "# Accessing customer details using getters\n",
    "print(\"Customer Details:\")\n",
    "print(\"Name:\", customer.get_name())\n",
    "print(\"Address:\", customer.get_address())\n",
    "print(\"Contact Info:\", customer.get_contact_info())\n",
    "\n",
    "# Updating customer details using setters\n",
    "customer.set_name(\"Jane Doe\")\n",
    "customer.set_address(\"456 Oak St\")\n",
    "customer.set_contact_info(\"555-5678\")\n",
    "\n",
    "# Displaying updated customer details\n",
    "print(\"\\nUpdated Customer Details:\")\n",
    "print(\"Name:\", customer.get_name())\n",
    "print(\"Address:\", customer.get_address())\n",
    "print(\"Contact Info:\", customer.get_contact_info())"
   ]
  },
  {
   "cell_type": "code",
   "execution_count": 137,
   "id": "51e2cd9d-ddb3-4634-a710-c20edcd9954b",
   "metadata": {},
   "outputs": [],
   "source": [
    "#Polymorphism-1"
   ]
  },
  {
   "cell_type": "code",
   "execution_count": 138,
   "id": "de658c55-bb05-4bca-8367-b1929a9a911b",
   "metadata": {},
   "outputs": [],
   "source": [
    "#Polymorphism is a concept in object-oriented programming (OOP) that allows objects of different classes to be treated\n",
    "#as objects of a common base class.\n",
    "#It enables a single interface to be used for a general class of actions, leading to more flexible and reusable code.\n",
    "#Polymorphism is closely related to two main principles of OOP: inheritance and encapsulation."
   ]
  },
  {
   "cell_type": "code",
   "execution_count": 139,
   "id": "277c89eb-2cec-4e96-95ad-525b20183c7a",
   "metadata": {},
   "outputs": [],
   "source": [
    "#Polymorphism-2"
   ]
  },
  {
   "cell_type": "code",
   "execution_count": 140,
   "id": "82e14b8f-7afd-474f-8843-b4986b51a8da",
   "metadata": {},
   "outputs": [],
   "source": [
    "#In Python, the terms \"compile-time polymorphism\" and \"runtime polymorphism\" are\n",
    "#often used in the context of method overloading (compile-time) and method overriding (runtime) to achieve polymorphic behavior."
   ]
  },
  {
   "cell_type": "code",
   "execution_count": 141,
   "id": "81ef74af-a45b-4dc0-95a2-1021675ce20e",
   "metadata": {},
   "outputs": [],
   "source": [
    "#Polymorphism-3"
   ]
  },
  {
   "cell_type": "code",
   "execution_count": 142,
   "id": "adfb2c31-cc20-4c0a-a510-a7009691b468",
   "metadata": {},
   "outputs": [
    {
     "name": "stdout",
     "output_type": "stream",
     "text": [
      "Area: 78.53981633974483\n",
      "Area: 16\n",
      "Area: 9.0\n"
     ]
    }
   ],
   "source": [
    "import math\n",
    "\n",
    "class Shape:\n",
    "    def calculate_area(self):\n",
    "        pass\n",
    "\n",
    "class Circle(Shape):\n",
    "    def __init__(self, radius):\n",
    "        self.radius = radius\n",
    "\n",
    "    def calculate_area(self):\n",
    "        return math.pi * self.radius**2\n",
    "\n",
    "class Square(Shape):\n",
    "    def __init__(self, side_length):\n",
    "        self.side_length = side_length\n",
    "\n",
    "    def calculate_area(self):\n",
    "        return self.side_length**2\n",
    "\n",
    "class Triangle(Shape):\n",
    "    def __init__(self, base, height):\n",
    "        self.base = base\n",
    "        self.height = height\n",
    "\n",
    "    def calculate_area(self):\n",
    "        return 0.5 * self.base * self.height\n",
    "\n",
    "def print_area(shape):\n",
    "    print(f\"Area: {shape.calculate_area()}\")\n",
    "\n",
    "circle = Circle(radius=5)\n",
    "square = Square(side_length=4)\n",
    "triangle = Triangle(base=6, height=3)\n",
    "\n",
    "print_area(circle)\n",
    "print_area(square)\n",
    "print_area(triangle)\n"
   ]
  },
  {
   "cell_type": "code",
   "execution_count": 143,
   "id": "66c844b0-973c-4994-84c4-c0c0328e1ab8",
   "metadata": {},
   "outputs": [],
   "source": [
    "#Polymorphism-4"
   ]
  },
  {
   "cell_type": "code",
   "execution_count": 144,
   "id": "e01dad1b-3a84-4d8e-ae56-8c165fa4c593",
   "metadata": {},
   "outputs": [],
   "source": [
    "#Method overriding is a concept in object-oriented programming where a subclass provides a specific implementation for a \n",
    "# method that is already defined in its superclass. \n",
    "# This allows a subclass to customize or extend the behavior of a method inherited from its superclass. \n",
    "# Method overriding is a key aspect of achieving runtime polymorphism."
   ]
  },
  {
   "cell_type": "code",
   "execution_count": 145,
   "id": "36743f9c-f37c-42dc-b30d-ed4bcd8afebd",
   "metadata": {},
   "outputs": [],
   "source": [
    "#Polymorphism-5"
   ]
  },
  {
   "cell_type": "code",
   "execution_count": 146,
   "id": "76d72c7b-50bf-44a5-8de0-d791191c0d6f",
   "metadata": {},
   "outputs": [],
   "source": [
    "#Method overloading refers to defining multiple methods in the same class with the same name but different parameter lists \n",
    " #(number or type of parameters). Python does not support traditional method overloading like some other languages (e.g., Java),\n",
    " #where you can have multiple methods with the same name in a class based on the type and number of parameters.\n",
    " #However, Python allows a form of method overloading through default parameter values and variable-length argument lists.\n",
    "\n",
    "#Polymorphism is a broader concept that allows objects of different types to be treated as objects of a common type.\n",
    " #In Python, polymorphism is often achieved through method overriding, where a subclass provides a specific implementation of a\n",
    " #method that is already defined in its superclass."
   ]
  },
  {
   "cell_type": "code",
   "execution_count": 147,
   "id": "c55b0a88-acb7-4212-a4c3-4bb5e5f5e0dc",
   "metadata": {},
   "outputs": [],
   "source": [
    "#Polymorphism-6"
   ]
  },
  {
   "cell_type": "code",
   "execution_count": 148,
   "id": "f9d4e0b6-cb5a-43b2-945c-f0922aea352f",
   "metadata": {},
   "outputs": [
    {
     "name": "stdout",
     "output_type": "stream",
     "text": [
      "Woof!\n",
      "Meow!\n",
      "Chirp!\n"
     ]
    }
   ],
   "source": [
    "class Animal:\n",
    "    def speak(self):\n",
    "        pass\n",
    "\n",
    "class Dog(Animal):\n",
    "    def speak(self):\n",
    "        return \"Woof!\"\n",
    "\n",
    "class Cat(Animal):\n",
    "    def speak(self):\n",
    "        return \"Meow!\"\n",
    "\n",
    "class Bird(Animal):\n",
    "    def speak(self):\n",
    "        return \"Chirp!\"\n",
    "\n",
    "def animal_speak(animal):\n",
    "    return animal.speak()\n",
    "\n",
    "dog_instance = Dog()\n",
    "cat_instance = Cat()\n",
    "bird_instance = Bird()\n",
    "\n",
    "print(animal_speak(dog_instance))\n",
    "print(animal_speak(cat_instance))\n",
    "print(animal_speak(bird_instance))"
   ]
  },
  {
   "cell_type": "code",
   "execution_count": 149,
   "id": "46d21fc1-42dc-448c-8546-dee1c8d07709",
   "metadata": {},
   "outputs": [],
   "source": [
    "#Polymorphism-7"
   ]
  },
  {
   "cell_type": "code",
   "execution_count": 150,
   "id": "1cce0437-e5e9-4c5b-8751-3ca11e1eef3f",
   "metadata": {},
   "outputs": [],
   "source": [
    "#Abstract classes and abstract methods are tools in Python for achieving polymorphism by defining a common\n",
    "#interface that subclasses must implement.\n",
    "#Abstract classes cannot be instantiated, and they serve as a blueprint for other classes. \n",
    "#Abstract methods, on the other hand, are methods declared in an abstract class that must be implemented by any concrete\n",
    "#(non-abstract) subclass."
   ]
  },
  {
   "cell_type": "code",
   "execution_count": 151,
   "id": "d3b02bd7-48de-4ec9-ad0e-4bf53db10ee8",
   "metadata": {},
   "outputs": [],
   "source": [
    "#Polymorphism-8"
   ]
  },
  {
   "cell_type": "code",
   "execution_count": 152,
   "id": "8e6dfecc-4f5f-427a-9113-ec27f52e56c0",
   "metadata": {},
   "outputs": [
    {
     "name": "stdout",
     "output_type": "stream",
     "text": [
      "Toyota Camry with 4 doors starts engine.\n",
      "Giant Defy with 18 gears is ready to pedal.\n",
      "Yamaha 242X with 2 engines is ready to sail.\n"
     ]
    }
   ],
   "source": [
    "class Vehicle:\n",
    "    def __init__(self, brand, model):\n",
    "        self.brand = brand\n",
    "        self.model = model\n",
    "\n",
    "    def start(self):\n",
    "        pass  # Abstract method, to be overridden by subclasses\n",
    "\n",
    "class Car(Vehicle):\n",
    "    def __init__(self, brand, model, num_doors):\n",
    "        super().__init__(brand, model)\n",
    "        self.num_doors = num_doors\n",
    "\n",
    "    def start(self):\n",
    "        return f\"{self.brand} {self.model} with {self.num_doors} doors starts engine.\"\n",
    "\n",
    "class Bicycle(Vehicle):\n",
    "    def __init__(self, brand, model, num_gears):\n",
    "        super().__init__(brand, model)\n",
    "        self.num_gears = num_gears\n",
    "\n",
    "    def start(self):\n",
    "        return f\"{self.brand} {self.model} with {self.num_gears} gears is ready to pedal.\"\n",
    "\n",
    "class Boat(Vehicle):\n",
    "    def __init__(self, brand, model, num_engines):\n",
    "        super().__init__(brand, model)\n",
    "        self.num_engines = num_engines\n",
    "\n",
    "    def start(self):\n",
    "        return f\"{self.brand} {self.model} with {self.num_engines} engines is ready to sail.\"\n",
    "\n",
    "# Polymorphism demonstration\n",
    "def start_vehicle(vehicle):\n",
    "    return vehicle.start()\n",
    "\n",
    "# Creating instances of different vehicle types\n",
    "car_instance = Car(\"Toyota\", \"Camry\", 4)\n",
    "bicycle_instance = Bicycle(\"Giant\", \"Defy\", 18)\n",
    "boat_instance = Boat(\"Yamaha\", \"242X\", 2)\n",
    "\n",
    "# Calling the start() method on objects of different vehicle types\n",
    "print(start_vehicle(car_instance))\n",
    "print(start_vehicle(bicycle_instance))\n",
    "print(start_vehicle(boat_instance))"
   ]
  },
  {
   "cell_type": "code",
   "execution_count": 153,
   "id": "6e7dcf33-7ce4-45e5-bd9e-3c3af7effc18",
   "metadata": {},
   "outputs": [],
   "source": [
    "#Polymorphism-9"
   ]
  },
  {
   "cell_type": "code",
   "execution_count": 154,
   "id": "c5f60240-4c40-4c35-8fdb-314cb1174f36",
   "metadata": {},
   "outputs": [],
   "source": [
    "#1-'is_instance' Determines if an object is an instance of a particular class or a tuple of classes.\n",
    "#2-'issubclass' Determines if a class is a subclass of another class."
   ]
  },
  {
   "cell_type": "code",
   "execution_count": 155,
   "id": "dbcaa3fa-e661-4768-bbe1-a90267fa031b",
   "metadata": {},
   "outputs": [],
   "source": [
    "#Polymorphism-10"
   ]
  },
  {
   "cell_type": "code",
   "execution_count": 156,
   "id": "97ed6571-4897-4991-8b2c-b47d0b557e1d",
   "metadata": {},
   "outputs": [
    {
     "name": "stdout",
     "output_type": "stream",
     "text": [
      "78.5\n",
      "24\n"
     ]
    }
   ],
   "source": [
    "from abc import ABC, abstractmethod\n",
    "\n",
    "class Shape(ABC):\n",
    "    @abstractmethod\n",
    "    def area(self):\n",
    "        pass\n",
    "\n",
    "class Circle(Shape):\n",
    "    def __init__(self, radius):\n",
    "        self.radius = radius\n",
    "\n",
    "    def area(self):\n",
    "        return 3.14 * self.radius**2\n",
    "\n",
    "class Rectangle(Shape):\n",
    "    def __init__(self, length, width):\n",
    "        self.length = length\n",
    "        self.width = width\n",
    "\n",
    "    def area(self):\n",
    "        return self.length * self.width\n",
    "\n",
    "def calculate_area(shape):\n",
    "    return shape.area()\n",
    "\n",
    "circle_instance = Circle(radius=5)\n",
    "rectangle_instance = Rectangle(length=4, width=6)\n",
    "\n",
    "print(calculate_area(circle_instance))     # Output: 78.5\n",
    "print(calculate_area(rectangle_instance))  # Output: 24"
   ]
  },
  {
   "cell_type": "code",
   "execution_count": 157,
   "id": "43508809-a888-41fe-804a-b278aa9c4e3a",
   "metadata": {},
   "outputs": [],
   "source": [
    "#Polymorphism-11"
   ]
  },
  {
   "cell_type": "code",
   "execution_count": 158,
   "id": "4a80ab38-a264-422a-84a7-4f0cb71dca88",
   "metadata": {},
   "outputs": [
    {
     "name": "stdout",
     "output_type": "stream",
     "text": [
      "78.5\n",
      "24\n",
      "12.0\n"
     ]
    }
   ],
   "source": [
    "from abc import ABC, abstractmethod\n",
    "\n",
    "class Shape(ABC):\n",
    "    @abstractmethod\n",
    "    def area(self):\n",
    "        pass\n",
    "\n",
    "class Circle(Shape):\n",
    "    def __init__(self, radius):\n",
    "        self.radius = radius\n",
    "\n",
    "    def area(self):\n",
    "        return 3.14 * self.radius**2\n",
    "\n",
    "class Rectangle(Shape):\n",
    "    def __init__(self, length, width):\n",
    "        self.length = length\n",
    "        self.width = width\n",
    "\n",
    "    def area(self):\n",
    "        return self.length * self.width\n",
    "\n",
    "class Triangle(Shape):\n",
    "    def __init__(self, base, height):\n",
    "        self.base = base\n",
    "        self.height = height\n",
    "\n",
    "    def area(self):\n",
    "        return 0.5 * self.base * self.height\n",
    "\n",
    "# Polymorphism demonstration\n",
    "def calculate_area(shape):\n",
    "    return shape.area()\n",
    "\n",
    "circle_instance = Circle(radius=5)\n",
    "rectangle_instance = Rectangle(length=4, width=6)\n",
    "triangle_instance = Triangle(base=3, height=8)\n",
    "\n",
    "print(calculate_area(circle_instance))     \n",
    "print(calculate_area(rectangle_instance))  \n",
    "print(calculate_area(triangle_instance))  \n"
   ]
  },
  {
   "cell_type": "code",
   "execution_count": 159,
   "id": "c4248eb3-4ab5-4526-88e5-e73ba33912ad",
   "metadata": {},
   "outputs": [],
   "source": [
    "#Polymorphism-12"
   ]
  },
  {
   "cell_type": "code",
   "execution_count": 160,
   "id": "683114f7-eb84-46b2-b3ff-8246d65261c2",
   "metadata": {},
   "outputs": [],
   "source": [
    "#Polymorphism in Python brings several benefits to code reusability and flexibility. Here are some key advantages:\n",
    "#1-Code Reusability\n",
    "#2-Flexibility\n",
    "#3-Simplifies Code and Improves Readability\n",
    "#4-Easier Maintenance and Testing"
   ]
  },
  {
   "cell_type": "code",
   "execution_count": 161,
   "id": "53bd6a07-b619-4e08-a059-bf86901f3cf1",
   "metadata": {},
   "outputs": [],
   "source": [
    "#Polymorphism-13"
   ]
  },
  {
   "cell_type": "code",
   "execution_count": 162,
   "id": "053bc6fc-69f9-48d6-b83d-fd4242562c1d",
   "metadata": {},
   "outputs": [],
   "source": [
    "#The super() function in Python is used to call methods from the parent or superclass within a subclass.\n",
    "#It's particularly useful when you want to extend the behavior of a method in the subclass without completely overriding it.\n",
    "#The super() function provides a way to invoke the method in the superclass and then add or modify functionality in the subclass."
   ]
  },
  {
   "cell_type": "code",
   "execution_count": 163,
   "id": "da8334b8-9bf6-4acb-8273-7439201f26a9",
   "metadata": {},
   "outputs": [],
   "source": [
    "#Polymorphism-14"
   ]
  },
  {
   "cell_type": "code",
   "execution_count": 164,
   "id": "0ac4920b-cc71-4444-b851-3d54c2e7207e",
   "metadata": {},
   "outputs": [
    {
     "name": "stdout",
     "output_type": "stream",
     "text": [
      "Withdrawal successful. Remaining balance: $798.00\n",
      "Withdrawal successful. Remaining balance: $-300.00\n",
      "Insufficient funds.\n"
     ]
    }
   ],
   "source": [
    "from abc import ABC, abstractmethod\n",
    "\n",
    "class BankAccount(ABC):\n",
    "    def __init__(self, account_number, balance):\n",
    "        self.account_number = account_number\n",
    "        self.balance = balance\n",
    "\n",
    "    @abstractmethod\n",
    "    def withdraw(self, amount):\n",
    "        pass\n",
    "\n",
    "    def display_balance(self):\n",
    "        return f\"Account {self.account_number}: Balance ${self.balance:.2f}\"\n",
    "\n",
    "class SavingsAccount(BankAccount):\n",
    "    def __init__(self, account_number, balance, interest_rate):\n",
    "        super().__init__(account_number, balance)\n",
    "        self.interest_rate = interest_rate\n",
    "\n",
    "    def withdraw(self, amount):\n",
    "        # Apply withdrawal fee for savings account\n",
    "        withdrawal_fee = 2.0\n",
    "        total_withdrawal = amount + withdrawal_fee\n",
    "\n",
    "        if total_withdrawal <= self.balance:\n",
    "            self.balance -= total_withdrawal\n",
    "            return f\"Withdrawal successful. Remaining balance: ${self.balance:.2f}\"\n",
    "        else:\n",
    "            return \"Insufficient funds.\"\n",
    "\n",
    "class CheckingAccount(BankAccount):\n",
    "    def __init__(self, account_number, balance, overdraft_limit):\n",
    "        super().__init__(account_number, balance)\n",
    "        self.overdraft_limit = overdraft_limit\n",
    "\n",
    "    def withdraw(self, amount):\n",
    "        # Allow overdraft up to the specified limit for checking account\n",
    "        total_withdrawal = amount\n",
    "\n",
    "        if total_withdrawal <= self.balance + self.overdraft_limit:\n",
    "            self.balance -= total_withdrawal\n",
    "            return f\"Withdrawal successful. Remaining balance: ${self.balance:.2f}\"\n",
    "        else:\n",
    "            return \"Insufficient funds.\"\n",
    "\n",
    "class CreditCardAccount(BankAccount):\n",
    "    def __init__(self, account_number, balance, credit_limit):\n",
    "        super().__init__(account_number, balance)\n",
    "        self.credit_limit = credit_limit\n",
    "\n",
    "    def withdraw(self, amount):\n",
    "        # Allow withdrawals up to the credit limit for credit card account\n",
    "        if amount <= self.balance + self.credit_limit:\n",
    "            self.balance -= amount\n",
    "            return f\"Withdrawal successful. Remaining balance: ${self.balance:.2f}\"\n",
    "        else:\n",
    "            return \"Insufficient funds.\"\n",
    "\n",
    "def perform_withdrawal(account, amount):\n",
    "    return account.withdraw(amount)\n",
    "\n",
    "savings_account = SavingsAccount(account_number=\"SA123\", balance=1000.0, interest_rate=0.02)\n",
    "checking_account = CheckingAccount(account_number=\"CA456\", balance=1500.0, overdraft_limit=500.0)\n",
    "credit_card_account = CreditCardAccount(account_number=\"CC789\", balance=-500.0, credit_limit=1000.0)\n",
    "\n",
    "print(perform_withdrawal(savings_account, 200.0))\n",
    "print(perform_withdrawal(checking_account, 1800.0))\n",
    "print(perform_withdrawal(credit_card_account, 700.0))\n"
   ]
  },
  {
   "cell_type": "code",
   "execution_count": 165,
   "id": "0a9bf4b4-b324-4e12-9f01-2b1115e072d0",
   "metadata": {},
   "outputs": [],
   "source": [
    "#Polymorphism-15"
   ]
  },
  {
   "cell_type": "code",
   "execution_count": 166,
   "id": "01e2e21f-0b35-4471-9fc7-5fe57ab7f7d8",
   "metadata": {},
   "outputs": [
    {
     "name": "stdout",
     "output_type": "stream",
     "text": [
      "(4, 6)\n",
      "(3, 6)\n"
     ]
    }
   ],
   "source": [
    "class Vector:\n",
    "    def __init__(self, x, y):\n",
    "        self.x = x\n",
    "        self.y = y\n",
    "\n",
    "    def __add__(self, other):\n",
    "        return Vector(self.x + other.x, self.y + other.y)\n",
    "\n",
    "    def __mul__(self, scalar):\n",
    "        return Vector(self.x * scalar, self.y * scalar)\n",
    "\n",
    "    def __str__(self):\n",
    "        return f\"({self.x}, {self.y})\"\n",
    "\n",
    "v1 = Vector(1, 2)\n",
    "v2 = Vector(3, 4)\n",
    "\n",
    "result_addition = v1 + v2\n",
    "print(result_addition)  # Output: (4, 6)\n",
    "\n",
    "result_multiplication = v1 * 3\n",
    "print(result_multiplication)"
   ]
  },
  {
   "cell_type": "code",
   "execution_count": 167,
   "id": "5eae6f3e-7070-44c5-88c1-afe43ca41c1c",
   "metadata": {},
   "outputs": [],
   "source": [
    "#Polymorphism-16"
   ]
  },
  {
   "cell_type": "code",
   "execution_count": 168,
   "id": "5f44bf1c-6396-40e9-a7a8-957be7d12ae5",
   "metadata": {},
   "outputs": [],
   "source": [
    "#Dynamic polymorphism, also known as runtime polymorphism, is a concept in object-oriented programming where \n",
    "#the method that gets executed is determined at runtime. It allows objects of different types to be treated as objects of a common type, \n",
    "#and the decision about which method to call is made during program execution based on the actual type of the object."
   ]
  },
  {
   "cell_type": "code",
   "execution_count": 169,
   "id": "77858e2f-88a1-4d44-86c2-299457b66c33",
   "metadata": {},
   "outputs": [],
   "source": [
    "#Polymorphism-17"
   ]
  },
  {
   "cell_type": "code",
   "execution_count": 170,
   "id": "aee5b7e5-0a4b-4078-8e64-ffc7d9a01816",
   "metadata": {},
   "outputs": [
    {
     "name": "stdout",
     "output_type": "stream",
     "text": [
      "John Manager's salary: $70,000.00\n",
      "Alice Developer's salary: $8,000.00\n",
      "Bob Designer's salary: $55,000.00\n"
     ]
    }
   ],
   "source": [
    "class Employee:\n",
    "    def __init__(self, name, employee_id):\n",
    "        self.name = name\n",
    "        self.employee_id = employee_id\n",
    "\n",
    "    def calculate_salary(self):\n",
    "        raise NotImplementedError(\"Subclasses must implement the calculate_salary method.\")\n",
    "\n",
    "class Manager(Employee):\n",
    "    def __init__(self, name, employee_id, base_salary, bonus):\n",
    "        super().__init__(name, employee_id)\n",
    "        self.base_salary = base_salary\n",
    "        self.bonus = bonus\n",
    "\n",
    "    def calculate_salary(self):\n",
    "        return self.base_salary + self.bonus\n",
    "\n",
    "class Developer(Employee):\n",
    "    def __init__(self, name, employee_id, hourly_rate, hours_worked):\n",
    "        super().__init__(name, employee_id)\n",
    "        self.hourly_rate = hourly_rate\n",
    "        self.hours_worked = hours_worked\n",
    "\n",
    "    def calculate_salary(self):\n",
    "        return self.hourly_rate * self.hours_worked\n",
    "\n",
    "class Designer(Employee):\n",
    "    def __init__(self, name, employee_id, base_salary, projects_completed):\n",
    "        super().__init__(name, employee_id)\n",
    "        self.base_salary = base_salary\n",
    "        self.projects_completed = projects_completed\n",
    "\n",
    "    def calculate_salary(self):\n",
    "        bonus_per_project = 1000\n",
    "        return self.base_salary + (self.projects_completed * bonus_per_project)\n",
    "\n",
    "\n",
    "def display_employee_salary(employee):\n",
    "    return f\"{employee.name}'s salary: ${employee.calculate_salary():,.2f}\"\n",
    "\n",
    "manager_instance = Manager(name=\"John Manager\", employee_id=\"M001\", base_salary=60000, bonus=10000)\n",
    "developer_instance = Developer(name=\"Alice Developer\", employee_id=\"D001\", hourly_rate=50, hours_worked=160)\n",
    "designer_instance = Designer(name=\"Bob Designer\", employee_id=\"DS001\", base_salary=50000, projects_completed=5)\n",
    "\n",
    "print(display_employee_salary(manager_instance))\n",
    "print(display_employee_salary(developer_instance))\n",
    "print(display_employee_salary(designer_instance))"
   ]
  },
  {
   "cell_type": "code",
   "execution_count": 171,
   "id": "317eeab1-3e11-47f6-a776-48410b992c41",
   "metadata": {},
   "outputs": [],
   "source": [
    "#Polymorphism-18"
   ]
  },
  {
   "cell_type": "code",
   "execution_count": 172,
   "id": "3211469f-6045-4608-9df8-0295f55307e9",
   "metadata": {},
   "outputs": [],
   "source": [
    "#In Python, the concept of function pointers is not explicit in the same way it is in some other programming languages,\n",
    "#as Python is dynamically typed and uses a different mechanism for achieving polymorphism. However, the concept of\n",
    "#polymorphism in Python is closely related to the idea of using functions as first-class citizens and passing functions as arguments."
   ]
  },
  {
   "cell_type": "code",
   "execution_count": 173,
   "id": "d2d52864-4458-4f3e-8d0f-b6ad6061f179",
   "metadata": {},
   "outputs": [],
   "source": [
    "#Polymorphism-19"
   ]
  },
  {
   "cell_type": "code",
   "execution_count": 174,
   "id": "f2c8f664-e6b5-49da-af8d-81360c340085",
   "metadata": {},
   "outputs": [],
   "source": [
    "#In the context of object-oriented programming, both interfaces and abstract classes play a crucial role in achieving\n",
    "#polymorphism by defining a common set of methods that subclasses must implement. However, there are some key\n",
    "#differences between interfaces and abstract classes in terms of their use and implementation in various programming languages."
   ]
  },
  {
   "cell_type": "code",
   "execution_count": 175,
   "id": "3ee0d0bb-87ed-4bfb-99c7-d30e064864e8",
   "metadata": {},
   "outputs": [],
   "source": [
    "#Polymorphism-20"
   ]
  },
  {
   "cell_type": "code",
   "execution_count": 176,
   "id": "1dedace5-7163-4859-bef2-c771c2fcfbfa",
   "metadata": {},
   "outputs": [
    {
     "name": "stdout",
     "output_type": "stream",
     "text": [
      "Leo the mammal is eating.\n",
      "Leo is sleeping.\n",
      "Leo the mammal is making a mammal sound.\n",
      "\n",
      "Polly the bird is pecking at seeds.\n",
      "Polly is sleeping.\n",
      "Polly the bird is chirping.\n",
      "\n",
      "Slytherin the reptile is hunting for insects.\n",
      "Slytherin is sleeping.\n",
      "Slytherin the reptile is hissing.\n",
      "\n"
     ]
    }
   ],
   "source": [
    "class Animal:\n",
    "    def __init__(self, name):\n",
    "        self.name = name\n",
    "\n",
    "    def eat(self):\n",
    "        raise NotImplementedError(\"Subclasses must implement the eat method.\")\n",
    "\n",
    "    def sleep(self):\n",
    "        return f\"{self.name} is sleeping.\"\n",
    "\n",
    "    def make_sound(self):\n",
    "        raise NotImplementedError(\"Subclasses must implement the make_sound method.\")\n",
    "\n",
    "class Mammal(Animal):\n",
    "    def eat(self):\n",
    "        return f\"{self.name} the mammal is eating.\"\n",
    "\n",
    "    def make_sound(self):\n",
    "        return f\"{self.name} the mammal is making a mammal sound.\"\n",
    "\n",
    "class Bird(Animal):\n",
    "    def eat(self):\n",
    "        return f\"{self.name} the bird is pecking at seeds.\"\n",
    "\n",
    "    def make_sound(self):\n",
    "        return f\"{self.name} the bird is chirping.\"\n",
    "\n",
    "class Reptile(Animal):\n",
    "    def eat(self):\n",
    "        return f\"{self.name} the reptile is hunting for insects.\"\n",
    "\n",
    "    def make_sound(self):\n",
    "        return f\"{self.name} the reptile is hissing.\"\n",
    "\n",
    "def simulate_zoo(animal):\n",
    "    print(animal.eat())\n",
    "    print(animal.sleep())\n",
    "    print(animal.make_sound())\n",
    "    print()\n",
    "\n",
    "lion = Mammal(name=\"Leo\")\n",
    "parrot = Bird(name=\"Polly\")\n",
    "snake = Reptile(name=\"Slytherin\")\n",
    "\n",
    "simulate_zoo(lion)\n",
    "simulate_zoo(parrot)\n",
    "simulate_zoo(snake)"
   ]
  },
  {
   "cell_type": "code",
   "execution_count": 177,
   "id": "69a2ac1d-7f4a-488d-a456-5e05431738a3",
   "metadata": {},
   "outputs": [],
   "source": [
    "#Abstraction-1"
   ]
  },
  {
   "cell_type": "code",
   "execution_count": 178,
   "id": "bb39b85a-293c-4b93-aa7a-046604ca8fe2",
   "metadata": {},
   "outputs": [],
   "source": [
    "#Abstraction in Python, within the context of object-oriented programming (OOP), refers to the concept of hiding the complex\n",
    "#implementation details of an object and exposing only the essential features or functionalities to the outside world. \n",
    "#It involves focusing on what an object does rather than how it achieves its functionality.\n",
    "#Abstraction allows developers to work with high-level concepts and hide the low-level details."
   ]
  },
  {
   "cell_type": "code",
   "execution_count": 179,
   "id": "98d8400c-1caa-419a-b653-e8c8b72d334b",
   "metadata": {},
   "outputs": [],
   "source": [
    "#Abstraction-2"
   ]
  },
  {
   "cell_type": "code",
   "execution_count": 180,
   "id": "fb2178cd-30b6-4b77-b0c3-b4fc4518dea3",
   "metadata": {},
   "outputs": [],
   "source": [
    "#abstraction contributes significantly to code organization and complexity reduction by simplifying code, promoting modularity, \n",
    "#enhancing reusability, and providing a clear and adaptable structure. It enables developers to manage and maintain complex \n",
    "#systems more effectively while fostering collaboration and adherence to sound design principles."
   ]
  },
  {
   "cell_type": "code",
   "execution_count": 181,
   "id": "3d5d42e3-68d6-48f5-9b41-66caea9179ad",
   "metadata": {},
   "outputs": [],
   "source": [
    "#Abstraction-3"
   ]
  },
  {
   "cell_type": "code",
   "execution_count": 182,
   "id": "ae7132dd-6285-486a-83c2-10f50f71d9e9",
   "metadata": {},
   "outputs": [
    {
     "name": "stdout",
     "output_type": "stream",
     "text": [
      "Area of the Circle: 78.50\n",
      "Area of the Rectangle: 24\n"
     ]
    }
   ],
   "source": [
    "from abc import ABC, abstractmethod\n",
    "\n",
    "class Shape(ABC):\n",
    "    @abstractmethod\n",
    "    def calculate_area(self):\n",
    "        pass\n",
    "\n",
    "class Circle(Shape):\n",
    "    def __init__(self, radius):\n",
    "        self.radius = radius\n",
    "\n",
    "    def calculate_area(self):\n",
    "        return 3.14 * self.radius**2\n",
    "\n",
    "class Rectangle(Shape):\n",
    "    def __init__(self, length, width):\n",
    "        self.length = length\n",
    "        self.width = width\n",
    "\n",
    "    def calculate_area(self):\n",
    "        return self.length * self.width\n",
    "\n",
    "circle_instance = Circle(radius=5)\n",
    "rectangle_instance = Rectangle(length=4, width=6)\n",
    "\n",
    "circle_area = circle_instance.calculate_area()\n",
    "rectangle_area = rectangle_instance.calculate_area()\n",
    "\n",
    "print(f\"Area of the Circle: {circle_area:.2f}\")\n",
    "print(f\"Area of the Rectangle: {rectangle_area}\")"
   ]
  },
  {
   "cell_type": "code",
   "execution_count": 183,
   "id": "2a970a58-6d9a-49fa-b1d5-38ed8232e7a3",
   "metadata": {},
   "outputs": [],
   "source": [
    "#Abstraction-4"
   ]
  },
  {
   "cell_type": "code",
   "execution_count": 1,
   "id": "e26e7885-1777-4c54-bf11-b2877fbbf04b",
   "metadata": {},
   "outputs": [],
   "source": [
    "#Abstract classes are classes that cannot be instantiated on their own and are meant to be subclassed by other classes.\n",
    "#They are used to define a common interface or set of methods that must be implemented by all the concrete (non-abstract) subclasses.\n",
    "#In Python, abstract classes can be defined using the abc module, which stands for \"Abstract Base Classes.\""
   ]
  },
  {
   "cell_type": "code",
   "execution_count": 2,
   "id": "8f6346ac-e2af-4206-af2a-e7622b0bdeff",
   "metadata": {},
   "outputs": [],
   "source": [
    "#Abstraction-5"
   ]
  },
  {
   "cell_type": "code",
   "execution_count": 3,
   "id": "1455f75b-dead-49ac-8eea-94ce6b77d773",
   "metadata": {},
   "outputs": [],
   "source": [
    "#Abstract classes cannot be instantiated on their own. They are meant to be subclassed by other classes.\n",
    "#An instance of an abstract class cannot be created, and attempting to do so will result in an error.\n",
    "\n",
    "#Regular classes can be instantiated, meaning objects (instances) of these classes can be created.\n",
    "#They provide a blueprint for creating objects with attributes and methods."
   ]
  },
  {
   "cell_type": "code",
   "execution_count": 4,
   "id": "8cfdce4f-fdab-4a5f-8a12-8362cbc7efd4",
   "metadata": {},
   "outputs": [],
   "source": [
    "#Abstraction-6"
   ]
  },
  {
   "cell_type": "code",
   "execution_count": 5,
   "id": "1601d75e-1f48-441d-b2bb-f0b415aa1401",
   "metadata": {},
   "outputs": [
    {
     "name": "stdout",
     "output_type": "stream",
     "text": [
      "Account Holder: John Doe\n",
      "Account Number: 123456789\n",
      "Deposited $1000. New balance: $1000\n",
      "Withdrew $500. New balance: $500\n",
      "Invalid withdrawal amount or insufficient funds.\n",
      "Current Balance: $500\n"
     ]
    }
   ],
   "source": [
    "from abc import ABC, abstractmethod\n",
    "\n",
    "class BankAccount(ABC):\n",
    "    def __init__(self, account_holder, account_number):\n",
    "        self._account_holder = account_holder\n",
    "        self._account_number = account_number\n",
    "        self._balance = 0  # Default balance is set to 0\n",
    "\n",
    "    @property\n",
    "    def account_holder(self):\n",
    "        return self._account_holder\n",
    "\n",
    "    @property\n",
    "    def account_number(self):\n",
    "        return self._account_number\n",
    "\n",
    "    @abstractmethod\n",
    "    def get_balance(self):\n",
    "        pass\n",
    "\n",
    "    @abstractmethod\n",
    "    def deposit(self, amount):\n",
    "        pass\n",
    "\n",
    "    @abstractmethod\n",
    "    def withdraw(self, amount):\n",
    "        pass\n",
    "\n",
    "class ConcreteBankAccount(BankAccount):\n",
    "    def get_balance(self):\n",
    "        return self._balance\n",
    "\n",
    "    def deposit(self, amount):\n",
    "        if amount > 0:\n",
    "            self._balance += amount\n",
    "            print(f\"Deposited ${amount}. New balance: ${self._balance}\")\n",
    "        else:\n",
    "            print(\"Invalid deposit amount. Please deposit a positive amount.\")\n",
    "\n",
    "    def withdraw(self, amount):\n",
    "        if 0 < amount <= self._balance:\n",
    "            self._balance -= amount\n",
    "            print(f\"Withdrew ${amount}. New balance: ${self._balance}\")\n",
    "        else:\n",
    "            print(\"Invalid withdrawal amount or insufficient funds.\")\n",
    "\n",
    "account = ConcreteBankAccount(account_holder=\"John Doe\", account_number=\"123456789\")\n",
    "print(f\"Account Holder: {account.account_holder}\")\n",
    "print(f\"Account Number: {account.account_number}\")\n",
    "\n",
    "account.deposit(1000)\n",
    "account.withdraw(500)\n",
    "account.withdraw(800)\n",
    "\n",
    "# Accessing balance using the get_balance method\n",
    "print(f\"Current Balance: ${account.get_balance()}\")"
   ]
  },
  {
   "cell_type": "code",
   "execution_count": 6,
   "id": "55ff50d5-da87-4c62-b24d-7ea132616bb1",
   "metadata": {},
   "outputs": [],
   "source": [
    "#Abstraction-7"
   ]
  },
  {
   "cell_type": "code",
   "execution_count": 7,
   "id": "1799f8a4-6d6a-41d0-bfd5-e175475f3284",
   "metadata": {},
   "outputs": [],
   "source": [
    "#In Python, interface classes are not explicitly defined as a distinct language feature like in some other programming\n",
    "#languages such as Java. However, the concept of interface-like behavior can be achieved through a combination of abstract\n",
    "#classes, abstract methods, and the use of the ABC (Abstract Base Class) module. The idea is to define a set of methods\n",
    "#(or an \"interface\") that must be implemented by concrete classes, enforcing a common structure and promoting abstraction."
   ]
  },
  {
   "cell_type": "code",
   "execution_count": 8,
   "id": "9dcc16b6-d0c5-44c4-b602-d120a525cd46",
   "metadata": {},
   "outputs": [],
   "source": [
    "#Abstraction-8"
   ]
  },
  {
   "cell_type": "code",
   "execution_count": 9,
   "id": "a67258a8-6d5c-4bb3-b657-4ec4b0b72c9b",
   "metadata": {},
   "outputs": [
    {
     "name": "stdout",
     "output_type": "stream",
     "text": [
      "Buddy: Woof! Woof!\n",
      "Buddy: Buddy is eating dog food.\n",
      "Buddy: Buddy is sleeping in a dog bed.\n",
      "\n",
      "Whiskers: Meow!\n",
      "Whiskers: Whiskers is eating cat food.\n",
      "Whiskers: Whiskers is curled up and sleeping.\n",
      "\n"
     ]
    }
   ],
   "source": [
    "from abc import ABC, abstractmethod\n",
    "\n",
    "class Animal(ABC):\n",
    "    def __init__(self, name):\n",
    "        self.name = name\n",
    "\n",
    "    @abstractmethod\n",
    "    def make_sound(self):\n",
    "        pass\n",
    "\n",
    "    @abstractmethod\n",
    "    def eat(self):\n",
    "        pass\n",
    "\n",
    "    @abstractmethod\n",
    "    def sleep(self):\n",
    "        pass\n",
    "\n",
    "class Dog(Animal):\n",
    "    def make_sound(self):\n",
    "        return \"Woof! Woof!\"\n",
    "\n",
    "    def eat(self):\n",
    "        return f\"{self.name} is eating dog food.\"\n",
    "\n",
    "    def sleep(self):\n",
    "        return f\"{self.name} is sleeping in a dog bed.\"\n",
    "\n",
    "class Cat(Animal):\n",
    "    def make_sound(self):\n",
    "        return \"Meow!\"\n",
    "\n",
    "    def eat(self):\n",
    "        return f\"{self.name} is eating cat food.\"\n",
    "\n",
    "    def sleep(self):\n",
    "        return f\"{self.name} is curled up and sleeping.\"\n",
    "\n",
    "def interact_with_animal(animal):\n",
    "    print(f\"{animal.name}: {animal.make_sound()}\")\n",
    "    print(f\"{animal.name}: {animal.eat()}\")\n",
    "    print(f\"{animal.name}: {animal.sleep()}\\n\")\n",
    "\n",
    "dog = Dog(name=\"Buddy\")\n",
    "cat = Cat(name=\"Whiskers\")\n",
    "\n",
    "interact_with_animal(dog)\n",
    "interact_with_animal(cat)"
   ]
  },
  {
   "cell_type": "code",
   "execution_count": 10,
   "id": "fd24d133-c14c-4b7f-a329-5a1158ed6a83",
   "metadata": {},
   "outputs": [],
   "source": [
    "#Abstraction-9"
   ]
  },
  {
   "cell_type": "code",
   "execution_count": 11,
   "id": "6c27a20e-af24-4f86-851c-5ec164a9b1e3",
   "metadata": {},
   "outputs": [],
   "source": [
    "#Encapsulation and abstraction are closely related concepts in object-oriented programming, and encapsulation plays a crucial\n",
    "#role in achieving abstraction. Encapsulation involves bundling the data (attributes) and the methods that operate on the data into\n",
    "#a single unit, typically a class. It hides the internal details of the object and provides a controlled interface for interacting with it.\n",
    "#Abstraction, on the other hand, involves emphasizing the essential characteristics of an object while ignoring the unnecessary details."
   ]
  },
  {
   "cell_type": "code",
   "execution_count": 12,
   "id": "b9ddc4af-ac81-47b8-8ca1-c832a892af91",
   "metadata": {},
   "outputs": [],
   "source": [
    "#Abstraction-10"
   ]
  },
  {
   "cell_type": "code",
   "execution_count": 13,
   "id": "9708cce0-c86f-47f2-a594-cecd9028910b",
   "metadata": {},
   "outputs": [],
   "source": [
    "#Abstract methods in Python serve the purpose of defining a method signature without providing an implementation in the abstract class.\n",
    "#They are part of the concept of abstract classes and play a key role in enforcing abstraction in object-oriented programming.\n",
    "#Abstract methods help in defining a common interface that must be implemented by concrete subclasses, ensuring that specific behaviors\n",
    "#are defined consistently across related classes."
   ]
  },
  {
   "cell_type": "code",
   "execution_count": 14,
   "id": "99b3aa5c-f973-46db-acf2-cec6f43b0308",
   "metadata": {},
   "outputs": [],
   "source": [
    "#Abstraction-11"
   ]
  },
  {
   "cell_type": "code",
   "execution_count": 15,
   "id": "0666c5e8-716e-4567-956f-c20f77fc0391",
   "metadata": {},
   "outputs": [
    {
     "name": "stdout",
     "output_type": "stream",
     "text": [
      "Toyota Camry: Engine Status - off\n",
      "Toyota Camry: Starting the engine.\n",
      "Toyota Camry: Stopping the engine.\n",
      "Harley-Davidson Sportster: Engine Status - off\n",
      "Harley-Davidson Sportster: Kicking off the engine.\n",
      "Harley-Davidson Sportster: Cutting off the engine.\n"
     ]
    }
   ],
   "source": [
    "from abc import ABC, abstractmethod\n",
    "\n",
    "class Vehicle(ABC):\n",
    "    def __init__(self, make, model):\n",
    "        self.make = make\n",
    "        self.model = model\n",
    "        self.engine_status = 'off'\n",
    "\n",
    "    @abstractmethod\n",
    "    def start(self):\n",
    "        pass\n",
    "\n",
    "    @abstractmethod\n",
    "    def stop(self):\n",
    "        pass\n",
    "\n",
    "class Car(Vehicle):\n",
    "    def start(self):\n",
    "        if self.engine_status == 'off':\n",
    "            print(f\"{self.make} {self.model}: Starting the engine.\")\n",
    "            self.engine_status = 'on'\n",
    "        else:\n",
    "            print(f\"{self.make} {self.model}: The engine is already running.\")\n",
    "\n",
    "    def stop(self):\n",
    "        if self.engine_status == 'on':\n",
    "            print(f\"{self.make} {self.model}: Stopping the engine.\")\n",
    "            self.engine_status = 'off'\n",
    "        else:\n",
    "            print(f\"{self.make} {self.model}: The engine is already off.\")\n",
    "\n",
    "class Motorcycle(Vehicle):\n",
    "    def start(self):\n",
    "        if self.engine_status == 'off':\n",
    "            print(f\"{self.make} {self.model}: Kicking off the engine.\")\n",
    "            self.engine_status = 'on'\n",
    "        else:\n",
    "            print(f\"{self.make} {self.model}: The engine is already running.\")\n",
    "\n",
    "    def stop(self):\n",
    "        if self.engine_status == 'on':\n",
    "            print(f\"{self.make} {self.model}: Cutting off the engine.\")\n",
    "            self.engine_status = 'off'\n",
    "        else:\n",
    "            print(f\"{self.make} {self.model}: The engine is already off.\")\n",
    "\n",
    "def interact_with_vehicle(vehicle):\n",
    "    print(f\"{vehicle.make} {vehicle.model}: Engine Status - {vehicle.engine_status}\")\n",
    "    vehicle.start()\n",
    "    vehicle.stop()\n",
    "\n",
    "my_car = Car(make='Toyota', model='Camry')\n",
    "my_motorcycle = Motorcycle(make='Harley-Davidson', model='Sportster')\n",
    "\n",
    "interact_with_vehicle(my_car)\n",
    "interact_with_vehicle(my_motorcycle)"
   ]
  },
  {
   "cell_type": "code",
   "execution_count": 16,
   "id": "d7568d76-9c70-4aca-adb6-cd8e09cbd30f",
   "metadata": {},
   "outputs": [],
   "source": [
    "#Abstraction-12"
   ]
  },
  {
   "cell_type": "code",
   "execution_count": 17,
   "id": "287bf23d-b063-4fb6-852a-857e5c9a55a8",
   "metadata": {},
   "outputs": [],
   "source": [
    "#In Python, abstract properties are a way to define properties in abstract classes without providing a concrete implementation.\n",
    "#They are useful when you want to enforce that subclasses must provide their own implementation for a particular property.\n",
    "#Abstract properties are defined using the @property decorator along with the @abstractmethod decorator from the abc module."
   ]
  },
  {
   "cell_type": "code",
   "execution_count": 18,
   "id": "52c43820-f202-4e75-9e51-9adfb3801b62",
   "metadata": {},
   "outputs": [],
   "source": [
    "#Abstraction-13"
   ]
  },
  {
   "cell_type": "code",
   "execution_count": 19,
   "id": "28e2ca01-f167-43a3-8a01-5cb0a5120b3d",
   "metadata": {},
   "outputs": [
    {
     "name": "stdout",
     "output_type": "stream",
     "text": [
      "John Doe (Employee ID: M001)\n",
      "Salary: $70000\n",
      "\n",
      "Alice Smith (Employee ID: D001)\n",
      "Salary: $50200\n",
      "\n",
      "Bob Johnson (Employee ID: D002)\n",
      "Salary: $80000\n",
      "\n"
     ]
    }
   ],
   "source": [
    "from abc import ABC, abstractmethod\n",
    "\n",
    "\n",
    "class Employee(ABC):\n",
    "    def __init__(self, name, employee_id):\n",
    "        self.name = name\n",
    "        self.employee_id = employee_id\n",
    "\n",
    "    @abstractmethod\n",
    "    def get_salary(self):\n",
    "        pass\n",
    "\n",
    "class Manager(Employee):\n",
    "    def __init__(self, name, employee_id, base_salary, bonus):\n",
    "        super().__init__(name, employee_id)\n",
    "        self.base_salary = base_salary\n",
    "        self.bonus = bonus\n",
    "\n",
    "    def get_salary(self):\n",
    "        return self.base_salary + self.bonus\n",
    "\n",
    "class Developer(Employee):\n",
    "    def __init__(self, name, employee_id, base_salary, overtime_hours, hourly_rate):\n",
    "        super().__init__(name, employee_id)\n",
    "        self.base_salary = base_salary\n",
    "        self.overtime_hours = overtime_hours\n",
    "        self.hourly_rate = hourly_rate\n",
    "\n",
    "    def get_salary(self):\n",
    "        return self.base_salary + (self.overtime_hours * self.hourly_rate)\n",
    "\n",
    "class Designer(Employee):\n",
    "    def __init__(self, name, employee_id, base_salary, projects_completed, project_bonus):\n",
    "        super().__init__(name, employee_id)\n",
    "        self.base_salary = base_salary\n",
    "        self.projects_completed = projects_completed\n",
    "        self.project_bonus = project_bonus\n",
    "\n",
    "    def get_salary(self):\n",
    "        return self.base_salary + (self.projects_completed * self.project_bonus)\n",
    "\n",
    "def print_employee_info(employee):\n",
    "    print(f\"{employee.name} (Employee ID: {employee.employee_id})\")\n",
    "    print(f\"Salary: ${employee.get_salary()}\\n\")\n",
    "\n",
    "manager = Manager(name=\"John Doe\", employee_id=\"M001\", base_salary=60000, bonus=10000)\n",
    "developer = Developer(name=\"Alice Smith\", employee_id=\"D001\", base_salary=50000, overtime_hours=10, hourly_rate=20)\n",
    "designer = Designer(name=\"Bob Johnson\", employee_id=\"D002\", base_salary=55000, projects_completed=5, project_bonus=5000)\n",
    "\n",
    "print_employee_info(manager)\n",
    "print_employee_info(developer)\n",
    "print_employee_info(designer)"
   ]
  },
  {
   "cell_type": "code",
   "execution_count": 20,
   "id": "be81eec5-b69a-4fa4-be04-c7b4067af1fc",
   "metadata": {},
   "outputs": [],
   "source": [
    "#Abstraction-14"
   ]
  },
  {
   "cell_type": "code",
   "execution_count": 21,
   "id": "b707ad39-c6ad-4d3d-b133-ccbd5d29f9ad",
   "metadata": {},
   "outputs": [],
   "source": [
    "#Abstract classes are classes that cannot be instantiated on their own.\n",
    "#They are meant to be subclassed by other classes.\n",
    "#Abstract classes may contain abstract methods, which are methods without an implementation in the abstract class itself.\n",
    "\n",
    "#Concrete classes are classes that can be instantiated directly.\n",
    "#They provide concrete implementations for all methods, including any inherited abstract methods."
   ]
  },
  {
   "cell_type": "code",
   "execution_count": 22,
   "id": "8ed23680-60b6-4e4c-9c8a-9fe839f525e1",
   "metadata": {},
   "outputs": [],
   "source": [
    "#Abstraction-15"
   ]
  },
  {
   "cell_type": "code",
   "execution_count": 23,
   "id": "4fffbdaf-7e8e-43dc-abe0-29cffe00d27b",
   "metadata": {},
   "outputs": [],
   "source": [
    "#Abstract Data Types (ADTs) are a high-level concept in computer science that refers to a mathematical model for a certain class of\n",
    "#data structures, along with the operations that can be performed on them. The key idea behind ADTs is to encapsulate the implementation\n",
    "#details of data structures and focus on defining the operations and behaviors that the data structure should exhibit.\n",
    "#This separation of concerns allows for a clear and abstract specification of data structures, promoting a high level of abstraction \n",
    "#and reusability in programming."
   ]
  },
  {
   "cell_type": "code",
   "execution_count": 24,
   "id": "5d03e086-156b-4560-8bab-079a00507bf2",
   "metadata": {},
   "outputs": [],
   "source": [
    "#Abstraction-16"
   ]
  },
  {
   "cell_type": "code",
   "execution_count": 25,
   "id": "0d805c29-b244-4827-831e-3a5d56c2039b",
   "metadata": {},
   "outputs": [
    {
     "name": "stdout",
     "output_type": "stream",
     "text": [
      "Dell OptiPlex - Power Status: off\n",
      "Dell OptiPlex Desktop: Powering on.\n",
      "Dell OptiPlex Desktop: Shutting down.\n",
      "HP Pavilion - Power Status: off\n",
      "HP Pavilion Laptop: Powering on.\n",
      "HP Pavilion Laptop: Shutting down.\n"
     ]
    }
   ],
   "source": [
    "from abc import ABC, abstractmethod\n",
    "\n",
    "\n",
    "class Computer(ABC):\n",
    "    def __init__(self, brand, model):\n",
    "        self.brand = brand\n",
    "        self.model = model\n",
    "        self.power_status = 'off'\n",
    "\n",
    "    @abstractmethod\n",
    "    def power_on(self):\n",
    "        pass\n",
    "\n",
    "    @abstractmethod\n",
    "    def shutdown(self):\n",
    "        pass\n",
    "\n",
    "class DesktopComputer(Computer):\n",
    "    def power_on(self):\n",
    "        if self.power_status == 'off':\n",
    "            print(f\"{self.brand} {self.model} Desktop: Powering on.\")\n",
    "            self.power_status = 'on'\n",
    "        else:\n",
    "            print(f\"{self.brand} {self.model} Desktop: The computer is already powered on.\")\n",
    "\n",
    "    def shutdown(self):\n",
    "        if self.power_status == 'on':\n",
    "            print(f\"{self.brand} {self.model} Desktop: Shutting down.\")\n",
    "            self.power_status = 'off'\n",
    "        else:\n",
    "            print(f\"{self.brand} {self.model} Desktop: The computer is already powered off.\")\n",
    "\n",
    "class Laptop(Computer):\n",
    "    def power_on(self):\n",
    "        if self.power_status == 'off':\n",
    "            print(f\"{self.brand} {self.model} Laptop: Powering on.\")\n",
    "            self.power_status = 'on'\n",
    "        else:\n",
    "            print(f\"{self.brand} {self.model} Laptop: The computer is already powered on.\")\n",
    "\n",
    "    def shutdown(self):\n",
    "        if self.power_status == 'on':\n",
    "            print(f\"{self.brand} {self.model} Laptop: Shutting down.\")\n",
    "            self.power_status = 'off'\n",
    "        else:\n",
    "            print(f\"{self.brand} {self.model} Laptop: The computer is already powered off.\")\n",
    "\n",
    "def interact_with_computer(computer):\n",
    "    print(f\"{computer.brand} {computer.model} - Power Status: {computer.power_status}\")\n",
    "    computer.power_on()\n",
    "    computer.shutdown()\n",
    "\n",
    "desktop = DesktopComputer(brand=\"Dell\", model=\"OptiPlex\")\n",
    "laptop = Laptop(brand=\"HP\", model=\"Pavilion\")\n",
    "\n",
    "interact_with_computer(desktop)\n",
    "interact_with_computer(laptop)"
   ]
  },
  {
   "cell_type": "code",
   "execution_count": 26,
   "id": "bccc0e67-0ad4-4441-a2d6-6bf882ce3224",
   "metadata": {},
   "outputs": [],
   "source": [
    "#Abstraction-17"
   ]
  },
  {
   "cell_type": "code",
   "execution_count": 27,
   "id": "0fff20d4-28a2-4746-b5e9-a9a27a2ae042",
   "metadata": {},
   "outputs": [],
   "source": [
    "#Abstraction is a fundamental concept in software development that involves simplifying complex systems by modeling classes or\n",
    "#objects at a higher level of abstraction, allowing developers to work with generalized concepts rather than dealing with intricate details"
   ]
  },
  {
   "cell_type": "code",
   "execution_count": 28,
   "id": "9aff25f8-65ae-4b8d-8f0f-f3afb7afea91",
   "metadata": {},
   "outputs": [],
   "source": [
    "#Abstraction-18"
   ]
  },
  {
   "cell_type": "code",
   "execution_count": 29,
   "id": "527fb735-923f-412c-9fc3-48b2c4b9a29f",
   "metadata": {},
   "outputs": [],
   "source": [
    "#1. Encapsulation and Information Hiding\n",
    "#2. Creation of Abstract Classes and Interfaces\n",
    "#3. Polymorphism\n",
    "#4. Modular Design\n",
    "#5. Function and Class Abstraction"
   ]
  },
  {
   "cell_type": "code",
   "execution_count": 30,
   "id": "cd7c0bce-763d-4b83-8a0b-a318e8fba7f7",
   "metadata": {},
   "outputs": [],
   "source": [
    "#Abstraction-19"
   ]
  },
  {
   "cell_type": "code",
   "execution_count": 31,
   "id": "61cf9182-1408-4279-bc26-7b4a1bddcabf",
   "metadata": {},
   "outputs": [
    {
     "name": "stdout",
     "output_type": "stream",
     "text": [
      "Added 'The Great Gatsby' by F. Scott Fitzgerald to the library.\n",
      "Added 'To Kill a Mockingbird' by Harper Lee to the library.\n",
      "Borrowed 'The Great Gatsby' from the library.\n",
      "The book '1984' is not available in the library.\n",
      "Acquired 'The Great Gatsby' by F. Scott Fitzgerald for the school library.\n",
      "Acquired 'To Kill a Mockingbird' by Harper Lee for the school library.\n",
      "Borrowed 'The Great Gatsby' from the school library.\n",
      "The book '1984' is not available in the school library.\n"
     ]
    }
   ],
   "source": [
    "from abc import ABC, abstractmethod\n",
    "\n",
    "class LibrarySystem(ABC):\n",
    "    def __init__(self, name):\n",
    "        self.name = name\n",
    "        self.books = {}\n",
    "\n",
    "    @abstractmethod\n",
    "    def add_book(self, book_title, author):\n",
    "        pass\n",
    "\n",
    "    @abstractmethod\n",
    "    def borrow_book(self, book_title):\n",
    "        pass\n",
    "\n",
    "    def display_books(self):\n",
    "        print(f\"Books in {self.name} Library:\")\n",
    "        for title, author in self.books.items():\n",
    "            print(f\"{title} by {author}\")\n",
    "\n",
    "class PublicLibrary(LibrarySystem):\n",
    "    def add_book(self, book_title, author):\n",
    "        if book_title not in self.books:\n",
    "            self.books[book_title] = author\n",
    "            print(f\"Added '{book_title}' by {author} to the library.\")\n",
    "        else:\n",
    "            print(f\"The book '{book_title}' is already in the library.\")\n",
    "\n",
    "    def borrow_book(self, book_title):\n",
    "        if book_title in self.books:\n",
    "            del self.books[book_title]\n",
    "            print(f\"Borrowed '{book_title}' from the library.\")\n",
    "        else:\n",
    "            print(f\"The book '{book_title}' is not available in the library.\")\n",
    "\n",
    "class SchoolLibrary(LibrarySystem):\n",
    "    def add_book(self, book_title, author):\n",
    "        if book_title not in self.books:\n",
    "            self.books[book_title] = author\n",
    "            print(f\"Acquired '{book_title}' by {author} for the school library.\")\n",
    "        else:\n",
    "            print(f\"The book '{book_title}' is already in the school library.\")\n",
    "\n",
    "    def borrow_book(self, book_title):\n",
    "        if book_title in self.books:\n",
    "            del self.books[book_title]\n",
    "            print(f\"Borrowed '{book_title}' from the school library.\")\n",
    "        else:\n",
    "            print(f\"The book '{book_title}' is not available in the school library.\")\n",
    "\n",
    "def library_interaction(library):\n",
    "    library.add_book(\"The Great Gatsby\", \"F. Scott Fitzgerald\")\n",
    "    library.add_book(\"To Kill a Mockingbird\", \"Harper Lee\")\n",
    "    library.borrow_book(\"The Great Gatsby\")\n",
    "    library.borrow_book(\"1984\")\n",
    "\n",
    "public_library = PublicLibrary(name=\"Public Library\")\n",
    "school_library = SchoolLibrary(name=\"School Library\")\n",
    "\n",
    "library_interaction(public_library)\n",
    "library_interaction(school_library)\n"
   ]
  },
  {
   "cell_type": "code",
   "execution_count": 32,
   "id": "4ddd6f8d-3cce-419e-ab8b-05be35b34227",
   "metadata": {},
   "outputs": [],
   "source": [
    "#Abstraction-20"
   ]
  },
  {
   "cell_type": "code",
   "execution_count": 33,
   "id": "b8132c61-1bbe-45ff-9156-2aa84824dfbf",
   "metadata": {},
   "outputs": [],
   "source": [
    "#Method abstraction in Python is a concept that involves defining a method in a base class (or interface) without providing its\n",
    "#implementation. This method is marked as abstract using the @abstractmethod decorator from the abc module. \n",
    "#The responsibility of providing the actual implementation is left to the concrete subclasses. Method abstraction is closely\n",
    "#related to polymorphism, a fundamental principle of object-oriented programming."
   ]
  },
  {
   "cell_type": "code",
   "execution_count": 34,
   "id": "36a965b3-e6c9-4394-8ee3-8aa2d8b2952b",
   "metadata": {},
   "outputs": [],
   "source": [
    "#Composition-1"
   ]
  },
  {
   "cell_type": "code",
   "execution_count": 35,
   "id": "e16571a7-f356-49b1-9a97-e765e70e5199",
   "metadata": {},
   "outputs": [],
   "source": [
    "#Composition is a fundamental concept in object-oriented programming (OOP) that involves constructing complex objects by combining\n",
    "#simpler objects. Unlike inheritance, which creates a relationship between classes based on a \"is-a\" relationship, composition focuses \n",
    "#on a \"has-a\" relationship, emphasizing the idea that a complex object \"has\" other objects as parts or components.\n",
    "\n",
    "#In Python, composition is typically achieved by including instances of other classes as attributes within a class. \n",
    "#This allows the creation of more modular and reusable code, as complex behaviors are built by combining simpler, more specialized \n",
    "#components."
   ]
  },
  {
   "cell_type": "code",
   "execution_count": 36,
   "id": "24e45185-6a89-4199-bed4-3584b84b6e63",
   "metadata": {},
   "outputs": [],
   "source": [
    "#Composition-2"
   ]
  },
  {
   "cell_type": "code",
   "execution_count": 37,
   "id": "abdf0cf1-e207-451c-a1bc-f7b05d4bd4bb",
   "metadata": {},
   "outputs": [],
   "source": [
    "#Composition involves constructing complex objects by combining instances of simpler classes as attributes within a class.\n",
    "#It emphasizes a \"has-a\" relationship, where an object \"has\" other objects as parts or components.\n",
    "\n",
    "#Inheritance involves creating a new class (subclass or derived class) by inheriting attributes and behaviors from an existing class \n",
    "#(superclass or base class).\n",
    "#It emphasizes an \"is-a\" relationship, where a subclass \"is a kind of\" the superclass."
   ]
  },
  {
   "cell_type": "code",
   "execution_count": 38,
   "id": "00cd9c1a-046b-4883-9246-c5243a5c8338",
   "metadata": {},
   "outputs": [],
   "source": [
    "#Composition-3"
   ]
  },
  {
   "cell_type": "code",
   "execution_count": 39,
   "id": "a2beed8d-1f18-4dd2-802e-bfb0f10f8e3d",
   "metadata": {},
   "outputs": [
    {
     "name": "stdout",
     "output_type": "stream",
     "text": [
      "Title: Example Book, Genre: Fiction\n",
      "Author: Jane Doe, Birthdate: January 1, 1980\n"
     ]
    }
   ],
   "source": [
    "class Author:\n",
    "    def __init__(self, name, birthdate):\n",
    "        self.name = name\n",
    "        self.birthdate = birthdate\n",
    "\n",
    "    def display_author_info(self):\n",
    "        print(f\"Author: {self.name}, Birthdate: {self.birthdate}\")\n",
    "\n",
    "class Book:\n",
    "    def __init__(self, title, genre, author):\n",
    "        self.title = title\n",
    "        self.genre = genre\n",
    "        self.author = author\n",
    "\n",
    "    def display_book_info(self):\n",
    "        print(f\"Title: {self.title}, Genre: {self.genre}\")\n",
    "        self.author.display_author_info()\n",
    "\n",
    "author_jane_doe = Author(name=\"Jane Doe\", birthdate=\"January 1, 1980\")\n",
    "\n",
    "book_example = Book(title=\"Example Book\", genre=\"Fiction\", author=author_jane_doe)\n",
    "\n",
    "book_example.display_book_info()"
   ]
  },
  {
   "cell_type": "code",
   "execution_count": 40,
   "id": "0b0da97a-4c73-4608-9dab-6cdc29f018d9",
   "metadata": {},
   "outputs": [],
   "source": [
    "#Composition-4"
   ]
  },
  {
   "cell_type": "code",
   "execution_count": 42,
   "id": "19094d65-255a-4ee0-8376-46e7c39360f5",
   "metadata": {},
   "outputs": [],
   "source": [
    "#1. Flexibility\n",
    "#2. Reduced Coupling\n",
    "#3. Improved Code Reusability\n",
    "#4. Easier Testing\n",
    "#5. Avoidance of the Diamond Problem"
   ]
  },
  {
   "cell_type": "code",
   "execution_count": 43,
   "id": "5397d64f-c920-400d-a26c-944184261071",
   "metadata": {},
   "outputs": [],
   "source": [
    "#Composition-5"
   ]
  },
  {
   "cell_type": "code",
   "execution_count": 44,
   "id": "e401f112-95f6-4adf-95e4-ef63ed185f4f",
   "metadata": {},
   "outputs": [
    {
     "name": "stdout",
     "output_type": "stream",
     "text": [
      "Engine started\n",
      "Wheels rotating\n",
      "Car is now in motion\n"
     ]
    }
   ],
   "source": [
    "class Engine:\n",
    "    def start(self):\n",
    "        print(\"Engine started\")\n",
    "\n",
    "class Wheels:\n",
    "    def rotate(self):\n",
    "        print(\"Wheels rotating\")\n",
    "\n",
    "class Car:\n",
    "    def __init__(self):\n",
    "        self.engine = Engine()\n",
    "        self.wheels = Wheels()\n",
    "\n",
    "    def drive(self):\n",
    "        self.engine.start()\n",
    "        self.wheels.rotate()\n",
    "        print(\"Car is now in motion\")\n",
    "\n",
    "my_car = Car()\n",
    "my_car.drive()"
   ]
  },
  {
   "cell_type": "code",
   "execution_count": 45,
   "id": "20443407-5141-4bff-a505-1e6e13bbed63",
   "metadata": {},
   "outputs": [],
   "source": [
    "#Composition-6"
   ]
  },
  {
   "cell_type": "code",
   "execution_count": 46,
   "id": "8dee1314-6b29-4598-816c-93102f2624a8",
   "metadata": {},
   "outputs": [
    {
     "name": "stdout",
     "output_type": "stream",
     "text": [
      "Playing all playlists in the music player\n",
      "Playlist: Playlist1\n",
      "Playing: Song1 by Artist1\n",
      "Playing: Song2 by Artist2\n",
      "Playlist: Playlist2\n",
      "Playing: Song3 by Artist3\n",
      "Playing: Song4 by Artist4\n"
     ]
    }
   ],
   "source": [
    "class Song:\n",
    "    def __init__(self, title, artist, duration):\n",
    "        self.title = title\n",
    "        self.artist = artist\n",
    "        self.duration = duration\n",
    "\n",
    "    def play(self):\n",
    "        print(f\"Playing: {self.title} by {self.artist}\")\n",
    "\n",
    "\n",
    "class Playlist:\n",
    "    def __init__(self, name):\n",
    "        self.name = name\n",
    "        self.songs = []\n",
    "\n",
    "    def add_song(self, song):\n",
    "        self.songs.append(song)\n",
    "\n",
    "    def play_all(self):\n",
    "        print(f\"Playlist: {self.name}\")\n",
    "        for song in self.songs:\n",
    "            song.play()\n",
    "\n",
    "\n",
    "class MusicPlayer:\n",
    "    def __init__(self):\n",
    "        self.playlists = []\n",
    "\n",
    "    def add_playlist(self, playlist):\n",
    "        self.playlists.append(playlist)\n",
    "\n",
    "    def play_all_playlists(self):\n",
    "        print(\"Playing all playlists in the music player\")\n",
    "        for playlist in self.playlists:\n",
    "            playlist.play_all()\n",
    "\n",
    "\n",
    "song1 = Song(title=\"Song1\", artist=\"Artist1\", duration=\"3:30\")\n",
    "song2 = Song(title=\"Song2\", artist=\"Artist2\", duration=\"4:15\")\n",
    "\n",
    "playlist1 = Playlist(name=\"Playlist1\")\n",
    "playlist1.add_song(song1)\n",
    "playlist1.add_song(song2)\n",
    "\n",
    "song3 = Song(title=\"Song3\", artist=\"Artist3\", duration=\"2:45\")\n",
    "song4 = Song(title=\"Song4\", artist=\"Artist4\", duration=\"3:50\")\n",
    "\n",
    "playlist2 = Playlist(name=\"Playlist2\")\n",
    "playlist2.add_song(song3)\n",
    "playlist2.add_song(song4)\n",
    "\n",
    "music_player = MusicPlayer()\n",
    "music_player.add_playlist(playlist1)\n",
    "music_player.add_playlist(playlist2)\n",
    "\n",
    "music_player.play_all_playlists()"
   ]
  },
  {
   "cell_type": "code",
   "execution_count": 47,
   "id": "1c7f6ab6-32e8-4d7f-b210-1bef3b79257c",
   "metadata": {},
   "outputs": [],
   "source": [
    "#Composition-7"
   ]
  },
  {
   "cell_type": "code",
   "execution_count": 48,
   "id": "61b62cb8-4bc1-4ee7-b459-245a6db9577d",
   "metadata": {},
   "outputs": [],
   "source": [
    "#The \"has-a\" relationship is a fundamental concept in composition, one of the key principles in object-oriented programming (OOP).\n",
    "#It describes a relationship between classes where one class has another class as a component or part. \n",
    "#In other words, an object of one class \"has\" another object of a different class as one of its attributes."
   ]
  },
  {
   "cell_type": "code",
   "execution_count": 49,
   "id": "f6968982-eea6-4796-b13f-769f4d4ad103",
   "metadata": {},
   "outputs": [],
   "source": [
    "#Composition-8"
   ]
  },
  {
   "cell_type": "code",
   "execution_count": 50,
   "id": "4fab942d-8135-4ef9-92b0-18208a2d7f32",
   "metadata": {},
   "outputs": [
    {
     "name": "stdout",
     "output_type": "stream",
     "text": [
      "Intel i7 CPU processing data\n",
      "RAM storing data. Capacity: 8GB\n",
      "Reading data from SSD storage. Capacity: 512GB\n"
     ]
    }
   ],
   "source": [
    "class CPU:\n",
    "    def __init__(self, brand, model, cores):\n",
    "        self.brand = brand\n",
    "        self.model = model\n",
    "        self.cores = cores\n",
    "\n",
    "    def process_data(self):\n",
    "        print(f\"{self.brand} {self.model} CPU processing data\")\n",
    "\n",
    "class RAM:\n",
    "    def __init__(self, capacity):\n",
    "        self.capacity = capacity\n",
    "\n",
    "    def store_data(self):\n",
    "        print(f\"RAM storing data. Capacity: {self.capacity}GB\")\n",
    "\n",
    "class Storage:\n",
    "    def __init__(self, capacity, storage_type):\n",
    "        self.capacity = capacity\n",
    "        self.storage_type = storage_type\n",
    "\n",
    "    def read_data(self):\n",
    "        print(f\"Reading data from {self.storage_type} storage. Capacity: {self.capacity}GB\")\n",
    "\n",
    "class Computer:\n",
    "    def __init__(self, cpu, ram, storage):\n",
    "        self.cpu = cpu\n",
    "        self.ram = ram\n",
    "        self.storage = storage\n",
    "\n",
    "    def process_data(self):\n",
    "        self.cpu.process_data()\n",
    "        self.ram.store_data()\n",
    "\n",
    "    def read_data(self):\n",
    "        self.storage.read_data()\n",
    "\n",
    "my_cpu = CPU(brand=\"Intel\", model=\"i7\", cores=4)\n",
    "my_ram = RAM(capacity=8)\n",
    "my_storage = Storage(capacity=512, storage_type=\"SSD\")\n",
    "\n",
    "my_computer = Computer(cpu=my_cpu, ram=my_ram, storage=my_storage)\n",
    "\n",
    "my_computer.process_data()\n",
    "my_computer.read_data()"
   ]
  },
  {
   "cell_type": "code",
   "execution_count": 51,
   "id": "ddb4e47c-0cd0-4f24-a012-46d112e5e220",
   "metadata": {},
   "outputs": [],
   "source": [
    "#Composition-9"
   ]
  },
  {
   "cell_type": "code",
   "execution_count": 52,
   "id": "ffe6479a-fa4a-4a28-b507-f7f7d08df998",
   "metadata": {},
   "outputs": [],
   "source": [
    "#Delegation is a concept in composition where one class passes the responsibility for a certain behavior or operation to another class. \n",
    "#Instead of directly implementing the behavior, the delegating class holds an instance of another class (the delegate) and forwards \n",
    "#the request to it. Delegation is a form of object composition that promotes code reuse, modularity, and clear separation of concerns."
   ]
  },
  {
   "cell_type": "code",
   "execution_count": 53,
   "id": "64777ba7-351e-4e08-9764-a30a3ff7d129",
   "metadata": {},
   "outputs": [],
   "source": [
    "#Composition-10"
   ]
  },
  {
   "cell_type": "code",
   "execution_count": 54,
   "id": "c6895803-0266-4f5d-adf9-6eeb2aab1d6f",
   "metadata": {},
   "outputs": [
    {
     "name": "stdout",
     "output_type": "stream",
     "text": [
      "Engine started. Fuel type: Gasoline, Horsepower: 200HP\n",
      "Wheels rotating. Tire type: All-season\n",
      "Car is now in motion\n",
      "Transmission shifting. Type: Automatic\n",
      "Car is driving\n",
      "Engine stopped\n",
      "Car stopped\n"
     ]
    }
   ],
   "source": [
    "class Engine:\n",
    "    def __init__(self, fuel_type, horsepower):\n",
    "        self.fuel_type = fuel_type\n",
    "        self.horsepower = horsepower\n",
    "\n",
    "    def start(self):\n",
    "        print(f\"Engine started. Fuel type: {self.fuel_type}, Horsepower: {self.horsepower}HP\")\n",
    "\n",
    "    def stop(self):\n",
    "        print(\"Engine stopped\")\n",
    "\n",
    "class Wheels:\n",
    "    def __init__(self, tire_type):\n",
    "        self.tire_type = tire_type\n",
    "\n",
    "    def rotate(self):\n",
    "        print(f\"Wheels rotating. Tire type: {self.tire_type}\")\n",
    "\n",
    "class Transmission:\n",
    "    def __init__(self, transmission_type):\n",
    "        self.transmission_type = transmission_type\n",
    "\n",
    "    def shift(self):\n",
    "        print(f\"Transmission shifting. Type: {self.transmission_type}\")\n",
    "\n",
    "class Car:\n",
    "    def __init__(self, engine, wheels, transmission):\n",
    "        # Composition: Car \"has an\" Engine, Wheels, and Transmission\n",
    "        self.engine = engine\n",
    "        self.wheels = wheels\n",
    "        self.transmission = transmission\n",
    "\n",
    "    def start(self):\n",
    "        self.engine.start()\n",
    "        self.wheels.rotate()\n",
    "        print(\"Car is now in motion\")\n",
    "\n",
    "    def stop(self):\n",
    "        self.engine.stop()\n",
    "        print(\"Car stopped\")\n",
    "\n",
    "    def drive(self):\n",
    "        self.transmission.shift()\n",
    "        print(\"Car is driving\")\n",
    "\n",
    "my_engine = Engine(fuel_type=\"Gasoline\", horsepower=200)\n",
    "my_wheels = Wheels(tire_type=\"All-season\")\n",
    "my_transmission = Transmission(transmission_type=\"Automatic\")\n",
    "\n",
    "my_car = Car(engine=my_engine, wheels=my_wheels, transmission=my_transmission)\n",
    "\n",
    "my_car.start()\n",
    "my_car.drive()\n",
    "my_car.stop()"
   ]
  },
  {
   "cell_type": "code",
   "execution_count": 55,
   "id": "db47fc53-ba96-493a-a68f-a15a7324cfbe",
   "metadata": {},
   "outputs": [],
   "source": [
    "#Composition-11"
   ]
  },
  {
   "cell_type": "code",
   "execution_count": 56,
   "id": "ff439016-46cf-4819-963a-2bdfdfd610da",
   "metadata": {},
   "outputs": [],
   "source": [
    "#In Python, encapsulation is a key principle that allows you to hide the internal details of a class and restrict access to certain\n",
    "#components. When using composition, encapsulation becomes important to maintain abstraction and to ensure that the details of composed \n",
    "#objects are hidden from external classes or modules."
   ]
  },
  {
   "cell_type": "code",
   "execution_count": 57,
   "id": "2c303cfb-d6b1-4b54-a62c-6b0f3fe0910d",
   "metadata": {},
   "outputs": [],
   "source": [
    "#Composition-12"
   ]
  },
  {
   "cell_type": "code",
   "execution_count": 58,
   "id": "92275c86-51fb-4e06-9fd7-40181e83cd13",
   "metadata": {},
   "outputs": [
    {
     "name": "stdout",
     "output_type": "stream",
     "text": [
      "Alice is enrolled in Introduction to Python Programming.\n",
      "Dr. Smith is teaching Introduction to Python Programming.\n",
      "Bob submitted the assignment: Python Assignment.\n",
      "Dr. Smith graded Bob's assignment: Python Assignment.\n"
     ]
    }
   ],
   "source": [
    "class Student:\n",
    "    def __init__(self, student_id, name):\n",
    "        self.student_id = student_id\n",
    "        self.name = name\n",
    "\n",
    "    def enroll(self, course):\n",
    "        print(f\"{self.name} is enrolled in {course}.\")\n",
    "\n",
    "    def submit_assignment(self, assignment):\n",
    "        print(f\"{self.name} submitted the assignment: {assignment}.\")\n",
    "\n",
    "class Instructor:\n",
    "    def __init__(self, instructor_id, name):\n",
    "        self.instructor_id = instructor_id\n",
    "        self.name = name\n",
    "\n",
    "    def teach(self, course):\n",
    "        print(f\"{self.name} is teaching {course}.\")\n",
    "\n",
    "    def grade_assignment(self, assignment, student):\n",
    "        print(f\"{self.name} graded {student}'s assignment: {assignment}.\")\n",
    "\n",
    "class Course:\n",
    "    def __init__(self, course_code, course_name):\n",
    "        self.course_code = course_code\n",
    "        self.course_name = course_name\n",
    "        self.students = []\n",
    "        self.instructor = None\n",
    "        self.course_materials = []\n",
    "\n",
    "    def add_student(self, student):\n",
    "        self.students.append(student)\n",
    "\n",
    "    def set_instructor(self, instructor):\n",
    "        self.instructor = instructor\n",
    "\n",
    "    def add_course_material(self, material):\n",
    "        self.course_materials.append(material)\n",
    "\n",
    "student1 = Student(student_id=\"S001\", name=\"Alice\")\n",
    "student2 = Student(student_id=\"S002\", name=\"Bob\")\n",
    "\n",
    "instructor = Instructor(instructor_id=\"I001\", name=\"Dr. Smith\")\n",
    "\n",
    "python_course = Course(course_code=\"CS101\", course_name=\"Introduction to Python Programming\")\n",
    "python_course.add_student(student1)\n",
    "python_course.add_student(student2)\n",
    "python_course.set_instructor(instructor)\n",
    "python_course.add_course_material(\"Lecture Notes\")\n",
    "python_course.add_course_material(\"Assignment 1\")\n",
    "\n",
    "student1.enroll(python_course.course_name)\n",
    "instructor.teach(python_course.course_name)\n",
    "student2.submit_assignment(\"Python Assignment\")\n",
    "instructor.grade_assignment(\"Python Assignment\", student2.name)"
   ]
  },
  {
   "cell_type": "code",
   "execution_count": 59,
   "id": "7eebbf15-d960-4982-a990-0c72a0d91e18",
   "metadata": {},
   "outputs": [],
   "source": [
    "#Composition-13"
   ]
  },
  {
   "cell_type": "code",
   "execution_count": 60,
   "id": "a9a11ac0-296b-4fb0-8ad2-d1ea42f336d8",
   "metadata": {},
   "outputs": [],
   "source": [
    "#While composition is a powerful design principle in object-oriented programming, it is not without its challenges and drawbacks. \n",
    "#Understanding these challenges is crucial for making informed design decisions.\n",
    "#Some of the common challenges associated with composition include:\n",
    "#1-Increased Complexity\n",
    "#2-Potential for Tight Coupling\n",
    "#3-Need for Proper Abstraction\n",
    "#4-Constructor and Initialization Challenges\n",
    "#5-Potential for Performance Overhead"
   ]
  },
  {
   "cell_type": "code",
   "execution_count": 61,
   "id": "6220a56e-eac8-47e5-a346-bd75907836c1",
   "metadata": {},
   "outputs": [],
   "source": [
    "#Composition-14"
   ]
  },
  {
   "cell_type": "code",
   "execution_count": 62,
   "id": "6e79945f-4e88-4782-a397-008cd3f6133c",
   "metadata": {},
   "outputs": [
    {
     "name": "stdout",
     "output_type": "stream",
     "text": [
      "Margherita Pizza Ingredients:\n",
      "- Tomato\n",
      "- Cheese\n",
      "- Bread\n",
      "Italian Cuisine Menu:\n",
      "Margherita Pizza\n",
      "Caprese Salad\n"
     ]
    }
   ],
   "source": [
    "class Ingredient:\n",
    "    def __init__(self, name):\n",
    "        self.name = name\n",
    "\n",
    "class Dish:\n",
    "    def __init__(self, name, ingredients):\n",
    "        self.name = name\n",
    "        self.ingredients = ingredients\n",
    "\n",
    "    def display_info(self):\n",
    "        print(f\"{self.name} Ingredients:\")\n",
    "        for ingredient in self.ingredients:\n",
    "            print(f\"- {ingredient.name}\")\n",
    "\n",
    "class Menu:\n",
    "    def __init__(self, name, dishes):\n",
    "        self.name = name\n",
    "        self.dishes = dishes\n",
    "\n",
    "    def display_menu(self):\n",
    "        print(f\"{self.name} Menu:\")\n",
    "        for dish in self.dishes:\n",
    "            print(f\"{dish.name}\")\n",
    "\n",
    "ingredient1 = Ingredient(name=\"Tomato\")\n",
    "ingredient2 = Ingredient(name=\"Cheese\")\n",
    "ingredient3 = Ingredient(name=\"Bread\")\n",
    "\n",
    "dish1 = Dish(name=\"Margherita Pizza\", ingredients=[ingredient1, ingredient2, ingredient3])\n",
    "dish2 = Dish(name=\"Caprese Salad\", ingredients=[ingredient1, ingredient2])\n",
    "\n",
    "menu = Menu(name=\"Italian Cuisine\", dishes=[dish1, dish2])\n",
    "\n",
    "dish1.display_info()\n",
    "menu.display_menu()"
   ]
  },
  {
   "cell_type": "code",
   "execution_count": 63,
   "id": "de1488a1-2667-44c9-9993-631a36d2cdd7",
   "metadata": {},
   "outputs": [],
   "source": [
    "#Composition-15"
   ]
  },
  {
   "cell_type": "code",
   "execution_count": 64,
   "id": "7dfdab5e-c08d-4c2c-8114-650d2385c271",
   "metadata": {},
   "outputs": [],
   "source": [
    "#Composition is a fundamental principle in object-oriented programming that enhances code maintainability and modularity in Python programs\n",
    "#Here are several ways in which composition achieves these goals:\n",
    "#1-Modularity\n",
    "#2-Code Reusability\n",
    "#3-Flexibility and Extensibility\n",
    "#4-Encapsulation\n",
    "#5-Clear Separation of Concerns"
   ]
  },
  {
   "cell_type": "code",
   "execution_count": 65,
   "id": "5d115313-8300-4c4e-8137-d1fc11193552",
   "metadata": {},
   "outputs": [],
   "source": [
    "#Composition-16"
   ]
  },
  {
   "cell_type": "code",
   "execution_count": 66,
   "id": "363486c4-3c4e-4d2a-b994-24713fac6564",
   "metadata": {},
   "outputs": [
    {
     "name": "stdout",
     "output_type": "stream",
     "text": [
      "Hero equipped with Sword.\n",
      "Hero equipped with Shield.\n",
      "Attacking with Sword. Damage: 10\n",
      "Shield absorbed 5 damage. Remaining damage: 3\n",
      "Hero took 3 damage. Remaining health: 97\n",
      "Added Health Potion to the inventory.\n",
      "Added Key to the inventory.\n"
     ]
    }
   ],
   "source": [
    "class Weapon:\n",
    "    def __init__(self, name, damage):\n",
    "        self.name = name\n",
    "        self.damage = damage\n",
    "\n",
    "    def attack(self):\n",
    "        print(f\"Attacking with {self.name}. Damage: {self.damage}\")\n",
    "\n",
    "class Armor:\n",
    "    def __init__(self, name, defense):\n",
    "        self.name = name\n",
    "        self.defense = defense\n",
    "\n",
    "    def absorb_damage(self, damage):\n",
    "        absorbed_damage = min(damage, self.defense)\n",
    "        remaining_damage = max(0, damage - self.defense)\n",
    "        print(f\"{self.name} absorbed {absorbed_damage} damage. Remaining damage: {remaining_damage}\")\n",
    "        return remaining_damage\n",
    "\n",
    "class Inventory:\n",
    "    def __init__(self):\n",
    "        self.items = []\n",
    "\n",
    "    def add_item(self, item):\n",
    "        self.items.append(item)\n",
    "        print(f\"Added {item} to the inventory.\")\n",
    "\n",
    "class GameCharacter:\n",
    "    def __init__(self, name, health):\n",
    "        self.name = name\n",
    "        self.health = health\n",
    "        self.weapon = None\n",
    "        self.armor = None \n",
    "        self.inventory = Inventory()\n",
    "\n",
    "    def equip_weapon(self, weapon):\n",
    "        self.weapon = weapon\n",
    "        print(f\"{self.name} equipped with {weapon.name}.\")\n",
    "\n",
    "    def equip_armor(self, armor):\n",
    "        self.armor = armor\n",
    "        print(f\"{self.name} equipped with {armor.name}.\")\n",
    "\n",
    "    def take_damage(self, damage):\n",
    "        if self.armor:\n",
    "            damage = self.armor.absorb_damage(damage)\n",
    "        self.health -= damage\n",
    "        print(f\"{self.name} took {damage} damage. Remaining health: {self.health}\")\n",
    "\n",
    "    def attack(self):\n",
    "        if self.weapon:\n",
    "            self.weapon.attack()\n",
    "        else:\n",
    "            print(f\"{self.name} attacks with bare hands.\")\n",
    "\n",
    "\n",
    "sword = Weapon(name=\"Sword\", damage=10)\n",
    "shield = Armor(name=\"Shield\", defense=5)\n",
    "player = GameCharacter(name=\"Hero\", health=100)\n",
    "\n",
    "player.equip_weapon(sword)\n",
    "player.equip_armor(shield)\n",
    "\n",
    "player.attack()\n",
    "player.take_damage(8)\n",
    "\n",
    "player.inventory.add_item(\"Health Potion\")\n",
    "player.inventory.add_item(\"Key\")"
   ]
  },
  {
   "cell_type": "code",
   "execution_count": 67,
   "id": "d2fb2648-2a50-4247-bea3-2b0fe0b4e7f7",
   "metadata": {},
   "outputs": [],
   "source": [
    "#Composition-17"
   ]
  },
  {
   "cell_type": "code",
   "execution_count": 68,
   "id": "95e4427b-01d9-4a46-8e51-c94cf9b0c627",
   "metadata": {},
   "outputs": [],
   "source": [
    "#Aggregation is a form of composition in object-oriented programming that represents a \"has-a\" relationship between classes, \n",
    "#similar to simple composition. However, aggregation implies a looser coupling between the container (aggregator) and the contained \n",
    "#object (aggregated), allowing the aggregated object to exist independently of the aggregator."
   ]
  },
  {
   "cell_type": "code",
   "execution_count": 69,
   "id": "3d049f1d-242b-4417-9018-4390b326ec75",
   "metadata": {},
   "outputs": [],
   "source": [
    "#Composition-18"
   ]
  },
  {
   "cell_type": "code",
   "execution_count": 70,
   "id": "712983fe-a940-45b8-b39f-fcab13333796",
   "metadata": {},
   "outputs": [
    {
     "name": "stdout",
     "output_type": "stream",
     "text": [
      "Added Sofa to the Living Room room.\n",
      "Added Coffee Table to the Living Room room.\n",
      "Added Television to the Living Room room.\n",
      "Added Refrigerator to the Kitchen room.\n",
      "Added Living Room to the My House house.\n",
      "Added Kitchen to the My House house.\n",
      "Contents of the Living Room room:\n",
      "This is a Sofa.\n",
      "This is a Coffee Table.\n",
      "Television is now operating.\n",
      "Contents of the Kitchen room:\n",
      "Refrigerator is now operating.\n"
     ]
    }
   ],
   "source": [
    "class Furniture:\n",
    "    def __init__(self, name):\n",
    "        self.name = name\n",
    "\n",
    "    def describe(self):\n",
    "        print(f\"This is a {self.name}.\")\n",
    "\n",
    "class Appliance:\n",
    "    def __init__(self, name):\n",
    "        self.name = name\n",
    "\n",
    "    def operate(self):\n",
    "        print(f\"{self.name} is now operating.\")\n",
    "\n",
    "class Room:\n",
    "    def __init__(self, name):\n",
    "        self.name = name\n",
    "        self.furniture = []  # Composition: Room \"has\" Furniture\n",
    "        self.appliances = []  # Composition: Room \"has\" Appliances\n",
    "\n",
    "    def add_furniture(self, furniture):\n",
    "        self.furniture.append(furniture)\n",
    "        print(f\"Added {furniture.name} to the {self.name} room.\")\n",
    "\n",
    "    def add_appliance(self, appliance):\n",
    "        self.appliances.append(appliance)\n",
    "        print(f\"Added {appliance.name} to the {self.name} room.\")\n",
    "\n",
    "    def describe_contents(self):\n",
    "        print(f\"Contents of the {self.name} room:\")\n",
    "        for item in self.furniture + self.appliances:\n",
    "            item.describe() if isinstance(item, Furniture) else item.operate()\n",
    "\n",
    "class House:\n",
    "    def __init__(self, name):\n",
    "        self.name = name\n",
    "        self.rooms = []  # Composition: House \"has\" Rooms\n",
    "\n",
    "    def add_room(self, room):\n",
    "        self.rooms.append(room)\n",
    "        print(f\"Added {room.name} to the {self.name} house.\")\n",
    "\n",
    "# Example Usage:\n",
    "\n",
    "# Create furniture and appliances\n",
    "sofa = Furniture(name=\"Sofa\")\n",
    "table = Furniture(name=\"Coffee Table\")\n",
    "tv = Appliance(name=\"Television\")\n",
    "fridge = Appliance(name=\"Refrigerator\")\n",
    "\n",
    "# Create rooms and add furniture and appliances\n",
    "living_room = Room(name=\"Living Room\")\n",
    "living_room.add_furniture(sofa)\n",
    "living_room.add_furniture(table)\n",
    "living_room.add_appliance(tv)\n",
    "\n",
    "kitchen = Room(name=\"Kitchen\")\n",
    "kitchen.add_appliance(fridge)\n",
    "\n",
    "# Create a house and add rooms\n",
    "my_house = House(name=\"My House\")\n",
    "my_house.add_room(living_room)\n",
    "my_house.add_room(kitchen)\n",
    "\n",
    "# Describe contents of rooms in the house\n",
    "for room in my_house.rooms:\n",
    "    room.describe_contents()\n"
   ]
  },
  {
   "cell_type": "code",
   "execution_count": 71,
   "id": "94369d95-c157-4549-b663-56b1e941ebb7",
   "metadata": {},
   "outputs": [],
   "source": [
    "#Composition-19"
   ]
  },
  {
   "cell_type": "code",
   "execution_count": 72,
   "id": "36cce946-fc0f-4dbb-9fa8-9bf06f9ee2f3",
   "metadata": {},
   "outputs": [],
   "source": [
    "#Strategy Pattern:\n",
    "\n",
    "#Define a family of algorithms or behaviors and encapsulate each one in a separate class.\n",
    "#Allow the client to choose or change the algorithm dynamically at runtime."
   ]
  },
  {
   "cell_type": "code",
   "execution_count": 73,
   "id": "c2b897b5-66c5-4575-a1df-a296823c82cb",
   "metadata": {},
   "outputs": [],
   "source": [
    "#Composition-20"
   ]
  },
  {
   "cell_type": "code",
   "execution_count": 74,
   "id": "dda01721-4414-4d86-8811-6c10706d650b",
   "metadata": {},
   "outputs": [
    {
     "name": "stdout",
     "output_type": "stream",
     "text": [
      "Alice created a new post: Excited to join this social media app!\n",
      "Bob created a new post: Just returned from an amazing trip!\n",
      "Alice commented on a post: Sounds like a fantastic journey!\n",
      "Post by Bob: Just returned from an amazing trip!\n",
      "Comments:\n",
      "- Alice: Sounds like a fantastic journey!\n"
     ]
    }
   ],
   "source": [
    "class User:\n",
    "    def __init__(self, username, bio):\n",
    "        self.username = username\n",
    "        self.bio = bio\n",
    "        self.posts = [] \n",
    "\n",
    "    def create_post(self, content):\n",
    "        post = Post(author=self, content=content)\n",
    "        self.posts.append(post)\n",
    "        print(f\"{self.username} created a new post: {content}\")\n",
    "\n",
    "    def comment_on_post(self, post, comment_content):\n",
    "        comment = Comment(author=self, content=comment_content)\n",
    "        post.add_comment(comment)\n",
    "        print(f\"{self.username} commented on a post: {comment_content}\")\n",
    "\n",
    "class Post:\n",
    "    def __init__(self, author, content):\n",
    "        self.author = author\n",
    "        self.content = content\n",
    "        self.comments = [] \n",
    "\n",
    "    def add_comment(self, comment):\n",
    "        self.comments.append(comment)\n",
    "\n",
    "    def display_details(self):\n",
    "        print(f\"Post by {self.author.username}: {self.content}\")\n",
    "        print(\"Comments:\")\n",
    "        for comment in self.comments:\n",
    "            print(f\"- {comment.author.username}: {comment.content}\")\n",
    "\n",
    "class Comment:\n",
    "    def __init__(self, author, content):\n",
    "        self.author = author\n",
    "        self.content = content\n",
    "\n",
    "alice = User(username=\"Alice\", bio=\"Welcome to my profile!\")\n",
    "bob = User(username=\"Bob\", bio=\"Tech enthusiast and travel lover\")\n",
    "\n",
    "alice.create_post(content=\"Excited to join this social media app!\")\n",
    "bob.create_post(content=\"Just returned from an amazing trip!\")\n",
    "alice.comment_on_post(post=bob.posts[0], comment_content=\"Sounds like a fantastic journey!\")\n",
    "\n",
    "bob.posts[0].display_details()"
   ]
  },
  {
   "cell_type": "code",
   "execution_count": null,
   "id": "dcbd7f40-478a-4f3e-9976-69a995ebe683",
   "metadata": {},
   "outputs": [],
   "source": []
  }
 ],
 "metadata": {
  "kernelspec": {
   "display_name": "Python 3 (ipykernel)",
   "language": "python",
   "name": "python3"
  },
  "language_info": {
   "codemirror_mode": {
    "name": "ipython",
    "version": 3
   },
   "file_extension": ".py",
   "mimetype": "text/x-python",
   "name": "python",
   "nbconvert_exporter": "python",
   "pygments_lexer": "ipython3",
   "version": "3.8.0"
  }
 },
 "nbformat": 4,
 "nbformat_minor": 5
}
