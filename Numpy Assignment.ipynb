{
 "cells": [
  {
   "cell_type": "code",
   "execution_count": 1,
   "id": "d4fa1a82-0161-4d1c-80a9-5c42de32e363",
   "metadata": {},
   "outputs": [],
   "source": [
    "#Que no - 1 "
   ]
  },
  {
   "cell_type": "code",
   "execution_count": 3,
   "id": "85cef08f-5d3b-464c-b1f4-bdf328a09dfb",
   "metadata": {},
   "outputs": [],
   "source": [
    "#A Python library is a collection of pre-written code that developers can reuse in their programs to solve specific\n",
    "#tasks or implement functionalities. Python libraries often contain modules, functions, and classes that provide useful tools, \n",
    "#so you don’t have to write code from scratch."
   ]
  },
  {
   "cell_type": "code",
   "execution_count": 4,
   "id": "8eda3c90-8bcc-4656-9e37-c0999e58b7ea",
   "metadata": {},
   "outputs": [],
   "source": [
    "#Que no - 2"
   ]
  },
  {
   "cell_type": "code",
   "execution_count": 8,
   "id": "a344922f-c3f5-4363-b98b-33f12f5a5efd",
   "metadata": {},
   "outputs": [],
   "source": [
    "#Difference between numpy array and list are given below-\n",
    "\n",
    "#1- Array contains only one datatype while list can contain values from different data types.\n",
    "#2- Arrays are faster than list.\n",
    "#3- Array takes less memory compare to list.\n",
    "#4- Array Supports different types of scientific calculation which lists do not support."
   ]
  },
  {
   "cell_type": "code",
   "execution_count": 9,
   "id": "401d70ac-a95a-4814-b233-d6cd2042d6b3",
   "metadata": {},
   "outputs": [],
   "source": [
    "#Que no - 3"
   ]
  },
  {
   "cell_type": "code",
   "execution_count": 16,
   "id": "585ab017-02e7-4bfb-94b3-2f06066aef8b",
   "metadata": {},
   "outputs": [
    {
     "data": {
      "text/plain": [
       "array([[ 1,  2,  3,  4],\n",
       "       [ 5,  6,  7,  8],\n",
       "       [ 9, 10, 11, 12]])"
      ]
     },
     "execution_count": 16,
     "metadata": {},
     "output_type": "execute_result"
    }
   ],
   "source": [
    "import numpy as np\n",
    "\n",
    "arr = np.array([[1,2,3,4],[5,6,7,8],[9,10,11,12]])\n",
    "arr"
   ]
  },
  {
   "cell_type": "code",
   "execution_count": 17,
   "id": "31cc0ecc-c867-46fc-be14-78e0ff1980fd",
   "metadata": {},
   "outputs": [
    {
     "data": {
      "text/plain": [
       "(3, 4)"
      ]
     },
     "execution_count": 17,
     "metadata": {},
     "output_type": "execute_result"
    }
   ],
   "source": [
    "arr.shape"
   ]
  },
  {
   "cell_type": "code",
   "execution_count": 18,
   "id": "09cc7dd1-ef23-4202-a1b1-be19f6a23ea5",
   "metadata": {},
   "outputs": [
    {
     "data": {
      "text/plain": [
       "12"
      ]
     },
     "execution_count": 18,
     "metadata": {},
     "output_type": "execute_result"
    }
   ],
   "source": [
    "arr.size"
   ]
  },
  {
   "cell_type": "code",
   "execution_count": 23,
   "id": "c0859b47-ec6f-424f-a9a6-63782a0b5699",
   "metadata": {},
   "outputs": [
    {
     "data": {
      "text/plain": [
       "2"
      ]
     },
     "execution_count": 23,
     "metadata": {},
     "output_type": "execute_result"
    }
   ],
   "source": [
    "arr.ndim"
   ]
  },
  {
   "cell_type": "code",
   "execution_count": 24,
   "id": "7e767d63-ad04-4f12-a106-1ccd3d49c4bb",
   "metadata": {},
   "outputs": [],
   "source": [
    "#Que no - 4"
   ]
  },
  {
   "cell_type": "code",
   "execution_count": 28,
   "id": "6722cb73-86b2-45cd-82eb-8f28e9ddcf7d",
   "metadata": {},
   "outputs": [
    {
     "name": "stdout",
     "output_type": "stream",
     "text": [
      "1, 2, 3, 4, "
     ]
    }
   ],
   "source": [
    "for i in range(len(arr[0])):\n",
    "    print(arr[0][i], end=\", \")"
   ]
  },
  {
   "cell_type": "code",
   "execution_count": 29,
   "id": "373c99f5-d2ae-431c-9b8f-4df90eb24363",
   "metadata": {},
   "outputs": [],
   "source": [
    "#Que no - 5"
   ]
  },
  {
   "cell_type": "code",
   "execution_count": 31,
   "id": "e441abc1-cd93-43ea-8115-95df1187b113",
   "metadata": {},
   "outputs": [
    {
     "data": {
      "text/plain": [
       "12"
      ]
     },
     "execution_count": 31,
     "metadata": {},
     "output_type": "execute_result"
    }
   ],
   "source": [
    "arr[2][3]"
   ]
  },
  {
   "cell_type": "code",
   "execution_count": 32,
   "id": "d95978a2-9719-464e-b035-11380fd4c337",
   "metadata": {},
   "outputs": [],
   "source": [
    "#Que no - 6"
   ]
  },
  {
   "cell_type": "code",
   "execution_count": 39,
   "id": "a47c915b-f016-4497-b57b-23786343dd1f",
   "metadata": {},
   "outputs": [
    {
     "name": "stdout",
     "output_type": "stream",
     "text": [
      "6\n",
      "8\n"
     ]
    }
   ],
   "source": [
    "arrShape = list(arr.shape)\n",
    "for i in range(arrShape[0]):\n",
    "    for j in range(arrShape[1]):\n",
    "        if (i==1 and j==1) or (i%2!=0 and j%2!=0):\n",
    "            print(arr[i][j])"
   ]
  },
  {
   "cell_type": "code",
   "execution_count": 40,
   "id": "3d21f063-72e5-4d1f-b569-ccdc77fdfcfb",
   "metadata": {},
   "outputs": [],
   "source": [
    "#Que no - 7"
   ]
  },
  {
   "cell_type": "code",
   "execution_count": 42,
   "id": "c109fb08-732f-4628-97fc-645c0947ff82",
   "metadata": {},
   "outputs": [
    {
     "data": {
      "text/plain": [
       "array([[0.30042758, 0.83265914, 0.41881446],\n",
       "       [0.32732303, 0.71969488, 0.0242409 ],\n",
       "       [0.7966846 , 0.77204236, 0.00534074]])"
      ]
     },
     "execution_count": 42,
     "metadata": {},
     "output_type": "execute_result"
    }
   ],
   "source": [
    "np.random.rand(3, 3)"
   ]
  },
  {
   "cell_type": "code",
   "execution_count": 43,
   "id": "2765ae9e-ff68-492a-a9fe-f1504d77a822",
   "metadata": {},
   "outputs": [],
   "source": [
    "#Que no - 8"
   ]
  },
  {
   "cell_type": "code",
   "execution_count": 44,
   "id": "b3e846b6-c95f-4a36-bda3-9d0ed1a817b5",
   "metadata": {},
   "outputs": [],
   "source": [
    "#np.random.rand() generates numbers between 0 and 1 from a uniform distribution.\n",
    "#np.random.randn() generates numbers from a standard normal distribution (mean = 0, standard deviation = 1)."
   ]
  },
  {
   "cell_type": "code",
   "execution_count": 45,
   "id": "43fa86a5-75b4-497f-ac03-95fc90c89bd8",
   "metadata": {},
   "outputs": [],
   "source": [
    "#Que no - 9"
   ]
  },
  {
   "cell_type": "code",
   "execution_count": 46,
   "id": "6d62167f-b880-42f0-9386-ded9a755913b",
   "metadata": {},
   "outputs": [
    {
     "data": {
      "text/plain": [
       "2"
      ]
     },
     "execution_count": 46,
     "metadata": {},
     "output_type": "execute_result"
    }
   ],
   "source": [
    "arr.ndim"
   ]
  },
  {
   "cell_type": "code",
   "execution_count": 50,
   "id": "256e9673-addd-4e92-933c-4dce26cda8ab",
   "metadata": {},
   "outputs": [],
   "source": [
    "arr2 = np.expand_dims(arr, axis=0)"
   ]
  },
  {
   "cell_type": "code",
   "execution_count": 51,
   "id": "460f410c-8b45-4151-8237-fda5cae81b07",
   "metadata": {},
   "outputs": [
    {
     "data": {
      "text/plain": [
       "3"
      ]
     },
     "execution_count": 51,
     "metadata": {},
     "output_type": "execute_result"
    }
   ],
   "source": [
    "arr2.ndim"
   ]
  },
  {
   "cell_type": "code",
   "execution_count": 52,
   "id": "ae3332ec-6ef2-4f10-86b2-cbe7ef9febb1",
   "metadata": {},
   "outputs": [],
   "source": [
    "#Que no - 10"
   ]
  },
  {
   "cell_type": "code",
   "execution_count": 54,
   "id": "4c351f9f-86bc-4fa2-b9a3-871e831cbc8b",
   "metadata": {},
   "outputs": [
    {
     "data": {
      "text/plain": [
       "array([[ 1,  5,  9],\n",
       "       [ 2,  6, 10],\n",
       "       [ 3,  7, 11],\n",
       "       [ 4,  8, 12]])"
      ]
     },
     "execution_count": 54,
     "metadata": {},
     "output_type": "execute_result"
    }
   ],
   "source": [
    "arr.T"
   ]
  },
  {
   "cell_type": "code",
   "execution_count": 55,
   "id": "945a908c-d9e0-4439-bd12-3d8ea63dbd30",
   "metadata": {},
   "outputs": [],
   "source": [
    "#Que no - 11"
   ]
  },
  {
   "cell_type": "code",
   "execution_count": 75,
   "id": "ac3dc068-ab12-4e34-bb90-70ad55f6871e",
   "metadata": {},
   "outputs": [],
   "source": [
    "a = np.matrix([[1,2,3],[5,6,7],[9,10,11]])\n",
    "b = np.matrix([[1,2,3],[5,6,7],[9,10,11]])"
   ]
  },
  {
   "cell_type": "code",
   "execution_count": 76,
   "id": "58d88609-a9aa-4563-9527-dd969e83837d",
   "metadata": {},
   "outputs": [
    {
     "data": {
      "text/plain": [
       "matrix([[ 38,  44,  50],\n",
       "        [ 98, 116, 134],\n",
       "        [158, 188, 218]])"
      ]
     },
     "execution_count": 76,
     "metadata": {},
     "output_type": "execute_result"
    }
   ],
   "source": [
    "a*b"
   ]
  },
  {
   "cell_type": "code",
   "execution_count": 80,
   "id": "e9a8a68d-0645-4b87-8048-786c7d321534",
   "metadata": {},
   "outputs": [
    {
     "data": {
      "text/plain": [
       "matrix([[ 38,  44,  50],\n",
       "        [ 98, 116, 134],\n",
       "        [158, 188, 218]])"
      ]
     },
     "execution_count": 80,
     "metadata": {},
     "output_type": "execute_result"
    }
   ],
   "source": [
    "a @ b"
   ]
  },
  {
   "cell_type": "code",
   "execution_count": 81,
   "id": "b3051491-e6b6-48b1-bdc8-f9035f7d6313",
   "metadata": {},
   "outputs": [
    {
     "data": {
      "text/plain": [
       "matrix([[ 2,  4,  6],\n",
       "        [10, 12, 14],\n",
       "        [18, 20, 22]])"
      ]
     },
     "execution_count": 81,
     "metadata": {},
     "output_type": "execute_result"
    }
   ],
   "source": [
    "a + b"
   ]
  },
  {
   "cell_type": "code",
   "execution_count": 82,
   "id": "a1f80c59-960e-457a-b248-608e86da1e48",
   "metadata": {},
   "outputs": [
    {
     "data": {
      "text/plain": [
       "matrix([[0, 0, 0],\n",
       "        [0, 0, 0],\n",
       "        [0, 0, 0]])"
      ]
     },
     "execution_count": 82,
     "metadata": {},
     "output_type": "execute_result"
    }
   ],
   "source": [
    "b - a"
   ]
  },
  {
   "cell_type": "code",
   "execution_count": 83,
   "id": "aedca06f-53ff-47f0-9e1a-bbc46393073f",
   "metadata": {},
   "outputs": [
    {
     "data": {
      "text/plain": [
       "matrix([[1, 1, 1],\n",
       "        [1, 1, 1],\n",
       "        [1, 1, 1]])"
      ]
     },
     "execution_count": 83,
     "metadata": {},
     "output_type": "execute_result"
    }
   ],
   "source": [
    "b//a"
   ]
  },
  {
   "cell_type": "code",
   "execution_count": 87,
   "id": "5dfb7832-52f0-4201-941a-466c04aa816e",
   "metadata": {},
   "outputs": [],
   "source": [
    "#Que no - 12"
   ]
  },
  {
   "cell_type": "code",
   "execution_count": 85,
   "id": "a7c75752-0cb7-4ab4-bf54-d3dfbc7929df",
   "metadata": {},
   "outputs": [
    {
     "data": {
      "text/plain": [
       "array([[ 72057594037927936, 144115188075855872, 216172782113783808,\n",
       "        288230376151711744],\n",
       "       [360287970189639680, 432345564227567616, 504403158265495552,\n",
       "        576460752303423488],\n",
       "       [648518346341351424, 720575940379279360, 792633534417207296,\n",
       "        864691128455135232]])"
      ]
     },
     "execution_count": 85,
     "metadata": {},
     "output_type": "execute_result"
    }
   ],
   "source": [
    "arr.byteswap()"
   ]
  },
  {
   "cell_type": "code",
   "execution_count": 88,
   "id": "873a36bc-4226-43d4-b9b3-c8f11eba87f6",
   "metadata": {},
   "outputs": [],
   "source": [
    "#Que no - 13"
   ]
  },
  {
   "cell_type": "code",
   "execution_count": 89,
   "id": "f9da3dae-1c05-4c1e-95df-79683bab878b",
   "metadata": {},
   "outputs": [],
   "source": [
    "#The np.linalg.inv function in NumPy is used to compute the inverse of a square matrix."
   ]
  },
  {
   "cell_type": "code",
   "execution_count": 90,
   "id": "bb1751b4-fd5e-452b-b04c-f98ff1be7af5",
   "metadata": {},
   "outputs": [],
   "source": [
    "#Que no - 14"
   ]
  },
  {
   "cell_type": "code",
   "execution_count": 92,
   "id": "feb18724-c649-4215-9799-2a728a7a8808",
   "metadata": {},
   "outputs": [],
   "source": [
    "#reshape function of numpy, shapes an array into desired dimentions, the multiplication of the original shape of array\n",
    "#should be same as the multiplication of desired array shape."
   ]
  },
  {
   "cell_type": "code",
   "execution_count": 93,
   "id": "65bf6a65-e57b-4390-a774-281ca0d5f607",
   "metadata": {},
   "outputs": [
    {
     "data": {
      "text/plain": [
       "(3, 4)"
      ]
     },
     "execution_count": 93,
     "metadata": {},
     "output_type": "execute_result"
    }
   ],
   "source": [
    "arr.shape"
   ]
  },
  {
   "cell_type": "code",
   "execution_count": 94,
   "id": "a73c6dc5-5087-449f-a5f8-14cf01ba6797",
   "metadata": {},
   "outputs": [
    {
     "data": {
      "text/plain": [
       "array([[ 1],\n",
       "       [ 2],\n",
       "       [ 3],\n",
       "       [ 4],\n",
       "       [ 5],\n",
       "       [ 6],\n",
       "       [ 7],\n",
       "       [ 8],\n",
       "       [ 9],\n",
       "       [10],\n",
       "       [11],\n",
       "       [12]])"
      ]
     },
     "execution_count": 94,
     "metadata": {},
     "output_type": "execute_result"
    }
   ],
   "source": [
    "arr.reshape(12,1)"
   ]
  },
  {
   "cell_type": "code",
   "execution_count": 95,
   "id": "37dcc131-bcfb-44c3-827b-a785278258e5",
   "metadata": {},
   "outputs": [],
   "source": [
    "#Que no - 15"
   ]
  },
  {
   "cell_type": "code",
   "execution_count": 96,
   "id": "8200a665-9f42-4203-8be4-9d6a9b497c57",
   "metadata": {},
   "outputs": [],
   "source": [
    "#Broadcasting is a fundamental feature in NumPy that enables flexible and efficient arithmetic operations on arrays of different shapes."
   ]
  }
 ],
 "metadata": {
  "kernelspec": {
   "display_name": "Python 3 (ipykernel)",
   "language": "python",
   "name": "python3"
  },
  "language_info": {
   "codemirror_mode": {
    "name": "ipython",
    "version": 3
   },
   "file_extension": ".py",
   "mimetype": "text/x-python",
   "name": "python",
   "nbconvert_exporter": "python",
   "pygments_lexer": "ipython3",
   "version": "3.9.18"
  }
 },
 "nbformat": 4,
 "nbformat_minor": 5
}
