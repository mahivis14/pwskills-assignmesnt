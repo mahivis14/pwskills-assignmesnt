{
 "cells": [
  {
   "cell_type": "code",
   "execution_count": null,
   "id": "eb57f4d5-0319-465b-bcf3-c6d9e62d9c98",
   "metadata": {},
   "outputs": [],
   "source": [
    "#Que no-1"
   ]
  },
  {
   "cell_type": "code",
   "execution_count": 2,
   "id": "3ef48923-8eac-455b-8ecd-1af1ae63802f",
   "metadata": {},
   "outputs": [],
   "source": [
    "#given that T(n)=3T(n-1)+12n\n",
    "#And T(0)=5 \n",
    "\n",
    "#T(1) = 3T(0)+12\n",
    "#T(1) = 27\n",
    "\n",
    "#T(2) = 3T(1)+24\n",
    "#T(2) = 105"
   ]
  },
  {
   "cell_type": "code",
   "execution_count": null,
   "id": "5225f6d6-f378-486e-b4d9-cef67317625d",
   "metadata": {},
   "outputs": [],
   "source": [
    "#Que no-2(a)"
   ]
  },
  {
   "cell_type": "code",
   "execution_count": 1,
   "id": "e4b7796a-eeaf-4e3b-b5bc-d045a96eaf48",
   "metadata": {},
   "outputs": [],
   "source": [
    "#T(n)=T(n−1)+c\n",
    "#T(n)=T(n-2)+2c\n",
    "#.\n",
    "#.\n",
    "#T(n)=T(n-k)+kc"
   ]
  },
  {
   "cell_type": "code",
   "execution_count": 2,
   "id": "5f662b3e-d87e-450d-aaa9-71aa5f889569",
   "metadata": {},
   "outputs": [],
   "source": [
    "#Que no-2(b)"
   ]
  },
  {
   "cell_type": "code",
   "execution_count": 3,
   "id": "8a03ca41-beec-46b7-ab75-96c036f2f359",
   "metadata": {},
   "outputs": [],
   "source": [
    "#T(n)=2T(n/2)+n\n",
    "#T(n)=4T(n/4)+2n\n",
    "#.\n",
    "#.\n",
    "#T(n)=k.2T(n/2k)+kn"
   ]
  },
  {
   "cell_type": "code",
   "execution_count": 4,
   "id": "94189a5c-d015-4b17-8f2a-5f7476642db8",
   "metadata": {},
   "outputs": [],
   "source": [
    "#Que no-2(c)"
   ]
  },
  {
   "cell_type": "code",
   "execution_count": 7,
   "id": "364c3f6d-c26d-42f4-a7d6-8556648547e6",
   "metadata": {},
   "outputs": [],
   "source": [
    "#T(n)=2T(n/2)+c\n",
    "#T(n)=4T(n/4)+2c\n",
    "#.\n",
    "#.\n",
    "#T(n)=k.2T(n/2k)+kc"
   ]
  },
  {
   "cell_type": "code",
   "execution_count": 8,
   "id": "92f638d3-40d6-41cc-977a-764ba2e558e2",
   "metadata": {},
   "outputs": [],
   "source": [
    "#Que no-2(d)"
   ]
  },
  {
   "cell_type": "code",
   "execution_count": 10,
   "id": "c56f0586-9ec5-4668-b524-58c4f9c9f8b0",
   "metadata": {},
   "outputs": [],
   "source": [
    "#T(n)=T(n/2)+c\n",
    "#T(n)=T(n/4)+2c\n",
    "#.\n",
    "#.\n",
    "#T(n)=T(n/2k)+kc"
   ]
  },
  {
   "cell_type": "code",
   "execution_count": 11,
   "id": "6f2553d7-5774-4fc8-b158-d151f722e7fc",
   "metadata": {},
   "outputs": [],
   "source": [
    "#Que no-3(a)"
   ]
  },
  {
   "cell_type": "code",
   "execution_count": 14,
   "id": "eaff65ba-5328-4c3a-b693-1c5ade469614",
   "metadata": {},
   "outputs": [],
   "source": [
    "#T(n)=2T(n-1)+1\n",
    "#T(n)=4T(n-2)+2\n",
    "#.\n",
    "#.\n",
    "#T(n)=k.2T(n-2)+k"
   ]
  },
  {
   "cell_type": "code",
   "execution_count": 15,
   "id": "4b67b2a2-944f-4ee7-aa79-fa67c7db792c",
   "metadata": {},
   "outputs": [],
   "source": [
    "#Que no-3(b)"
   ]
  },
  {
   "cell_type": "code",
   "execution_count": 16,
   "id": "bd9ddca9-5b6a-4a92-8437-7ecda8796cb5",
   "metadata": {},
   "outputs": [],
   "source": [
    "#T(n)=2T(n/2)+n\n",
    "#T(n)=4T(n/4)+2n/2\n",
    "#.\n",
    "#.\n",
    "#T(n)=k.2T(n/2k)+kn/2"
   ]
  },
  {
   "cell_type": "code",
   "execution_count": null,
   "id": "bed92ce2-32e5-41d3-a3a2-905a9d1d1055",
   "metadata": {},
   "outputs": [],
   "source": []
  }
 ],
 "metadata": {
  "kernelspec": {
   "display_name": "Python 3 (ipykernel)",
   "language": "python",
   "name": "python3"
  },
  "language_info": {
   "codemirror_mode": {
    "name": "ipython",
    "version": 3
   },
   "file_extension": ".py",
   "mimetype": "text/x-python",
   "name": "python",
   "nbconvert_exporter": "python",
   "pygments_lexer": "ipython3",
   "version": "3.9.18"
  }
 },
 "nbformat": 4,
 "nbformat_minor": 5
}
