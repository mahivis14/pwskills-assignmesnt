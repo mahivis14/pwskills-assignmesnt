{
 "cells": [
  {
   "cell_type": "code",
   "execution_count": 73,
   "id": "d3090793-6dbd-44ae-b8c5-71d98f7f8b2c",
   "metadata": {},
   "outputs": [
    {
     "name": "stdout",
     "output_type": "stream",
     "text": [
      "1->2->3->4->5->"
     ]
    }
   ],
   "source": [
    "class Node:\n",
    "    def __init__(self,data = None, Next = None):\n",
    "        self.data = data\n",
    "        self.Next = Next\n",
    "    def setData(self, data):\n",
    "        self.data = data\n",
    "    def getData(self):\n",
    "        return self.data\n",
    "    def setNext(self, Next):\n",
    "        self.Next = Next\n",
    "    def getNext(self):\n",
    "        return self.Next\n",
    "\n",
    "head = Node(1)\n",
    "node1 = Node(2)\n",
    "node2 = Node(3)\n",
    "node3 = Node(4)\n",
    "node4 = Node(5)\n",
    "\n",
    "head.setNext(node1)\n",
    "node1.setNext(node2)\n",
    "node2.setNext(node3)\n",
    "node3.setNext(node4)\n",
    "\n",
    "def traverse(head):\n",
    "    temps = head\n",
    "    while(temps):\n",
    "        print(temps.getData(), end=\"->\")\n",
    "        temps = temps.getNext()\n",
    "\n",
    "def lennth(head):\n",
    "    temp = 0\n",
    "    while(head):\n",
    "        temp = temp+1\n",
    "        head = head.getNext()\n",
    "    return temp\n",
    "\n",
    "traverse(head)"
   ]
  },
  {
   "cell_type": "code",
   "execution_count": 2,
   "id": "ffcd2395-cd57-49d5-9baa-fd3a29f10432",
   "metadata": {},
   "outputs": [],
   "source": [
    "#Que no-1"
   ]
  },
  {
   "cell_type": "code",
   "execution_count": 3,
   "id": "2739aaba-3f11-4060-890e-8897da891dd1",
   "metadata": {},
   "outputs": [
    {
     "name": "stdout",
     "output_type": "stream",
     "text": [
      "5->4->3->2->1->"
     ]
    }
   ],
   "source": [
    "def reverse(head):\n",
    "    temp = head\n",
    "    prev = None\n",
    "    while(temp):\n",
    "        temp2 = temp.getNext()\n",
    "        temp.setNext(prev)\n",
    "        prev = temp\n",
    "        temp = temp2\n",
    "    return prev\n",
    "\n",
    "head2 = reverse(head)\n",
    "traverse(head2)"
   ]
  },
  {
   "cell_type": "code",
   "execution_count": 4,
   "id": "7aecfd3d-9d01-4c4c-8f51-1c3983b3ad8b",
   "metadata": {},
   "outputs": [],
   "source": [
    "#Que no-2"
   ]
  },
  {
   "cell_type": "code",
   "execution_count": 9,
   "id": "d4e873e3-922a-439c-b73f-2d63aa0b97f1",
   "metadata": {},
   "outputs": [
    {
     "name": "stdout",
     "output_type": "stream",
     "text": [
      "1->2->3->4->5->6->"
     ]
    }
   ],
   "source": [
    "head3 = Node(1)\n",
    "node4 = Node(3)\n",
    "node5 = Node(5)\n",
    "head3.setNext(node4)\n",
    "node4.setNext(node5)\n",
    "#traverse(head3)\n",
    "\n",
    "head4 = Node(2)\n",
    "node6 = Node(4)\n",
    "node7 = Node(6)\n",
    "head4.setNext(node6)\n",
    "node6.setNext(node7)\n",
    "#traverse(head4)\n",
    "\n",
    "def merge(h1,h2):\n",
    "    temp1 = h1\n",
    "    temp2 = h2\n",
    "    dummy = Node(0)\n",
    "    tail = dummy\n",
    "    while temp1 is not None and temp2 is not None:\n",
    "        if temp1.getData()<temp2.getData():\n",
    "            tail.setNext(temp1)\n",
    "            temp1 = temp1.getNext()\n",
    "            \n",
    "        else:\n",
    "            tail.setNext(temp2)\n",
    "            temp2 = temp2.getNext()\n",
    "            \n",
    "        tail = tail.getNext()\n",
    "    if temp1 is not None:\n",
    "        tail.setNext(temp1)\n",
    "    else:\n",
    "        tail.setNext(temp2)\n",
    "\n",
    "    return dummy.getNext()\n",
    "\n",
    "h3 = merge(head3,head4)\n",
    "traverse(h3)"
   ]
  },
  {
   "cell_type": "code",
   "execution_count": 10,
   "id": "b8f7a3fd-cdbc-4297-a806-fe234d0f8886",
   "metadata": {},
   "outputs": [],
   "source": [
    "#Que no-3"
   ]
  },
  {
   "cell_type": "code",
   "execution_count": 13,
   "id": "afa0d20f-664e-4b55-83ca-8d942c3a3a1d",
   "metadata": {},
   "outputs": [
    {
     "name": "stdout",
     "output_type": "stream",
     "text": [
      "1->2->3->5->"
     ]
    }
   ],
   "source": [
    "def speData(head, length, n):\n",
    "    temp = 1\n",
    "    while(head):\n",
    "        if temp==(length-n):\n",
    "            data = head.getNext().getNext()\n",
    "            head.setNext(data)\n",
    "        head = head.getNext()\n",
    "        temp = temp+1\n",
    "        \n",
    "spData = speData(head,5,2)\n",
    "traverse(head)"
   ]
  },
  {
   "cell_type": "code",
   "execution_count": 14,
   "id": "ad770062-d3c6-452b-a6da-64e85f7d8652",
   "metadata": {},
   "outputs": [],
   "source": [
    "#Que no-4"
   ]
  },
  {
   "cell_type": "code",
   "execution_count": 34,
   "id": "241a69d3-4b4b-43b5-94fc-53dd1cbc734f",
   "metadata": {},
   "outputs": [
    {
     "name": "stdout",
     "output_type": "stream",
     "text": [
      "3->4->"
     ]
    }
   ],
   "source": [
    "head5 = Node(1)\n",
    "node8 = Node(2)\n",
    "node9 = Node(3)\n",
    "node10 = Node(4)\n",
    "head5.setNext(node8)\n",
    "node8.setNext(node9)\n",
    "node9.setNext(node10)\n",
    "#traverse(head5)\n",
    "\n",
    "head6 = Node(9)\n",
    "node11 = Node(8)\n",
    "\n",
    "head6.setNext(node11)\n",
    "node11.setNext(node9)\n",
    "node12.setNext(node10)\n",
    "#traverse(head6)\n",
    "\n",
    "\n",
    "def find_intersection(head1, head2):\n",
    "    len1 = lennth(head1)\n",
    "    len2 = lennth(head2)\n",
    "    \n",
    "    diff = abs(len1 - len2)\n",
    "    \n",
    "    if len1 > len2:\n",
    "        for _ in range(diff):\n",
    "            head1 = head1.getNext()\n",
    "    else:\n",
    "        for _ in range(diff):\n",
    "            head2 = head2.getNext()\n",
    "\n",
    "    while head1 is not None and head2 is not None:\n",
    "        if head1 == head2:\n",
    "            return head1\n",
    "        head1 = head1.getNext()\n",
    "        head2 = head2.getNext()\n",
    "\n",
    "    return None\n",
    "\n",
    "inter = find_intersection(head5, head6)\n",
    "traverse(inter)"
   ]
  },
  {
   "cell_type": "code",
   "execution_count": 35,
   "id": "29ba79e9-43bf-4e83-b3dd-4533d824383f",
   "metadata": {},
   "outputs": [],
   "source": [
    "#Que no-5"
   ]
  },
  {
   "cell_type": "code",
   "execution_count": 37,
   "id": "27070c5d-d9f8-49fb-99fe-8a7efb303b48",
   "metadata": {},
   "outputs": [
    {
     "name": "stdout",
     "output_type": "stream",
     "text": [
      "1->2->3->"
     ]
    }
   ],
   "source": [
    "head3 = Node(1)\n",
    "node4 = Node(1)\n",
    "node5 = Node(2)\n",
    "node6 = Node(3)\n",
    "node7 = Node(3)\n",
    "head3.setNext(node4)\n",
    "node4.setNext(node5)\n",
    "node5.setNext(node6)\n",
    "node6.setNext(node7)\n",
    "#traverse(head3)\n",
    "\n",
    "def unique(head):\n",
    "    temp = head\n",
    "    temp2 = head.getNext()\n",
    "    \n",
    "    while(temp and temp2):\n",
    "        if temp.getData() != temp2.getData():\n",
    "            temp.setNext(temp2)\n",
    "            temp = temp.getNext()\n",
    "            temp2 = temp.getNext()\n",
    "        else:\n",
    "            temp2 = temp2.getNext()\n",
    "            temp.setNext(None)\n",
    "\n",
    "unique(head3)\n",
    "traverse(head3)"
   ]
  },
  {
   "cell_type": "code",
   "execution_count": 38,
   "id": "c6746140-e964-438f-826d-e1354e407023",
   "metadata": {},
   "outputs": [],
   "source": [
    "#Que no-6"
   ]
  },
  {
   "cell_type": "code",
   "execution_count": 40,
   "id": "64edc3d1-2b3d-47ee-ae74-aed84b7c9c88",
   "metadata": {},
   "outputs": [
    {
     "name": "stdout",
     "output_type": "stream",
     "text": [
      "7->0->8->"
     ]
    }
   ],
   "source": [
    "head1 = Node(2)\n",
    "node2 = Node(4)\n",
    "node3 = Node(3)\n",
    "head1.setNext(node2)\n",
    "node2.setNext(node3)\n",
    "\n",
    "head2 = Node(5)\n",
    "node4 = Node(6)\n",
    "node5 = Node(4)\n",
    "head2.setNext(node4)\n",
    "node4.setNext(node5)\n",
    "\n",
    "\n",
    "def add_two_numbers(l1, l2):\n",
    "    dummy = Node(0)\n",
    "    current = dummy\n",
    "    carry = 0\n",
    "\n",
    "    while l1 is not None or l2 is not None or carry != 0:\n",
    "        val1 = l1.getData() if l1 is not None else 0\n",
    "        val2 = l2.getData() if l2 is not None else 0\n",
    "        \n",
    "        total = val1 + val2 + carry\n",
    "        carry = total // 10\n",
    "        current.setNext(Node(total % 10))\n",
    "\n",
    "        current = current.getNext()\n",
    "        if l1 is not None:\n",
    "            l1 = l1.getNext()\n",
    "        if l2 is not None:\n",
    "            l2 = l2.getNext()\n",
    "\n",
    "    return dummy.getNext()\n",
    "\n",
    "result = add_two_numbers(head1, head2)\n",
    "traverse(result)"
   ]
  },
  {
   "cell_type": "code",
   "execution_count": 41,
   "id": "fe264307-360a-429a-af84-d8b78398421c",
   "metadata": {},
   "outputs": [],
   "source": [
    "#Que no-7"
   ]
  },
  {
   "cell_type": "code",
   "execution_count": 43,
   "id": "a5691850-45be-4190-acaf-4f37528b00e7",
   "metadata": {},
   "outputs": [
    {
     "name": "stdout",
     "output_type": "stream",
     "text": [
      "2->1->4->3->"
     ]
    }
   ],
   "source": [
    "head = Node(1)\n",
    "node2 = Node(2)\n",
    "node3 = Node(3)\n",
    "node4 = Node(4)\n",
    "\n",
    "head.setNext(node2)\n",
    "node2.setNext(node3)\n",
    "node3.setNext(node4)\n",
    "\n",
    "def swap_pairs(head):\n",
    "    dummy = Node(0)\n",
    "    dummy.setNext(head)\n",
    "    prev = dummy\n",
    "    \n",
    "    while head is not None and head.getNext() is not None:\n",
    "        first_node = head\n",
    "        second_node = head.getNext()\n",
    "        \n",
    "        prev.setNext(second_node)\n",
    "        first_node.setNext(second_node.getNext())\n",
    "        second_node.setNext(first_node)\n",
    "        \n",
    "\n",
    "        prev = first_node\n",
    "        head = first_node.getNext()\n",
    "    \n",
    "    return dummy.getNext()\n",
    "\n",
    "result = swap_pairs(head)\n",
    "traverse(result)"
   ]
  },
  {
   "cell_type": "code",
   "execution_count": 44,
   "id": "0ffca1e6-4866-4f03-896a-ee4b3a42d0ba",
   "metadata": {},
   "outputs": [],
   "source": [
    "#Que no-8"
   ]
  },
  {
   "cell_type": "code",
   "execution_count": 46,
   "id": "d6da9446-24c0-4753-a2c2-83fb2c89bc32",
   "metadata": {},
   "outputs": [
    {
     "name": "stdout",
     "output_type": "stream",
     "text": [
      "3->2->1->4->5->"
     ]
    }
   ],
   "source": [
    "head = Node(1)\n",
    "node2 = Node(2)\n",
    "node3 = Node(3)\n",
    "node4 = Node(4)\n",
    "node5 = Node(5)\n",
    "\n",
    "head.setNext(node2)\n",
    "node2.setNext(node3)\n",
    "node3.setNext(node4)\n",
    "node4.setNext(node5)\n",
    "\n",
    "def reverse_k_group(head, k):\n",
    "    def reverse_linked_list(start, end):\n",
    "        prev = None\n",
    "        current = start\n",
    "        next_node = None\n",
    "        while current != end:\n",
    "            next_node = current.getNext()\n",
    "            current.setNext(prev)\n",
    "            prev = current\n",
    "            current = next_node\n",
    "        return prev\n",
    "\n",
    "    dummy = Node(0)\n",
    "    dummy.setNext(head)\n",
    "    group_prev = dummy\n",
    "    \n",
    "    while True:\n",
    "\n",
    "        kth = group_prev\n",
    "        for _ in range(k):\n",
    "            kth = kth.getNext()\n",
    "            if kth is None:\n",
    "                return dummy.getNext()\n",
    "\n",
    "        group_next = kth.getNext()\n",
    "        \n",
    "        prev, current = None, group_prev.getNext()\n",
    "        for _ in range(k):\n",
    "            next_node = current.getNext()\n",
    "            current.setNext(prev)\n",
    "            prev = current\n",
    "            current = next_node\n",
    "\n",
    "        tail = group_prev.getNext()\n",
    "        group_prev.setNext(prev)\n",
    "        tail.setNext(group_next)\n",
    "\n",
    "        group_prev = tail\n",
    "\n",
    "result = reverse_k_group(head,3)\n",
    "traverse(result)"
   ]
  },
  {
   "cell_type": "code",
   "execution_count": 47,
   "id": "623cc683-ddfb-40fa-8e47-56d49d05f834",
   "metadata": {},
   "outputs": [],
   "source": [
    "#Que no-9"
   ]
  },
  {
   "cell_type": "code",
   "execution_count": 49,
   "id": "a1ea867f-8548-4eef-884c-18723e21957c",
   "metadata": {},
   "outputs": [
    {
     "name": "stdout",
     "output_type": "stream",
     "text": [
      "True\n"
     ]
    }
   ],
   "source": [
    "head = Node(1)\n",
    "node2 = Node(2)\n",
    "node3 = Node(2)\n",
    "node4 = Node(1)\n",
    "\n",
    "head.setNext(node2)\n",
    "node2.setNext(node3)\n",
    "node3.setNext(node4)\n",
    "\n",
    "def is_palindrome(head):\n",
    "    if head is None or head.getNext() is None:\n",
    "        return True\n",
    "    \n",
    "    def reverse_list(head):\n",
    "        prev = None\n",
    "        current = head\n",
    "        while current:\n",
    "            next_node = current.getNext()\n",
    "            current.setNext(prev)\n",
    "            prev = current\n",
    "            current = next_node\n",
    "        return prev\n",
    "\n",
    "    slow, fast = head, head\n",
    "    while fast and fast.getNext():\n",
    "        slow = slow.getNext()\n",
    "        fast = fast.getNext().getNext()\n",
    "\n",
    "    second_half = reverse_list(slow)\n",
    "    \n",
    "    first_half = head\n",
    "    while second_half:\n",
    "        if first_half.getData() != second_half.getData():\n",
    "            return False\n",
    "        first_half = first_half.getNext()\n",
    "        second_half = second_half.getNext()\n",
    "\n",
    "    return True\n",
    "\n",
    "result = is_palindrome(head)\n",
    "print(result)"
   ]
  },
  {
   "cell_type": "code",
   "execution_count": 50,
   "id": "4ba32696-03aa-478c-9cb7-0767f1fd8b43",
   "metadata": {},
   "outputs": [],
   "source": [
    "#Que no-10"
   ]
  },
  {
   "cell_type": "code",
   "execution_count": 52,
   "id": "c2c1f480-029b-4505-ac61-aa4dfea90cf5",
   "metadata": {},
   "outputs": [
    {
     "name": "stdout",
     "output_type": "stream",
     "text": [
      "4->5->1->2->3->"
     ]
    }
   ],
   "source": [
    "head = Node(1)\n",
    "node2 = Node(2)\n",
    "node3 = Node(3)\n",
    "node4 = Node(4)\n",
    "node5 = Node(5)\n",
    "\n",
    "head.setNext(node2)\n",
    "node2.setNext(node3)\n",
    "node3.setNext(node4)\n",
    "node4.setNext(node5)\n",
    "\n",
    "def rotate_linked_list(head, k):\n",
    "    if head is None or head.getNext() is None or k == 0:\n",
    "        return head\n",
    "\n",
    "    length = 1\n",
    "    tail = head\n",
    "    while tail.getNext():\n",
    "        tail = tail.getNext()\n",
    "        length += 1\n",
    "\n",
    "    k = k % length\n",
    "    if k == 0:\n",
    "        return head\n",
    "\n",
    "    new_tail_position = length - k - 1\n",
    "    new_tail = head\n",
    "    for _ in range(new_tail_position):\n",
    "        new_tail = new_tail.getNext()\n",
    "\n",
    "    new_head = new_tail.getNext()\n",
    "\n",
    "    new_tail.setNext(None)\n",
    "    tail.setNext(head)\n",
    "\n",
    "    return new_head\n",
    "\n",
    "result = rotate_linked_list(head,2)\n",
    "traverse(result)"
   ]
  },
  {
   "cell_type": "code",
   "execution_count": 53,
   "id": "6b1a3ced-9516-4f53-bbed-aea349a4d987",
   "metadata": {},
   "outputs": [],
   "source": [
    "#Que no-11"
   ]
  },
  {
   "cell_type": "code",
   "execution_count": 62,
   "id": "b59a44eb-25f7-464e-ae9c-1be2d4c984c9",
   "metadata": {},
   "outputs": [
    {
     "name": "stdout",
     "output_type": "stream",
     "text": [
      "1 <-> 2 <-> 3 <-> 4 <-> 5 <-> 9 <-> 10 <-> 7 <-> 8 <-> 6 <-> 13 <-> 11 <-> 12\n"
     ]
    }
   ],
   "source": [
    "class Node:\n",
    "    def __init__(self, data):\n",
    "        self.data = data\n",
    "        self.prev = None\n",
    "        self.next = None\n",
    "        self.child = None \n",
    "\n",
    "    def setData(self, data):\n",
    "        self.data = data\n",
    "\n",
    "    def getData(self):\n",
    "        return self.data\n",
    "\n",
    "    def setNext(self, next_node):\n",
    "        self.next = next_node\n",
    "\n",
    "    def getNext(self):\n",
    "        return self.next\n",
    "\n",
    "\n",
    "def create_multilevel_list():\n",
    "    \n",
    "    head1 = Node(1)\n",
    "    node2 = Node(2)\n",
    "    node3 = Node(3)\n",
    "    node4 = Node(7)\n",
    "    node5 = Node(8)\n",
    "    node6 = Node(11)\n",
    "    node7 = Node(12)\n",
    "\n",
    "    head1.next = node2\n",
    "    node2.prev = head1\n",
    "    node2.next = node3\n",
    "    node3.prev = node2\n",
    "    node3.next = node4\n",
    "    node4.prev = node3\n",
    "    node4.next = node5\n",
    "    node5.prev = node4\n",
    "    node5.next = node6\n",
    "    node6.prev = node5\n",
    "    node6.next = node7\n",
    "    node7.prev = node6\n",
    "\n",
    "    \n",
    "    head2 = Node(4)\n",
    "    node8 = Node(5)\n",
    "    node9 = Node(9)\n",
    "    node10 = Node(10)\n",
    "\n",
    "    head2.next = node8\n",
    "    node8.prev = head2\n",
    "    node8.next = node9\n",
    "    node9.prev = node8\n",
    "    node9.next = node10\n",
    "    node10.prev = node9\n",
    "\n",
    "    \n",
    "    head3 = Node(6)\n",
    "    node11 = Node(13)\n",
    "\n",
    "    head3.next = node11\n",
    "    node11.prev = head3\n",
    "\n",
    "    node3.child = head2\n",
    "    node5.child = head3\n",
    "\n",
    "    return head1\n",
    "\n",
    "\n",
    "def flatten(head):\n",
    "    if not head:\n",
    "        return None\n",
    "\n",
    "    stack = []\n",
    "    current = head\n",
    "    prev = None\n",
    "\n",
    "    while current:\n",
    "        if prev:\n",
    "            prev.next = current\n",
    "            current.prev = prev\n",
    "\n",
    "        if current.child:\n",
    "            if current.next:\n",
    "                stack.append(current.next)\n",
    "\n",
    "            current.next = current.child\n",
    "            current.child.prev = current\n",
    "            current.child = None\n",
    "\n",
    "        prev = current\n",
    "        current = current.next\n",
    "\n",
    "        if current is None and stack:\n",
    "            current = stack.pop()\n",
    "\n",
    "    return head  \n",
    "\n",
    "\n",
    "def traverse(head):\n",
    "    current = head\n",
    "    while current:\n",
    "        print(current.data, end=\" <-> \" if current.next else \"\")\n",
    "        current = current.next\n",
    "    print()\n",
    "\n",
    "\n",
    "head = create_multilevel_list()\n",
    "\n",
    "flattened_head = flatten(head)\n",
    "traverse(flattened_head)"
   ]
  },
  {
   "cell_type": "code",
   "execution_count": 63,
   "id": "7dffb1b0-21c1-43af-a464-6c3aba40ad91",
   "metadata": {},
   "outputs": [],
   "source": [
    "#Que no-12"
   ]
  },
  {
   "cell_type": "code",
   "execution_count": 77,
   "id": "2816efd5-c3db-41e4-b76f-69706206287f",
   "metadata": {},
   "outputs": [
    {
     "name": "stdout",
     "output_type": "stream",
     "text": [
      "1 -> 3 -> 5 -> 2 -> 4\n"
     ]
    }
   ],
   "source": [
    "class Node:\n",
    "    def __init__(self, data=None, Next=None):\n",
    "        self.data = data\n",
    "        self.Next = Next\n",
    "\n",
    "    def setData(self, data):\n",
    "        self.data = data\n",
    "\n",
    "    def getData(self):\n",
    "        return self.data\n",
    "\n",
    "    def setNext(self, Next):\n",
    "        self.Next = Next\n",
    "\n",
    "    def getNext(self):\n",
    "        return self.Next\n",
    "\n",
    "\n",
    "def traverse(head):\n",
    "    current = head\n",
    "    while current:\n",
    "        print(current.getData(), end=\" -> \" if current.getNext() else \"\")\n",
    "        current = current.getNext()\n",
    "    print()\n",
    "\n",
    "\n",
    "def rearrange_even_positions(head):\n",
    "    if not head or not head.getNext():\n",
    "        return head\n",
    "\n",
    "    odd_head = odd_tail = None\n",
    "    even_head = even_tail = None\n",
    "    current = head\n",
    "    index = 1\n",
    "\n",
    "    while current:\n",
    "        next_node = current.getNext()\n",
    "        current.setNext(None)\n",
    "\n",
    "        if index % 2 != 0:\n",
    "            if odd_head is None:\n",
    "                odd_head = odd_tail = current\n",
    "            else:\n",
    "                odd_tail.setNext(current)\n",
    "                odd_tail = odd_tail.getNext()\n",
    "        else:\n",
    "            if even_head is None:\n",
    "                even_head = even_tail = current\n",
    "            else:\n",
    "                even_tail.setNext(current)\n",
    "                even_tail = even_tail.getNext()\n",
    "\n",
    "        current = next_node\n",
    "        index += 1\n",
    "\n",
    "    if not even_head:\n",
    "        return odd_head\n",
    "\n",
    "    odd_tail.setNext(even_head)\n",
    "\n",
    "    return odd_head\n",
    "\n",
    "\n",
    "head = Node(1)\n",
    "node2 = Node(2)\n",
    "node3 = Node(3)\n",
    "node4 = Node(4)\n",
    "node5 = Node(5)\n",
    "\n",
    "head.setNext(node2)\n",
    "node2.setNext(node3)\n",
    "node3.setNext(node4)\n",
    "node4.setNext(node5)\n",
    "\n",
    "\n",
    "result = rearrange_even_positions(head)\n",
    "traverse(result)"
   ]
  },
  {
   "cell_type": "code",
   "execution_count": 78,
   "id": "14a490b0-da61-4b4c-8512-f27836237a4a",
   "metadata": {},
   "outputs": [],
   "source": [
    "#Que no-13"
   ]
  },
  {
   "cell_type": "code",
   "execution_count": 80,
   "id": "1cb4c3fd-e77f-4250-b7aa-8c9d2d82e57c",
   "metadata": {},
   "outputs": [
    {
     "name": "stdout",
     "output_type": "stream",
     "text": [
      "1 -> 2 -> 4\n"
     ]
    }
   ],
   "source": [
    "class Node:\n",
    "    def __init__(self, data=None, Next=None):\n",
    "        self.data = data\n",
    "        self.Next = Next\n",
    "\n",
    "    def setData(self, data):\n",
    "        self.data = data\n",
    "\n",
    "    def getData(self):\n",
    "        return self.data\n",
    "\n",
    "    def setNext(self, Next):\n",
    "        self.Next = Next\n",
    "\n",
    "    def getNext(self):\n",
    "        return self.Next\n",
    "\n",
    "\n",
    "def traverse(head):\n",
    "    current = head\n",
    "    while current:\n",
    "        print(current.getData(), end=\" -> \" if current.getNext() else \"\")\n",
    "        current = current.getNext()\n",
    "    print()\n",
    "\n",
    "\n",
    "def reverse_linked_list(head):\n",
    "    prev = None\n",
    "    current = head\n",
    "    while current:\n",
    "        next_node = current.getNext()\n",
    "        current.setNext(prev)\n",
    "        prev = current\n",
    "        current = next_node\n",
    "    return prev\n",
    "\n",
    "\n",
    "def add_one(head):\n",
    "    head = reverse_linked_list(head)\n",
    "    \n",
    "    current = head\n",
    "    carry = 1\n",
    "    while current and carry:\n",
    "        current.setData(current.getData() + carry)\n",
    "        if current.getData() == 10:\n",
    "            current.setData(0)\n",
    "            carry = 1\n",
    "        else:\n",
    "            carry = 0\n",
    "        if current.getNext() is None and carry:\n",
    "            current.setNext(Node(1))\n",
    "            break\n",
    "        current = current.getNext()\n",
    "    \n",
    "    return reverse_linked_list(head)\n",
    "\n",
    "\n",
    "head = Node(1)\n",
    "node2 = Node(2)\n",
    "node3 = Node(3)\n",
    "\n",
    "head.setNext(node2)\n",
    "node2.setNext(node3)\n",
    "\n",
    "result = add_one(head)\n",
    "traverse(result)"
   ]
  },
  {
   "cell_type": "code",
   "execution_count": 81,
   "id": "9b3cf970-efc6-4d67-94d9-e259ca358ec4",
   "metadata": {},
   "outputs": [],
   "source": [
    "#Que no-14"
   ]
  },
  {
   "cell_type": "code",
   "execution_count": 1,
   "id": "df478227-3d79-4c5e-b487-21a11e99a3a3",
   "metadata": {},
   "outputs": [
    {
     "name": "stdout",
     "output_type": "stream",
     "text": [
      "2\n"
     ]
    }
   ],
   "source": [
    "def search_insert(nums, target):\n",
    "    left, right = 0, len(nums) - 1\n",
    "    \n",
    "    while left <= right:\n",
    "        mid = (left + right) // 2\n",
    "        if nums[mid] == target:\n",
    "            return mid\n",
    "        elif nums[mid] < target:\n",
    "            left = mid + 1\n",
    "        else:\n",
    "            right = mid - 1\n",
    "    \n",
    "    return left\n",
    "\n",
    "nums = [1, 3, 5, 6]\n",
    "target = 5\n",
    "print(search_insert(nums, target))"
   ]
  },
  {
   "cell_type": "code",
   "execution_count": 2,
   "id": "f1e1fda2-c152-41d3-ad23-f07ca20b1de1",
   "metadata": {},
   "outputs": [],
   "source": [
    "#Que no-15"
   ]
  },
  {
   "cell_type": "code",
   "execution_count": 3,
   "id": "90f4143c-ef63-4dc2-9d37-abcb793e4c73",
   "metadata": {},
   "outputs": [
    {
     "name": "stdout",
     "output_type": "stream",
     "text": [
      "0\n"
     ]
    }
   ],
   "source": [
    "def find_min(nums):\n",
    "    left, right = 0, len(nums) - 1\n",
    "    \n",
    "    while left < right:\n",
    "        mid = (left + right) // 2\n",
    "        \n",
    "        if nums[mid] > nums[right]:\n",
    "            left = mid + 1\n",
    "        else:\n",
    "            right = mid\n",
    "    \n",
    "    return nums[left]\n",
    "\n",
    "nums = [4, 5, 6, 7, 0, 1, 2]\n",
    "print(find_min(nums))"
   ]
  },
  {
   "cell_type": "code",
   "execution_count": 4,
   "id": "6013b190-f2f3-4b73-aaea-187ba8e2a643",
   "metadata": {},
   "outputs": [],
   "source": [
    "#Que no-16"
   ]
  },
  {
   "cell_type": "code",
   "execution_count": 6,
   "id": "a3492a5a-4f90-4a4a-b43c-02a8fa7495c8",
   "metadata": {},
   "outputs": [
    {
     "name": "stdout",
     "output_type": "stream",
     "text": [
      "4\n"
     ]
    }
   ],
   "source": [
    "def search(nums, target):\n",
    "    left, right = 0, len(nums) - 1\n",
    "    \n",
    "    while left <= right:\n",
    "        mid = (left + right) // 2\n",
    "        \n",
    "        if nums[mid] == target:\n",
    "            return mid\n",
    "        \n",
    "        if nums[left] <= nums[mid]:\n",
    "            if nums[left] <= target < nums[mid]:\n",
    "                right = mid - 1\n",
    "            else:\n",
    "                left = mid + 1\n",
    "        else:\n",
    "            if nums[mid] < target <= nums[right]:\n",
    "                left = mid + 1\n",
    "            else:\n",
    "                right = mid - 1    \n",
    "    return -1\n",
    "\n",
    "nums = [4, 5, 6, 7, 0, 1, 2]\n",
    "target = 0\n",
    "print(search(nums, target))"
   ]
  },
  {
   "cell_type": "code",
   "execution_count": 7,
   "id": "a2881535-4115-4bac-a4c4-bdd87d506cc5",
   "metadata": {},
   "outputs": [],
   "source": [
    "#Que no-17"
   ]
  },
  {
   "cell_type": "code",
   "execution_count": 8,
   "id": "b2cb11ac-ce8a-4fc1-9e8c-9ab0dd2b7bfb",
   "metadata": {},
   "outputs": [
    {
     "name": "stdout",
     "output_type": "stream",
     "text": [
      "2\n"
     ]
    }
   ],
   "source": [
    "def find_peak_element(nums):\n",
    "    left, right = 0, len(nums) - 1\n",
    "    \n",
    "    while left < right:\n",
    "        mid = (left + right) // 2\n",
    "        \n",
    "        if nums[mid] > nums[mid + 1]:\n",
    "            right = mid\n",
    "        else:\n",
    "            left = mid + 1\n",
    "    return left\n",
    "\n",
    "nums = [1, 2, 3, 1]\n",
    "print(find_peak_element(nums))"
   ]
  },
  {
   "cell_type": "code",
   "execution_count": 9,
   "id": "5e4a7310-f5c7-40c9-878b-83aa44c4b1ae",
   "metadata": {},
   "outputs": [],
   "source": [
    "#Que no-18"
   ]
  },
  {
   "cell_type": "code",
   "execution_count": 10,
   "id": "6154ff7f-85c8-44f2-97aa-f506c93bddc1",
   "metadata": {},
   "outputs": [
    {
     "name": "stdout",
     "output_type": "stream",
     "text": [
      "8\n"
     ]
    }
   ],
   "source": [
    "def count_negatives(grid):\n",
    "    m, n = len(grid), len(grid[0])\n",
    "    row, col = m - 1, 0\n",
    "    count = 0\n",
    "\n",
    "    while row >= 0 and col < n:\n",
    "        if grid[row][col] < 0:\n",
    "            count += (n - col)\n",
    "            row -= 1\n",
    "        else:\n",
    "            col += 1\n",
    "    return count\n",
    "\n",
    "\n",
    "grid = [[4, 3, 2, -1], [3, 2, 1, -1], [1, 1, -1, -2], [-1, -1, -2, -3]]\n",
    "print(count_negatives(grid))"
   ]
  },
  {
   "cell_type": "code",
   "execution_count": 11,
   "id": "9e874d41-00c4-4915-9789-7a87340df5b8",
   "metadata": {},
   "outputs": [],
   "source": [
    "#Que no-19"
   ]
  },
  {
   "cell_type": "code",
   "execution_count": 13,
   "id": "a9c4cd9c-63b3-41a3-ba1f-6a4f9738cb4f",
   "metadata": {},
   "outputs": [
    {
     "name": "stdout",
     "output_type": "stream",
     "text": [
      "True\n"
     ]
    }
   ],
   "source": [
    "def search_matrix(matrix, target):\n",
    "    if not matrix or not matrix[0]:\n",
    "        return False\n",
    "    \n",
    "    m, n = len(matrix), len(matrix[0])\n",
    "    left, right = 0, m * n - 1\n",
    "    \n",
    "    while left <= right:\n",
    "        mid = (left + right) // 2\n",
    "        mid_value = matrix[mid // n][mid % n]\n",
    "        \n",
    "        if mid_value == target:\n",
    "            return True\n",
    "        elif mid_value < target:\n",
    "            left = mid + 1\n",
    "        else:\n",
    "            right = mid - 1\n",
    "    return False\n",
    "\n",
    "matrix = [[1, 3, 5, 7], [10, 11, 16, 20], [23, 30, 34, 60]]\n",
    "target = 3\n",
    "print(search_matrix(matrix, target))"
   ]
  },
  {
   "cell_type": "code",
   "execution_count": 14,
   "id": "15ef5a9d-699b-4656-9666-12d74f77152b",
   "metadata": {},
   "outputs": [],
   "source": [
    "#Que no-20"
   ]
  },
  {
   "cell_type": "code",
   "execution_count": 15,
   "id": "f3a372e1-7fbc-4208-b396-4120a17ad8e5",
   "metadata": {},
   "outputs": [
    {
     "name": "stdout",
     "output_type": "stream",
     "text": [
      "2\n"
     ]
    }
   ],
   "source": [
    "def find_median_sorted_arrays(nums1, nums2):\n",
    "    if len(nums1) > len(nums2):\n",
    "        nums1, nums2 = nums2, nums1\n",
    "    \n",
    "    m, n = len(nums1), len(nums2)\n",
    "    half_len = (m + n + 1) // 2\n",
    "    imin, imax = 0, m\n",
    "    \n",
    "    while imin <= imax:\n",
    "        i = (imin + imax) // 2\n",
    "        j = half_len - i\n",
    "        \n",
    "        if i < m and nums2[j-1] > nums1[i]:\n",
    "            imin = i + 1\n",
    "        elif i > 0 and nums1[i-1] > nums2[j]:\n",
    "            imax = i - 1\n",
    "        else:\n",
    "            if i == 0: left_max = nums2[j-1]\n",
    "            elif j == 0: left_max = nums1[i-1]\n",
    "            else: left_max = max(nums1[i-1], nums2[j-1])\n",
    "            \n",
    "            if (m + n) % 2 == 1:\n",
    "                return left_max\n",
    "            \n",
    "            if i == m: right_min = nums2[j]\n",
    "            elif j == n: right_min = nums1[i]\n",
    "            else: right_min = min(nums1[i], nums2[j])\n",
    "            \n",
    "            return (left_max + right_min) / 2.0\n",
    "\n",
    "nums1 = [1, 3]\n",
    "nums2 = [2]\n",
    "print(find_median_sorted_arrays(nums1, nums2))"
   ]
  },
  {
   "cell_type": "code",
   "execution_count": 16,
   "id": "deb04206-9be2-4998-b6f6-9e2c42b7da3e",
   "metadata": {},
   "outputs": [],
   "source": [
    "#Que no-21"
   ]
  },
  {
   "cell_type": "code",
   "execution_count": 17,
   "id": "aae8ff7c-3524-47ee-bfd6-19ac99896592",
   "metadata": {},
   "outputs": [
    {
     "name": "stdout",
     "output_type": "stream",
     "text": [
      "c\n"
     ]
    }
   ],
   "source": [
    "def next_greatest_letter(letters, target):\n",
    "    left, right = 0, len(letters) - 1\n",
    "    \n",
    "    while left <= right:\n",
    "        mid = (left + right) // 2\n",
    "        \n",
    "        if letters[mid] <= target:\n",
    "            left = mid + 1\n",
    "        else:\n",
    "            right = mid - 1\n",
    "    \n",
    "    return letters[left % len(letters)]\n",
    "\n",
    "letters = ['c', 'f', 'j']\n",
    "target = 'a'\n",
    "print(next_greatest_letter(letters, target))"
   ]
  },
  {
   "cell_type": "code",
   "execution_count": 18,
   "id": "ab9a1e88-8282-4e22-87d6-2aa81e1f749c",
   "metadata": {},
   "outputs": [],
   "source": [
    "#Que no-22"
   ]
  },
  {
   "cell_type": "code",
   "execution_count": 19,
   "id": "3eedd3c3-f4ab-4e00-bf3c-713e63ced1df",
   "metadata": {},
   "outputs": [
    {
     "name": "stdout",
     "output_type": "stream",
     "text": [
      "[0, 0, 1, 1, 2, 2]\n"
     ]
    }
   ],
   "source": [
    "def sort_colors(nums):\n",
    "    low, mid, high = 0, 0, len(nums) - 1\n",
    "    \n",
    "    while mid <= high:\n",
    "        if nums[mid] == 0:\n",
    "            nums[low], nums[mid] = nums[mid], nums[low]\n",
    "            low += 1\n",
    "            mid += 1\n",
    "        elif nums[mid] == 1:\n",
    "            mid += 1\n",
    "        else:\n",
    "            nums[high], nums[mid] = nums[mid], nums[high]\n",
    "            high -= 1\n",
    "\n",
    "nums = [2, 0, 2, 1, 1, 0]\n",
    "sort_colors(nums)\n",
    "print(nums)"
   ]
  },
  {
   "cell_type": "code",
   "execution_count": 20,
   "id": "1b503a7d-a7d0-4ad6-9c16-25d693c54f36",
   "metadata": {},
   "outputs": [],
   "source": [
    "#Que no-23"
   ]
  },
  {
   "cell_type": "code",
   "execution_count": 21,
   "id": "1178e0e3-f362-46e8-ac42-dd698290e8cb",
   "metadata": {},
   "outputs": [
    {
     "name": "stdout",
     "output_type": "stream",
     "text": [
      "5\n"
     ]
    }
   ],
   "source": [
    "import random\n",
    "\n",
    "def partition(nums, left, right):\n",
    "    pivot_index = random.randint(left, right)\n",
    "    pivot = nums[pivot_index]\n",
    "    \n",
    "    nums[pivot_index], nums[right] = nums[right], nums[pivot_index]\n",
    "    \n",
    "    store_index = left\n",
    "    for i in range(left, right):\n",
    "        if nums[i] > pivot:\n",
    "            nums[i], nums[store_index] = nums[store_index], nums[i]\n",
    "            store_index += 1\n",
    "            \n",
    "    nums[store_index], nums[right] = nums[right], nums[store_index]\n",
    "    \n",
    "    return store_index\n",
    "\n",
    "def quickselect(nums, left, right, k):\n",
    "    if left == right:\n",
    "        return nums[left]\n",
    "    \n",
    "    pivot_index = partition(nums, left, right)\n",
    "    \n",
    "    if pivot_index == k:\n",
    "        return nums[pivot_index]\n",
    "    elif pivot_index > k:\n",
    "        return quickselect(nums, left, pivot_index - 1, k)\n",
    "    else:\n",
    "        return quickselect(nums, pivot_index + 1, right, k)\n",
    "\n",
    "def find_kth_largest(nums, k):\n",
    "    return quickselect(nums, 0, len(nums) - 1, k - 1)\n",
    "\n",
    "nums = [3, 2, 1, 5, 6, 4]\n",
    "k = 2\n",
    "print(find_kth_largest(nums, k))"
   ]
  },
  {
   "cell_type": "code",
   "execution_count": 22,
   "id": "ca95d2a7-f48e-4bfe-96ae-68929f371781",
   "metadata": {},
   "outputs": [],
   "source": [
    "#Que no-24"
   ]
  },
  {
   "cell_type": "code",
   "execution_count": 23,
   "id": "c34a7e16-ae77-4202-b65b-d7731cb60717",
   "metadata": {},
   "outputs": [
    {
     "name": "stdout",
     "output_type": "stream",
     "text": [
      "[3, 5, 1, 6, 2, 4]\n"
     ]
    }
   ],
   "source": [
    "def wiggle_sort(nums):\n",
    "    for i in range(len(nums) - 1):\n",
    "        if (i % 2 == 0 and nums[i] > nums[i + 1]) or (i % 2 == 1 and nums[i] < nums[i + 1]):\n",
    "            nums[i], nums[i + 1] = nums[i + 1], nums[i]\n",
    "\n",
    "nums = [3, 5, 2, 1, 6, 4]\n",
    "wiggle_sort(nums)\n",
    "print(nums)"
   ]
  },
  {
   "cell_type": "code",
   "execution_count": 24,
   "id": "b147a0bb-b819-482e-9059-61b88f1e475d",
   "metadata": {},
   "outputs": [],
   "source": [
    "#Que no-25"
   ]
  },
  {
   "cell_type": "code",
   "execution_count": 25,
   "id": "a7003946-7fef-4dd3-8890-521d99c442cf",
   "metadata": {},
   "outputs": [
    {
     "name": "stdout",
     "output_type": "stream",
     "text": [
      "15\n"
     ]
    }
   ],
   "source": [
    "def sum_of_elements(nums):\n",
    "    total_sum = 0\n",
    "    for num in nums:\n",
    "        total_sum += num\n",
    "    return total_sum\n",
    "\n",
    "nums = [1, 2, 3, 4, 5]\n",
    "result = sum_of_elements(nums)\n",
    "print(result)"
   ]
  },
  {
   "cell_type": "code",
   "execution_count": 26,
   "id": "49651925-208b-4b3c-abd0-994d8711bf07",
   "metadata": {},
   "outputs": [],
   "source": [
    "#Que no-26"
   ]
  },
  {
   "cell_type": "code",
   "execution_count": 28,
   "id": "f25af769-6fd8-44e1-a399-abbb9dac7f34",
   "metadata": {},
   "outputs": [
    {
     "name": "stdout",
     "output_type": "stream",
     "text": [
      "9\n"
     ]
    }
   ],
   "source": [
    "def find_maximum(nums):\n",
    "    if not nums:\n",
    "        return None\n",
    "\n",
    "    max_num = nums[0]\n",
    "    for num in nums:\n",
    "        if num > max_num:\n",
    "            max_num = num\n",
    "    return max_num\n",
    "\n",
    "nums = [3, 7, 2, 9, 4, 1]\n",
    "result = find_maximum(nums)\n",
    "print(result)"
   ]
  },
  {
   "cell_type": "code",
   "execution_count": 29,
   "id": "84ca8c80-b5d1-4512-b163-4e0d388a6af5",
   "metadata": {},
   "outputs": [],
   "source": [
    "#Que no-27"
   ]
  },
  {
   "cell_type": "code",
   "execution_count": 30,
   "id": "711c22fe-a581-4539-9ce9-36bc8baa579b",
   "metadata": {},
   "outputs": [
    {
     "name": "stdout",
     "output_type": "stream",
     "text": [
      "2\n"
     ]
    }
   ],
   "source": [
    "def linear_search(nums, target):\n",
    "    for index in range(len(nums)):\n",
    "        if nums[index] == target:\n",
    "            return index\n",
    "    return -1\n",
    "\n",
    "nums = [5, 3, 8, 2, 7, 4]\n",
    "target = 8\n",
    "result = linear_search(nums, target)\n",
    "print(result)"
   ]
  },
  {
   "cell_type": "code",
   "execution_count": 31,
   "id": "9a3d6c3a-0d1a-4ab5-870c-430d4f299f7b",
   "metadata": {},
   "outputs": [],
   "source": [
    "#Que no-28"
   ]
  },
  {
   "cell_type": "code",
   "execution_count": 32,
   "id": "bb8372bd-9999-4c96-8a99-adc8ea247447",
   "metadata": {},
   "outputs": [
    {
     "name": "stdout",
     "output_type": "stream",
     "text": [
      "120\n"
     ]
    }
   ],
   "source": [
    "def factorial(n):\n",
    "    if n < 0:\n",
    "        return None\n",
    "    if n == 0 or n == 1:\n",
    "        return 1\n",
    "    return n * factorial(n - 1)\n",
    "\n",
    "input_number = 5\n",
    "output = factorial(input_number)\n",
    "print(output)"
   ]
  },
  {
   "cell_type": "code",
   "execution_count": 33,
   "id": "582a1621-495e-40d7-895e-88cd4bbb5f9d",
   "metadata": {},
   "outputs": [],
   "source": [
    "#Que no-29"
   ]
  },
  {
   "cell_type": "code",
   "execution_count": 34,
   "id": "25181e49-5d73-4276-bfe1-1d70cf401ded",
   "metadata": {},
   "outputs": [
    {
     "name": "stdout",
     "output_type": "stream",
     "text": [
      "True\n"
     ]
    }
   ],
   "source": [
    "import math\n",
    "\n",
    "def is_prime(n):\n",
    "    if n <= 1:\n",
    "        return False\n",
    "    for i in range(2, int(math.sqrt(n)) + 1):\n",
    "        if n % i == 0:\n",
    "            return False\n",
    "    return True\n",
    "\n",
    "input_number = 7\n",
    "output = is_prime(input_number)\n",
    "print(output)"
   ]
  },
  {
   "cell_type": "code",
   "execution_count": 35,
   "id": "a32bd416-988b-4fc4-8157-5817a541d82a",
   "metadata": {},
   "outputs": [],
   "source": [
    "#Que no-30"
   ]
  },
  {
   "cell_type": "code",
   "execution_count": 36,
   "id": "8a1116ff-2f26-4e7b-9dd5-fef857030ed7",
   "metadata": {},
   "outputs": [
    {
     "name": "stdout",
     "output_type": "stream",
     "text": [
      "[0, 1, 1, 2, 3, 5, 8]\n"
     ]
    }
   ],
   "source": [
    "def generate_fibonacci(n):\n",
    "    fibonacci_series = []\n",
    "    a, b = 0, 1\n",
    "    while a <= n:\n",
    "        fibonacci_series.append(a)\n",
    "        a, b = b, a + b\n",
    "    return fibonacci_series\n",
    "\n",
    "input_number = 8\n",
    "output = generate_fibonacci(input_number)\n",
    "print(output)"
   ]
  },
  {
   "cell_type": "code",
   "execution_count": 37,
   "id": "83aeb9bc-5b3e-4781-b501-481ca0eb9c42",
   "metadata": {},
   "outputs": [],
   "source": [
    "#Que no-31"
   ]
  },
  {
   "cell_type": "code",
   "execution_count": 38,
   "id": "168b840b-ab46-4393-84ec-f119b7ff5550",
   "metadata": {},
   "outputs": [
    {
     "name": "stdout",
     "output_type": "stream",
     "text": [
      "81\n"
     ]
    }
   ],
   "source": [
    "def power(base, exponent):\n",
    "    if exponent == 0:\n",
    "        return 1\n",
    "    elif exponent < 0:\n",
    "        return 1 / power(base, -exponent)\n",
    "    else:\n",
    "        return base * power(base, exponent - 1)\n",
    "\n",
    "base = 3\n",
    "exponent = 4\n",
    "output = power(base, exponent)\n",
    "print(output)"
   ]
  },
  {
   "cell_type": "code",
   "execution_count": 39,
   "id": "3ccd08fe-522d-4425-bb5e-ca0d6b6e21a5",
   "metadata": {},
   "outputs": [],
   "source": [
    "#Que no-32"
   ]
  },
  {
   "cell_type": "code",
   "execution_count": 40,
   "id": "26d2fae6-b39a-4d06-b2c5-38e97c702c1e",
   "metadata": {},
   "outputs": [
    {
     "name": "stdout",
     "output_type": "stream",
     "text": [
      "olleh\n"
     ]
    }
   ],
   "source": [
    "def reverse_string(s):\n",
    "    return s[::-1]\n",
    "\n",
    "input_string = \"hello\"\n",
    "output = reverse_string(input_string)\n",
    "print(output)"
   ]
  },
  {
   "cell_type": "code",
   "execution_count": null,
   "id": "360dec15-264a-4336-9291-924ca31131c7",
   "metadata": {},
   "outputs": [],
   "source": []
  }
 ],
 "metadata": {
  "kernelspec": {
   "display_name": "Python 3 (ipykernel)",
   "language": "python",
   "name": "python3"
  },
  "language_info": {
   "codemirror_mode": {
    "name": "ipython",
    "version": 3
   },
   "file_extension": ".py",
   "mimetype": "text/x-python",
   "name": "python",
   "nbconvert_exporter": "python",
   "pygments_lexer": "ipython3",
   "version": "3.9.18"
  }
 },
 "nbformat": 4,
 "nbformat_minor": 5
}
