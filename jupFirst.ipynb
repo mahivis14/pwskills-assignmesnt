{
 "cells": [
  {
   "cell_type": "code",
   "execution_count": null,
   "id": "d2e62d7c",
   "metadata": {},
   "outputs": [],
   "source": [
    "#Python Basic Variable - 1"
   ]
  },
  {
   "cell_type": "code",
   "execution_count": 1,
   "id": "73898a19",
   "metadata": {},
   "outputs": [],
   "source": [
    "x = 1"
   ]
  },
  {
   "cell_type": "code",
   "execution_count": 2,
   "id": "afcf01e0",
   "metadata": {},
   "outputs": [],
   "source": [
    "y = 2"
   ]
  },
  {
   "cell_type": "code",
   "execution_count": 3,
   "id": "48bf46ed",
   "metadata": {},
   "outputs": [],
   "source": [
    "x, y = y, x"
   ]
  },
  {
   "cell_type": "code",
   "execution_count": 4,
   "id": "fac470da",
   "metadata": {},
   "outputs": [
    {
     "data": {
      "text/plain": [
       "2"
      ]
     },
     "execution_count": 4,
     "metadata": {},
     "output_type": "execute_result"
    }
   ],
   "source": [
    "x"
   ]
  },
  {
   "cell_type": "code",
   "execution_count": 5,
   "id": "7c116ecc",
   "metadata": {},
   "outputs": [
    {
     "data": {
      "text/plain": [
       "1"
      ]
     },
     "execution_count": 5,
     "metadata": {},
     "output_type": "execute_result"
    }
   ],
   "source": [
    "y"
   ]
  },
  {
   "cell_type": "code",
   "execution_count": null,
   "id": "9bae23dd",
   "metadata": {},
   "outputs": [],
   "source": [
    "#Python Basic Variable - 2"
   ]
  },
  {
   "cell_type": "code",
   "execution_count": 11,
   "id": "e6203ef5",
   "metadata": {},
   "outputs": [
    {
     "name": "stdout",
     "output_type": "stream",
     "text": [
      "Enter the length: 10\n",
      "Enter the width: 20\n",
      "The Area of rectangle is: 200\n"
     ]
    }
   ],
   "source": [
    "length = int(input(\"Enter the length: \"))\n",
    "width  = int(input(\"Enter the width: \"))\n",
    "area   = length * width\n",
    "print(\"The Area of rectangle is:\", area)"
   ]
  },
  {
   "cell_type": "code",
   "execution_count": 8,
   "id": "96119470",
   "metadata": {},
   "outputs": [],
   "source": [
    "#Python Basic Variable - 3"
   ]
  },
  {
   "cell_type": "code",
   "execution_count": 13,
   "id": "ed230058",
   "metadata": {},
   "outputs": [
    {
     "name": "stdout",
     "output_type": "stream",
     "text": [
      "Enter temperature in Celsius: 40\n",
      "Fahrenheit temperature is : 104.0\n"
     ]
    }
   ],
   "source": [
    "c_temp = float(input(\"Enter temperature in Celsius: \"))\n",
    "f_temp = (c_temp * 9/5) + 32\n",
    "print(\"Fahrenheit temperature is :\", f_temp)\n"
   ]
  },
  {
   "cell_type": "code",
   "execution_count": 14,
   "id": "31192968",
   "metadata": {},
   "outputs": [],
   "source": [
    "#String based questions - 1"
   ]
  },
  {
   "cell_type": "code",
   "execution_count": 18,
   "id": "b8df1058",
   "metadata": {},
   "outputs": [
    {
     "name": "stdout",
     "output_type": "stream",
     "text": [
      "Enter a sentence: hello world\n",
      "11\n"
     ]
    }
   ],
   "source": [
    "sentence = input(\"Enter a sentence: \")\n",
    "length   = len(sentence)\n",
    "print(length)"
   ]
  },
  {
   "cell_type": "code",
   "execution_count": 17,
   "id": "96108cf4",
   "metadata": {},
   "outputs": [],
   "source": [
    "#String based questions - 2"
   ]
  },
  {
   "cell_type": "code",
   "execution_count": 32,
   "id": "264f61c3",
   "metadata": {},
   "outputs": [
    {
     "name": "stdout",
     "output_type": "stream",
     "text": [
      "Enter a string: hello world\n",
      "3\n"
     ]
    }
   ],
   "source": [
    "a=input(\"Enter a string: \")\n",
    "count=0\n",
    "for i in a:\n",
    "    if i == 'a' or i == 'e' or i == 'i' or i == 'o' or i == 'u':\n",
    "        count=count+1\n",
    "print(count)"
   ]
  },
  {
   "cell_type": "code",
   "execution_count": 22,
   "id": "fbaf180c",
   "metadata": {},
   "outputs": [],
   "source": [
    "#String based questions - 3"
   ]
  },
  {
   "cell_type": "code",
   "execution_count": 24,
   "id": "051d7c8b",
   "metadata": {},
   "outputs": [
    {
     "name": "stdout",
     "output_type": "stream",
     "text": [
      "dlrow olleh\n"
     ]
    }
   ],
   "source": [
    "a = \"hello world\"\n",
    "print(a[::-1])"
   ]
  },
  {
   "cell_type": "code",
   "execution_count": 25,
   "id": "dd92c16b",
   "metadata": {},
   "outputs": [],
   "source": [
    "#String based questions - 4"
   ]
  },
  {
   "cell_type": "code",
   "execution_count": 31,
   "id": "9e8b8d45",
   "metadata": {},
   "outputs": [
    {
     "name": "stdout",
     "output_type": "stream",
     "text": [
      "Enter a string: level\n",
      "This is a palindrome string\n"
     ]
    }
   ],
   "source": [
    "string = input(\"Enter a string: \")\n",
    "if string[::1] == string[::-1]:\n",
    "    print(\"This is a palindrome string\")\n",
    "else:\n",
    "    print(\"This is not a palindrome string\")\n"
   ]
  },
  {
   "cell_type": "code",
   "execution_count": 29,
   "id": "55ab4c59",
   "metadata": {},
   "outputs": [],
   "source": [
    "#String based questions - 5"
   ]
  },
  {
   "cell_type": "code",
   "execution_count": 33,
   "id": "791cfe50",
   "metadata": {},
   "outputs": [
    {
     "name": "stdout",
     "output_type": "stream",
     "text": [
      "Enter a string: hello world\n",
      "helloworld\n"
     ]
    }
   ],
   "source": [
    "string1 = input(\"Enter a string: \")\n",
    "string2 = string1.replace(\" \", \"\")\n",
    "print(string2)"
   ]
  },
  {
   "cell_type": "code",
   "execution_count": null,
   "id": "7bf68b6f",
   "metadata": {},
   "outputs": [],
   "source": []
  }
 ],
 "metadata": {
  "kernelspec": {
   "display_name": "Python 3",
   "language": "python",
   "name": "python3"
  },
  "language_info": {
   "codemirror_mode": {
    "name": "ipython",
    "version": 3
   },
   "file_extension": ".py",
   "mimetype": "text/x-python",
   "name": "python",
   "nbconvert_exporter": "python",
   "pygments_lexer": "ipython3",
   "version": "3.6.8"
  }
 },
 "nbformat": 4,
 "nbformat_minor": 5
}
