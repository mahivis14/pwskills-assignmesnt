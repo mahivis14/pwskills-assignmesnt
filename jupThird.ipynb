{
 "cells": [
  {
   "cell_type": "code",
   "execution_count": null,
   "id": "80d8b596",
   "metadata": {},
   "outputs": [],
   "source": [
    "#For loop assignment question-1 "
   ]
  },
  {
   "cell_type": "code",
   "execution_count": 1,
   "id": "1089b133",
   "metadata": {},
   "outputs": [
    {
     "name": "stdout",
     "output_type": "stream",
     "text": [
      "1\n",
      "2\n",
      "3\n",
      "4\n",
      "5\n",
      "6\n",
      "7\n",
      "8\n",
      "9\n",
      "10\n"
     ]
    }
   ],
   "source": [
    "for i in range(1,11):\n",
    "    print(i)"
   ]
  },
  {
   "cell_type": "code",
   "execution_count": null,
   "id": "ae0725ac",
   "metadata": {},
   "outputs": [],
   "source": [
    "#For loop assignment question-2"
   ]
  },
  {
   "cell_type": "code",
   "execution_count": 3,
   "id": "69eaa712",
   "metadata": {},
   "outputs": [
    {
     "name": "stdout",
     "output_type": "stream",
     "text": [
      "38\n"
     ]
    }
   ],
   "source": [
    "l = [3, 5, 6, 7, 8, 4, 3, 2]\n",
    "sum = 0\n",
    "for i in l:\n",
    "    sum+=i\n",
    "print(sum)"
   ]
  },
  {
   "cell_type": "code",
   "execution_count": 4,
   "id": "51ec0642",
   "metadata": {},
   "outputs": [],
   "source": [
    "#For loop assignment question-3"
   ]
  },
  {
   "cell_type": "code",
   "execution_count": 5,
   "id": "b2b3468b",
   "metadata": {},
   "outputs": [
    {
     "name": "stdout",
     "output_type": "stream",
     "text": [
      "dlrow olleh\n"
     ]
    }
   ],
   "source": [
    "a = \"hello world\"\n",
    "b = a[::-1]\n",
    "print(b)"
   ]
  },
  {
   "cell_type": "code",
   "execution_count": 6,
   "id": "520a7fce",
   "metadata": {},
   "outputs": [],
   "source": [
    "#For loop assignment question-4"
   ]
  },
  {
   "cell_type": "code",
   "execution_count": 7,
   "id": "e8a4bf1c",
   "metadata": {},
   "outputs": [
    {
     "name": "stdout",
     "output_type": "stream",
     "text": [
      "120\n"
     ]
    }
   ],
   "source": [
    "n = 5\n",
    "a = 1\n",
    "for i in range(1, n+1):\n",
    "    a*=i\n",
    "print(a)"
   ]
  },
  {
   "cell_type": "code",
   "execution_count": 8,
   "id": "b70b3956",
   "metadata": {},
   "outputs": [],
   "source": [
    "#For loop assignment question-5"
   ]
  },
  {
   "cell_type": "code",
   "execution_count": 9,
   "id": "22c38080",
   "metadata": {},
   "outputs": [
    {
     "name": "stdout",
     "output_type": "stream",
     "text": [
      "3\n",
      "6\n",
      "9\n",
      "12\n",
      "15\n",
      "18\n",
      "21\n",
      "24\n",
      "27\n",
      "30\n"
     ]
    }
   ],
   "source": [
    "n = 3\n",
    "for i in range(1,11):\n",
    "    print(i*n)"
   ]
  },
  {
   "cell_type": "code",
   "execution_count": 10,
   "id": "5e2ae5fc",
   "metadata": {},
   "outputs": [],
   "source": [
    "#For loop assignment question-6"
   ]
  },
  {
   "cell_type": "code",
   "execution_count": 12,
   "id": "e53443fb",
   "metadata": {},
   "outputs": [
    {
     "name": "stdout",
     "output_type": "stream",
     "text": [
      "Count of event number is 5\n",
      "Count of odd number is 4\n"
     ]
    }
   ],
   "source": [
    "l = [2, 3, 4, 5, 6, 7, 8, 9, 20]\n",
    "countOdd = 0\n",
    "countEven = 0\n",
    "for i in l:\n",
    "    if i%2==0:\n",
    "        countEven+=1\n",
    "    else:\n",
    "        countOdd+=1\n",
    "print(f\"Count of event number is {countEven}\")\n",
    "print(f\"Count of odd number is {countOdd}\")"
   ]
  },
  {
   "cell_type": "code",
   "execution_count": 13,
   "id": "87bad657",
   "metadata": {},
   "outputs": [],
   "source": [
    "#For loop assignment question-7"
   ]
  },
  {
   "cell_type": "code",
   "execution_count": 14,
   "id": "3a9b0e8e",
   "metadata": {},
   "outputs": [
    {
     "name": "stdout",
     "output_type": "stream",
     "text": [
      "1\n",
      "4\n",
      "9\n",
      "16\n",
      "25\n"
     ]
    }
   ],
   "source": [
    "l = [1, 2, 3, 4, 5]\n",
    "for i in l:\n",
    "    print(i*i)"
   ]
  },
  {
   "cell_type": "code",
   "execution_count": 15,
   "id": "3802e22e",
   "metadata": {},
   "outputs": [],
   "source": [
    "#For loop assignment question-8"
   ]
  },
  {
   "cell_type": "code",
   "execution_count": 16,
   "id": "1882e9e2",
   "metadata": {},
   "outputs": [
    {
     "name": "stdout",
     "output_type": "stream",
     "text": [
      "5\n"
     ]
    }
   ],
   "source": [
    "s = \"hello\"\n",
    "count = 0\n",
    "for i in s:\n",
    "    count+=1\n",
    "print(count)"
   ]
  },
  {
   "cell_type": "code",
   "execution_count": 17,
   "id": "86dd976a",
   "metadata": {},
   "outputs": [],
   "source": [
    "#For loop assignment question-9"
   ]
  },
  {
   "cell_type": "code",
   "execution_count": 18,
   "id": "3c91beaa",
   "metadata": {},
   "outputs": [
    {
     "name": "stdout",
     "output_type": "stream",
     "text": [
      "4.75\n"
     ]
    }
   ],
   "source": [
    "l = [3, 5, 6, 7, 8, 4, 3, 2]\n",
    "sum = 0\n",
    "le = len(l)\n",
    "for i in l:\n",
    "    sum+=i\n",
    "av = sum/le\n",
    "print(av)"
   ]
  },
  {
   "cell_type": "code",
   "execution_count": 19,
   "id": "b13adcc7",
   "metadata": {},
   "outputs": [],
   "source": [
    "#For loop assignment question-10"
   ]
  },
  {
   "cell_type": "code",
   "execution_count": 2,
   "id": "c5a0866b",
   "metadata": {},
   "outputs": [
    {
     "name": "stdout",
     "output_type": "stream",
     "text": [
      "[0, 1, 1, 2, 3, 5, 8, 13, 21, 34]\n"
     ]
    }
   ],
   "source": [
    "a = [0,1]\n",
    "n = 10\n",
    "for _ in a:\n",
    "    if len(a)<n:\n",
    "        b=a[-1]+a[-2]\n",
    "        a.append(b)\n",
    "print(a)"
   ]
  },
  {
   "cell_type": "code",
   "execution_count": 4,
   "id": "851b1f97",
   "metadata": {},
   "outputs": [],
   "source": [
    "#For loop assignment question-11"
   ]
  },
  {
   "cell_type": "code",
   "execution_count": 10,
   "id": "2347003a",
   "metadata": {},
   "outputs": [
    {
     "name": "stdout",
     "output_type": "stream",
     "text": [
      "This list has duplicate values\n"
     ]
    }
   ],
   "source": [
    "l = [3, 5, 4, 6, 7, 5]\n",
    "for i in l:\n",
    "    count = 0\n",
    "    for j in l:\n",
    "        if i == j:\n",
    "            count = count + 1\n",
    "    if count == 2:\n",
    "        print(\"This list has duplicate values\")\n",
    "        break\n",
    "else:\n",
    "    print(\"This list does not have duplicate values\")"
   ]
  },
  {
   "cell_type": "code",
   "execution_count": 1,
   "id": "a3a0b028",
   "metadata": {},
   "outputs": [],
   "source": [
    "#For loop assignment question-12"
   ]
  },
  {
   "cell_type": "code",
   "execution_count": 6,
   "id": "534cb8f2",
   "metadata": {},
   "outputs": [
    {
     "name": "stdout",
     "output_type": "stream",
     "text": [
      "[2, 3, 5, 7, 11, 13, 17, 19, 23, 29, 31, 37, 41, 43, 47, 53, 59, 61, 67, 71, 73, 79, 83, 89, 97]\n"
     ]
    }
   ],
   "source": [
    "l = [2, 3, 5, 7, 11, 13, 17]\n",
    "for i in range(18,101):\n",
    "    flag = False\n",
    "    for j in l:\n",
    "        if i%j==0:\n",
    "            flag = True\n",
    "            break\n",
    "    if flag == False:\n",
    "        l.append(i)\n",
    "print(l)"
   ]
  },
  {
   "cell_type": "code",
   "execution_count": 8,
   "id": "dfa6bf6f",
   "metadata": {},
   "outputs": [],
   "source": [
    "#For loop assignment question-13"
   ]
  },
  {
   "cell_type": "code",
   "execution_count": 9,
   "id": "12e2f89f",
   "metadata": {},
   "outputs": [
    {
     "name": "stdout",
     "output_type": "stream",
     "text": [
      "3\n"
     ]
    }
   ],
   "source": [
    "a = \"hello world\"\n",
    "count = 0\n",
    "for i in a:\n",
    "    if i=='a' or i=='e' or i=='i' or i=='o' or i=='u':\n",
    "        count+=1\n",
    "print(count)"
   ]
  },
  {
   "cell_type": "code",
   "execution_count": 10,
   "id": "5da043e7",
   "metadata": {},
   "outputs": [],
   "source": [
    "#For loop assignment question-14"
   ]
  },
  {
   "cell_type": "code",
   "execution_count": 23,
   "id": "cd8d3bc2",
   "metadata": {},
   "outputs": [
    {
     "name": "stdout",
     "output_type": "stream",
     "text": [
      "17\n"
     ]
    }
   ],
   "source": [
    "l = [[4, 6, 2],\n",
    "     [5, 17, 8],\n",
    "     [9, 3, 1]]\n",
    "num = 0\n",
    "for i in range(0, 3):\n",
    "    for j in range(0,3):\n",
    "        if l[i][j] > num:\n",
    "            num = l[i][j]\n",
    "print(num)"
   ]
  },
  {
   "cell_type": "code",
   "execution_count": 24,
   "id": "cf304cf8",
   "metadata": {},
   "outputs": [],
   "source": [
    "#For loop assignment question-15"
   ]
  },
  {
   "cell_type": "code",
   "execution_count": 25,
   "id": "61388e37",
   "metadata": {},
   "outputs": [
    {
     "name": "stdout",
     "output_type": "stream",
     "text": [
      "{1, 2, 3, 5, 7, 8}\n"
     ]
    }
   ],
   "source": [
    "l = [2, 3, 7, 2, 5, 1, 8, 2]\n",
    "s = set()\n",
    "for i in l:\n",
    "    s.add(i)\n",
    "print(s)"
   ]
  },
  {
   "cell_type": "code",
   "execution_count": 26,
   "id": "43d715e4",
   "metadata": {},
   "outputs": [],
   "source": [
    "#For loop assignment question-16"
   ]
  },
  {
   "cell_type": "code",
   "execution_count": 32,
   "id": "3e483279",
   "metadata": {},
   "outputs": [
    {
     "name": "stdout",
     "output_type": "stream",
     "text": [
      "1 2 3 4 5  \n",
      "2 4 6 8 10  \n",
      "3 6 9 12 15  \n",
      "4 8 12 16 20  \n",
      "5 10 15 20 25  \n",
      "6 12 18 24 30  \n",
      "7 14 21 28 35  \n",
      "8 16 24 32 40  \n",
      "9 18 27 36 45  \n",
      "10 20 30 40 50  \n"
     ]
    }
   ],
   "source": [
    "for i in range(1,11):\n",
    "    for j in range(1, 6):\n",
    "        print(i*j, end=\" \")\n",
    "    print(\" \")"
   ]
  },
  {
   "cell_type": "code",
   "execution_count": 33,
   "id": "43412468",
   "metadata": {},
   "outputs": [],
   "source": [
    "#For loop assignment question-17"
   ]
  },
  {
   "cell_type": "code",
   "execution_count": 36,
   "id": "96d96f8b",
   "metadata": {},
   "outputs": [
    {
     "name": "stdout",
     "output_type": "stream",
     "text": [
      "[0, 20, 30, 40, 100]\n"
     ]
    }
   ],
   "source": [
    "f_temp = [32, 68, 86, 104, 212]\n",
    "c_temp = []\n",
    "for i in f_temp:\n",
    "    a = (i - 32) * 5//9\n",
    "    c_temp.append(a)\n",
    "print(c_temp)"
   ]
  },
  {
   "cell_type": "code",
   "execution_count": 37,
   "id": "4c40388e",
   "metadata": {},
   "outputs": [],
   "source": [
    "#For loop assignment question-18"
   ]
  },
  {
   "cell_type": "code",
   "execution_count": 38,
   "id": "238d94ec",
   "metadata": {},
   "outputs": [
    {
     "name": "stdout",
     "output_type": "stream",
     "text": [
      "[6, 4, 32]\n"
     ]
    }
   ],
   "source": [
    "a = [7, 6, 83, 2, 4, 32]\n",
    "b = [32, 4, 5, 6, 9, 3]\n",
    "c = []\n",
    "for i in a:\n",
    "    for j in b:\n",
    "        if i==j:\n",
    "            c.append(i)\n",
    "print(c)"
   ]
  },
  {
   "cell_type": "code",
   "execution_count": 39,
   "id": "33896bfd",
   "metadata": {},
   "outputs": [],
   "source": [
    "#For loop assignment question-19"
   ]
  },
  {
   "cell_type": "code",
   "execution_count": 41,
   "id": "245d9426",
   "metadata": {},
   "outputs": [
    {
     "name": "stdout",
     "output_type": "stream",
     "text": [
      "*\n",
      "**\n",
      "***\n",
      "****\n",
      "*****\n"
     ]
    }
   ],
   "source": [
    "for i in range(1,6):\n",
    "    print(i*'*')"
   ]
  },
  {
   "cell_type": "code",
   "execution_count": 42,
   "id": "9e039eef",
   "metadata": {},
   "outputs": [],
   "source": [
    "#For loop assignment question-20"
   ]
  },
  {
   "cell_type": "code",
   "execution_count": 46,
   "id": "b158a235",
   "metadata": {},
   "outputs": [
    {
     "name": "stdout",
     "output_type": "stream",
     "text": [
      "25\n"
     ]
    }
   ],
   "source": [
    "l = [50, 75]\n",
    "a = []\n",
    "for i in range(1,max(l)+1):\n",
    "    if l[0]%i==0 and l[1]%i==0:\n",
    "        a.append(i)\n",
    "print(max(a))"
   ]
  },
  {
   "cell_type": "code",
   "execution_count": 47,
   "id": "9324e5df",
   "metadata": {},
   "outputs": [],
   "source": [
    "#For loop assignment question-21"
   ]
  },
  {
   "cell_type": "code",
   "execution_count": 3,
   "id": "57c24da3",
   "metadata": {},
   "outputs": [
    {
     "name": "stdout",
     "output_type": "stream",
     "text": [
      "51\n"
     ]
    }
   ],
   "source": [
    "l = [3, 2, 4, 6, 7, 9, 3, 8, 5, 4]\n",
    "add = sum([i for i in l])\n",
    "print(add)"
   ]
  },
  {
   "cell_type": "code",
   "execution_count": 4,
   "id": "31c8cc9e",
   "metadata": {},
   "outputs": [],
   "source": [
    "#For loop assignment question-22"
   ]
  },
  {
   "cell_type": "code",
   "execution_count": 1,
   "id": "cda7d6a3",
   "metadata": {},
   "outputs": [
    {
     "name": "stdout",
     "output_type": "stream",
     "text": [
      "[3, 3, 3, 5]\n"
     ]
    }
   ],
   "source": [
    "n = 135\n",
    "p_fact = []\n",
    "\n",
    "while n!=1:\n",
    "    div = next(i for i in range(2, n+1) if n%i==0)\n",
    "    n //= div\n",
    "    p_fact.append(div)\n",
    "print(p_fact)"
   ]
  },
  {
   "cell_type": "code",
   "execution_count": 5,
   "id": "6729da06",
   "metadata": {},
   "outputs": [],
   "source": [
    "#For loop assignment question-23"
   ]
  },
  {
   "cell_type": "code",
   "execution_count": 3,
   "id": "6382eefb",
   "metadata": {},
   "outputs": [
    {
     "name": "stdout",
     "output_type": "stream",
     "text": [
      "[4, 3, 0]\n"
     ]
    }
   ],
   "source": [
    "l = [7, 5, 9, 4, 3, 8, 8, 5, 7, 9, 0]\n",
    "a = [i for i in l if l.count(i) < 2]\n",
    "print(a)"
   ]
  },
  {
   "cell_type": "code",
   "execution_count": 5,
   "id": "7023ec09",
   "metadata": {},
   "outputs": [],
   "source": [
    "#For loop assignment question-24"
   ]
  },
  {
   "cell_type": "code",
   "execution_count": 32,
   "id": "51621765",
   "metadata": {},
   "outputs": [
    {
     "name": "stdout",
     "output_type": "stream",
     "text": [
      "[101, 111, 121, 131, 141, 151, 161, 171, 181, 191, 202, 212, 222, 232, 242, 252, 262, 272, 282, 292, 303, 313, 323, 333, 343, 353, 363, 373, 383, 393, 404, 414, 424, 434, 444, 454, 464, 474, 484, 494, 505, 515, 525, 535, 545, 555, 565, 575, 585, 595, 606, 616, 626, 636, 646, 656, 666, 676, 686, 696, 707, 717, 727, 737, 747, 757, 767, 777, 787, 797, 808, 818, 828, 838, 848, 858, 868, 878, 888, 898, 909, 919, 929, 939, 949, 959, 969, 979, 989, 999]\n"
     ]
    }
   ],
   "source": [
    "start_range = 100\n",
    "end_range   = 1000\n",
    "a = [i for i in range(start_range,end_range) if str(i)==str(i)[::-1]]\n",
    "print(a)"
   ]
  },
  {
   "cell_type": "code",
   "execution_count": 19,
   "id": "49b1299e",
   "metadata": {},
   "outputs": [],
   "source": [
    "#For loop assignment question-25"
   ]
  },
  {
   "cell_type": "code",
   "execution_count": 30,
   "id": "5ecf1186",
   "metadata": {},
   "outputs": [
    {
     "name": "stdout",
     "output_type": "stream",
     "text": [
      "[1, 2, 3, 4, 5, 6]\n"
     ]
    }
   ],
   "source": [
    "a = [1, 2, 3, [4, 5, 6]]\n",
    "b = [i for i in a if type(i)!=list] + [m for j in a if type(j)==list for m in j]\n",
    "print(b)"
   ]
  },
  {
   "cell_type": "code",
   "execution_count": 31,
   "id": "8ddb532a",
   "metadata": {},
   "outputs": [],
   "source": [
    "#For loop assignment question-26"
   ]
  },
  {
   "cell_type": "code",
   "execution_count": 37,
   "id": "e98a7539",
   "metadata": {},
   "outputs": [
    {
     "name": "stdout",
     "output_type": "stream",
     "text": [
      "Odd Sum = 35\n",
      "even Sum = 20\n"
     ]
    }
   ],
   "source": [
    "a = [2, 3, 4, 5, 6, 7, 8, 9, 11]\n",
    "odd_num = [i for i in a if i%2!=0]\n",
    "odd_sum = str(sum(odd_num))\n",
    "even_num = [i for i in a if i%2==0]\n",
    "even_sum = str(sum(even_num))\n",
    "print(\"Odd Sum = \"+ odd_sum)\n",
    "print(\"even Sum = \"+ even_sum)"
   ]
  },
  {
   "cell_type": "code",
   "execution_count": 38,
   "id": "be6c44cd",
   "metadata": {},
   "outputs": [],
   "source": [
    "#For loop assignment question-27"
   ]
  },
  {
   "cell_type": "code",
   "execution_count": 39,
   "id": "8487b555",
   "metadata": {},
   "outputs": [
    {
     "name": "stdout",
     "output_type": "stream",
     "text": [
      "[1, 9, 25, 49, 81]\n"
     ]
    }
   ],
   "source": [
    "a = [i*i for i in range (1,11) if i%2!=0]\n",
    "print(a)"
   ]
  },
  {
   "cell_type": "code",
   "execution_count": 40,
   "id": "ec9d4ad3",
   "metadata": {},
   "outputs": [],
   "source": [
    "#For loop assignment question-28"
   ]
  },
  {
   "cell_type": "code",
   "execution_count": 43,
   "id": "55a50ecc",
   "metadata": {},
   "outputs": [
    {
     "name": "stdout",
     "output_type": "stream",
     "text": [
      "{24: 71, 35: 22, 57: 83, 63: 90, 89: 34, 99: 39}\n"
     ]
    }
   ],
   "source": [
    "a = [24, 35, 57, 63, 89, 99]\n",
    "b = [71, 22, 83, 90, 34, 39]\n",
    "c = {a[i] : b[i] for i in range(0,len(a))}\n",
    "print(c)"
   ]
  },
  {
   "cell_type": "code",
   "execution_count": 44,
   "id": "70b1f701",
   "metadata": {},
   "outputs": [],
   "source": [
    "#For loop assignment question-29"
   ]
  },
  {
   "cell_type": "code",
   "execution_count": 45,
   "id": "b40b4b07",
   "metadata": {},
   "outputs": [
    {
     "name": "stdout",
     "output_type": "stream",
     "text": [
      "['e', 'o', 'o']\n"
     ]
    }
   ],
   "source": [
    "a = \"hello world\"\n",
    "b = [i for i in a if i=='a' or i=='e' or i=='i' or i=='o' or i=='u']\n",
    "print(b)"
   ]
  },
  {
   "cell_type": "code",
   "execution_count": 46,
   "id": "895eae9a",
   "metadata": {},
   "outputs": [],
   "source": [
    "#For loop assignment question-30"
   ]
  },
  {
   "cell_type": "code",
   "execution_count": 56,
   "id": "40719ed8",
   "metadata": {},
   "outputs": [
    {
     "name": "stdout",
     "output_type": "stream",
     "text": [
      "['123', '456', '789', '10']\n"
     ]
    }
   ],
   "source": [
    "a = [\"abc123\", \"def456\", \"ghi789\", \"jkl10\"]\n",
    "b = [\"\".join(j for j in i if j.isdigit()) for i in a]\n",
    "print(b)"
   ]
  },
  {
   "cell_type": "code",
   "execution_count": 57,
   "id": "34d0c2e1",
   "metadata": {},
   "outputs": [],
   "source": [
    "#For loop assignment question-31"
   ]
  },
  {
   "cell_type": "code",
   "execution_count": 2,
   "id": "05b629c9",
   "metadata": {},
   "outputs": [
    {
     "name": "stdout",
     "output_type": "stream",
     "text": [
      "[11, 13, 17, 19, 23, 29, 31, 37, 41, 43, 47, 53, 59, 61, 67, 71, 73, 79, 83, 89, 97]\n"
     ]
    }
   ],
   "source": [
    "n = 100  # Range\n",
    "a = [i for i in range(2, n + 1)]\n",
    "b = [j for j in range(2, n + 1) if j * j < n]\n",
    "\n",
    "# Use nested list comprehension to filter prime numbers\n",
    "l = [m for m in a if all(m % n != 0 for n in b)]\n",
    "\n",
    "print(l)"
   ]
  },
  {
   "cell_type": "code",
   "execution_count": 5,
   "id": "95671062",
   "metadata": {},
   "outputs": [],
   "source": [
    "#For loop assignment question-32"
   ]
  },
  {
   "cell_type": "code",
   "execution_count": 2,
   "id": "4ba94a18",
   "metadata": {},
   "outputs": [
    {
     "name": "stdout",
     "output_type": "stream",
     "text": [
      "[[3, 4, 5], [5, 12, 13], [6, 8, 10], [7, 24, 25], [8, 15, 17], [9, 12, 15], [12, 16, 20], [15, 20, 25]]\n"
     ]
    }
   ],
   "source": [
    "a = [i for i in range(1,26)]\n",
    "pairs = []\n",
    "dup = []\n",
    "for j in a:\n",
    "    for n in a:\n",
    "        for m in a:\n",
    "            if (j*j)+(n*n)==(m*m) and [j,n] not in dup:\n",
    "                pairs.append([j,n,m])\n",
    "                dup.append([j,n])\n",
    "                dup.append([n,j])\n",
    "print(pairs)"
   ]
  },
  {
   "cell_type": "code",
   "execution_count": 3,
   "id": "d31f041a",
   "metadata": {},
   "outputs": [],
   "source": [
    "#For loop assignment question-33"
   ]
  },
  {
   "cell_type": "code",
   "execution_count": 3,
   "id": "915a2d49",
   "metadata": {},
   "outputs": [
    {
     "name": "stdout",
     "output_type": "stream",
     "text": [
      "[(2, 5), (2, 6), (2, 7), (2, 8), (3, 5), (3, 6), (3, 7), (3, 8), (4, 5), (4, 6), (4, 7), (4, 8)]\n"
     ]
    }
   ],
   "source": [
    "a = [1, 2, 3, 4]\n",
    "b = [5, 6, 7, 8]\n",
    "c = [(i,j) for i in a if i!=1 for j in b if b!=7 and b!=8]\n",
    "print(c)"
   ]
  },
  {
   "cell_type": "code",
   "execution_count": 4,
   "id": "c12656a2",
   "metadata": {},
   "outputs": [],
   "source": [
    "#For loop assignment question-34"
   ]
  },
  {
   "cell_type": "code",
   "execution_count": 4,
   "id": "7cee1220",
   "metadata": {},
   "outputs": [
    {
     "name": "stdout",
     "output_type": "stream",
     "text": [
      "The mean is 8.2\n",
      "The median is 12\n",
      "The mode is 3\n"
     ]
    }
   ],
   "source": [
    "a = [5, 8, 12, 9, 7]\n",
    "b = sum(a)/len(a)\n",
    "print(\"The mean is\", b)\n",
    "md_ps = (len(a)+1)//2\n",
    "md = a[md_ps-1]\n",
    "print(\"The median is\", md)\n",
    "c = [3, 3, 6, 8, 3, 8, 3]\n",
    "d = {}\n",
    "e = []\n",
    "for i in c:\n",
    "    count=0\n",
    "    for j in c:\n",
    "        if i==j:\n",
    "            count+=1\n",
    "            e.append(count)\n",
    "    d[count]=i\n",
    "print(\"The mode is\",d[max(e)])"
   ]
  },
  {
   "cell_type": "code",
   "execution_count": 5,
   "id": "08fccdf9",
   "metadata": {},
   "outputs": [],
   "source": [
    "#For loop assignment question-35"
   ]
  },
  {
   "cell_type": "code",
   "execution_count": 1,
   "id": "f006fe27",
   "metadata": {},
   "outputs": [
    {
     "name": "stdout",
     "output_type": "stream",
     "text": [
      "            1\n",
      "          1   1\n",
      "        1   1   1\n",
      "      1   1   1   1\n",
      "    1   1   1   1   1\n"
     ]
    }
   ],
   "source": [
    "for j,i in zip(range(8,-1,-2),range(1,6)):\n",
    "    print(j*\" \",i*'   1')"
   ]
  },
  {
   "cell_type": "code",
   "execution_count": 2,
   "id": "375efd46",
   "metadata": {},
   "outputs": [],
   "source": [
    "#For loop assignment question-36"
   ]
  },
  {
   "cell_type": "code",
   "execution_count": 11,
   "id": "b3df0df6",
   "metadata": {},
   "outputs": [
    {
     "name": "stdout",
     "output_type": "stream",
     "text": [
      "3\n"
     ]
    }
   ],
   "source": [
    "n = 5\n",
    "mul = 1\n",
    "for i in range(1,n+1):\n",
    "    mul *=i\n",
    "add = 0\n",
    "for j in range(0, len(str(mul))):\n",
    "    add+=int(j)\n",
    "print(add)"
   ]
  },
  {
   "cell_type": "code",
   "execution_count": 3,
   "id": "6f50cd1a",
   "metadata": {},
   "outputs": [],
   "source": [
    "#For loop assignment question-37"
   ]
  },
  {
   "cell_type": "code",
   "execution_count": 5,
   "id": "dbab0d42",
   "metadata": {},
   "outputs": [
    {
     "name": "stdout",
     "output_type": "stream",
     "text": [
      "Longest word is plastic\n"
     ]
    }
   ],
   "source": [
    "a = \"Please stop using plastic\"\n",
    "b = a.split()\n",
    "c = {}\n",
    "d = []\n",
    "for i in b:\n",
    "    count=0\n",
    "    for j in i:\n",
    "        count+=1\n",
    "    d.append(count)\n",
    "    c[count] = i\n",
    "print(\"Longest word is\",c[max(d)])"
   ]
  },
  {
   "cell_type": "code",
   "execution_count": 6,
   "id": "44b4e97c",
   "metadata": {},
   "outputs": [],
   "source": [
    "#For loop assignment question-38"
   ]
  },
  {
   "cell_type": "code",
   "execution_count": 7,
   "id": "38a3bf71",
   "metadata": {},
   "outputs": [
    {
     "name": "stdout",
     "output_type": "stream",
     "text": [
      "['Plaio', 'Aiio']\n"
     ]
    }
   ],
   "source": [
    "l = [\"Plaio\", \"Apple\", \"Aiio\", \"Boy\"]\n",
    "a = []\n",
    "for i in l:\n",
    "    count=0\n",
    "    for j in i:\n",
    "        if j==\"a\" or j==\"e\" or j==\"i\" or j==\"o\" or j==\"u\":\n",
    "            count+=1\n",
    "    if count>=3:\n",
    "        a.append(i)\n",
    "print(a)"
   ]
  },
  {
   "cell_type": "code",
   "execution_count": 8,
   "id": "f3a65d26",
   "metadata": {},
   "outputs": [],
   "source": [
    "#For loop assignment question-39"
   ]
  },
  {
   "cell_type": "code",
   "execution_count": 13,
   "id": "3f335926",
   "metadata": {},
   "outputs": [
    {
     "name": "stdout",
     "output_type": "stream",
     "text": [
      "13501\n"
     ]
    }
   ],
   "source": [
    "a = [i for i in range(1,1001)]\n",
    "b = 0\n",
    "for i in a:\n",
    "    if i<=9:\n",
    "        b+=i\n",
    "    else:\n",
    "        for j in str(i):\n",
    "            b+=int(j)\n",
    "print(b)"
   ]
  },
  {
   "cell_type": "code",
   "execution_count": 15,
   "id": "db4530b8",
   "metadata": {},
   "outputs": [],
   "source": [
    "#For loop assignment question-40"
   ]
  },
  {
   "cell_type": "code",
   "execution_count": 9,
   "id": "f18d3a49",
   "metadata": {},
   "outputs": [
    {
     "name": "stdout",
     "output_type": "stream",
     "text": [
      "[101, 131, 151, 181, 191, 313, 353, 373, 383, 727, 757, 787, 797, 919, 929]\n"
     ]
    }
   ],
   "source": [
    "a = [i for i in range(2,1001) if str(i)==str(i)[::-1]]\n",
    "b = [i for i in range(2,1001) if i*i<1000]\n",
    "c = [m for m in a if all(m%n!=0 for n in b)]\n",
    "print(c)"
   ]
  },
  {
   "cell_type": "code",
   "execution_count": null,
   "id": "747c53a7",
   "metadata": {},
   "outputs": [],
   "source": []
  }
 ],
 "metadata": {
  "kernelspec": {
   "display_name": "Python 3",
   "language": "python",
   "name": "python3"
  },
  "language_info": {
   "codemirror_mode": {
    "name": "ipython",
    "version": 3
   },
   "file_extension": ".py",
   "mimetype": "text/x-python",
   "name": "python",
   "nbconvert_exporter": "python",
   "pygments_lexer": "ipython3",
   "version": "3.6.8"
  }
 },
 "nbformat": 4,
 "nbformat_minor": 5
}
