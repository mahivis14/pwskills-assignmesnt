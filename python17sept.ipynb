{
 "cells": [
  {
   "cell_type": "code",
   "execution_count": 1,
   "id": "9b942c9d",
   "metadata": {},
   "outputs": [],
   "source": [
    "#For Loop-1 "
   ]
  },
  {
   "cell_type": "code",
   "execution_count": 2,
   "id": "5d75d3f6",
   "metadata": {},
   "outputs": [
    {
     "name": "stdout",
     "output_type": "stream",
     "text": [
      "1\n",
      "2\n",
      "3\n",
      "4\n",
      "5\n",
      "6\n",
      "7\n",
      "8\n",
      "9\n",
      "10\n"
     ]
    }
   ],
   "source": [
    "for i in range(1,11):\n",
    "    print(i)"
   ]
  },
  {
   "cell_type": "code",
   "execution_count": 3,
   "id": "b1193a84",
   "metadata": {},
   "outputs": [],
   "source": [
    "#For Loop-2"
   ]
  },
  {
   "cell_type": "code",
   "execution_count": 4,
   "id": "ada62b2d",
   "metadata": {},
   "outputs": [],
   "source": [
    "#The For loop in python is used to iterate over a sequence or other iterable objects on the other hand while loop\n",
    "#continues executing a block of code as long as a specified condition is true."
   ]
  },
  {
   "cell_type": "code",
   "execution_count": 5,
   "id": "0e20b354",
   "metadata": {},
   "outputs": [],
   "source": [
    "#For Loop-3"
   ]
  },
  {
   "cell_type": "code",
   "execution_count": 6,
   "id": "f5e2be2c",
   "metadata": {},
   "outputs": [
    {
     "name": "stdout",
     "output_type": "stream",
     "text": [
      "5050\n"
     ]
    }
   ],
   "source": [
    "a=0\n",
    "for i in range(0,101):\n",
    "    a+=i\n",
    "print(a)"
   ]
  },
  {
   "cell_type": "code",
   "execution_count": 7,
   "id": "fbd9701c",
   "metadata": {},
   "outputs": [],
   "source": [
    "#For Loop-4"
   ]
  },
  {
   "cell_type": "code",
   "execution_count": 8,
   "id": "2b8439ea",
   "metadata": {},
   "outputs": [
    {
     "name": "stdout",
     "output_type": "stream",
     "text": [
      "hello\n",
      "world\n",
      "I\n",
      "am\n",
      "learning\n",
      "python\n"
     ]
    }
   ],
   "source": [
    "l = [\"hello\",\"world\",\"I\",\"am\",\"learning\",\"python\"]\n",
    "for i in l:\n",
    "    print(i)"
   ]
  },
  {
   "cell_type": "code",
   "execution_count": 9,
   "id": "8898b234",
   "metadata": {},
   "outputs": [],
   "source": [
    "#For Loop-5"
   ]
  },
  {
   "cell_type": "code",
   "execution_count": 11,
   "id": "de4e78c4",
   "metadata": {},
   "outputs": [
    {
     "name": "stdout",
     "output_type": "stream",
     "text": [
      "120\n"
     ]
    }
   ],
   "source": [
    "l = [2,3,4,5]\n",
    "a = 1\n",
    "for i in l:\n",
    "    a*=i\n",
    "print(a)"
   ]
  },
  {
   "cell_type": "code",
   "execution_count": 12,
   "id": "c5b4660d",
   "metadata": {},
   "outputs": [],
   "source": [
    "#For Loop-6"
   ]
  },
  {
   "cell_type": "code",
   "execution_count": 14,
   "id": "654612bc",
   "metadata": {},
   "outputs": [
    {
     "name": "stdout",
     "output_type": "stream",
     "text": [
      "2\n",
      "4\n",
      "6\n",
      "8\n",
      "10\n",
      "12\n",
      "14\n",
      "16\n",
      "18\n",
      "20\n"
     ]
    }
   ],
   "source": [
    "for i in range(1,21):\n",
    "    if i%2==0:\n",
    "        print(i)"
   ]
  },
  {
   "cell_type": "code",
   "execution_count": 15,
   "id": "ecd98f3c",
   "metadata": {},
   "outputs": [],
   "source": [
    "#For Loop-7"
   ]
  },
  {
   "cell_type": "code",
   "execution_count": 16,
   "id": "691524c0",
   "metadata": {},
   "outputs": [
    {
     "name": "stdout",
     "output_type": "stream",
     "text": [
      "120\n"
     ]
    }
   ],
   "source": [
    "a = 5\n",
    "b = 1\n",
    "for i in range(1,a+1):\n",
    "    b*=i\n",
    "print(b)"
   ]
  },
  {
   "cell_type": "code",
   "execution_count": 17,
   "id": "a8810f98",
   "metadata": {},
   "outputs": [],
   "source": [
    "#For Loop-8"
   ]
  },
  {
   "cell_type": "code",
   "execution_count": 18,
   "id": "56a9b716",
   "metadata": {},
   "outputs": [
    {
     "name": "stdout",
     "output_type": "stream",
     "text": [
      "h\n",
      "e\n",
      "l\n",
      "l\n",
      "o\n"
     ]
    }
   ],
   "source": [
    "a = \"hello\"\n",
    "for i in a:\n",
    "    print(i)"
   ]
  },
  {
   "cell_type": "code",
   "execution_count": 19,
   "id": "21894256",
   "metadata": {},
   "outputs": [],
   "source": [
    "#For Loop-9"
   ]
  },
  {
   "cell_type": "code",
   "execution_count": 22,
   "id": "f076073d",
   "metadata": {},
   "outputs": [
    {
     "name": "stdout",
     "output_type": "stream",
     "text": [
      "87\n"
     ]
    }
   ],
   "source": [
    "l = [3, 4, 9, 87, 4, 6, 9, 31]\n",
    "a = 0\n",
    "for i in l:\n",
    "    if i>a:\n",
    "        a=i\n",
    "    else:\n",
    "        pass\n",
    "print(a)"
   ]
  },
  {
   "cell_type": "code",
   "execution_count": 23,
   "id": "ee76d510",
   "metadata": {},
   "outputs": [],
   "source": [
    "#For Loop-10"
   ]
  },
  {
   "cell_type": "code",
   "execution_count": 1,
   "id": "28477162",
   "metadata": {},
   "outputs": [
    {
     "name": "stdout",
     "output_type": "stream",
     "text": [
      "[0, 1, 1, 2, 3, 5, 8, 13, 21, 34]\n"
     ]
    }
   ],
   "source": [
    "n = 10\n",
    "fib = [0,1]\n",
    "for i in fib:\n",
    "    if len(fib)<n:\n",
    "        fib.append(fib[-1]+fib[-2])\n",
    "print(fib)"
   ]
  },
  {
   "cell_type": "code",
   "execution_count": 2,
   "id": "fd740abf",
   "metadata": {},
   "outputs": [],
   "source": [
    "#For Loop-11"
   ]
  },
  {
   "cell_type": "code",
   "execution_count": 3,
   "id": "a70a8e4e",
   "metadata": {},
   "outputs": [
    {
     "name": "stdout",
     "output_type": "stream",
     "text": [
      "8\n"
     ]
    }
   ],
   "source": [
    "a = \"Please stop using plastic\"\n",
    "count = 0\n",
    "for i in a:\n",
    "    if i==\"a\" or i==\"e\" or i==\"i\" or i==\"o\" or i==\"u\":\n",
    "        count+=1\n",
    "print(count)"
   ]
  },
  {
   "cell_type": "code",
   "execution_count": 4,
   "id": "f905ff59",
   "metadata": {},
   "outputs": [],
   "source": [
    "#For Loop-12"
   ]
  },
  {
   "cell_type": "code",
   "execution_count": 6,
   "id": "846c34c0",
   "metadata": {},
   "outputs": [
    {
     "name": "stdout",
     "output_type": "stream",
     "text": [
      "17\n",
      "34\n",
      "51\n",
      "68\n",
      "85\n",
      "102\n",
      "119\n",
      "136\n",
      "153\n",
      "170\n"
     ]
    }
   ],
   "source": [
    "n = 17\n",
    "for i in range(1,11):\n",
    "    print(n*i)"
   ]
  },
  {
   "cell_type": "code",
   "execution_count": 7,
   "id": "f18c62f2",
   "metadata": {},
   "outputs": [],
   "source": [
    "#For Loop-13"
   ]
  },
  {
   "cell_type": "code",
   "execution_count": 8,
   "id": "7a8b08c1",
   "metadata": {},
   "outputs": [
    {
     "name": "stdout",
     "output_type": "stream",
     "text": [
      "[7, 0, 29, 4, 78, 6]\n"
     ]
    }
   ],
   "source": [
    "l = [6, 78, 4, 29, 0, 7]\n",
    "m = l[-1::-1]\n",
    "print(m)"
   ]
  },
  {
   "cell_type": "code",
   "execution_count": 9,
   "id": "f89218c5",
   "metadata": {},
   "outputs": [],
   "source": [
    "#For Loop-14"
   ]
  },
  {
   "cell_type": "code",
   "execution_count": 10,
   "id": "9e3e2cc7",
   "metadata": {},
   "outputs": [
    {
     "name": "stdout",
     "output_type": "stream",
     "text": [
      "3\n",
      "45\n",
      "2\n"
     ]
    }
   ],
   "source": [
    "l = [1, 3, 45, 2, 7]\n",
    "m = [45, 9, 4, 3, 2]\n",
    "for i in l:\n",
    "    for j in m:\n",
    "        if i==j:\n",
    "            print(i)"
   ]
  },
  {
   "cell_type": "code",
   "execution_count": 11,
   "id": "40126125",
   "metadata": {},
   "outputs": [],
   "source": [
    "#For Loop-15"
   ]
  },
  {
   "cell_type": "code",
   "execution_count": 13,
   "id": "2056bb9a",
   "metadata": {},
   "outputs": [],
   "source": [
    "#In python we can iterate a dictionary using for loop through items() function."
   ]
  },
  {
   "cell_type": "code",
   "execution_count": 14,
   "id": "b049303c",
   "metadata": {},
   "outputs": [],
   "source": [
    "#For Loop-16"
   ]
  },
  {
   "cell_type": "code",
   "execution_count": 19,
   "id": "8951fae3",
   "metadata": {},
   "outputs": [
    {
     "name": "stdout",
     "output_type": "stream",
     "text": [
      "9\n"
     ]
    }
   ],
   "source": [
    "l = [18,45]\n",
    "d = []\n",
    "for i in range(1,(max(l))//2):\n",
    "    if l[0]%i==0 and l[1]%i==0:\n",
    "        d.append(i)\n",
    "print(max(d))"
   ]
  },
  {
   "cell_type": "code",
   "execution_count": 20,
   "id": "d135b292",
   "metadata": {},
   "outputs": [],
   "source": [
    "#For Loop-17"
   ]
  },
  {
   "cell_type": "code",
   "execution_count": 21,
   "id": "48ebe64b",
   "metadata": {},
   "outputs": [
    {
     "name": "stdout",
     "output_type": "stream",
     "text": [
      "The string is palindrome\n"
     ]
    }
   ],
   "source": [
    "a = \"level\"\n",
    "if a==a[-1::-1]:\n",
    "    print(\"The string is palindrome\")\n",
    "else:\n",
    "    print(\"The string is not palindrome\")"
   ]
  },
  {
   "cell_type": "code",
   "execution_count": 22,
   "id": "c901b183",
   "metadata": {},
   "outputs": [],
   "source": [
    "#For Loop-18"
   ]
  },
  {
   "cell_type": "code",
   "execution_count": 23,
   "id": "73aab86d",
   "metadata": {},
   "outputs": [
    {
     "name": "stdout",
     "output_type": "stream",
     "text": [
      "{8, 3, 4, 6}\n"
     ]
    }
   ],
   "source": [
    "l = [4, 8, 6, 8, 3, 4, 6]\n",
    "s = set()\n",
    "for i in l:\n",
    "    s.add(i)\n",
    "print(s)"
   ]
  },
  {
   "cell_type": "code",
   "execution_count": 26,
   "id": "ebd22747",
   "metadata": {},
   "outputs": [],
   "source": [
    "#For Loop-19"
   ]
  },
  {
   "cell_type": "code",
   "execution_count": 27,
   "id": "044fe82d",
   "metadata": {},
   "outputs": [
    {
     "name": "stdout",
     "output_type": "stream",
     "text": [
      "3\n"
     ]
    }
   ],
   "source": [
    "s = \"Stop using plastic\"\n",
    "l = s.split()\n",
    "print(len(l))"
   ]
  },
  {
   "cell_type": "code",
   "execution_count": 28,
   "id": "b1289246",
   "metadata": {},
   "outputs": [],
   "source": [
    "#For Loop-20"
   ]
  },
  {
   "cell_type": "code",
   "execution_count": 32,
   "id": "aadf5692",
   "metadata": {},
   "outputs": [
    {
     "name": "stdout",
     "output_type": "stream",
     "text": [
      "625\n"
     ]
    }
   ],
   "source": [
    "sum = 0\n",
    "for i in range(1,51):\n",
    "    if i%2 != 0:\n",
    "        sum+=i\n",
    "print(sum)"
   ]
  },
  {
   "cell_type": "code",
   "execution_count": 33,
   "id": "a03ee94d",
   "metadata": {},
   "outputs": [],
   "source": [
    "#For Loop-21"
   ]
  },
  {
   "cell_type": "code",
   "execution_count": 35,
   "id": "3a01421b",
   "metadata": {},
   "outputs": [
    {
     "name": "stdout",
     "output_type": "stream",
     "text": [
      "This year is leap year\n"
     ]
    }
   ],
   "source": [
    "year = 1904\n",
    "if year%4==0 and year%400==0:\n",
    "    print(\"This year is leap year\")\n",
    "elif year%4==0 and year%100!=0:\n",
    "    print(\"This year is leap year\")\n",
    "else:\n",
    "    print(\"This year is not leap year\")"
   ]
  },
  {
   "cell_type": "code",
   "execution_count": 36,
   "id": "9cc3b274",
   "metadata": {},
   "outputs": [],
   "source": [
    "#For Loop-22"
   ]
  },
  {
   "cell_type": "code",
   "execution_count": 41,
   "id": "e1555308",
   "metadata": {},
   "outputs": [
    {
     "name": "stdout",
     "output_type": "stream",
     "text": [
      "8\n"
     ]
    }
   ],
   "source": [
    "n = 64\n",
    "for i in range(1,(n//2)+1):\n",
    "    if n==i*i:\n",
    "        print(i)"
   ]
  },
  {
   "cell_type": "code",
   "execution_count": 42,
   "id": "6f4dfb34",
   "metadata": {},
   "outputs": [],
   "source": [
    "#For Loop-23"
   ]
  },
  {
   "cell_type": "code",
   "execution_count": 43,
   "id": "ae9877b5",
   "metadata": {},
   "outputs": [
    {
     "name": "stdout",
     "output_type": "stream",
     "text": [
      "23\n"
     ]
    }
   ],
   "source": [
    "l = [2,23]\n",
    "for i in range(1,max(l)+1):\n",
    "    if (i*min(l))%max(l)==0:\n",
    "        print(i)"
   ]
  },
  {
   "cell_type": "code",
   "execution_count": 44,
   "id": "f0b54aba",
   "metadata": {},
   "outputs": [],
   "source": [
    "#if else-1"
   ]
  },
  {
   "cell_type": "code",
   "execution_count": 46,
   "id": "ffcd9f3c",
   "metadata": {},
   "outputs": [
    {
     "name": "stdout",
     "output_type": "stream",
     "text": [
      "It is positive number\n"
     ]
    }
   ],
   "source": [
    "n = 25\n",
    "if n<0:\n",
    "    print(\"It is a negative number\")\n",
    "elif n>0:\n",
    "    print(\"It is positive number\")\n",
    "else:\n",
    "    print(\"Number is zero\")"
   ]
  },
  {
   "cell_type": "code",
   "execution_count": 47,
   "id": "1953ede5",
   "metadata": {},
   "outputs": [],
   "source": [
    "#if else-2"
   ]
  },
  {
   "cell_type": "code",
   "execution_count": 48,
   "id": "b34914d8",
   "metadata": {},
   "outputs": [
    {
     "name": "stdout",
     "output_type": "stream",
     "text": [
      "Number is odd\n"
     ]
    }
   ],
   "source": [
    "n = 25\n",
    "if n%2==0:\n",
    "    print(\"Number is even\")\n",
    "else:\n",
    "    print(\"Number is odd\")"
   ]
  },
  {
   "cell_type": "code",
   "execution_count": 49,
   "id": "e692b497",
   "metadata": {},
   "outputs": [],
   "source": [
    "#if else-3"
   ]
  },
  {
   "cell_type": "code",
   "execution_count": 50,
   "id": "eaaa2251",
   "metadata": {},
   "outputs": [
    {
     "name": "stdout",
     "output_type": "stream",
     "text": [
      "Given number is even and greater than 20\n"
     ]
    }
   ],
   "source": [
    "#We use nested \"if-else\" if multiple conditions need to be executed.\n",
    "#ex-\n",
    "n = 44\n",
    "if n>20:\n",
    "    if n%2==0:\n",
    "        print(\"Given number is even and greater than 20\")"
   ]
  },
  {
   "cell_type": "code",
   "execution_count": 51,
   "id": "da6e1713",
   "metadata": {},
   "outputs": [],
   "source": [
    "#if else-4"
   ]
  },
  {
   "cell_type": "code",
   "execution_count": 52,
   "id": "c15f0004",
   "metadata": {},
   "outputs": [
    {
     "name": "stdout",
     "output_type": "stream",
     "text": [
      "45 is greatest number\n"
     ]
    }
   ],
   "source": [
    "a,b,c = 22,12,45\n",
    "if a>b and a>c:\n",
    "    print(f\"{a} is greatest number\")\n",
    "elif b>a and b>c:\n",
    "    print(f\"{b} is greatest number\")\n",
    "else:\n",
    "    print(f\"{c} is greatest number\")"
   ]
  },
  {
   "cell_type": "code",
   "execution_count": 53,
   "id": "74fc04cf",
   "metadata": {},
   "outputs": [],
   "source": [
    "#if else-5"
   ]
  },
  {
   "cell_type": "code",
   "execution_count": 58,
   "id": "8c4c38be",
   "metadata": {},
   "outputs": [
    {
     "name": "stdout",
     "output_type": "stream",
     "text": [
      "Absolute num is 5\n"
     ]
    }
   ],
   "source": [
    "a = 5.4\n",
    "b = str(a).split(\".\")\n",
    "if b[1]>=str(5):\n",
    "    print(f\"Absolute num is {int(b[0])+1}\")\n",
    "else:\n",
    "    print(f\"Absolute num is {b[0]}\")"
   ]
  },
  {
   "cell_type": "code",
   "execution_count": 59,
   "id": "6567c0b2",
   "metadata": {},
   "outputs": [],
   "source": [
    "#if else-6"
   ]
  },
  {
   "cell_type": "code",
   "execution_count": 60,
   "id": "b793b96e",
   "metadata": {},
   "outputs": [
    {
     "name": "stdout",
     "output_type": "stream",
     "text": [
      "Char is consonant\n"
     ]
    }
   ],
   "source": [
    "a = \"n\"\n",
    "if a==\"a\" or a==\"e\" or a==\"i\" or a==\"o\" or a==\"u\":\n",
    "    print(\"Char is vowel\")\n",
    "else:\n",
    "    print(\"Char is consonant\")"
   ]
  },
  {
   "cell_type": "code",
   "execution_count": 61,
   "id": "a91ca7a1",
   "metadata": {},
   "outputs": [],
   "source": [
    "#if else-7"
   ]
  },
  {
   "cell_type": "code",
   "execution_count": 62,
   "id": "ad520190",
   "metadata": {},
   "outputs": [
    {
     "name": "stdout",
     "output_type": "stream",
     "text": [
      "User is eligible\n"
     ]
    }
   ],
   "source": [
    "userAge = 22\n",
    "if userAge>=18:\n",
    "    print(\"User is eligible\")\n",
    "else:\n",
    "    print(\"User is not eligible\")"
   ]
  },
  {
   "cell_type": "code",
   "execution_count": 63,
   "id": "3db00928",
   "metadata": {},
   "outputs": [],
   "source": [
    "#if else-8"
   ]
  },
  {
   "cell_type": "code",
   "execution_count": 2,
   "id": "79f8cb4e",
   "metadata": {},
   "outputs": [
    {
     "name": "stdout",
     "output_type": "stream",
     "text": [
      "Your amount after discount = 800\n"
     ]
    }
   ],
   "source": [
    "pAmt = 1000\n",
    "if pAmt>=500 and pAmt<1000:\n",
    "    amount_after_discount = pAmt-(pAmt*10)//100\n",
    "elif pAmt>=1000 and pAmt<2000:\n",
    "    amount_after_discount = pAmt-(pAmt*20)//100\n",
    "elif pAmt>=2000:\n",
    "    amount_after_discount = pAmt-(pAmt*30)//100\n",
    "print(f\"Your amount after discount = {amount_after_discount}\")"
   ]
  },
  {
   "cell_type": "code",
   "execution_count": 3,
   "id": "640a7aee",
   "metadata": {},
   "outputs": [],
   "source": [
    "#if else-9"
   ]
  },
  {
   "cell_type": "code",
   "execution_count": 4,
   "id": "18556eb2",
   "metadata": {},
   "outputs": [
    {
     "name": "stdout",
     "output_type": "stream",
     "text": [
      "Given Number is within 0-100\n"
     ]
    }
   ],
   "source": [
    "num = 44\n",
    "if num>0 and num<100:\n",
    "    print(\"Given Number is within 0-100\")\n",
    "else:\n",
    "    print(\"Given number is not within 0-100\")"
   ]
  },
  {
   "cell_type": "code",
   "execution_count": 5,
   "id": "519375ae",
   "metadata": {},
   "outputs": [],
   "source": [
    "#if else-10"
   ]
  },
  {
   "cell_type": "code",
   "execution_count": 6,
   "id": "b3f304f3",
   "metadata": {},
   "outputs": [
    {
     "name": "stdout",
     "output_type": "stream",
     "text": [
      "Student grade is 'A+'\n"
     ]
    }
   ],
   "source": [
    "score = 91\n",
    "if score>=90 and score<=100:\n",
    "    print(\"Student grade is 'A+'\")\n",
    "elif score>=75 and score<90:\n",
    "    print(\"Student grade is 'A'\")\n",
    "elif score>=60 and score<75:\n",
    "    print(\"Student grade is 'B'\")\n",
    "elif score>=35 and score<60:\n",
    "    print(\"Student grade is 'C'\")\n",
    "elif score>=0 and score<35:\n",
    "    print(\"Student is fail\")\n",
    "else:\n",
    "    print(\"Invalid number\")"
   ]
  },
  {
   "cell_type": "code",
   "execution_count": 7,
   "id": "201cc1c0",
   "metadata": {},
   "outputs": [],
   "source": [
    "#if else-11"
   ]
  },
  {
   "cell_type": "code",
   "execution_count": 8,
   "id": "e1374198",
   "metadata": {},
   "outputs": [
    {
     "name": "stdout",
     "output_type": "stream",
     "text": [
      "String is empty\n"
     ]
    }
   ],
   "source": [
    "a = \"\"\n",
    "if not a:\n",
    "    print(\"String is empty\")\n",
    "else:\n",
    "    print(\"String is not empty\")"
   ]
  },
  {
   "cell_type": "code",
   "execution_count": 9,
   "id": "adcc0bbc",
   "metadata": {},
   "outputs": [],
   "source": [
    "#if else-12"
   ]
  },
  {
   "cell_type": "code",
   "execution_count": 10,
   "id": "2d277526",
   "metadata": {},
   "outputs": [
    {
     "name": "stdout",
     "output_type": "stream",
     "text": [
      "The triangle is Isosceles Triangle\n"
     ]
    }
   ],
   "source": [
    "a,b,c = 3,7,7\n",
    "if a==b:\n",
    "    if b==c:\n",
    "        print(\"The triangle is Equilateral Triangle\")\n",
    "    elif b!=c:\n",
    "        print(\"The triangle is Isosceles Triangle\")\n",
    "elif b==c:\n",
    "    if a==c:\n",
    "        print(\"The triangle is Equilateral Triangle\")\n",
    "    elif a!=c:\n",
    "        print(\"The triangle is Isosceles Triangle\")\n",
    "if a==c:\n",
    "    if b==c:\n",
    "        print(\"The triangle is Equilateral Triangle\")\n",
    "    elif b!=c:\n",
    "        print(\"The triangle is Isosceles Triangle\")\n",
    "elif a!=b:\n",
    "    if b!=c:\n",
    "        print(\"The triangle is scalene Triangle\")"
   ]
  },
  {
   "cell_type": "code",
   "execution_count": 11,
   "id": "8ab45975",
   "metadata": {},
   "outputs": [],
   "source": [
    "#if else-13"
   ]
  },
  {
   "cell_type": "code",
   "execution_count": 16,
   "id": "3e28b47b",
   "metadata": {},
   "outputs": [
    {
     "name": "stdout",
     "output_type": "stream",
     "text": [
      "Input number from 1 to 7 :1\n",
      "The day is sunday\n"
     ]
    }
   ],
   "source": [
    "a = int(input(\"Input number from 1 to 7 :\"))\n",
    "if a==1:\n",
    "    print(\"The day is sunday\")\n",
    "elif a==2:\n",
    "    print(\"The day is monday\")\n",
    "elif a==3:\n",
    "    print(\"The day is tuesday\")\n",
    "elif a==4:\n",
    "    print(\"The day is wednesday\")\n",
    "elif a==5:\n",
    "    print(\"The day thursday\")\n",
    "elif a==6:\n",
    "    print(\"The day is friday\")\n",
    "elif a==7:\n",
    "    print(\"The day is saturday\")\n",
    "else:\n",
    "    print(\"Please input valid number\")"
   ]
  },
  {
   "cell_type": "code",
   "execution_count": 17,
   "id": "d7000571",
   "metadata": {},
   "outputs": [],
   "source": [
    "#if else-14"
   ]
  },
  {
   "cell_type": "code",
   "execution_count": 20,
   "id": "184ba96c",
   "metadata": {},
   "outputs": [
    {
     "name": "stdout",
     "output_type": "stream",
     "text": [
      "This year is not leap year\n"
     ]
    }
   ],
   "source": [
    "year = 1904\n",
    "\n",
    "def check_for_leap_year(year):\n",
    "    \n",
    "    if year%4==0 and year%400==0:\n",
    "        print(\"This year is leap year\")\n",
    "    elif year%4==0 and year%100!=0:\n",
    "        print(\"This year is leap year\")\n",
    "    else:\n",
    "        print(\"This year is not leap year\")\n",
    "        \n",
    "check_for_leap_year(2002)"
   ]
  },
  {
   "cell_type": "code",
   "execution_count": 21,
   "id": "f7af7cc7",
   "metadata": {},
   "outputs": [],
   "source": [
    "#if else-15"
   ]
  },
  {
   "cell_type": "code",
   "execution_count": 25,
   "id": "37c36bce",
   "metadata": {},
   "outputs": [
    {
     "name": "stdout",
     "output_type": "stream",
     "text": [
      "Division is valid\n"
     ]
    }
   ],
   "source": [
    "def divide(a,b):\n",
    "    assert b != 0\n",
    "    if a//b > 0:\n",
    "        print(\"Division is valid\")\n",
    "        \n",
    "divide(58,2)"
   ]
  },
  {
   "cell_type": "code",
   "execution_count": 26,
   "id": "16811b41",
   "metadata": {},
   "outputs": [],
   "source": [
    "#if else-16"
   ]
  },
  {
   "cell_type": "code",
   "execution_count": 27,
   "id": "e3e48db7",
   "metadata": {},
   "outputs": [
    {
     "name": "stdout",
     "output_type": "stream",
     "text": [
      "Person is eligible for senior citizen discount\n"
     ]
    }
   ],
   "source": [
    "age = 60\n",
    "if age>=60:\n",
    "    print(\"Person is eligible for senior citizen discount\")\n",
    "elif age>0 and age<60:\n",
    "    print(\"Person is not eligible for senior citizen discount\")\n",
    "else:\n",
    "    print(\"Please enter valid number\")"
   ]
  },
  {
   "cell_type": "code",
   "execution_count": 28,
   "id": "9ed4f648",
   "metadata": {},
   "outputs": [],
   "source": [
    "#if else-17"
   ]
  },
  {
   "cell_type": "code",
   "execution_count": 30,
   "id": "454f1b9f",
   "metadata": {},
   "outputs": [
    {
     "name": "stdout",
     "output_type": "stream",
     "text": [
      "Enter a character: S\n",
      "The character 'S' is uppercase.\n"
     ]
    }
   ],
   "source": [
    "char = input(\"Enter a character: \")\n",
    "\n",
    "if char.isupper():\n",
    "    print(f\"The character '{char}' is uppercase.\")\n",
    "elif char.islower():\n",
    "    print(f\"The character '{char}' is lowercase.\")\n",
    "else:\n",
    "    print(f\"The character '{char}' is neither uppercase nor lowercase.\")"
   ]
  },
  {
   "cell_type": "code",
   "execution_count": 31,
   "id": "59a7fb39",
   "metadata": {},
   "outputs": [],
   "source": [
    "#if else-18"
   ]
  },
  {
   "cell_type": "code",
   "execution_count": 33,
   "id": "87091fbb",
   "metadata": {},
   "outputs": [
    {
     "name": "stdout",
     "output_type": "stream",
     "text": [
      "Enter the coefficient a: 1\n",
      "Enter the coefficient b: 5\n",
      "Enter the coefficient c: 6\n",
      "The roots are real and distinct: -2.0 and -3.0\n"
     ]
    }
   ],
   "source": [
    "import cmath\n",
    "\n",
    "a = float(input(\"Enter the coefficient a: \"))\n",
    "b = float(input(\"Enter the coefficient b: \"))\n",
    "c = float(input(\"Enter the coefficient c: \"))\n",
    "\n",
    "discriminant = b**2 - 4*a*c\n",
    "\n",
    "if discriminant > 0:\n",
    "    root1 = (-b + (discriminant)**0.5) / (2*a)\n",
    "    root2 = (-b - (discriminant)**0.5) / (2*a)\n",
    "    print(f\"The roots are real and distinct: {root1} and {root2}\")\n",
    "elif discriminant == 0:\n",
    "    root = -b / (2*a)\n",
    "    print(f\"The roots are real and identical: {root}\")\n",
    "else:\n",
    "    root1 = (-b + cmath.sqrt(discriminant)) / (2*a)\n",
    "    root2 = (-b - cmath.sqrt(discriminant)) / (2*a)\n",
    "    print(f\"The roots are complex: {root1} and {root2}\")"
   ]
  },
  {
   "cell_type": "code",
   "execution_count": 34,
   "id": "cdb49c0f",
   "metadata": {},
   "outputs": [],
   "source": [
    "#if else-19"
   ]
  },
  {
   "cell_type": "code",
   "execution_count": 35,
   "id": "b1052a1b",
   "metadata": {},
   "outputs": [
    {
     "name": "stdout",
     "output_type": "stream",
     "text": [
      "Year is century\n"
     ]
    }
   ],
   "source": [
    "year = 1900\n",
    "if year%100==0:\n",
    "    print(\"Year is century\")\n",
    "else:\n",
    "    print(\"Year is not century\")"
   ]
  },
  {
   "cell_type": "code",
   "execution_count": 36,
   "id": "e85f1871",
   "metadata": {},
   "outputs": [],
   "source": [
    "#if else-20"
   ]
  },
  {
   "cell_type": "code",
   "execution_count": 51,
   "id": "28ae1933",
   "metadata": {},
   "outputs": [
    {
     "name": "stdout",
     "output_type": "stream",
     "text": [
      "Number is perfect square\n"
     ]
    }
   ],
   "source": [
    "num = 100\n",
    "flag = False\n",
    "for i in range(1,(num//2)+1):\n",
    "    if i*i == num:\n",
    "        flag = True\n",
    "if flag==True:\n",
    "    print(\"Number is perfect square\")\n",
    "else:\n",
    "    print(\"Number is not perfect square\")"
   ]
  },
  {
   "cell_type": "code",
   "execution_count": 43,
   "id": "467a46d5",
   "metadata": {},
   "outputs": [],
   "source": [
    "#if else-21"
   ]
  },
  {
   "cell_type": "code",
   "execution_count": 44,
   "id": "6033aa96",
   "metadata": {},
   "outputs": [],
   "source": [
    "#The continue statement is used to skip the rest of the code inside a loop for the current iteration\n",
    "#and move on to the next iteration.\n",
    "\n",
    "#The break statement is used to exit a loop prematurely. When the break statement is encountered, \n",
    "#the loop is terminated, and the program continues with the next statement after the loop."
   ]
  },
  {
   "cell_type": "code",
   "execution_count": 45,
   "id": "746f1c34",
   "metadata": {},
   "outputs": [],
   "source": [
    "#if else-22"
   ]
  },
  {
   "cell_type": "code",
   "execution_count": 46,
   "id": "ffdcd446",
   "metadata": {},
   "outputs": [
    {
     "name": "stdout",
     "output_type": "stream",
     "text": [
      "Enter your weight in kilograms: 68\n",
      "Enter your height in meters: 1.73736\n",
      "Your BMI is: 22.53\n",
      "You are categorized as: Normal weight\n"
     ]
    }
   ],
   "source": [
    "weight_kg = float(input(\"Enter your weight in kilograms: \"))\n",
    "height_m = float(input(\"Enter your height in meters: \"))\n",
    "\n",
    "bmi = weight_kg / (height_m ** 2)\n",
    "\n",
    "if bmi < 18.5:\n",
    "    category = \"Underweight\"\n",
    "elif 18.5 <= bmi < 25:\n",
    "    category = \"Normal weight\"\n",
    "elif 25 <= bmi < 30:\n",
    "    category = \"Overweight\"\n",
    "else:\n",
    "    category = \"Obese\"\n",
    "\n",
    "print(f\"Your BMI is: {bmi:.2f}\")\n",
    "print(f\"You are categorized as: {category}\")"
   ]
  },
  {
   "cell_type": "code",
   "execution_count": 47,
   "id": "348260d0",
   "metadata": {},
   "outputs": [],
   "source": [
    "#if else-23"
   ]
  },
  {
   "cell_type": "code",
   "execution_count": 48,
   "id": "89eb581a",
   "metadata": {},
   "outputs": [
    {
     "name": "stdout",
     "output_type": "stream",
     "text": [
      "Original list: [1, 2, 3, 4, 5, 6, 7, 8, 9, 10]\n",
      "Filtered list (even numbers only): [2, 4, 6, 8, 10]\n"
     ]
    }
   ],
   "source": [
    "numbers = [1, 2, 3, 4, 5, 6, 7, 8, 9, 10]\n",
    "\n",
    "\n",
    "def filter_even_odd(number):\n",
    "    if number % 2 == 0:\n",
    "        return True\n",
    "    else:\n",
    "        return False\n",
    "\n",
    "filtered_numbers = filter(filter_even_odd, numbers)\n",
    "\n",
    "result_list = list(filtered_numbers)\n",
    "\n",
    "print(\"Original list:\", numbers)\n",
    "print(\"Filtered list (even numbers only):\", result_list)"
   ]
  },
  {
   "cell_type": "code",
   "execution_count": 49,
   "id": "897dfcfc",
   "metadata": {},
   "outputs": [],
   "source": [
    "#if else-24"
   ]
  },
  {
   "cell_type": "code",
   "execution_count": 58,
   "id": "e609e1a0",
   "metadata": {},
   "outputs": [
    {
     "name": "stdout",
     "output_type": "stream",
     "text": [
      "The number is prime\n"
     ]
    }
   ],
   "source": [
    "import math\n",
    "num = 37\n",
    "flag = False\n",
    "range_high = math.ceil(num/2)\n",
    "for i in range(2,range_high+1):\n",
    "    if num%i==0:\n",
    "        flag = True\n",
    "if flag==False:\n",
    "    print(\"The number is prime\")\n",
    "else:\n",
    "    print(\"The number is not prime\")"
   ]
  },
  {
   "cell_type": "code",
   "execution_count": 60,
   "id": "291571fb",
   "metadata": {},
   "outputs": [],
   "source": [
    "#Map-1"
   ]
  },
  {
   "cell_type": "code",
   "execution_count": 61,
   "id": "f48ce9be",
   "metadata": {},
   "outputs": [
    {
     "name": "stdout",
     "output_type": "stream",
     "text": [
      "Original list: [1, 2, 3, 4, 5]\n",
      "Squared list: [1, 4, 9, 16, 25]\n"
     ]
    }
   ],
   "source": [
    "#The map() function in Python is a built-in function that is used to apply \n",
    "#a specified function to each item in an iterable (e.g., a list) and return an iterator that produces the results.\n",
    "#It takes two arguments: the function to apply and the iterable to apply the function to.\n",
    "\n",
    "\n",
    "def square(x):\n",
    "    return x**2\n",
    "numbers = [1, 2, 3, 4, 5]\n",
    "\n",
    "squared_numbers = map(square, numbers)\n",
    "\n",
    "result_list = list(squared_numbers)\n",
    "\n",
    "print(\"Original list:\", numbers)\n",
    "print(\"Squared list:\", result_list)"
   ]
  },
  {
   "cell_type": "code",
   "execution_count": 62,
   "id": "2070fd84",
   "metadata": {},
   "outputs": [],
   "source": [
    "#Map-2"
   ]
  },
  {
   "cell_type": "code",
   "execution_count": 63,
   "id": "ceaef700",
   "metadata": {},
   "outputs": [
    {
     "name": "stdout",
     "output_type": "stream",
     "text": [
      "Original list: [1, 2, 3, 4, 5]\n",
      "Squared list: [1, 4, 9, 16, 25]\n"
     ]
    }
   ],
   "source": [
    "def square(x):\n",
    "    return x**2\n",
    "numbers = [1, 2, 3, 4, 5]\n",
    "\n",
    "squared_numbers = map(square, numbers)\n",
    "\n",
    "result_list = list(squared_numbers)\n",
    "\n",
    "print(\"Original list:\", numbers)\n",
    "print(\"Squared list:\", result_list)"
   ]
  },
  {
   "cell_type": "code",
   "execution_count": 64,
   "id": "c206b31d",
   "metadata": {},
   "outputs": [],
   "source": [
    "#Map-3"
   ]
  },
  {
   "cell_type": "code",
   "execution_count": 66,
   "id": "76cf36d1",
   "metadata": {},
   "outputs": [],
   "source": [
    "# A map function takes two arguement, a function and one or more iterable, it applies the function on each elements\n",
    "# of iterable.\n",
    "\n",
    "# A list comprehension applies expressions on each element of a list and create a new list, it also allows to use\n",
    "# if-else statement.\n",
    "\n",
    "# In the case of simple transformation list comprehension is prefered to use while map function is used for complex\n",
    "# operations."
   ]
  },
  {
   "cell_type": "code",
   "execution_count": 67,
   "id": "6762a8a8",
   "metadata": {},
   "outputs": [],
   "source": [
    "#Map-4"
   ]
  },
  {
   "cell_type": "code",
   "execution_count": 70,
   "id": "d0935bf0",
   "metadata": {},
   "outputs": [
    {
     "name": "stdout",
     "output_type": "stream",
     "text": [
      "['HELLO', 'RAM', 'ROHAN', 'SHYAM']\n"
     ]
    }
   ],
   "source": [
    "def upperCase(a):\n",
    "    return a.upper()\n",
    "l = [\"hello\", \"ram\", \"rohan\", \"shyam\"]\n",
    "a = map(upperCase,l)\n",
    "print(list(a))"
   ]
  },
  {
   "cell_type": "code",
   "execution_count": 71,
   "id": "2193f65f",
   "metadata": {},
   "outputs": [],
   "source": [
    "#Map-5"
   ]
  },
  {
   "cell_type": "code",
   "execution_count": 72,
   "id": "5c7efb5d",
   "metadata": {},
   "outputs": [
    {
     "name": "stdout",
     "output_type": "stream",
     "text": [
      "[5, 3, 5, 5]\n"
     ]
    }
   ],
   "source": [
    "def countStr(a):\n",
    "    return len(a)\n",
    "l = [\"Hello\", \"Ram\", \"Rohan\", \"Shyam\"]\n",
    "a = map(countStr, l)\n",
    "print(list(a))"
   ]
  },
  {
   "cell_type": "code",
   "execution_count": 73,
   "id": "ad1d63f9",
   "metadata": {},
   "outputs": [],
   "source": [
    "#Map-6"
   ]
  },
  {
   "cell_type": "code",
   "execution_count": 74,
   "id": "e4e76043",
   "metadata": {},
   "outputs": [
    {
     "name": "stdout",
     "output_type": "stream",
     "text": [
      "[6, 8, 10, 12]\n"
     ]
    }
   ],
   "source": [
    "def add_elements(x, y):\n",
    "    return x + y\n",
    "\n",
    "list1 = [1, 2, 3, 4]\n",
    "list2 = [5, 6, 7, 8]\n",
    "\n",
    "result = map(add_elements, list1, list2)\n",
    "\n",
    "result_list = list(result)\n",
    "\n",
    "print(result_list)"
   ]
  },
  {
   "cell_type": "code",
   "execution_count": 75,
   "id": "083cd254",
   "metadata": {},
   "outputs": [],
   "source": [
    "#Map-7"
   ]
  },
  {
   "cell_type": "code",
   "execution_count": 77,
   "id": "8b745e52",
   "metadata": {},
   "outputs": [
    {
     "name": "stdout",
     "output_type": "stream",
     "text": [
      "[95, 104, 113, 118]\n"
     ]
    }
   ],
   "source": [
    "def celsius_to_fahrenheit(celsius):\n",
    "    fahrenheit = (celsius * 9//5) + 32\n",
    "    return fahrenheit\n",
    "cel_list = [35,40,45,48]\n",
    "fahren_list = map(celsius_to_fahrenheit,cel_list)\n",
    "print(list(fahren_list))"
   ]
  },
  {
   "cell_type": "code",
   "execution_count": 78,
   "id": "dc84e26a",
   "metadata": {},
   "outputs": [],
   "source": [
    "#Map-8"
   ]
  },
  {
   "cell_type": "code",
   "execution_count": 79,
   "id": "5c7dcca4",
   "metadata": {},
   "outputs": [
    {
     "name": "stdout",
     "output_type": "stream",
     "text": [
      "[6, 12, 87, 10]\n"
     ]
    }
   ],
   "source": [
    "def round_float(a):\n",
    "    return round(a)\n",
    "l = [5.6, 12.4, 87.4, 9.99]\n",
    "b = map(round_float,l)\n",
    "print(list(b))"
   ]
  },
  {
   "cell_type": "code",
   "execution_count": 80,
   "id": "c38e1072",
   "metadata": {},
   "outputs": [],
   "source": [
    "#Filter-1"
   ]
  },
  {
   "cell_type": "code",
   "execution_count": 83,
   "id": "e838068c",
   "metadata": {},
   "outputs": [
    {
     "name": "stdout",
     "output_type": "stream",
     "text": [
      "[2, 4, 6, 8, 24, 78]\n"
     ]
    }
   ],
   "source": [
    "# Filter function is used to filter out the elements from an iterable.\n",
    "\n",
    "def even(a):\n",
    "    return a%2==0\n",
    "l = [2, 3, 4, 5, 6, 7, 8, 9, 24, 65, 78]\n",
    "a = filter(even,l)\n",
    "print(list(a))"
   ]
  },
  {
   "cell_type": "code",
   "execution_count": 84,
   "id": "4af9c939",
   "metadata": {},
   "outputs": [],
   "source": [
    "#Filter-2"
   ]
  },
  {
   "cell_type": "code",
   "execution_count": 85,
   "id": "ff788407",
   "metadata": {},
   "outputs": [
    {
     "name": "stdout",
     "output_type": "stream",
     "text": [
      "[2, 4, 6, 8, 24, 78]\n"
     ]
    }
   ],
   "source": [
    "def even(a):\n",
    "    return a%2==0\n",
    "l = [2, 3, 4, 5, 6, 7, 8, 9, 24, 65, 78]\n",
    "a = filter(even,l)\n",
    "print(list(a))"
   ]
  },
  {
   "cell_type": "code",
   "execution_count": 86,
   "id": "3f05aa6f",
   "metadata": {},
   "outputs": [],
   "source": [
    "#Filter-3"
   ]
  },
  {
   "cell_type": "code",
   "execution_count": 1,
   "id": "492a9b18",
   "metadata": {},
   "outputs": [
    {
     "name": "stdout",
     "output_type": "stream",
     "text": [
      "['Home', 'Hero', 'Hare']\n"
     ]
    }
   ],
   "source": [
    "def select_first_leter(a):\n",
    "    if a[0]==\"H\":\n",
    "        return a\n",
    "l = [\"Home\", \"Vikash\", \"Hero\", \"Rohan\", \"Hare\"]\n",
    "a = filter(select_first_leter,l)\n",
    "print(list(a))"
   ]
  },
  {
   "cell_type": "code",
   "execution_count": 2,
   "id": "decf27bb",
   "metadata": {},
   "outputs": [],
   "source": [
    "#Filter-4"
   ]
  },
  {
   "cell_type": "code",
   "execution_count": 5,
   "id": "77d4c66b",
   "metadata": {},
   "outputs": [
    {
     "name": "stdout",
     "output_type": "stream",
     "text": [
      "[29, 5, 23]\n"
     ]
    }
   ],
   "source": [
    "def prime(a):\n",
    "    flag = False\n",
    "    for i in range(2,(a//2)+1):\n",
    "        if a%i==0:\n",
    "            flag=True\n",
    "    if flag==False:\n",
    "        return a\n",
    "l = [29, 5, 6, 78, 4, 57, 63, 8, 9, 23]\n",
    "a = filter(prime,l)\n",
    "print(list(a))"
   ]
  },
  {
   "cell_type": "code",
   "execution_count": 6,
   "id": "8113d626",
   "metadata": {},
   "outputs": [],
   "source": [
    "#Filter-5"
   ]
  },
  {
   "cell_type": "code",
   "execution_count": 7,
   "id": "aee55c3e",
   "metadata": {},
   "outputs": [
    {
     "name": "stdout",
     "output_type": "stream",
     "text": [
      "['hd', 'Rohan', 55]\n"
     ]
    }
   ],
   "source": [
    "def none_fil(a):\n",
    "    if a is not None:\n",
    "        return a\n",
    "l = [\"\", \"hd\", \"\", \"Rohan\", 55]\n",
    "a = filter(none_fil,l)\n",
    "print(list(a))"
   ]
  },
  {
   "cell_type": "code",
   "execution_count": 8,
   "id": "2637af8f",
   "metadata": {},
   "outputs": [],
   "source": [
    "#Filter-6"
   ]
  },
  {
   "cell_type": "code",
   "execution_count": 10,
   "id": "7d770a75",
   "metadata": {},
   "outputs": [
    {
     "name": "stdout",
     "output_type": "stream",
     "text": [
      "['Vikash', 'Rohan']\n"
     ]
    }
   ],
   "source": [
    "def select_by_length(a):\n",
    "    if len(a)>=5:\n",
    "        return a\n",
    "l = [\"Home\", \"Vikash\", \"Hero\", \"Rohan\", \"Hare\"]\n",
    "a = filter(select_by_length,l)\n",
    "print(list(a))"
   ]
  },
  {
   "cell_type": "code",
   "execution_count": 11,
   "id": "3be78957",
   "metadata": {},
   "outputs": [],
   "source": [
    "#Filter-7"
   ]
  },
  {
   "cell_type": "code",
   "execution_count": 13,
   "id": "74fa05c8",
   "metadata": {},
   "outputs": [
    {
     "name": "stdout",
     "output_type": "stream",
     "text": [
      "[25, 31, 16]\n"
     ]
    }
   ],
   "source": [
    "def select_by_value(a):\n",
    "    if a>=15:\n",
    "        return a\n",
    "l = [7,25,3,31,10,16]\n",
    "a = filter(select_by_value,l)\n",
    "print(list(a))"
   ]
  },
  {
   "cell_type": "code",
   "execution_count": 14,
   "id": "4f9c3e70",
   "metadata": {},
   "outputs": [],
   "source": [
    "#Recursion-1"
   ]
  },
  {
   "cell_type": "code",
   "execution_count": 15,
   "id": "f9afee26",
   "metadata": {},
   "outputs": [],
   "source": [
    "# Recursion is a programming concept where a function calls itself in its own definition.\n",
    "# In Python, a recursive function is a function that performs a task in part and delegates the remaining \n",
    "# task to a new invocation of itself. Each recursive call reduces the original\n",
    "# problem into subproblems until a base case is reached, at which point the recursion stops."
   ]
  },
  {
   "cell_type": "code",
   "execution_count": 16,
   "id": "562f71b1",
   "metadata": {},
   "outputs": [],
   "source": [
    "#Recursion-2"
   ]
  },
  {
   "cell_type": "code",
   "execution_count": 17,
   "id": "e84b16e3",
   "metadata": {},
   "outputs": [
    {
     "name": "stdout",
     "output_type": "stream",
     "text": [
      "120\n"
     ]
    }
   ],
   "source": [
    "def fact(a):\n",
    "    if a==1:\n",
    "        return 1\n",
    "    else:\n",
    "        return a*fact(a-1)\n",
    "b = fact(5)\n",
    "print(b)"
   ]
  },
  {
   "cell_type": "code",
   "execution_count": 18,
   "id": "9a6a875b",
   "metadata": {},
   "outputs": [],
   "source": [
    "#Recursion-3"
   ]
  },
  {
   "cell_type": "code",
   "execution_count": 1,
   "id": "3ef89742",
   "metadata": {},
   "outputs": [
    {
     "name": "stdout",
     "output_type": "stream",
     "text": [
      "The 6th Fibonacci number is: 5\n"
     ]
    }
   ],
   "source": [
    "def fibonacci(n):\n",
    "    if n <= 0:\n",
    "        return \"Invalid input. Please provide a positive integer.\"\n",
    "    elif n == 1:\n",
    "        return 0\n",
    "    elif n == 2:\n",
    "        return 1\n",
    "    else:\n",
    "        return fibonacci(n - 1) + fibonacci(n - 2)\n",
    "\n",
    "n = 6\n",
    "result = fibonacci(n)\n",
    "print(f\"The {n}th Fibonacci number is: {result}\")"
   ]
  },
  {
   "cell_type": "code",
   "execution_count": 2,
   "id": "68e5dbf4-f5c2-4ed4-845d-d14d61849cc2",
   "metadata": {},
   "outputs": [],
   "source": [
    "#Recursion-4"
   ]
  },
  {
   "cell_type": "code",
   "execution_count": 3,
   "id": "353d095e-c9ef-4915-b8d5-41748b3cc359",
   "metadata": {},
   "outputs": [
    {
     "name": "stdout",
     "output_type": "stream",
     "text": [
      "The sum of the elements in the list is: 15\n"
     ]
    }
   ],
   "source": [
    "def list_sum(lst):\n",
    "    if not lst:\n",
    "        return 0\n",
    "    else:\n",
    "        return lst[0] + list_sum(lst[1:])\n",
    "\n",
    "my_list = [1, 2, 3, 4, 5]\n",
    "result = list_sum(my_list)\n",
    "print(f\"The sum of the elements in the list is: {result}\")"
   ]
  },
  {
   "cell_type": "code",
   "execution_count": 4,
   "id": "f199358c-33ec-4239-8f8d-0ef24511b043",
   "metadata": {},
   "outputs": [],
   "source": [
    "#Recursion-5"
   ]
  },
  {
   "cell_type": "code",
   "execution_count": 5,
   "id": "8cff70b0-7c26-4823-9500-401343b76141",
   "metadata": {},
   "outputs": [],
   "source": [
    "#Ans - By defining base condition, one can prevent and recursive function to run infinite."
   ]
  },
  {
   "cell_type": "code",
   "execution_count": 6,
   "id": "b0d54991-766c-4feb-a185-a73f040fa72e",
   "metadata": {},
   "outputs": [],
   "source": [
    "#Recursion-6"
   ]
  },
  {
   "cell_type": "code",
   "execution_count": 7,
   "id": "6f4236ea-1636-4fab-9753-c590cea9b7ee",
   "metadata": {},
   "outputs": [
    {
     "name": "stdout",
     "output_type": "stream",
     "text": [
      "The GCD of 48 and 18 is: 6\n"
     ]
    }
   ],
   "source": [
    "def gcd(a, b):\n",
    "    if b == 0:\n",
    "        return a\n",
    "    else:\n",
    "        return gcd(b, a % b)\n",
    "\n",
    "num1 = 48\n",
    "num2 = 18\n",
    "result = gcd(num1, num2)\n",
    "print(f\"The GCD of {num1} and {num2} is: {result}\")"
   ]
  },
  {
   "cell_type": "code",
   "execution_count": 8,
   "id": "d4dfea85-25d8-44f8-90e4-c40c7d73b99e",
   "metadata": {},
   "outputs": [],
   "source": [
    "#Recursion-7"
   ]
  },
  {
   "cell_type": "code",
   "execution_count": 9,
   "id": "c91579b1-7223-44eb-bfc8-f86a39998288",
   "metadata": {},
   "outputs": [
    {
     "name": "stdout",
     "output_type": "stream",
     "text": [
      "The original string: Hello, World!\n",
      "The reversed string: !dlroW ,olleH\n"
     ]
    }
   ],
   "source": [
    "def reverse_string(s):\n",
    "    if len(s) == 0:\n",
    "        return s\n",
    "    else:\n",
    "        return s[-1] + reverse_string(s[:-1])\n",
    "\n",
    "original_string = \"Hello, World!\"\n",
    "reversed_string = reverse_string(original_string)\n",
    "print(f\"The original string: {original_string}\")\n",
    "print(f\"The reversed string: {reversed_string}\")"
   ]
  },
  {
   "cell_type": "code",
   "execution_count": 10,
   "id": "ca310d46-e7df-4386-abac-10b5e7fd5b5e",
   "metadata": {},
   "outputs": [],
   "source": [
    "#Recursion-8"
   ]
  },
  {
   "cell_type": "code",
   "execution_count": 11,
   "id": "ce611a62-ecab-4ed1-bc31-8d8465f4978d",
   "metadata": {},
   "outputs": [
    {
     "name": "stdout",
     "output_type": "stream",
     "text": [
      "2 raised to the power of 3 is: 8\n"
     ]
    }
   ],
   "source": [
    "def power(x, n):\n",
    "    if n == 0:\n",
    "        return 1\n",
    "    elif n > 0:\n",
    "        return x * power(x, n - 1)\n",
    "    else:\n",
    "        return 1 / (x * power(x, -n - 1))\n",
    "\n",
    "base = 2\n",
    "exponent = 3\n",
    "result = power(base, exponent)\n",
    "print(f\"{base} raised to the power of {exponent} is: {result}\")"
   ]
  },
  {
   "cell_type": "code",
   "execution_count": 12,
   "id": "7f7af170-5362-4e2f-89c8-3bc77bc21fea",
   "metadata": {},
   "outputs": [],
   "source": [
    "#Recursion-9"
   ]
  },
  {
   "cell_type": "code",
   "execution_count": 13,
   "id": "a64f7432-31a7-4f47-b8d3-04f5a7f3702d",
   "metadata": {},
   "outputs": [
    {
     "name": "stdout",
     "output_type": "stream",
     "text": [
      "All permutations of abc: ['abc', 'acb', 'bac', 'bca', 'cab', 'cba']\n"
     ]
    }
   ],
   "source": [
    "def permutations(s):\n",
    "    if len(s) <= 1:\n",
    "        return [s]\n",
    "    \n",
    "    result = []\n",
    "    for i in range(len(s)):\n",
    "        first_char = s[i]\n",
    "        remaining_chars = s[:i] + s[i + 1:]\n",
    "        for p in permutations(remaining_chars):\n",
    "            result.append(first_char + p)\n",
    "    \n",
    "    return result\n",
    "\n",
    "input_string = \"abc\"\n",
    "result = permutations(input_string)\n",
    "print(f\"All permutations of {input_string}: {result}\")"
   ]
  },
  {
   "cell_type": "code",
   "execution_count": 14,
   "id": "8dc1b94c-5328-46c2-b676-16cd889fde01",
   "metadata": {},
   "outputs": [],
   "source": [
    "#Recursion-10"
   ]
  },
  {
   "cell_type": "code",
   "execution_count": 15,
   "id": "5012b312-b555-4cc4-9d7a-a6ca84d80682",
   "metadata": {},
   "outputs": [
    {
     "name": "stdout",
     "output_type": "stream",
     "text": [
      "Is 'level' a palindrome? True\n"
     ]
    }
   ],
   "source": [
    "def is_palindrome(s):\n",
    "    s = s.lower()\n",
    "    if len(s) <= 1:\n",
    "        return True\n",
    "    elif s[0] == s[-1]:\n",
    "        return is_palindrome(s[1:-1])\n",
    "    else:\n",
    "        return False\n",
    "\n",
    "test_string = \"level\"\n",
    "result = is_palindrome(test_string)\n",
    "print(f\"Is '{test_string}' a palindrome? {result}\")"
   ]
  },
  {
   "cell_type": "code",
   "execution_count": 16,
   "id": "eb245376-4206-497c-afb5-684251f9f84e",
   "metadata": {},
   "outputs": [],
   "source": [
    "#Recursion-11"
   ]
  },
  {
   "cell_type": "code",
   "execution_count": 17,
   "id": "92c8a420-b678-439b-ae11-6bbaff1b8167",
   "metadata": {},
   "outputs": [
    {
     "name": "stdout",
     "output_type": "stream",
     "text": [
      "All combinations of size 2 for [1, 2, 3, 4]: [[1, 2], [1, 3], [1, 4], [2, 3], [2, 4], [3, 4]]\n"
     ]
    }
   ],
   "source": [
    "def generate_combinations(elements, k, start=0, current=[]):\n",
    "    if k == 0:\n",
    "        return [current]\n",
    "    result = []\n",
    "    for i in range(start, len(elements)):\n",
    "        result += generate_combinations(elements, k - 1, i + 1, current + [elements[i]])    \n",
    "    return result\n",
    "\n",
    "my_list = [1, 2, 3, 4]\n",
    "combination_size = 2\n",
    "result = generate_combinations(my_list, combination_size)\n",
    "print(f\"All combinations of size {combination_size} for {my_list}: {result}\")"
   ]
  },
  {
   "cell_type": "code",
   "execution_count": 18,
   "id": "b58ad5ad-87cc-4b1a-86d9-322f76590401",
   "metadata": {},
   "outputs": [],
   "source": [
    "#Basics of Functions-1"
   ]
  },
  {
   "cell_type": "code",
   "execution_count": 19,
   "id": "93521f97-7946-4463-99d6-76ab0e6ebc7c",
   "metadata": {},
   "outputs": [],
   "source": [
    "#In Python, a function is a block of reusable code that performs a specific task or a set of tasks.\n",
    "#Functions are defined using the def keyword, followed by the function name, parameters (if any), a colon,\n",
    "#and then the body of the function. Functions can take inputs (arguments),\n",
    "#perform operations, and produce outputs (return values)."
   ]
  },
  {
   "cell_type": "code",
   "execution_count": 20,
   "id": "7a655b7d-a551-46ed-b5d5-b37f7b0828a3",
   "metadata": {},
   "outputs": [],
   "source": [
    "#Basics of Functions-2"
   ]
  },
  {
   "cell_type": "code",
   "execution_count": 22,
   "id": "8c8ffe63-9b81-41c0-8639-ddbd64366f9f",
   "metadata": {},
   "outputs": [
    {
     "name": "stdout",
     "output_type": "stream",
     "text": [
      "13\n"
     ]
    }
   ],
   "source": [
    "def addition(a,b):\n",
    "    return a+b\n",
    "j = addition(5,8)\n",
    "print(j)"
   ]
  },
  {
   "cell_type": "code",
   "execution_count": 23,
   "id": "c8ab4d72-c033-424c-a23a-3bbed0e42f24",
   "metadata": {},
   "outputs": [],
   "source": [
    "#Basics of Functions-3"
   ]
  },
  {
   "cell_type": "code",
   "execution_count": 24,
   "id": "7ea39734-1e7d-4b16-8a2d-2000870b6bca",
   "metadata": {},
   "outputs": [],
   "source": [
    "#A function definition is the process of creating a function. It involves specifying the code that the function will execute when called.\n",
    "#A function call is the actual execution of a function. It involves using the function name along with any required arguments \n",
    "# to trigger the execution of the function's code."
   ]
  },
  {
   "cell_type": "code",
   "execution_count": 25,
   "id": "a3650b72-af35-4eb5-bf6e-247953454ed1",
   "metadata": {},
   "outputs": [],
   "source": [
    "#Basics of Functions-4"
   ]
  },
  {
   "cell_type": "code",
   "execution_count": 26,
   "id": "36b50bdc-0118-44a9-ab9f-99e4c78d3da7",
   "metadata": {},
   "outputs": [
    {
     "name": "stdout",
     "output_type": "stream",
     "text": [
      "13\n"
     ]
    }
   ],
   "source": [
    "def addition(a,b):\n",
    "    return a+b\n",
    "j = addition(5,8)\n",
    "print(j)"
   ]
  },
  {
   "cell_type": "code",
   "execution_count": 27,
   "id": "d56f48d7-a61e-4280-a39a-9db5be64a466",
   "metadata": {},
   "outputs": [],
   "source": [
    "#Basics of Functions-5"
   ]
  },
  {
   "cell_type": "code",
   "execution_count": 28,
   "id": "e87ce7bd-344e-4b66-b4b9-765982be9d71",
   "metadata": {},
   "outputs": [],
   "source": [
    "#A function signature is a concise and standardized way to represent the essential information about a function.\n",
    "#It provides a quick summary of the function's characteristics, \n",
    "#helping developers understand how to use the function without delving into its implementation details. "
   ]
  },
  {
   "cell_type": "code",
   "execution_count": 29,
   "id": "88c2b456-b4dd-4df2-b9c8-860148dff36e",
   "metadata": {},
   "outputs": [],
   "source": [
    "#Basics of Functions-6"
   ]
  },
  {
   "cell_type": "code",
   "execution_count": 30,
   "id": "756f929f-870a-4898-b954-dc5257b160b3",
   "metadata": {},
   "outputs": [
    {
     "name": "stdout",
     "output_type": "stream",
     "text": [
      "40\n"
     ]
    }
   ],
   "source": [
    "def addition(a,b):\n",
    "    return a*b\n",
    "j = addition(5,8)\n",
    "print(j)"
   ]
  },
  {
   "cell_type": "code",
   "execution_count": 33,
   "id": "a5d47d53-7f54-4e7b-8eba-6f7d4b69620b",
   "metadata": {},
   "outputs": [],
   "source": [
    "#Function Parameters and Arguments-1"
   ]
  },
  {
   "cell_type": "code",
   "execution_count": 34,
   "id": "997753e9-34a2-4f2f-8428-1225eaf0bcff",
   "metadata": {},
   "outputs": [],
   "source": [
    "#Formal parameters are the variables listed in the function definition. \n",
    "# They act as placeholders for the values that will be passed into the function when it is called.\n",
    "#Actual arguments (or simply arguments) are the values or expressions passed to a function when it is called.\n",
    "# These values are assigned to the corresponding formal parameters defined in the function."
   ]
  },
  {
   "cell_type": "code",
   "execution_count": 35,
   "id": "b4d08090-dfd2-4fc6-a1b3-5713b7b42795",
   "metadata": {},
   "outputs": [],
   "source": [
    "#Function Parameters and Arguments-2"
   ]
  },
  {
   "cell_type": "code",
   "execution_count": 36,
   "id": "a79c02d0-ffb9-4839-abe8-f2bce7ece3ff",
   "metadata": {},
   "outputs": [
    {
     "name": "stdout",
     "output_type": "stream",
     "text": [
      "Hello, Alice!\n"
     ]
    }
   ],
   "source": [
    "def greet(name, greeting=\"Hello\"):\n",
    "    print(f\"{greeting}, {name}!\")\n",
    "\n",
    "greet(\"Alice\")"
   ]
  },
  {
   "cell_type": "code",
   "execution_count": 37,
   "id": "4d6365f6-50fa-49d4-bdba-fdaa6d819097",
   "metadata": {},
   "outputs": [],
   "source": [
    "#Function Parameters and Arguments-3"
   ]
  },
  {
   "cell_type": "code",
   "execution_count": 38,
   "id": "7eb97182-f0e2-4d8a-b62c-6477bf4e63c3",
   "metadata": {},
   "outputs": [
    {
     "name": "stdout",
     "output_type": "stream",
     "text": [
      "The simple interest (using keyword arguments) is: 150.0\n"
     ]
    }
   ],
   "source": [
    "def calculate_interest(principal, rate, time):\n",
    "    \"\"\"Calculate simple interest using the formula: interest = principal * rate * time / 100\"\"\"\n",
    "    interest = (principal * rate * time) / 100\n",
    "    return interest\n",
    "\n",
    "principal_amount = 1000\n",
    "interest_rate = 5\n",
    "investment_time = 3\n",
    "\n",
    "result1 = calculate_interest(principal=principal_amount, time=investment_time, rate=interest_rate)\n",
    "print(f\"The simple interest (using keyword arguments) is: {result1}\")"
   ]
  },
  {
   "cell_type": "code",
   "execution_count": 39,
   "id": "c407a605-e26e-44b9-b9e3-990fcf999ff8",
   "metadata": {},
   "outputs": [],
   "source": [
    "#Function Parameters and Arguments-4"
   ]
  },
  {
   "cell_type": "code",
   "execution_count": 40,
   "id": "3d4af7ba-74f7-4309-bea1-f2dae4a5218c",
   "metadata": {},
   "outputs": [
    {
     "name": "stdout",
     "output_type": "stream",
     "text": [
      "The sum of numbers 1, 2, and 3 is: 6\n"
     ]
    }
   ],
   "source": [
    "def calculate_sum(*args):\n",
    "    return sum(args)\n",
    "\n",
    "result1 = calculate_sum(1, 2, 3)\n",
    "\n",
    "print(f\"The sum of numbers 1, 2, and 3 is: {result1}\")"
   ]
  },
  {
   "cell_type": "code",
   "execution_count": 41,
   "id": "d9057cf5-828d-490c-b326-5c03bbc3397c",
   "metadata": {},
   "outputs": [],
   "source": [
    "#Function Parameters and Arguments-5"
   ]
  },
  {
   "cell_type": "code",
   "execution_count": 42,
   "id": "9a94e32b-a35a-42b4-9dea-1247a105c52f",
   "metadata": {},
   "outputs": [],
   "source": [
    "#*args allows a function to accept any number of positional arguments.\n",
    "# The *args syntax collects additional positional arguments into a tuple.\n",
    "#**kwargs allows a function to accept any number of keyword arguments.\n",
    "# The **kwargs syntax collects additional keyword arguments into a dictionary."
   ]
  },
  {
   "cell_type": "code",
   "execution_count": 44,
   "id": "33277cb2-ea81-48be-9a18-44412a1b5ab5",
   "metadata": {},
   "outputs": [],
   "source": [
    "#Return Values and Scoping-1"
   ]
  },
  {
   "cell_type": "code",
   "execution_count": 47,
   "id": "c3069050-7876-482b-88f7-33aca72520f8",
   "metadata": {},
   "outputs": [
    {
     "name": "stdout",
     "output_type": "stream",
     "text": [
      "The sum is: 8\n"
     ]
    }
   ],
   "source": [
    "#The primary role of return is to send back a value from the function to the calling code.\n",
    "\n",
    "def add_numbers(x, y):\n",
    "    result = x + y\n",
    "    return result\n",
    "\n",
    "sum_result = add_numbers(3, 5)\n",
    "print(f\"The sum is: {sum_result}\")"
   ]
  },
  {
   "cell_type": "code",
   "execution_count": 48,
   "id": "42ef84b8-f571-4527-a933-6981303369ac",
   "metadata": {},
   "outputs": [],
   "source": [
    "#Return Values and Scoping-2"
   ]
  },
  {
   "cell_type": "code",
   "execution_count": 49,
   "id": "74f9e7d9-b50e-4def-a83b-932ca783c9d8",
   "metadata": {},
   "outputs": [],
   "source": [
    "#Variables defined within a function have local scope. They are accessible only within the function where they are defined.\n",
    "#Variables defined outside of any function or at the module level have global scope.\n",
    "# They are accessible throughout the entire program, including inside functions."
   ]
  },
  {
   "cell_type": "code",
   "execution_count": 50,
   "id": "f184a67e-1e31-4a9f-b914-d3f92cc06867",
   "metadata": {},
   "outputs": [],
   "source": [
    "#Return Values and Scoping-3"
   ]
  },
  {
   "cell_type": "code",
   "execution_count": 51,
   "id": "fdb38766-8253-4bcc-bbd1-762bee12610e",
   "metadata": {},
   "outputs": [
    {
     "name": "stdout",
     "output_type": "stream",
     "text": [
      "Inside the function: I am a global variable\n",
      "After modification: I have been modified inside the function\n"
     ]
    }
   ],
   "source": [
    "global_variable = \"I am a global variable\"\n",
    "\n",
    "def print_global_variable():\n",
    "    print(\"Inside the function:\", global_variable)\n",
    "\n",
    "def modify_global_variable():\n",
    "    global global_variable\n",
    "    global_variable = \"I have been modified inside the function\"\n",
    "\n",
    "print_global_variable()\n",
    "\n",
    "modify_global_variable()\n",
    "\n",
    "print(\"After modification:\", global_variable)"
   ]
  },
  {
   "cell_type": "code",
   "execution_count": 52,
   "id": "85b3eb5d-a790-4464-b636-347342eb88f2",
   "metadata": {},
   "outputs": [],
   "source": [
    "#Return Values and Scoping-4"
   ]
  },
  {
   "cell_type": "code",
   "execution_count": 53,
   "id": "fc9c00f8-d163-4b11-8056-68e4596d0297",
   "metadata": {},
   "outputs": [
    {
     "name": "stdout",
     "output_type": "stream",
     "text": [
      "The factorial of 5 is: 120\n"
     ]
    }
   ],
   "source": [
    "def factorial(n):\n",
    "    if n == 0 or n == 1:\n",
    "        return 1\n",
    "    else:\n",
    "        return n * factorial(n - 1)\n",
    "\n",
    "number = 5\n",
    "result = factorial(number)\n",
    "print(f\"The factorial of {number} is: {result}\")"
   ]
  },
  {
   "cell_type": "code",
   "execution_count": 54,
   "id": "04c42fa8-bc67-4b38-99fd-d86144eef1f4",
   "metadata": {},
   "outputs": [],
   "source": [
    "#Return Values and Scoping-5"
   ]
  },
  {
   "cell_type": "code",
   "execution_count": 55,
   "id": "12009538-77ad-46e1-9bf8-b7910c845d6a",
   "metadata": {},
   "outputs": [
    {
     "name": "stdout",
     "output_type": "stream",
     "text": [
      "I am global\n"
     ]
    }
   ],
   "source": [
    "global_variable = \"I am global\"\n",
    "\n",
    "def print_global_variable():\n",
    "    print(global_variable)\n",
    "\n",
    "print_global_variable()"
   ]
  },
  {
   "cell_type": "code",
   "execution_count": 56,
   "id": "be016248-9d75-4efb-86bc-b5a52d807343",
   "metadata": {},
   "outputs": [],
   "source": [
    "#Lambda Functions and Higher-Order Functions-1"
   ]
  },
  {
   "cell_type": "code",
   "execution_count": 58,
   "id": "e4593280-2f4f-42f3-873a-c3d11a168952",
   "metadata": {},
   "outputs": [],
   "source": [
    "#A lambda function is a small anonymous function defined using the lambda keyword. Lambda functions are often used when a simple,\n",
    "# one-line function is needed for a short period and creating a full function using the def keyword would be overly verbose."
   ]
  },
  {
   "cell_type": "code",
   "execution_count": 59,
   "id": "976a02f8-0a08-4693-b449-be9ca926cc7d",
   "metadata": {},
   "outputs": [],
   "source": [
    "#Lambda Functions and Higher-Order Functions-2"
   ]
  },
  {
   "cell_type": "code",
   "execution_count": 60,
   "id": "780f6275-e725-4718-a8e7-970001e82d83",
   "metadata": {},
   "outputs": [
    {
     "name": "stdout",
     "output_type": "stream",
     "text": [
      "Sorted list based on the second element: [(4, 1), (3, 2), (1, 5), (5, 7), (2, 8)]\n"
     ]
    }
   ],
   "source": [
    "pairs = [(1, 5), (3, 2), (2, 8), (4, 1), (5, 7)]\n",
    "sorted_pairs = sorted(pairs, key=lambda x: x[1])\n",
    "print(\"Sorted list based on the second element:\", sorted_pairs)"
   ]
  },
  {
   "cell_type": "code",
   "execution_count": 61,
   "id": "a98c5d23-6205-46dd-b7dd-684d33aa48ad",
   "metadata": {},
   "outputs": [],
   "source": [
    "#Lambda Functions and Higher-Order Functions-3"
   ]
  },
  {
   "cell_type": "code",
   "execution_count": 62,
   "id": "7b225b5f-c5dc-4032-bf8a-6bf05e702bf0",
   "metadata": {},
   "outputs": [
    {
     "name": "stdout",
     "output_type": "stream",
     "text": [
      "The square of 4 is: 16\n",
      "The cube of 4 is: 64\n"
     ]
    }
   ],
   "source": [
    "#In Python, a higher-order function is a function that takes one or more functions as arguments or returns a function as its result.\n",
    "\n",
    "def square(x):\n",
    "    return x ** 2\n",
    "\n",
    "def cube(x):\n",
    "    return x ** 3\n",
    "\n",
    "def apply_operation(func, value):\n",
    "    return func(value)\n",
    "\n",
    "number = 4\n",
    "result_square = apply_operation(square, number)\n",
    "print(f\"The square of {number} is: {result_square}\")\n",
    "result_cube = apply_operation(cube, number)\n",
    "print(f\"The cube of {number} is: {result_cube}\")"
   ]
  },
  {
   "cell_type": "code",
   "execution_count": 63,
   "id": "c0cbeeb1-53c9-4e76-a357-6ed1dc4115e1",
   "metadata": {},
   "outputs": [],
   "source": [
    "#Lambda Functions and Higher-Order Functions-4"
   ]
  },
  {
   "cell_type": "code",
   "execution_count": 65,
   "id": "f58df762-5e6e-4e39-a266-94cba1794b9c",
   "metadata": {},
   "outputs": [
    {
     "name": "stdout",
     "output_type": "stream",
     "text": [
      "Squared list: [1, 4, 9, 16, 25]\n"
     ]
    }
   ],
   "source": [
    "def apply_function_to_list(numbers, func):\n",
    "    result = [func(num) for num in numbers]\n",
    "    return result\n",
    "def square(x):\n",
    "    return x ** 2\n",
    "\n",
    "number_list = [1, 2, 3, 4, 5]\n",
    "\n",
    "result_square = apply_function_to_list(number_list, square)\n",
    "print(\"Squared list:\", result_square)"
   ]
  },
  {
   "cell_type": "code",
   "execution_count": 67,
   "id": "6a76c4b6-2229-4def-b600-6e7f913ab802",
   "metadata": {},
   "outputs": [],
   "source": [
    "#Built-in Functions-1"
   ]
  },
  {
   "cell_type": "code",
   "execution_count": 68,
   "id": "a32ad61d-ba75-4a0a-8cd8-1fe6673c64d9",
   "metadata": {},
   "outputs": [],
   "source": [
    "#'len' Returns the length (number of items) of an iterable object, such as a string, list, tuple, or dictionary.\n",
    "#'max' Returns the largest item in an iterable or the largest of two or more arguments.\n",
    "#'min' Returns the smallest item in an iterable or the smallest of two or more arguments."
   ]
  },
  {
   "cell_type": "code",
   "execution_count": 69,
   "id": "4b483e41-3b40-4511-8195-0a36984859b3",
   "metadata": {},
   "outputs": [],
   "source": [
    "#Built-in Functions-2"
   ]
  },
  {
   "cell_type": "code",
   "execution_count": 70,
   "id": "24dd5f21-0dd6-4153-b5d9-e5cd7cf2c438",
   "metadata": {},
   "outputs": [
    {
     "name": "stdout",
     "output_type": "stream",
     "text": [
      "Original list: [1, 2, 3, 4, 5]\n",
      "Squared list: [1, 4, 9, 16, 25]\n"
     ]
    }
   ],
   "source": [
    "def square(x):\n",
    "    return x ** 2\n",
    "numbers = [1, 2, 3, 4, 5]\n",
    "\n",
    "squared_numbers = map(square, numbers)\n",
    "\n",
    "squared_numbers_list = list(squared_numbers)\n",
    "\n",
    "print(\"Original list:\", numbers)\n",
    "print(\"Squared list:\", squared_numbers_list)"
   ]
  },
  {
   "cell_type": "code",
   "execution_count": 71,
   "id": "8013f753-4a4d-4c49-8791-925f1eb72e98",
   "metadata": {},
   "outputs": [],
   "source": [
    "#Built-in Functions-3"
   ]
  },
  {
   "cell_type": "code",
   "execution_count": 73,
   "id": "64c766ec-e23c-4e0d-904b-c41ecd256f38",
   "metadata": {},
   "outputs": [
    {
     "name": "stdout",
     "output_type": "stream",
     "text": [
      "Original list: [1, 2, 3, 4, 5, 6, 7, 8, 9, 10]\n",
      "Even numbers: [2, 4, 6, 8, 10]\n"
     ]
    }
   ],
   "source": [
    "#The filter() function in Python is used to filter elements of an iterable (such as a list) based on a specified condition.\n",
    "# It takes two arguments: a function that defines the condition and an iterable from which the elements are filtered.\n",
    "\n",
    "def is_even(num):\n",
    "    return num % 2 == 0\n",
    "\n",
    "numbers = [1, 2, 3, 4, 5, 6, 7, 8, 9, 10]\n",
    "\n",
    "even_numbers = filter(is_even, numbers)\n",
    "\n",
    "even_numbers_list = list(even_numbers)\n",
    "\n",
    "print(\"Original list:\", numbers)\n",
    "print(\"Even numbers:\", even_numbers_list)"
   ]
  },
  {
   "cell_type": "code",
   "execution_count": 74,
   "id": "9fd9897c-73c8-4f31-99ca-8aff4b99085e",
   "metadata": {},
   "outputs": [],
   "source": [
    "#Built-in Functions-4"
   ]
  },
  {
   "cell_type": "code",
   "execution_count": 75,
   "id": "036b5889-375c-456c-b853-362fbbf83b97",
   "metadata": {},
   "outputs": [
    {
     "name": "stdout",
     "output_type": "stream",
     "text": [
      "Product of all elements: 120\n"
     ]
    }
   ],
   "source": [
    "from functools import reduce\n",
    "\n",
    "def multiply(x, y):\n",
    "    return x * y\n",
    "\n",
    "numbers = [1, 2, 3, 4, 5]\n",
    "\n",
    "product = reduce(multiply, numbers)\n",
    "print(\"Product of all elements:\", product)"
   ]
  },
  {
   "cell_type": "code",
   "execution_count": 76,
   "id": "e797ae2b-141e-447d-ba9c-5eabf3d63427",
   "metadata": {},
   "outputs": [],
   "source": [
    "#Function Documentation and Best Practices-1"
   ]
  },
  {
   "cell_type": "code",
   "execution_count": 77,
   "id": "6f526a2d-66f1-47c2-a69b-d145acb4df7a",
   "metadata": {},
   "outputs": [],
   "source": [
    "#Docstrings (documentation strings) in Python are used to provide documentation for functions, \n",
    "# methods, classes, and modules. They serve the purpose of documenting the purpose,\n",
    "# usage, and parameters of the code, making it easier for developers to understand and use the code correctly."
   ]
  },
  {
   "cell_type": "code",
   "execution_count": 78,
   "id": "69046716-f576-4993-8727-f2898d2285d5",
   "metadata": {},
   "outputs": [],
   "source": [
    "#Function Documentation and Best Practices-2"
   ]
  },
  {
   "cell_type": "code",
   "execution_count": 79,
   "id": "02bebd54-8458-4836-ac65-856a6eb83d1d",
   "metadata": {},
   "outputs": [],
   "source": [
    "#1. Use Descriptive Names\n",
    "#2. Follow PEP 8\n",
    "#3. Use Verb-Noun Pairing for Functions\n",
    "#4. Avoid Single-Letter Variable Names\n",
    "#5. Use CamelCase for Classes"
   ]
  },
  {
   "cell_type": "code",
   "execution_count": null,
   "id": "d5c780ac-9d1b-433b-a61e-3fd9b2778a3e",
   "metadata": {},
   "outputs": [],
   "source": []
  }
 ],
 "metadata": {
  "kernelspec": {
   "display_name": "Python 3 (ipykernel)",
   "language": "python",
   "name": "python3"
  },
  "language_info": {
   "codemirror_mode": {
    "name": "ipython",
    "version": 3
   },
   "file_extension": ".py",
   "mimetype": "text/x-python",
   "name": "python",
   "nbconvert_exporter": "python",
   "pygments_lexer": "ipython3",
   "version": "3.8.0"
  }
 },
 "nbformat": 4,
 "nbformat_minor": 5
}
