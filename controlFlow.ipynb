{
 "cells": [
  {
   "cell_type": "code",
   "execution_count": 1,
   "id": "8a78c9be",
   "metadata": {},
   "outputs": [],
   "source": [
    "#Basic If-Else Statements-1"
   ]
  },
  {
   "cell_type": "code",
   "execution_count": 3,
   "id": "16aaa661",
   "metadata": {},
   "outputs": [
    {
     "name": "stdout",
     "output_type": "stream",
     "text": [
      "Number is negative\n"
     ]
    }
   ],
   "source": [
    "n = -25\n",
    "if n>0:\n",
    "    print(\"Number is positive\")\n",
    "else:\n",
    "    print(\"Number is negative\")"
   ]
  },
  {
   "cell_type": "code",
   "execution_count": 4,
   "id": "e4f12d2b",
   "metadata": {},
   "outputs": [],
   "source": [
    "#Basic If-Else Statements-2"
   ]
  },
  {
   "cell_type": "code",
   "execution_count": 5,
   "id": "6413bcd4",
   "metadata": {},
   "outputs": [
    {
     "name": "stdout",
     "output_type": "stream",
     "text": [
      "Person is eligible to vote\n"
     ]
    }
   ],
   "source": [
    "age = 25\n",
    "if age>18:\n",
    "    print(\"Person is eligible to vote\")\n",
    "else:\n",
    "    print(\"Person is not eligible to vote\")"
   ]
  },
  {
   "cell_type": "code",
   "execution_count": 6,
   "id": "973ca7c8",
   "metadata": {},
   "outputs": [],
   "source": [
    "#Basic If-Else Statements-3"
   ]
  },
  {
   "cell_type": "code",
   "execution_count": 7,
   "id": "3493cafa",
   "metadata": {},
   "outputs": [
    {
     "name": "stdout",
     "output_type": "stream",
     "text": [
      "b is greater\n"
     ]
    }
   ],
   "source": [
    "a,b = 19,26\n",
    "if a>b:\n",
    "    print(\"a is greater\")\n",
    "else:\n",
    "    print(\"b is greater\")"
   ]
  },
  {
   "cell_type": "code",
   "execution_count": 8,
   "id": "934fbed9",
   "metadata": {},
   "outputs": [],
   "source": [
    "#Basic If-Else Statements-4"
   ]
  },
  {
   "cell_type": "code",
   "execution_count": 10,
   "id": "f7b126d0",
   "metadata": {},
   "outputs": [
    {
     "name": "stdout",
     "output_type": "stream",
     "text": [
      "This year is not leap year\n"
     ]
    }
   ],
   "source": [
    "year = 1900\n",
    "if year%4==0 and year%400==0:\n",
    "    print(\"This year is leap year\")\n",
    "elif year%4==0 and year%100!=0:\n",
    "    print(\"This year is leap year\")\n",
    "else:\n",
    "    print(\"This year is not leap year\")"
   ]
  },
  {
   "cell_type": "code",
   "execution_count": 11,
   "id": "b16efae8",
   "metadata": {},
   "outputs": [],
   "source": [
    "#Basic If-Else Statements-5"
   ]
  },
  {
   "cell_type": "code",
   "execution_count": 14,
   "id": "05d2468b",
   "metadata": {},
   "outputs": [
    {
     "name": "stdout",
     "output_type": "stream",
     "text": [
      "This is consonent character\n"
     ]
    }
   ],
   "source": [
    "char = \"z\"\n",
    "vowel = [\"a\", \"e\", \"i\", \"o\", \"u\"]\n",
    "if char in vowel:\n",
    "    print(\"This is vowel character\")\n",
    "else:\n",
    "    print(\"This is consonent character\")"
   ]
  },
  {
   "cell_type": "code",
   "execution_count": 15,
   "id": "45999a8d",
   "metadata": {},
   "outputs": [],
   "source": [
    "#Basic If-Else Statements-6"
   ]
  },
  {
   "cell_type": "code",
   "execution_count": 16,
   "id": "24ab572f",
   "metadata": {},
   "outputs": [
    {
     "name": "stdout",
     "output_type": "stream",
     "text": [
      "The number is even\n"
     ]
    }
   ],
   "source": [
    "num = 24\n",
    "if num%2==0:\n",
    "    print(\"The number is even\")\n",
    "else:\n",
    "    print(\"The number is odd\")"
   ]
  },
  {
   "cell_type": "code",
   "execution_count": 17,
   "id": "c324d895",
   "metadata": {},
   "outputs": [],
   "source": [
    "#Basic If-Else Statements-7"
   ]
  },
  {
   "cell_type": "code",
   "execution_count": 22,
   "id": "f8c7a22a",
   "metadata": {},
   "outputs": [
    {
     "name": "stdout",
     "output_type": "stream",
     "text": [
      "25\n"
     ]
    }
   ],
   "source": [
    "a = -25\n",
    "if a<0:\n",
    "    print(-(a))"
   ]
  },
  {
   "cell_type": "code",
   "execution_count": 23,
   "id": "0d5ff5d8",
   "metadata": {},
   "outputs": [],
   "source": [
    "#Basic If-Else Statements-8"
   ]
  },
  {
   "cell_type": "code",
   "execution_count": 24,
   "id": "e2e3677f",
   "metadata": {},
   "outputs": [
    {
     "name": "stdout",
     "output_type": "stream",
     "text": [
      "54\n"
     ]
    }
   ],
   "source": [
    "a,b,c = 32,14,54\n",
    "if a>b and a>c:\n",
    "    print(a)\n",
    "elif b>a and b>c:\n",
    "    print(b)\n",
    "else:\n",
    "    print(c)"
   ]
  },
  {
   "cell_type": "code",
   "execution_count": 25,
   "id": "6b9abfc2",
   "metadata": {},
   "outputs": [],
   "source": [
    "#Basic If-Else Statements-9"
   ]
  },
  {
   "cell_type": "code",
   "execution_count": 29,
   "id": "97d224fa",
   "metadata": {},
   "outputs": [
    {
     "name": "stdout",
     "output_type": "stream",
     "text": [
      "This string is palindrome\n"
     ]
    }
   ],
   "source": [
    "string = \"madam\"\n",
    "if string==string[::-1]:\n",
    "    print(\"This string is palindrome\")\n",
    "else:\n",
    "    print(\"This string is not palindrome\")"
   ]
  },
  {
   "cell_type": "code",
   "execution_count": 30,
   "id": "004bc5aa",
   "metadata": {},
   "outputs": [],
   "source": [
    "#Basic If-Else Statements-10"
   ]
  },
  {
   "cell_type": "code",
   "execution_count": 4,
   "id": "1e63d64f",
   "metadata": {},
   "outputs": [
    {
     "name": "stdout",
     "output_type": "stream",
     "text": [
      "The grade is B+\n"
     ]
    }
   ],
   "source": [
    "score = 75\n",
    "if 90 <= score <= 100:\n",
    "    print(\"The grade is A+\")\n",
    "elif 80 <= score < 90:\n",
    "    print(\"The grade is A\")\n",
    "elif 70 <= score < 80:\n",
    "    print(\"The grade is B+\")\n",
    "elif 60 <= score < 70:\n",
    "    print(\"The grade is B\")\n",
    "elif 50 <= score < 60:\n",
    "    print(\"The grade is C+\")\n",
    "elif 33 <= score < 50:\n",
    "    print(\"The grade is C\")\n",
    "elif 0 <= score < 33:\n",
    "    print(\"The student is failed\")\n",
    "else:\n",
    "    print(\"Invalid score\")"
   ]
  },
  {
   "cell_type": "code",
   "execution_count": 33,
   "id": "d59739af",
   "metadata": {},
   "outputs": [],
   "source": [
    "#Nested If-Else Statements-11"
   ]
  },
  {
   "cell_type": "code",
   "execution_count": 27,
   "id": "2eb7e64f",
   "metadata": {},
   "outputs": [
    {
     "name": "stdout",
     "output_type": "stream",
     "text": [
      "321\n"
     ]
    }
   ],
   "source": [
    "a,b,c = 321,154,38\n",
    "\n",
    "if a>b:\n",
    "    if a>c:\n",
    "        print(a)\n",
    "    elif a<c:\n",
    "        print(c)\n",
    "elif b>a:\n",
    "    if b>c:\n",
    "        print(b)"
   ]
  },
  {
   "cell_type": "code",
   "execution_count": 7,
   "id": "c8e28e1d",
   "metadata": {},
   "outputs": [],
   "source": [
    "#Nested If-Else Statements-12"
   ]
  },
  {
   "cell_type": "code",
   "execution_count": 34,
   "id": "2879af0a",
   "metadata": {},
   "outputs": [
    {
     "name": "stdout",
     "output_type": "stream",
     "text": [
      "The triangle is Isosceles Triangle\n"
     ]
    }
   ],
   "source": [
    "a,b,c = 3,7,7\n",
    "if a==b:\n",
    "    if b==c:\n",
    "        print(\"The triangle is Equilateral Triangle\")\n",
    "    elif b!=c:\n",
    "        print(\"The triangle is Isosceles Triangle\")\n",
    "elif b==c:\n",
    "    if a==c:\n",
    "        print(\"The triangle is Equilateral Triangle\")\n",
    "    elif a!=c:\n",
    "        print(\"The triangle is Isosceles Triangle\")\n",
    "if a==c:\n",
    "    if b==c:\n",
    "        print(\"The triangle is Equilateral Triangle\")\n",
    "    elif b!=c:\n",
    "        print(\"The triangle is Isosceles Triangle\")\n",
    "elif a!=b:\n",
    "    if b!=c:\n",
    "        print(\"The triangle is scalene Triangle\")"
   ]
  },
  {
   "cell_type": "code",
   "execution_count": 16,
   "id": "926481fd",
   "metadata": {},
   "outputs": [],
   "source": [
    "#Nested If-Else Statements-13"
   ]
  },
  {
   "cell_type": "code",
   "execution_count": 8,
   "id": "ccf210a9",
   "metadata": {},
   "outputs": [
    {
     "name": "stdout",
     "output_type": "stream",
     "text": [
      "This year is a leap year but not a century\n"
     ]
    }
   ],
   "source": [
    "year = 2024\n",
    "\n",
    "if year % 4 == 0:\n",
    "    if year % 100 == 0:\n",
    "        if year % 400 == 0:\n",
    "            print(\"This year is a leap year and a century\")\n",
    "        else:\n",
    "            print(\"This year is not a leap year but a century\")\n",
    "    else:\n",
    "        print(\"This year is a leap year but not a century\")\n",
    "else:\n",
    "    print(\"This year is not a leap year nor a century\")"
   ]
  },
  {
   "cell_type": "code",
   "execution_count": 38,
   "id": "b7f0b144",
   "metadata": {},
   "outputs": [],
   "source": [
    "#Nested If-Else Statements-14"
   ]
  },
  {
   "cell_type": "code",
   "execution_count": 39,
   "id": "7ba019a7",
   "metadata": {},
   "outputs": [
    {
     "name": "stdout",
     "output_type": "stream",
     "text": [
      "Number is positive\n"
     ]
    }
   ],
   "source": [
    "num = 24\n",
    "if num>0:\n",
    "    print(\"Number is positive\")\n",
    "elif num<0:\n",
    "    print(\"Number is negative\")\n",
    "elif num==0:\n",
    "    print(\"Number is a zero\")"
   ]
  },
  {
   "cell_type": "code",
   "execution_count": 40,
   "id": "c7964ec6",
   "metadata": {},
   "outputs": [],
   "source": [
    "#Nested If-Else Statements-15"
   ]
  },
  {
   "cell_type": "code",
   "execution_count": 41,
   "id": "744e647c",
   "metadata": {},
   "outputs": [
    {
     "name": "stdout",
     "output_type": "stream",
     "text": [
      "This is a teenager\n"
     ]
    }
   ],
   "source": [
    "age = 15\n",
    "if age >=13 and age<=19:\n",
    "    print(\"This is a teenager\")"
   ]
  },
  {
   "cell_type": "code",
   "execution_count": 42,
   "id": "cdbcbb4a",
   "metadata": {},
   "outputs": [],
   "source": [
    "#Nested If-Else Statements-16"
   ]
  },
  {
   "cell_type": "code",
   "execution_count": 3,
   "id": "dfbfd420",
   "metadata": {},
   "outputs": [
    {
     "name": "stdout",
     "output_type": "stream",
     "text": [
      "This is an acute angle\n"
     ]
    }
   ],
   "source": [
    "angle = 60\n",
    "if angle<90 and angle>0:\n",
    "    print(\"This is an acute angle\")\n",
    "elif angle>90 and angle<180:\n",
    "    print(\"This is an obtuse angle\")\n",
    "elif angle==90:\n",
    "    print(\"This is a right angle\")"
   ]
  },
  {
   "cell_type": "code",
   "execution_count": 4,
   "id": "dc9acb17",
   "metadata": {},
   "outputs": [],
   "source": [
    "#Nested If-Else Statements-17"
   ]
  },
  {
   "cell_type": "code",
   "execution_count": 13,
   "id": "7e3642d0",
   "metadata": {},
   "outputs": [
    {
     "name": "stdout",
     "output_type": "stream",
     "text": [
      "The root1 is -2.0\n",
      "The root1 is -3.0\n"
     ]
    }
   ],
   "source": [
    "#suppose we have a quadratic quation x^2+5x+6=0 therefore,\n",
    "a, b, c = 1, 5, 6\n",
    "d = (5*5-4*1*6)**0.5\n",
    "root1 = (-(5)+d)/2*1\n",
    "root2 = (-(5)-d)/2*1\n",
    "print(\"The root1 is\",root1)\n",
    "print(\"The root1 is\",root2)"
   ]
  },
  {
   "cell_type": "code",
   "execution_count": 12,
   "id": "10a07475",
   "metadata": {},
   "outputs": [],
   "source": [
    "#Nested If-Else Statements-18"
   ]
  },
  {
   "cell_type": "code",
   "execution_count": 4,
   "id": "dc353df0",
   "metadata": {},
   "outputs": [
    {
     "name": "stdout",
     "output_type": "stream",
     "text": [
      "Enter number from 1 to 7: 5\n",
      "The day is friday\n"
     ]
    }
   ],
   "source": [
    "a = int(input(\"Enter number from 1 to 7: \"))\n",
    "if a==0:\n",
    "    print(\"The day is sunday\")\n",
    "elif a==1:\n",
    "    print(\"The day is monday\")\n",
    "elif a==2:\n",
    "    print(\"The day is tuesday\")\n",
    "elif a==3:\n",
    "    print(\"The day is wednesday\")\n",
    "elif a==4:\n",
    "    print(\"The day is thursday\")\n",
    "elif a==5:\n",
    "    print(\"The day is friday\")\n",
    "elif a==6:\n",
    "    print(\"The day is saturday\")\n",
    "else:\n",
    "    print(\"Invalid number\")"
   ]
  },
  {
   "cell_type": "code",
   "execution_count": 5,
   "id": "7a6420e5",
   "metadata": {},
   "outputs": [],
   "source": [
    "#Nested If-Else Statements-19"
   ]
  },
  {
   "cell_type": "code",
   "execution_count": 12,
   "id": "784ad418",
   "metadata": {},
   "outputs": [
    {
     "name": "stdout",
     "output_type": "stream",
     "text": [
      "This is leap year and divisible by 400\n"
     ]
    }
   ],
   "source": [
    "year = 2000\n",
    "\n",
    "if year % 4 == 0:\n",
    "    if year % 400 == 0:\n",
    "        print(\"This is leap year and divisible by 400\")\n",
    "    elif year % 100 != 0:\n",
    "        print(\"This year is leap year but not divisible by 400\")\n",
    "else:\n",
    "    print(\"This is not a leap year nor divisible by 400\")"
   ]
  },
  {
   "cell_type": "code",
   "execution_count": 13,
   "id": "896aa082",
   "metadata": {},
   "outputs": [],
   "source": [
    "#Nested If-Else Statements-20"
   ]
  },
  {
   "cell_type": "code",
   "execution_count": 22,
   "id": "7dbb6782",
   "metadata": {},
   "outputs": [
    {
     "name": "stdout",
     "output_type": "stream",
     "text": [
      "This is a prime number\n"
     ]
    }
   ],
   "source": [
    "num = 17\n",
    "a = [i for i in range(2,num+1) if i*i<=num]\n",
    "for i in a:\n",
    "    if num%i==0:\n",
    "        print(\"This is not a prime number\")\n",
    "        break\n",
    "else:\n",
    "    print(\"This is a prime number\")"
   ]
  },
  {
   "cell_type": "code",
   "execution_count": 23,
   "id": "9f400497",
   "metadata": {},
   "outputs": [],
   "source": [
    "#Elif Statements-21"
   ]
  },
  {
   "cell_type": "code",
   "execution_count": 24,
   "id": "9eaa8e4e",
   "metadata": {},
   "outputs": [
    {
     "name": "stdout",
     "output_type": "stream",
     "text": [
      "The grade is B\n"
     ]
    }
   ],
   "source": [
    "score = 60\n",
    "if 90 <= score <= 100:\n",
    "    print(\"The grade is A+\")\n",
    "elif 80 <= score < 90:\n",
    "    print(\"The grade is A\")\n",
    "elif 70 <= score < 80:\n",
    "    print(\"The grade is B+\")\n",
    "elif 60 <= score < 70:\n",
    "    print(\"The grade is B\")\n",
    "elif 50 <= score < 60:\n",
    "    print(\"The grade is C+\")\n",
    "elif 33 <= score < 50:\n",
    "    print(\"The grade is C\")\n",
    "elif 0 <= score < 33:\n",
    "    print(\"The student is failed\")\n",
    "else:\n",
    "    print(\"Invalid score\")"
   ]
  },
  {
   "cell_type": "code",
   "execution_count": 25,
   "id": "6eb17a5e",
   "metadata": {},
   "outputs": [],
   "source": [
    "#Elif Statements-22"
   ]
  },
  {
   "cell_type": "code",
   "execution_count": 26,
   "id": "aeb9522e",
   "metadata": {},
   "outputs": [
    {
     "name": "stdout",
     "output_type": "stream",
     "text": [
      "This triangle is an acute angle triangle\n"
     ]
    }
   ],
   "source": [
    "#if the maximum angle of triangle is angle\n",
    "angle = 60\n",
    "if angle<90 and angle>0:\n",
    "    print(\"This triangle is an acute angle triangle\")\n",
    "elif angle>90 and angle<180:\n",
    "    print(\"This triangle is an obtuse angle triangle\")\n",
    "elif angle==90:\n",
    "    print(\"This triangle is a right angle triangle\")"
   ]
  },
  {
   "cell_type": "code",
   "execution_count": 27,
   "id": "6bc8301c",
   "metadata": {},
   "outputs": [],
   "source": [
    "#Elif Statements-23"
   ]
  },
  {
   "cell_type": "code",
   "execution_count": 28,
   "id": "7484c741",
   "metadata": {},
   "outputs": [
    {
     "name": "stdout",
     "output_type": "stream",
     "text": [
      "The person is Overweight\n"
     ]
    }
   ],
   "source": [
    "BMI = 25\n",
    "if BMI<18.5 and BMI>0:\n",
    "    print(\"The person is Underweight\")\n",
    "elif BMI>18.5 and BMI<24.9:\n",
    "    print(\"The person is normalweight\")\n",
    "elif BMI>24.9 and BMI<29.9:\n",
    "    print(\"The person is Overweight\")\n",
    "elif BMI>29.9:\n",
    "    print(\"The person is Obese\")\n",
    "else:\n",
    "    print(\"Invalid number\")"
   ]
  },
  {
   "cell_type": "code",
   "execution_count": 29,
   "id": "cdce8065",
   "metadata": {},
   "outputs": [],
   "source": [
    "#Elif Statements-24"
   ]
  },
  {
   "cell_type": "code",
   "execution_count": 30,
   "id": "23310ca9",
   "metadata": {},
   "outputs": [
    {
     "name": "stdout",
     "output_type": "stream",
     "text": [
      "Number is negative\n"
     ]
    }
   ],
   "source": [
    "num = -24\n",
    "if num>0:\n",
    "    print(\"Number is positive\")\n",
    "elif num<0:\n",
    "    print(\"Number is negative\")\n",
    "elif num==0:\n",
    "    print(\"Number is a zero\")"
   ]
  },
  {
   "cell_type": "code",
   "execution_count": 31,
   "id": "841a64c4",
   "metadata": {},
   "outputs": [],
   "source": [
    "#Elif Statements-25"
   ]
  },
  {
   "cell_type": "code",
   "execution_count": 41,
   "id": "3ad96e9d",
   "metadata": {},
   "outputs": [
    {
     "name": "stdout",
     "output_type": "stream",
     "text": [
      "This is a special character\n"
     ]
    }
   ],
   "source": [
    "a = \"&\"\n",
    "\n",
    "if not a.isalnum():\n",
    "    print(\"This is a special character\")\n",
    "elif a.upper()==a:\n",
    "    print(\"The character is in uppercase\")\n",
    "elif a.lower()==a:\n",
    "    print(\"The character is in lowercase\")"
   ]
  },
  {
   "cell_type": "code",
   "execution_count": 42,
   "id": "4a6be5a8",
   "metadata": {},
   "outputs": [],
   "source": [
    "#Elif Statements-26"
   ]
  },
  {
   "cell_type": "code",
   "execution_count": 51,
   "id": "d383a873",
   "metadata": {},
   "outputs": [
    {
     "name": "stdout",
     "output_type": "stream",
     "text": [
      "Enter the quantity: 5\n",
      "The price is  1000\n"
     ]
    }
   ],
   "source": [
    "a = int(input(\"Enter the quantity: \"))\n",
    "price = 250    #price/piece\n",
    "if a==1:\n",
    "    print(\"The price is \",price)  #no discount\n",
    "elif a>=2 and a<=4:\n",
    "    print(\"The price is \",((price*90)//100)*a) #10% discount\n",
    "elif a>=5:\n",
    "    print(\"The price is \",((price*80)//100)*a) #20% discount\n",
    "else:\n",
    "    print(\"Invalid quantity\")"
   ]
  },
  {
   "cell_type": "code",
   "execution_count": 50,
   "id": "05d9efa4",
   "metadata": {},
   "outputs": [],
   "source": [
    "#Elif Statements-27"
   ]
  },
  {
   "cell_type": "code",
   "execution_count": 53,
   "id": "362e1ff7",
   "metadata": {},
   "outputs": [
    {
     "name": "stdout",
     "output_type": "stream",
     "text": [
      "Enter the Unit: 200\n",
      "The price is  1600\n"
     ]
    }
   ],
   "source": [
    "a = int(input(\"Enter the Unit: \"))\n",
    "price = 10\n",
    "if a>=500:\n",
    "    print(\"The price is \",price*a)  #no discount\n",
    "elif a>=300 and a<=500:\n",
    "    print(\"The price is \",((price*90)//100)*a) #10% discount\n",
    "elif a<300 and a>0:\n",
    "    print(\"The price is \",((price*80)//100)*a) #20% discount\n",
    "else:\n",
    "    print(\"Invalid Unit\")"
   ]
  },
  {
   "cell_type": "code",
   "execution_count": 54,
   "id": "b8653de4",
   "metadata": {},
   "outputs": [],
   "source": [
    "#Elif Statements-28"
   ]
  },
  {
   "cell_type": "code",
   "execution_count": 1,
   "id": "f76171e5",
   "metadata": {},
   "outputs": [
    {
     "name": "stdout",
     "output_type": "stream",
     "text": [
      "The quadrilateral is square\n"
     ]
    }
   ],
   "source": [
    "a,b,c,d = 90,90,90,90\n",
    "e,f,g,h = 10,10,10,10\n",
    "if a==b==c==d and e==f==g==h:\n",
    "    print(\"The quadrilateral is square\")\n",
    "elif a==c and b==d and e==f==g==h:\n",
    "    print(\"The quadrilateral is rectangle\")\n",
    "elif e==g and f==h and a==b==c==d:\n",
    "    print(\"The quadrilateral is Rhombus\")\n",
    "else:\n",
    "    print(\"The is any other type of quadrilateral\")"
   ]
  },
  {
   "cell_type": "code",
   "execution_count": 2,
   "id": "46c4c150",
   "metadata": {},
   "outputs": [],
   "source": [
    "#Elif Statements-29"
   ]
  },
  {
   "cell_type": "code",
   "execution_count": 3,
   "id": "7b29c983",
   "metadata": {},
   "outputs": [
    {
     "name": "stdout",
     "output_type": "stream",
     "text": [
      "This is winter season\n"
     ]
    }
   ],
   "source": [
    "month = \"January\"\n",
    "if month==\"December\" or month==\"January\" or month==\"February\":\n",
    "    print(\"This is winter season\")\n",
    "elif month==\"March\" or month==\"April\" or month==\"May\":\n",
    "    print(\"This is spring season\")\n",
    "elif month==\"June\" or month==\"July\" or month==\"August\" or month==\"September\":\n",
    "    print(\"This is Summer season\")\n",
    "elif month==\"October\" or month==\"Nevember\":\n",
    "    print(\"This is Autumn season\")\n",
    "else:\n",
    "    print(\"Please enter valid month name\")"
   ]
  },
  {
   "cell_type": "code",
   "execution_count": 4,
   "id": "d7f6b395",
   "metadata": {},
   "outputs": [],
   "source": [
    "#Elif Statements-30"
   ]
  },
  {
   "cell_type": "code",
   "execution_count": 7,
   "id": "1c9a8802",
   "metadata": {},
   "outputs": [
    {
     "name": "stdout",
     "output_type": "stream",
     "text": [
      "This year is leap year\n"
     ]
    }
   ],
   "source": [
    "year = 1720\n",
    "if year%4==0 and year%400==0:\n",
    "    print(\"This year is leap year\")\n",
    "elif year%4==0 and year%100!=0:\n",
    "    print(\"This year is leap year\")\n",
    "else:\n",
    "    print(\"This year is not leap year\")"
   ]
  },
  {
   "cell_type": "code",
   "execution_count": 8,
   "id": "c21956e4",
   "metadata": {},
   "outputs": [],
   "source": [
    "#Basic Level-1"
   ]
  },
  {
   "cell_type": "code",
   "execution_count": null,
   "id": "a551be66",
   "metadata": {},
   "outputs": [],
   "source": [
    "num = 24\n",
    "if num>0:\n",
    "    print(\"Number is positive\")\n",
    "elif num<0:\n",
    "    print(\"Number is negative\")\n",
    "elif num==0:\n",
    "    print(\"Number is a zero\")"
   ]
  },
  {
   "cell_type": "code",
   "execution_count": 9,
   "id": "abd0ec6d",
   "metadata": {},
   "outputs": [],
   "source": [
    "#Basic Level-2"
   ]
  },
  {
   "cell_type": "code",
   "execution_count": 10,
   "id": "5e4ea0d5",
   "metadata": {},
   "outputs": [
    {
     "name": "stdout",
     "output_type": "stream",
     "text": [
      "Person is eligible to vote\n"
     ]
    }
   ],
   "source": [
    "age = 25\n",
    "if age>18:\n",
    "    print(\"Person is eligible to vote\")\n",
    "else:\n",
    "    print(\"Person is not eligible to vote\")"
   ]
  },
  {
   "cell_type": "code",
   "execution_count": 11,
   "id": "af323ba0",
   "metadata": {},
   "outputs": [],
   "source": [
    "#Basic Level-3"
   ]
  },
  {
   "cell_type": "code",
   "execution_count": 12,
   "id": "0f520c54",
   "metadata": {},
   "outputs": [
    {
     "name": "stdout",
     "output_type": "stream",
     "text": [
      "56 is maximum\n"
     ]
    }
   ],
   "source": [
    "a,b=21,56\n",
    "if a>b:\n",
    "    print(a,\"is maximum\")\n",
    "else:\n",
    "    print(b,\"is maximum\")"
   ]
  },
  {
   "cell_type": "code",
   "execution_count": 13,
   "id": "66f18100",
   "metadata": {},
   "outputs": [],
   "source": [
    "#Basic Level-4"
   ]
  },
  {
   "cell_type": "code",
   "execution_count": 14,
   "id": "d2b345c4",
   "metadata": {},
   "outputs": [
    {
     "name": "stdout",
     "output_type": "stream",
     "text": [
      "The grade is B\n"
     ]
    }
   ],
   "source": [
    "score = 60\n",
    "if 90 <= score <= 100:\n",
    "    print(\"The grade is A+\")\n",
    "elif 80 <= score < 90:\n",
    "    print(\"The grade is A\")\n",
    "elif 70 <= score < 80:\n",
    "    print(\"The grade is B+\")\n",
    "elif 60 <= score < 70:\n",
    "    print(\"The grade is B\")\n",
    "elif 50 <= score < 60:\n",
    "    print(\"The grade is C+\")\n",
    "elif 33 <= score < 50:\n",
    "    print(\"The grade is C\")\n",
    "elif 0 <= score < 33:\n",
    "    print(\"The student is failed\")\n",
    "else:\n",
    "    print(\"Invalid score\")"
   ]
  },
  {
   "cell_type": "code",
   "execution_count": 15,
   "id": "711fae98",
   "metadata": {},
   "outputs": [],
   "source": [
    "#Basic Level-5"
   ]
  },
  {
   "cell_type": "code",
   "execution_count": 17,
   "id": "e769d4b4",
   "metadata": {},
   "outputs": [
    {
     "name": "stdout",
     "output_type": "stream",
     "text": [
      "This year is leap year\n"
     ]
    }
   ],
   "source": [
    "year = 1820\n",
    "if year%4==0 and year%400==0:\n",
    "    print(\"This year is leap year\")\n",
    "elif year%4==0 and year%100!=0:\n",
    "    print(\"This year is leap year\")\n",
    "else:\n",
    "    print(\"This year is not leap year\")"
   ]
  },
  {
   "cell_type": "code",
   "execution_count": 18,
   "id": "6bac2037",
   "metadata": {},
   "outputs": [],
   "source": [
    "#Basic Level-6"
   ]
  },
  {
   "cell_type": "code",
   "execution_count": 19,
   "id": "903b6a4c",
   "metadata": {},
   "outputs": [
    {
     "name": "stdout",
     "output_type": "stream",
     "text": [
      "This is eqilateral triangle\n"
     ]
    }
   ],
   "source": [
    "a,b,c = 10,10,10\n",
    "if a==b==c:\n",
    "    print(\"This is eqilateral triangle\")\n",
    "elif a==c or b==c or a==b:\n",
    "    print(\"This is isosceles triangle\")\n",
    "else:\n",
    "    print(\"This is Scalene Triangle\")"
   ]
  },
  {
   "cell_type": "code",
   "execution_count": 20,
   "id": "286de326",
   "metadata": {},
   "outputs": [],
   "source": [
    "#Basic Level-7"
   ]
  },
  {
   "cell_type": "code",
   "execution_count": 21,
   "id": "4e48e9e7",
   "metadata": {},
   "outputs": [
    {
     "name": "stdout",
     "output_type": "stream",
     "text": [
      "312\n"
     ]
    }
   ],
   "source": [
    "a = [22, 4, 312]\n",
    "print(max(a))"
   ]
  },
  {
   "cell_type": "code",
   "execution_count": 22,
   "id": "9ae5050a",
   "metadata": {},
   "outputs": [],
   "source": [
    "#Basic Level-8"
   ]
  },
  {
   "cell_type": "code",
   "execution_count": 23,
   "id": "186dcabd",
   "metadata": {},
   "outputs": [
    {
     "name": "stdout",
     "output_type": "stream",
     "text": [
      "Character is vowel\n"
     ]
    }
   ],
   "source": [
    "char = \"i\"\n",
    "vowel = [\"a\",\"e\",\"i\",\"o\",\"u\"]\n",
    "if char in vowel:\n",
    "    print(\"Character is vowel\")\n",
    "else:\n",
    "    print(\"Character is Consonant\")"
   ]
  },
  {
   "cell_type": "code",
   "execution_count": 24,
   "id": "e4332ee1",
   "metadata": {},
   "outputs": [],
   "source": [
    "#Basic Level-9"
   ]
  },
  {
   "cell_type": "code",
   "execution_count": 27,
   "id": "470d356f",
   "metadata": {},
   "outputs": [
    {
     "name": "stdout",
     "output_type": "stream",
     "text": [
      "Enter the quantity: 13\n",
      "The price is  2600 after 20% discount\n"
     ]
    }
   ],
   "source": [
    "a = int(input(\"Enter the quantity: \"))\n",
    "price = 250    #price/piece\n",
    "if a==1:\n",
    "    print(\"The price is \",price)  #no discount\n",
    "elif a>=2 and a<=4:\n",
    "    print(\"The price is \",((price*90)//100)*a,\"after 10% discount\") #10% discount\n",
    "elif a>=5:\n",
    "    print(\"The price is \",((price*80)//100)*a,\"after 20% discount\") #20% discount\n",
    "else:\n",
    "    print(\"Invalid quantity\")"
   ]
  },
  {
   "cell_type": "code",
   "execution_count": 26,
   "id": "2450e084",
   "metadata": {},
   "outputs": [],
   "source": [
    "#Basic Level-10"
   ]
  },
  {
   "cell_type": "code",
   "execution_count": 28,
   "id": "e5cb85d9",
   "metadata": {},
   "outputs": [
    {
     "name": "stdout",
     "output_type": "stream",
     "text": [
      "The number is even\n"
     ]
    }
   ],
   "source": [
    "a = 46\n",
    "if a%2==0:\n",
    "    print(\"The number is even\")\n",
    "else:\n",
    "    print(\"The number is odd\")"
   ]
  },
  {
   "cell_type": "code",
   "execution_count": 29,
   "id": "41ff7026",
   "metadata": {},
   "outputs": [],
   "source": [
    "#Intermediate Level-11"
   ]
  },
  {
   "cell_type": "code",
   "execution_count": 30,
   "id": "26eebcae",
   "metadata": {},
   "outputs": [
    {
     "name": "stdout",
     "output_type": "stream",
     "text": [
      "The root1 is -2.0\n",
      "The root1 is -3.0\n"
     ]
    }
   ],
   "source": [
    "#suppose we have a quadratic quation x^2+5x+6=0 therefore,\n",
    "a, b, c = 1, 5, 6\n",
    "d = (5*5-4*1*6)**0.5\n",
    "root1 = (-(5)+d)/2*1\n",
    "root2 = (-(5)-d)/2*1\n",
    "print(\"The root1 is\",root1)\n",
    "print(\"The root1 is\",root2)"
   ]
  },
  {
   "cell_type": "code",
   "execution_count": 31,
   "id": "fbdc99cd",
   "metadata": {},
   "outputs": [],
   "source": [
    "#Intermediate Level-12"
   ]
  },
  {
   "cell_type": "code",
   "execution_count": 34,
   "id": "cbb898fa",
   "metadata": {},
   "outputs": [
    {
     "name": "stdout",
     "output_type": "stream",
     "text": [
      "Enter number from 1 to 7: 3\n",
      "The day is tuesday\n"
     ]
    }
   ],
   "source": [
    "a = int(input(\"Enter number from 1 to 7: \"))\n",
    "if a==1:\n",
    "    print(\"The day is sunday\")\n",
    "elif a==2:\n",
    "    print(\"The day is monday\")\n",
    "elif a==3:\n",
    "    print(\"The day is tuesday\")\n",
    "elif a==4:\n",
    "    print(\"The day is wednesday\")\n",
    "elif a==5:\n",
    "    print(\"The day is thursday\")\n",
    "elif a==6:\n",
    "    print(\"The day is friday\")\n",
    "elif a==7:\n",
    "    print(\"The day is saturday\")\n",
    "else:\n",
    "    print(\"Invalid number\")"
   ]
  },
  {
   "cell_type": "code",
   "execution_count": 33,
   "id": "a0ead696",
   "metadata": {},
   "outputs": [],
   "source": [
    "#Intermediate Level-13"
   ]
  },
  {
   "cell_type": "code",
   "execution_count": 39,
   "id": "2bc00332",
   "metadata": {},
   "outputs": [
    {
     "name": "stdout",
     "output_type": "stream",
     "text": [
      "120\n"
     ]
    }
   ],
   "source": [
    "def fact_rec(a):\n",
    "    if a==0:\n",
    "        return 1\n",
    "    else:\n",
    "        return a*fact_rec(a-1)\n",
    "b = fact_rec(5)\n",
    "print(b)"
   ]
  },
  {
   "cell_type": "code",
   "execution_count": 40,
   "id": "59eb9d4c",
   "metadata": {},
   "outputs": [],
   "source": [
    "#Intermediate Level-14"
   ]
  },
  {
   "cell_type": "code",
   "execution_count": 41,
   "id": "19641245",
   "metadata": {},
   "outputs": [
    {
     "name": "stdout",
     "output_type": "stream",
     "text": [
      "65\n"
     ]
    }
   ],
   "source": [
    "l = [23,65,44]\n",
    "a = 0\n",
    "for i in l:\n",
    "    if i>a:\n",
    "        a=i\n",
    "print(a)"
   ]
  },
  {
   "cell_type": "code",
   "execution_count": 42,
   "id": "5b72592f",
   "metadata": {},
   "outputs": [],
   "source": [
    "#Intermediate Level-15"
   ]
  },
  {
   "cell_type": "code",
   "execution_count": 1,
   "id": "f97f2698",
   "metadata": {},
   "outputs": [
    {
     "name": "stdout",
     "output_type": "stream",
     "text": [
      "Enter 1 to check balance\n",
      "Enter 2 to withdraw\n",
      "Enter 3 to deposite\n",
      "\n",
      "1\n",
      "Your balance is 1000\n"
     ]
    }
   ],
   "source": [
    "a = int(input(\"\"\"Enter 1 to check balance\n",
    "Enter 2 to withdraw\n",
    "Enter 3 to deposite\n",
    "\n",
    "\"\"\"))\n",
    "balance = 1000\n",
    "if a==1:\n",
    "    print(\"Your balance is\",balance)\n",
    "elif a==2:\n",
    "    b = int(input(\"Enter the amount\"))\n",
    "    if b>0:\n",
    "        balance-=b\n",
    "        print(\"Your balance is\",balance)\n",
    "elif a==3:\n",
    "    b = int(input(\"Enter the amount\"))\n",
    "    if b>0:\n",
    "        balance+=b\n",
    "        print(\"Your balance is\",balance)\n",
    "else:\n",
    "    print(\"Enter valid number\")"
   ]
  },
  {
   "cell_type": "code",
   "execution_count": 2,
   "id": "7e70db45",
   "metadata": {},
   "outputs": [],
   "source": [
    "#Intermediate Level-16"
   ]
  },
  {
   "cell_type": "code",
   "execution_count": 3,
   "id": "a50adf7b",
   "metadata": {},
   "outputs": [
    {
     "name": "stdout",
     "output_type": "stream",
     "text": [
      "The string is palindrome\n"
     ]
    }
   ],
   "source": [
    "a = \"madam\"\n",
    "if a==a[::-1]:\n",
    "    print(\"The string is palindrome\")\n",
    "else:\n",
    "    print(\"The string is not palindrome\")"
   ]
  },
  {
   "cell_type": "code",
   "execution_count": 4,
   "id": "92cb7ddb",
   "metadata": {},
   "outputs": [],
   "source": [
    "#Intermediate Level-17"
   ]
  },
  {
   "cell_type": "code",
   "execution_count": 7,
   "id": "5c4076bc",
   "metadata": {},
   "outputs": [
    {
     "name": "stdout",
     "output_type": "stream",
     "text": [
      "11\n"
     ]
    }
   ],
   "source": [
    "a = [32, 4, 7, 8, 36, 4, 2]\n",
    "b = 0\n",
    "for i in a:\n",
    "    if max(a)!=i and min(a)!=i:\n",
    "        b+=i\n",
    "c = b//(len(a)-2)\n",
    "print(c)"
   ]
  },
  {
   "cell_type": "code",
   "execution_count": 8,
   "id": "2a64969a",
   "metadata": {},
   "outputs": [],
   "source": [
    "#Intermediate Level-18"
   ]
  },
  {
   "cell_type": "code",
   "execution_count": 1,
   "id": "2c530514",
   "metadata": {},
   "outputs": [
    {
     "name": "stdout",
     "output_type": "stream",
     "text": [
      "Enter temperature in Celsius: 36\n",
      "Fahrenheit temperature is : 96.8\n"
     ]
    }
   ],
   "source": [
    "c_temp = float(input(\"Enter temperature in Celsius: \"))\n",
    "f_temp = (c_temp * 9/5) + 32\n",
    "print(\"Fahrenheit temperature is :\", f_temp)"
   ]
  },
  {
   "cell_type": "code",
   "execution_count": 2,
   "id": "dd374079",
   "metadata": {},
   "outputs": [],
   "source": [
    "#Intermediate Level-19"
   ]
  },
  {
   "cell_type": "code",
   "execution_count": 5,
   "id": "30bb5fad",
   "metadata": {},
   "outputs": [
    {
     "name": "stdout",
     "output_type": "stream",
     "text": [
      "Enter 1 for addition\n",
      "Enter 2 for substraction\n",
      "Enter 3 for multiplication\n",
      "Enter 4 for division\n",
      "\n",
      "2\n",
      "Enter first number20\n",
      "Enter second number25\n",
      "-5\n"
     ]
    }
   ],
   "source": [
    "a = int(input(\"\"\"Enter 1 for addition\n",
    "Enter 2 for substraction\n",
    "Enter 3 for multiplication\n",
    "Enter 4 for division\n",
    "\n",
    "\"\"\"))\n",
    "if a==1:\n",
    "    b=int(input(\"Enter first number\"))\n",
    "    c=int(input(\"Enter second number\"))\n",
    "    print(b+c)\n",
    "elif a==2:\n",
    "    b=int(input(\"Enter first number\"))\n",
    "    c=int(input(\"Enter second number\"))\n",
    "    print(b-c)\n",
    "elif a==3:\n",
    "    b=int(input(\"Enter first number\"))\n",
    "    c=int(input(\"Enter second number\"))\n",
    "    print(b*c)\n",
    "elif a==4:\n",
    "    b=int(input(\"Enter first number\"))\n",
    "    c=int(input(\"Enter second number\"))\n",
    "    print(b/c)\n",
    "else:\n",
    "    print(\"Enter valid number\")"
   ]
  },
  {
   "cell_type": "code",
   "execution_count": 6,
   "id": "3dd7c2d3",
   "metadata": {},
   "outputs": [],
   "source": [
    "#Intermediate Level-20"
   ]
  },
  {
   "cell_type": "code",
   "execution_count": 13,
   "id": "ed72fd3c",
   "metadata": {},
   "outputs": [
    {
     "name": "stdout",
     "output_type": "stream",
     "text": [
      "first root (1.084073504177319+1.8776703883743477j) second root (-1.748989346656237-0.24200078881446552j) Third root (0.6649158424789179-1.6356695995598822j)\n"
     ]
    }
   ],
   "source": [
    "a,b,c,d=2,-11,17,7\n",
    "p = (3 * a * c - b**2) / (3 * a**2)\n",
    "q = (2 * b**3 - 9 * a * b * c + 27 * a**2 * d) / (27 * a**3)\n",
    "D = q**2 / 4 + p**3 / 27\n",
    "\n",
    "if D > 0:\n",
    "        u = (-q/2 + D**0.5)**(1/3)\n",
    "        v = (-q/2 - D**0.5)**(1/3)\n",
    "        real_root = u + v\n",
    "        complex_root1 = -(u + v) / 2 + (u - v) * (3**0.5) / 2j\n",
    "        complex_root2 = -(u + v) / 2 - (u - v) * (3**0.5) / 2j\n",
    "        print(\"first root\",real_root,\"second root\",complex_root1,\"Third root\",complex_root2)\n",
    "elif D == 0:\n",
    "    u = (-q/2)**(1/3)\n",
    "    v = (-q/2)**(1/3)\n",
    "    real_root = 2 * u\n",
    "    print(\"first root\",real_root,\"second root\",real_root,\"Third root\",-(u+v))\n",
    "else:\n",
    "    u = ((-q/2 + D**0.5)**(1/3)).real\n",
    "    v = ((-q/2 - D**0.5)**(1/3)).real\n",
    "    root1 = u + v\n",
    "    root2 = -(u + v) / 2\n",
    "    root3 = -(u + v) / 2\n",
    "    print(\"first root\",root1,\"second root\",root2,\"Third root\",root3)"
   ]
  },
  {
   "cell_type": "code",
   "execution_count": 1,
   "id": "890f35cc",
   "metadata": {},
   "outputs": [],
   "source": [
    "#Advanced Level-21"
   ]
  },
  {
   "cell_type": "code",
   "execution_count": 2,
   "id": "d68ddb49",
   "metadata": {},
   "outputs": [
    {
     "name": "stdout",
     "output_type": "stream",
     "text": [
      "Your tax is 12500.0\n"
     ]
    }
   ],
   "source": [
    "income = 500000   #per anum\n",
    "if income <= 250000:\n",
    "    print(\"No tax\")\n",
    "elif income<=500000 and income>250000:\n",
    "    taxableAm = income-250000\n",
    "    tax = (taxableAm*5)/100\n",
    "    print(\"Your tax is\",tax)\n",
    "elif income<=100000 and income>500000:\n",
    "    taxableAm = income-250000\n",
    "    tax = (taxableAm*20)/100\n",
    "    print(\"Your tax is\",tax)\n",
    "elif income>100000:\n",
    "    taxableAm = income-250000\n",
    "    tax = (taxableAm*30)/100\n",
    "    print(\"Your tax is\",tax)\n",
    "else:\n",
    "    print(\"Plese add valid number\")"
   ]
  },
  {
   "cell_type": "code",
   "execution_count": 3,
   "id": "428066a5",
   "metadata": {},
   "outputs": [],
   "source": [
    "#Advanced Level-22"
   ]
  },
  {
   "cell_type": "code",
   "execution_count": 12,
   "id": "43b5e7a0",
   "metadata": {},
   "outputs": [
    {
     "name": "stdout",
     "output_type": "stream",
     "text": [
      "Enter your choice: rock\n",
      "It's a tie!\n"
     ]
    }
   ],
   "source": [
    "import random\n",
    "user_choice = input(\"Enter your choice: \")\n",
    "choices = ['rock', 'paper', 'scissors']\n",
    "computer_choice = random.choice(choices)\n",
    "if user_choice == computer_choice:\n",
    "        print(\"It's a tie!\")\n",
    "elif (\n",
    "        (user_choice == 'rock' and computer_choice == 'scissors') or\n",
    "        (user_choice == 'paper' and computer_choice == 'rock') or\n",
    "        (user_choice == 'scissors' and computer_choice == 'paper')\n",
    "    ):\n",
    "    print(\"You win!\")\n",
    "else:\n",
    "    print(\"Computer wins!\")"
   ]
  },
  {
   "cell_type": "code",
   "execution_count": 8,
   "id": "50c553d0",
   "metadata": {},
   "outputs": [],
   "source": [
    "#Advanced Level-23"
   ]
  },
  {
   "cell_type": "code",
   "execution_count": 16,
   "id": "8301b652",
   "metadata": {},
   "outputs": [
    {
     "name": "stdout",
     "output_type": "stream",
     "text": [
      "Wr9#\n"
     ]
    }
   ],
   "source": [
    "import random\n",
    "import string\n",
    "\n",
    "#conditions= atleast one upper alphbet, one lower alphabet, one special char and one number \n",
    "\n",
    "num = [i for i in range(1,10)]\n",
    "spe_char = [\",\",\".\",\"@\",\"#\",\"$\",\"&\",\"%\"]\n",
    "sm_alpha = list(string.ascii_lowercase)\n",
    "up_alpha = list(string.ascii_uppercase)\n",
    "password = random.choice(up_alpha)+random.choice(sm_alpha)+str(random.choice(num))+random.choice(spe_char)\n",
    "print(password)"
   ]
  },
  {
   "cell_type": "code",
   "execution_count": 17,
   "id": "85f14f31",
   "metadata": {},
   "outputs": [],
   "source": [
    "#Advanced Level-24"
   ]
  },
  {
   "cell_type": "code",
   "execution_count": 2,
   "id": "d9f0f63d",
   "metadata": {},
   "outputs": [
    {
     "name": "stdout",
     "output_type": "stream",
     "text": [
      "You have two path enter 1 to go left or 2 to go right: 1\n",
      "You came across a river enter 1 to swim or enter 2 to search for a bridge 1\n",
      "You came across a crocodile, GAME OVER\n"
     ]
    }
   ],
   "source": [
    "#Lets start a treasure hunting game\n",
    "a = input(\"You have two path enter 1 to go left or 2 to go right: \")\n",
    "if a==str(1):\n",
    "    b =input(\"You came across a river enter 1 to swim or enter 2 to search for a bridge \")\n",
    "    if b==str(1):\n",
    "        print(\"You came across a crocodile, GAME OVER\")\n",
    "    elif b==str(2):\n",
    "        print(\"You find a bridge, You cross the river and You find treasure, YOU WIN\")\n",
    "    else:\n",
    "        print(\"Enter valid number\")\n",
    "elif a==str(2):\n",
    "    c = input(\"You came across a cave enter 1 to go into the cave or 2 to go beside the cave\")\n",
    "    if c==str(1):\n",
    "        print(\"You went inside the cave you find a dragon, GAME OVER\")\n",
    "    elif c==str(2):\n",
    "        print(\"You kept searching, You find the treasure, YOU WIN\")\n",
    "    else:\n",
    "        print(\"Enter valid number\")"
   ]
  },
  {
   "cell_type": "code",
   "execution_count": 1,
   "id": "6120f0ea",
   "metadata": {},
   "outputs": [],
   "source": [
    "#Advanced Level-25"
   ]
  },
  {
   "cell_type": "code",
   "execution_count": 3,
   "id": "f184d939",
   "metadata": {},
   "outputs": [
    {
     "name": "stdout",
     "output_type": "stream",
     "text": [
      "Enter the component 'a'5\n",
      "Enter the component 'b'10\n",
      "The value of x is  -2.0\n"
     ]
    }
   ],
   "source": [
    "a = int(input(\"Enter the component 'a'\"))\n",
    "b = int(input(\"Enter the component 'b'\"))\n",
    "if b<0:\n",
    "    b=abs(b)\n",
    "    x=b/a\n",
    "    print(\"The value of x is \",x)\n",
    "else:\n",
    "    b=-b\n",
    "    x=b/a\n",
    "    print(\"The value of x is \",x)"
   ]
  },
  {
   "cell_type": "code",
   "execution_count": 4,
   "id": "e34889a9",
   "metadata": {},
   "outputs": [],
   "source": [
    "#Advanced Level-26"
   ]
  },
  {
   "cell_type": "code",
   "execution_count": 11,
   "id": "77d392ca",
   "metadata": {},
   "outputs": [
    {
     "name": "stdout",
     "output_type": "stream",
     "text": [
      "1- What is the capital of India\n",
      "A- Delhi\n",
      "B- Mumbai\n",
      "C- Kolkata\n",
      "D- Goa\n",
      "A\n",
      "Answer is correct\n"
     ]
    }
   ],
   "source": [
    "l = [\"Delhi\", \"Ayodhya\", \"USA\"]\n",
    "op1 = {\"A\":\"Delhi\",\"B\":\"Mumbai\",\"C\":\"Kolkata\",\"D\":\"Goa\"}\n",
    "a = input(f\"\"\"1- What is the capital of India\n",
    "A- {op1[\"A\"]}\n",
    "B- {op1[\"B\"]}\n",
    "C- {op1[\"C\"]}\n",
    "D- {op1[\"D\"]}\n",
    "\"\"\")\n",
    "if op1[a] in l:\n",
    "    print(\"Answer is correct\")"
   ]
  },
  {
   "cell_type": "code",
   "execution_count": 12,
   "id": "1374cea1",
   "metadata": {},
   "outputs": [],
   "source": [
    "#Advanced Level-27"
   ]
  },
  {
   "cell_type": "code",
   "execution_count": 7,
   "id": "baca9e41",
   "metadata": {},
   "outputs": [
    {
     "name": "stdout",
     "output_type": "stream",
     "text": [
      "The year is prime\n"
     ]
    }
   ],
   "source": [
    "year = 2017\n",
    "l = []\n",
    "for j in range (2,year):\n",
    "    if j*j<year:\n",
    "        l.append(j)\n",
    "flag = False\n",
    "for i in l:\n",
    "    if year%i==0:\n",
    "        flag = True\n",
    "if flag==False:\n",
    "    print(\"The year is prime\")\n",
    "else:\n",
    "    print(\"The year is not prime\")"
   ]
  },
  {
   "cell_type": "code",
   "execution_count": 8,
   "id": "885f3125",
   "metadata": {},
   "outputs": [],
   "source": [
    "#Advanced Level-28"
   ]
  },
  {
   "cell_type": "code",
   "execution_count": 12,
   "id": "f01113eb",
   "metadata": {},
   "outputs": [
    {
     "name": "stdout",
     "output_type": "stream",
     "text": [
      "[56, 20, 12]\n"
     ]
    }
   ],
   "source": [
    "a,b,c = 20,12,56\n",
    "acs = []\n",
    "if a==max(a,b,c):\n",
    "    if a>b and b>c:\n",
    "        acs.append(a)\n",
    "        acs.append(b)\n",
    "        acs.append(c)\n",
    "    elif a>b and c>b:\n",
    "        acs.append(a)\n",
    "        acs.append(c)\n",
    "        acs.append(b)\n",
    "elif b==max(a,b,c):\n",
    "    if b>a and a>c:\n",
    "        acs.append(b)\n",
    "        acs.append(a)\n",
    "        acs.append(c)\n",
    "    elif b>a and c>a:\n",
    "        acs.append(b)\n",
    "        acs.append(c)\n",
    "        acs.append(a)\n",
    "elif c==max(a,b,c):\n",
    "    if c>a and a>b:\n",
    "        acs.append(c)\n",
    "        acs.append(a)\n",
    "        acs.append(b)\n",
    "    elif c>a and b>a:\n",
    "        acs.append(c)\n",
    "        acs.append(b)\n",
    "        acs.append(a)\n",
    "print(acs)"
   ]
  },
  {
   "cell_type": "code",
   "execution_count": 13,
   "id": "7d0240c3",
   "metadata": {},
   "outputs": [],
   "source": [
    "#Advanced Level-29"
   ]
  },
  {
   "cell_type": "code",
   "execution_count": 19,
   "id": "7a0e2aa2",
   "metadata": {},
   "outputs": [
    {
     "name": "stdout",
     "output_type": "stream",
     "text": [
      "Requirement already satisfied: numpy in /usr/local/lib64/python3.6/site-packages (1.19.5)\n",
      "\u001b[33mWARNING: Running pip as the 'root' user can result in broken permissions and conflicting behaviour with the system package manager. It is recommended to use a virtual environment instead: https://pip.pypa.io/warnings/venv\u001b[0m\n",
      "Roots of the quartic equation:\n",
      "-4.3352201544437765\n",
      "2.4801226567003454\n",
      "-1.4089489948160463\n",
      "0.2640464925594723\n"
     ]
    }
   ],
   "source": [
    "!pip install numpy \n",
    "import numpy as np\n",
    "\n",
    "# Define the components\n",
    "a = 1\n",
    "b = 3\n",
    "c = -9\n",
    "d = -13\n",
    "e = 4\n",
    "\n",
    "comp = [a, b, c, d, e]\n",
    "\n",
    "roots = np.roots(comp)\n",
    "\n",
    "print(\"Roots of the quartic equation:\")\n",
    "for root in roots:\n",
    "    print(root)"
   ]
  },
  {
   "cell_type": "code",
   "execution_count": 20,
   "id": "f279e223",
   "metadata": {},
   "outputs": [],
   "source": [
    "#Advanced Level-30"
   ]
  },
  {
   "cell_type": "code",
   "execution_count": 21,
   "id": "bf3bc883",
   "metadata": {},
   "outputs": [
    {
     "name": "stdout",
     "output_type": "stream",
     "text": [
      "You are overweight. Consider adopting a healthier lifestyle with more physical activity and a balanced diet.\n"
     ]
    }
   ],
   "source": [
    "weight = 25\n",
    "if weight < 18.5:\n",
    "    print(\"You are underweight.It's important to maintain a balanced diet and consult with a healthcare professional.\")\n",
    "elif 18.5 <= weight < 24.9:\n",
    "    print(\"You are at a healthy weight. Keep up the good work with a balanced diet and regular exercise.\")\n",
    "elif 25 <= weight < 29.9:\n",
    "    print(\"You are overweight. Consider adopting a healthier lifestyle with more physical activity and a balanced diet.\")\n",
    "else:\n",
    "    print(\"You are obese. It's essential to consult with a healthcare professional for guidance and support.\")\n"
   ]
  },
  {
   "cell_type": "code",
   "execution_count": 22,
   "id": "32572537",
   "metadata": {},
   "outputs": [],
   "source": [
    "#Challenge Level-31"
   ]
  },
  {
   "cell_type": "code",
   "execution_count": 34,
   "id": "6f076db1",
   "metadata": {},
   "outputs": [
    {
     "name": "stdout",
     "output_type": "stream",
     "text": [
      "Enter your password: Js4@\n",
      "Your password is correct\n"
     ]
    }
   ],
   "source": [
    "#conditions= atleast one upper alphbet, one lower alphabet, one special char and one number \n",
    "\n",
    "num = [str(i) for i in range(1,10)]\n",
    "spe_char = [\",\",\".\",\"@\",\"#\",\"$\",\"&\",\"%\"]\n",
    "sm_alpha = list(string.ascii_lowercase)\n",
    "up_alpha = list(string.ascii_uppercase)\n",
    "password = input(\"Enter your password: \")\n",
    "flag1 = False\n",
    "flag2 = False\n",
    "flag3 = False\n",
    "flag4 = False\n",
    "for j in password:\n",
    "    if j in spe_char:\n",
    "        flag1 = True\n",
    "    elif j in num:\n",
    "        flag2 = True\n",
    "    elif j in sm_alpha:\n",
    "        flag3 = True\n",
    "    elif j in up_alpha:\n",
    "        flag4 = True\n",
    "if flag1 and flag2 and flag3 and flag4:\n",
    "    print(\"Your password is correct\")\n",
    "else:\n",
    "    print(\"Your password is incorrect\")"
   ]
  }
 ],
 "metadata": {
  "kernelspec": {
   "display_name": "Python 3",
   "language": "python",
   "name": "python3"
  },
  "language_info": {
   "codemirror_mode": {
    "name": "ipython",
    "version": 3
   },
   "file_extension": ".py",
   "mimetype": "text/x-python",
   "name": "python",
   "nbconvert_exporter": "python",
   "pygments_lexer": "ipython3",
   "version": "3.6.8"
  }
 },
 "nbformat": 4,
 "nbformat_minor": 5
}
