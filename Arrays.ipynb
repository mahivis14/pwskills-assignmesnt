{
 "cells": [
  {
   "cell_type": "code",
   "execution_count": 1,
   "id": "8fdd460c-bada-433e-96b1-de41e1e3dc6a",
   "metadata": {},
   "outputs": [],
   "source": [
    "#Que no-1"
   ]
  },
  {
   "cell_type": "code",
   "execution_count": 18,
   "id": "785c4412-2350-4d6d-af5b-921442c9c718",
   "metadata": {},
   "outputs": [
    {
     "name": "stdout",
     "output_type": "stream",
     "text": [
      "True\n"
     ]
    }
   ],
   "source": [
    "def checkDup(arr):\n",
    "    for i in arr:\n",
    "        for j in range(i+1,len(arr)):\n",
    "            if i==arr[j]:\n",
    "                return True\n",
    "    return False\n",
    "\n",
    "arr = [1,2,4,2,5,9]\n",
    "\n",
    "print(checkDup(arr))"
   ]
  },
  {
   "cell_type": "code",
   "execution_count": 6,
   "id": "1a761c1b-7923-4044-99be-097e752a23a9",
   "metadata": {},
   "outputs": [],
   "source": [
    "#Que no-2"
   ]
  },
  {
   "cell_type": "code",
   "execution_count": 13,
   "id": "6ce1f027-c0fb-452a-9c2e-463eb04493ee",
   "metadata": {},
   "outputs": [
    {
     "name": "stdout",
     "output_type": "stream",
     "text": [
      "[5, 6, 7, 1, 2, 3, 4]\n"
     ]
    }
   ],
   "source": [
    "def rotArr(arr, n):\n",
    "    rotated_arr = []\n",
    "    for i in range(n,0,-1):\n",
    "        rotated_arr.append(arr[-i])\n",
    "    for j in range(0,len(arr)-n):\n",
    "        rotated_arr.append(arr[j])\n",
    "    return rotated_arr\n",
    "\n",
    "arr = [1,2,3,4,5,6,7]\n",
    "print(rotArr(arr,3))"
   ]
  },
  {
   "cell_type": "code",
   "execution_count": 14,
   "id": "b317d687-99a7-484d-bea1-ebd8e0d5f39a",
   "metadata": {},
   "outputs": [],
   "source": [
    "#Que no-3"
   ]
  },
  {
   "cell_type": "code",
   "execution_count": 15,
   "id": "9da229e8-f96d-4178-baef-04ccb637a8e8",
   "metadata": {},
   "outputs": [
    {
     "name": "stdout",
     "output_type": "stream",
     "text": [
      "[12, 9, 7, 5, 4, 2]\n"
     ]
    }
   ],
   "source": [
    "arr = [2,4,5,7,9,12]\n",
    "print(arr[::-1])"
   ]
  },
  {
   "cell_type": "code",
   "execution_count": 16,
   "id": "aacd613a-b5d0-4164-adf6-c03f260880ee",
   "metadata": {},
   "outputs": [],
   "source": [
    "#Que no-4"
   ]
  },
  {
   "cell_type": "code",
   "execution_count": 22,
   "id": "8ea38d82-7c8b-4281-a471-0b2c19f2fe8d",
   "metadata": {},
   "outputs": [
    {
     "name": "stdout",
     "output_type": "stream",
     "text": [
      "20\n"
     ]
    }
   ],
   "source": [
    "def findMax(arr):\n",
    "    maxi = 0\n",
    "    for i in range(len(arr)):\n",
    "        if arr[i]>maxi:\n",
    "            maxi = arr[i]\n",
    "    return maxi\n",
    "\n",
    "arr = [10,5,20,8,15]\n",
    "print(findMax(arr))"
   ]
  },
  {
   "cell_type": "code",
   "execution_count": 23,
   "id": "f5190011-3ea1-41d0-bf52-04f1998b1d89",
   "metadata": {},
   "outputs": [],
   "source": [
    "#Que no-5 "
   ]
  },
  {
   "cell_type": "code",
   "execution_count": 37,
   "id": "3ed3847a-f272-4297-a828-4352bd13f12c",
   "metadata": {},
   "outputs": [
    {
     "name": "stdout",
     "output_type": "stream",
     "text": [
      "[1, 2, 3, 4, 5]\n"
     ]
    }
   ],
   "source": [
    "def removeDup(arr):\n",
    "    i = 0\n",
    "    while i<len(arr):\n",
    "        j = i+1\n",
    "        while j<len(arr):\n",
    "            if arr[i]==arr[j]:\n",
    "                arr.pop(j)\n",
    "            else:\n",
    "                j+=1\n",
    "        i+=1\n",
    "    return arr\n",
    "\n",
    "arr = [1,1,2,2,2,3,3,4,4,4,5,5]\n",
    "print(removeDup(arr))"
   ]
  }
 ],
 "metadata": {
  "kernelspec": {
   "display_name": "Python 3 (ipykernel)",
   "language": "python",
   "name": "python3"
  },
  "language_info": {
   "codemirror_mode": {
    "name": "ipython",
    "version": 3
   },
   "file_extension": ".py",
   "mimetype": "text/x-python",
   "name": "python",
   "nbconvert_exporter": "python",
   "pygments_lexer": "ipython3",
   "version": "3.9.18"
  }
 },
 "nbformat": 4,
 "nbformat_minor": 5
}
